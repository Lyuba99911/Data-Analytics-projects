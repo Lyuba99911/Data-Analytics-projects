{
 "cells": [
  {
   "cell_type": "markdown",
   "metadata": {},
   "source": [
    "# Проект по анализу базы данных сервиса для чтения книг по подписке (SQL)"
   ]
  },
  {
   "cell_type": "markdown",
   "metadata": {},
   "source": [
    "Цель — проанализировать базу данных с информацией о книгах, издательствах, авторах, а также пользовательские обзоры книг."
   ]
  },
  {
   "cell_type": "code",
   "execution_count": 1,
   "metadata": {},
   "outputs": [],
   "source": [
    "# импортируем библиотеки\n",
    "import pandas as pd\n",
    "from sqlalchemy import create_engine\n",
    "# устанавливаем параметры\n",
    "db_config = {'user': 'praktikum_student', # имя пользователя\n",
    "'pwd': 'password', # пароль\n",
    "'host': 'host',\n",
    "'port': port, # порт подключения\n",
    "'db': 'db'} # название базы данных\n",
    "connection_string = 'postgresql://{}:{}@{}:{}/{}'.format(db_config['user'],\n",
    " db_config['pwd'],\n",
    " db_config['host'],\n",
    " db_config['port'],\n",
    " db_config['db'])\n",
    "# сохраняем коннектор\n",
    "engine = create_engine(connection_string, connect_args={'sslmode':'require'})"
   ]
  },
  {
   "cell_type": "markdown",
   "metadata": {},
   "source": [
    "## Изучение общей информации "
   ]
  },
  {
   "cell_type": "markdown",
   "metadata": {},
   "source": [
    "Изучу данные в таблицах"
   ]
  },
  {
   "cell_type": "code",
   "execution_count": 2,
   "metadata": {},
   "outputs": [
    {
     "data": {
      "text/html": [
       "<div>\n",
       "<style scoped>\n",
       "    .dataframe tbody tr th:only-of-type {\n",
       "        vertical-align: middle;\n",
       "    }\n",
       "\n",
       "    .dataframe tbody tr th {\n",
       "        vertical-align: top;\n",
       "    }\n",
       "\n",
       "    .dataframe thead th {\n",
       "        text-align: right;\n",
       "    }\n",
       "</style>\n",
       "<table border=\"1\" class=\"dataframe\">\n",
       "  <thead>\n",
       "    <tr style=\"text-align: right;\">\n",
       "      <th></th>\n",
       "      <th>book_id</th>\n",
       "      <th>author_id</th>\n",
       "      <th>title</th>\n",
       "      <th>num_pages</th>\n",
       "      <th>publication_date</th>\n",
       "      <th>publisher_id</th>\n",
       "    </tr>\n",
       "  </thead>\n",
       "  <tbody>\n",
       "    <tr>\n",
       "      <th>0</th>\n",
       "      <td>1</td>\n",
       "      <td>546</td>\n",
       "      <td>'Salem's Lot</td>\n",
       "      <td>594</td>\n",
       "      <td>2005-11-01</td>\n",
       "      <td>93</td>\n",
       "    </tr>\n",
       "    <tr>\n",
       "      <th>1</th>\n",
       "      <td>2</td>\n",
       "      <td>465</td>\n",
       "      <td>1 000 Places to See Before You Die</td>\n",
       "      <td>992</td>\n",
       "      <td>2003-05-22</td>\n",
       "      <td>336</td>\n",
       "    </tr>\n",
       "    <tr>\n",
       "      <th>2</th>\n",
       "      <td>3</td>\n",
       "      <td>407</td>\n",
       "      <td>13 Little Blue Envelopes (Little Blue Envelope...</td>\n",
       "      <td>322</td>\n",
       "      <td>2010-12-21</td>\n",
       "      <td>135</td>\n",
       "    </tr>\n",
       "    <tr>\n",
       "      <th>3</th>\n",
       "      <td>4</td>\n",
       "      <td>82</td>\n",
       "      <td>1491: New Revelations of the Americas Before C...</td>\n",
       "      <td>541</td>\n",
       "      <td>2006-10-10</td>\n",
       "      <td>309</td>\n",
       "    </tr>\n",
       "    <tr>\n",
       "      <th>4</th>\n",
       "      <td>5</td>\n",
       "      <td>125</td>\n",
       "      <td>1776</td>\n",
       "      <td>386</td>\n",
       "      <td>2006-07-04</td>\n",
       "      <td>268</td>\n",
       "    </tr>\n",
       "  </tbody>\n",
       "</table>\n",
       "</div>"
      ],
      "text/plain": [
       "   book_id  author_id                                              title  \\\n",
       "0        1        546                                       'Salem's Lot   \n",
       "1        2        465                 1 000 Places to See Before You Die   \n",
       "2        3        407  13 Little Blue Envelopes (Little Blue Envelope...   \n",
       "3        4         82  1491: New Revelations of the Americas Before C...   \n",
       "4        5        125                                               1776   \n",
       "\n",
       "   num_pages publication_date  publisher_id  \n",
       "0        594       2005-11-01            93  \n",
       "1        992       2003-05-22           336  \n",
       "2        322       2010-12-21           135  \n",
       "3        541       2006-10-10           309  \n",
       "4        386       2006-07-04           268  "
      ]
     },
     "execution_count": 2,
     "metadata": {},
     "output_type": "execute_result"
    }
   ],
   "source": [
    "query = (\n",
    "'''\n",
    "    SELECT *\n",
    "    FROM books\n",
    "\n",
    "''')\n",
    "\n",
    "pd.io.sql.read_sql(query, con = engine).head()"
   ]
  },
  {
   "cell_type": "code",
   "execution_count": 3,
   "metadata": {},
   "outputs": [
    {
     "data": {
      "text/html": [
       "<div>\n",
       "<style scoped>\n",
       "    .dataframe tbody tr th:only-of-type {\n",
       "        vertical-align: middle;\n",
       "    }\n",
       "\n",
       "    .dataframe tbody tr th {\n",
       "        vertical-align: top;\n",
       "    }\n",
       "\n",
       "    .dataframe thead th {\n",
       "        text-align: right;\n",
       "    }\n",
       "</style>\n",
       "<table border=\"1\" class=\"dataframe\">\n",
       "  <thead>\n",
       "    <tr style=\"text-align: right;\">\n",
       "      <th></th>\n",
       "      <th>author_id</th>\n",
       "      <th>author</th>\n",
       "    </tr>\n",
       "  </thead>\n",
       "  <tbody>\n",
       "    <tr>\n",
       "      <th>0</th>\n",
       "      <td>1</td>\n",
       "      <td>A.S. Byatt</td>\n",
       "    </tr>\n",
       "    <tr>\n",
       "      <th>1</th>\n",
       "      <td>2</td>\n",
       "      <td>Aesop/Laura Harris/Laura Gibbs</td>\n",
       "    </tr>\n",
       "    <tr>\n",
       "      <th>2</th>\n",
       "      <td>3</td>\n",
       "      <td>Agatha Christie</td>\n",
       "    </tr>\n",
       "    <tr>\n",
       "      <th>3</th>\n",
       "      <td>4</td>\n",
       "      <td>Alan Brennert</td>\n",
       "    </tr>\n",
       "    <tr>\n",
       "      <th>4</th>\n",
       "      <td>5</td>\n",
       "      <td>Alan Moore/David   Lloyd</td>\n",
       "    </tr>\n",
       "  </tbody>\n",
       "</table>\n",
       "</div>"
      ],
      "text/plain": [
       "   author_id                          author\n",
       "0          1                      A.S. Byatt\n",
       "1          2  Aesop/Laura Harris/Laura Gibbs\n",
       "2          3                 Agatha Christie\n",
       "3          4                   Alan Brennert\n",
       "4          5        Alan Moore/David   Lloyd"
      ]
     },
     "execution_count": 3,
     "metadata": {},
     "output_type": "execute_result"
    }
   ],
   "source": [
    "query = (\n",
    "'''\n",
    "    SELECT *\n",
    "    FROM authors\n",
    "\n",
    "''')\n",
    "\n",
    "pd.io.sql.read_sql(query, con = engine).head()"
   ]
  },
  {
   "cell_type": "code",
   "execution_count": 4,
   "metadata": {},
   "outputs": [
    {
     "data": {
      "text/html": [
       "<div>\n",
       "<style scoped>\n",
       "    .dataframe tbody tr th:only-of-type {\n",
       "        vertical-align: middle;\n",
       "    }\n",
       "\n",
       "    .dataframe tbody tr th {\n",
       "        vertical-align: top;\n",
       "    }\n",
       "\n",
       "    .dataframe thead th {\n",
       "        text-align: right;\n",
       "    }\n",
       "</style>\n",
       "<table border=\"1\" class=\"dataframe\">\n",
       "  <thead>\n",
       "    <tr style=\"text-align: right;\">\n",
       "      <th></th>\n",
       "      <th>publisher_id</th>\n",
       "      <th>publisher</th>\n",
       "    </tr>\n",
       "  </thead>\n",
       "  <tbody>\n",
       "    <tr>\n",
       "      <th>0</th>\n",
       "      <td>1</td>\n",
       "      <td>Ace</td>\n",
       "    </tr>\n",
       "    <tr>\n",
       "      <th>1</th>\n",
       "      <td>2</td>\n",
       "      <td>Ace Book</td>\n",
       "    </tr>\n",
       "    <tr>\n",
       "      <th>2</th>\n",
       "      <td>3</td>\n",
       "      <td>Ace Books</td>\n",
       "    </tr>\n",
       "    <tr>\n",
       "      <th>3</th>\n",
       "      <td>4</td>\n",
       "      <td>Ace Hardcover</td>\n",
       "    </tr>\n",
       "    <tr>\n",
       "      <th>4</th>\n",
       "      <td>5</td>\n",
       "      <td>Addison Wesley Publishing Company</td>\n",
       "    </tr>\n",
       "  </tbody>\n",
       "</table>\n",
       "</div>"
      ],
      "text/plain": [
       "   publisher_id                          publisher\n",
       "0             1                                Ace\n",
       "1             2                           Ace Book\n",
       "2             3                          Ace Books\n",
       "3             4                      Ace Hardcover\n",
       "4             5  Addison Wesley Publishing Company"
      ]
     },
     "execution_count": 4,
     "metadata": {},
     "output_type": "execute_result"
    }
   ],
   "source": [
    "query = (\n",
    "'''\n",
    "    SELECT *\n",
    "    FROM publishers\n",
    "\n",
    "''')\n",
    "\n",
    "pd.io.sql.read_sql(query, con = engine).head()"
   ]
  },
  {
   "cell_type": "code",
   "execution_count": 5,
   "metadata": {},
   "outputs": [
    {
     "data": {
      "text/html": [
       "<div>\n",
       "<style scoped>\n",
       "    .dataframe tbody tr th:only-of-type {\n",
       "        vertical-align: middle;\n",
       "    }\n",
       "\n",
       "    .dataframe tbody tr th {\n",
       "        vertical-align: top;\n",
       "    }\n",
       "\n",
       "    .dataframe thead th {\n",
       "        text-align: right;\n",
       "    }\n",
       "</style>\n",
       "<table border=\"1\" class=\"dataframe\">\n",
       "  <thead>\n",
       "    <tr style=\"text-align: right;\">\n",
       "      <th></th>\n",
       "      <th>rating_id</th>\n",
       "      <th>book_id</th>\n",
       "      <th>username</th>\n",
       "      <th>rating</th>\n",
       "    </tr>\n",
       "  </thead>\n",
       "  <tbody>\n",
       "    <tr>\n",
       "      <th>0</th>\n",
       "      <td>1</td>\n",
       "      <td>1</td>\n",
       "      <td>ryanfranco</td>\n",
       "      <td>4</td>\n",
       "    </tr>\n",
       "    <tr>\n",
       "      <th>1</th>\n",
       "      <td>2</td>\n",
       "      <td>1</td>\n",
       "      <td>grantpatricia</td>\n",
       "      <td>2</td>\n",
       "    </tr>\n",
       "    <tr>\n",
       "      <th>2</th>\n",
       "      <td>3</td>\n",
       "      <td>1</td>\n",
       "      <td>brandtandrea</td>\n",
       "      <td>5</td>\n",
       "    </tr>\n",
       "    <tr>\n",
       "      <th>3</th>\n",
       "      <td>4</td>\n",
       "      <td>2</td>\n",
       "      <td>lorichen</td>\n",
       "      <td>3</td>\n",
       "    </tr>\n",
       "    <tr>\n",
       "      <th>4</th>\n",
       "      <td>5</td>\n",
       "      <td>2</td>\n",
       "      <td>mariokeller</td>\n",
       "      <td>2</td>\n",
       "    </tr>\n",
       "  </tbody>\n",
       "</table>\n",
       "</div>"
      ],
      "text/plain": [
       "   rating_id  book_id       username  rating\n",
       "0          1        1     ryanfranco       4\n",
       "1          2        1  grantpatricia       2\n",
       "2          3        1   brandtandrea       5\n",
       "3          4        2       lorichen       3\n",
       "4          5        2    mariokeller       2"
      ]
     },
     "execution_count": 5,
     "metadata": {},
     "output_type": "execute_result"
    }
   ],
   "source": [
    "query = (\n",
    "'''\n",
    "    SELECT *\n",
    "    FROM ratings\n",
    "\n",
    "''')\n",
    "\n",
    "pd.io.sql.read_sql(query, con = engine).head()"
   ]
  },
  {
   "cell_type": "code",
   "execution_count": 6,
   "metadata": {},
   "outputs": [
    {
     "data": {
      "text/html": [
       "<div>\n",
       "<style scoped>\n",
       "    .dataframe tbody tr th:only-of-type {\n",
       "        vertical-align: middle;\n",
       "    }\n",
       "\n",
       "    .dataframe tbody tr th {\n",
       "        vertical-align: top;\n",
       "    }\n",
       "\n",
       "    .dataframe thead th {\n",
       "        text-align: right;\n",
       "    }\n",
       "</style>\n",
       "<table border=\"1\" class=\"dataframe\">\n",
       "  <thead>\n",
       "    <tr style=\"text-align: right;\">\n",
       "      <th></th>\n",
       "      <th>review_id</th>\n",
       "      <th>book_id</th>\n",
       "      <th>username</th>\n",
       "      <th>text</th>\n",
       "    </tr>\n",
       "  </thead>\n",
       "  <tbody>\n",
       "    <tr>\n",
       "      <th>0</th>\n",
       "      <td>1</td>\n",
       "      <td>1</td>\n",
       "      <td>brandtandrea</td>\n",
       "      <td>Mention society tell send professor analysis. ...</td>\n",
       "    </tr>\n",
       "    <tr>\n",
       "      <th>1</th>\n",
       "      <td>2</td>\n",
       "      <td>1</td>\n",
       "      <td>ryanfranco</td>\n",
       "      <td>Foot glass pretty audience hit themselves. Amo...</td>\n",
       "    </tr>\n",
       "    <tr>\n",
       "      <th>2</th>\n",
       "      <td>3</td>\n",
       "      <td>2</td>\n",
       "      <td>lorichen</td>\n",
       "      <td>Listen treat keep worry. Miss husband tax but ...</td>\n",
       "    </tr>\n",
       "    <tr>\n",
       "      <th>3</th>\n",
       "      <td>4</td>\n",
       "      <td>3</td>\n",
       "      <td>johnsonamanda</td>\n",
       "      <td>Finally month interesting blue could nature cu...</td>\n",
       "    </tr>\n",
       "    <tr>\n",
       "      <th>4</th>\n",
       "      <td>5</td>\n",
       "      <td>3</td>\n",
       "      <td>scotttamara</td>\n",
       "      <td>Nation purpose heavy give wait song will. List...</td>\n",
       "    </tr>\n",
       "  </tbody>\n",
       "</table>\n",
       "</div>"
      ],
      "text/plain": [
       "   review_id  book_id       username  \\\n",
       "0          1        1   brandtandrea   \n",
       "1          2        1     ryanfranco   \n",
       "2          3        2       lorichen   \n",
       "3          4        3  johnsonamanda   \n",
       "4          5        3    scotttamara   \n",
       "\n",
       "                                                text  \n",
       "0  Mention society tell send professor analysis. ...  \n",
       "1  Foot glass pretty audience hit themselves. Amo...  \n",
       "2  Listen treat keep worry. Miss husband tax but ...  \n",
       "3  Finally month interesting blue could nature cu...  \n",
       "4  Nation purpose heavy give wait song will. List...  "
      ]
     },
     "execution_count": 6,
     "metadata": {},
     "output_type": "execute_result"
    }
   ],
   "source": [
    "query = (\n",
    "'''\n",
    "    SELECT *\n",
    "    FROM reviews\n",
    "\n",
    "''')\n",
    "\n",
    "pd.io.sql.read_sql(query, con = engine).head()"
   ]
  },
  {
   "cell_type": "markdown",
   "metadata": {},
   "source": [
    "## SQL запросы и выводы"
   ]
  },
  {
   "cell_type": "markdown",
   "metadata": {},
   "source": [
    "Посчитаю, сколько книг вышло после 1 января 2000 года."
   ]
  },
  {
   "cell_type": "code",
   "execution_count": 7,
   "metadata": {},
   "outputs": [
    {
     "data": {
      "text/html": [
       "<div>\n",
       "<style scoped>\n",
       "    .dataframe tbody tr th:only-of-type {\n",
       "        vertical-align: middle;\n",
       "    }\n",
       "\n",
       "    .dataframe tbody tr th {\n",
       "        vertical-align: top;\n",
       "    }\n",
       "\n",
       "    .dataframe thead th {\n",
       "        text-align: right;\n",
       "    }\n",
       "</style>\n",
       "<table border=\"1\" class=\"dataframe\">\n",
       "  <thead>\n",
       "    <tr style=\"text-align: right;\">\n",
       "      <th></th>\n",
       "      <th>count</th>\n",
       "    </tr>\n",
       "  </thead>\n",
       "  <tbody>\n",
       "    <tr>\n",
       "      <th>0</th>\n",
       "      <td>819</td>\n",
       "    </tr>\n",
       "  </tbody>\n",
       "</table>\n",
       "</div>"
      ],
      "text/plain": [
       "   count\n",
       "0    819"
      ]
     },
     "execution_count": 7,
     "metadata": {},
     "output_type": "execute_result"
    }
   ],
   "source": [
    "query = (\n",
    "'''\n",
    "    SELECT COUNT(book_id)\n",
    "    FROM books\n",
    "    WHERE publication_date > '2000-01-01'\n",
    "\n",
    "''')\n",
    "\n",
    "pd.io.sql.read_sql(query, con = engine).head()"
   ]
  },
  {
   "cell_type": "markdown",
   "metadata": {},
   "source": [
    "Вывод: После 1 января 2000 года вышло 819 книг."
   ]
  },
  {
   "cell_type": "markdown",
   "metadata": {},
   "source": [
    "Для каждой книги посчитаю количество обзоров и среднюю оценку."
   ]
  },
  {
   "cell_type": "code",
   "execution_count": 8,
   "metadata": {},
   "outputs": [
    {
     "data": {
      "text/html": [
       "<div>\n",
       "<style scoped>\n",
       "    .dataframe tbody tr th:only-of-type {\n",
       "        vertical-align: middle;\n",
       "    }\n",
       "\n",
       "    .dataframe tbody tr th {\n",
       "        vertical-align: top;\n",
       "    }\n",
       "\n",
       "    .dataframe thead th {\n",
       "        text-align: right;\n",
       "    }\n",
       "</style>\n",
       "<table border=\"1\" class=\"dataframe\">\n",
       "  <thead>\n",
       "    <tr style=\"text-align: right;\">\n",
       "      <th></th>\n",
       "      <th>book_id</th>\n",
       "      <th>title</th>\n",
       "      <th>review_quantity</th>\n",
       "      <th>average_rating</th>\n",
       "    </tr>\n",
       "  </thead>\n",
       "  <tbody>\n",
       "    <tr>\n",
       "      <th>0</th>\n",
       "      <td>1</td>\n",
       "      <td>'Salem's Lot</td>\n",
       "      <td>2.0</td>\n",
       "      <td>3.666667</td>\n",
       "    </tr>\n",
       "    <tr>\n",
       "      <th>1</th>\n",
       "      <td>2</td>\n",
       "      <td>1 000 Places to See Before You Die</td>\n",
       "      <td>1.0</td>\n",
       "      <td>2.500000</td>\n",
       "    </tr>\n",
       "    <tr>\n",
       "      <th>2</th>\n",
       "      <td>3</td>\n",
       "      <td>13 Little Blue Envelopes (Little Blue Envelope...</td>\n",
       "      <td>3.0</td>\n",
       "      <td>4.666667</td>\n",
       "    </tr>\n",
       "    <tr>\n",
       "      <th>3</th>\n",
       "      <td>4</td>\n",
       "      <td>1491: New Revelations of the Americas Before C...</td>\n",
       "      <td>2.0</td>\n",
       "      <td>4.500000</td>\n",
       "    </tr>\n",
       "    <tr>\n",
       "      <th>4</th>\n",
       "      <td>5</td>\n",
       "      <td>1776</td>\n",
       "      <td>4.0</td>\n",
       "      <td>4.000000</td>\n",
       "    </tr>\n",
       "  </tbody>\n",
       "</table>\n",
       "</div>"
      ],
      "text/plain": [
       "   book_id                                              title  \\\n",
       "0        1                                       'Salem's Lot   \n",
       "1        2                 1 000 Places to See Before You Die   \n",
       "2        3  13 Little Blue Envelopes (Little Blue Envelope...   \n",
       "3        4  1491: New Revelations of the Americas Before C...   \n",
       "4        5                                               1776   \n",
       "\n",
       "   review_quantity  average_rating  \n",
       "0              2.0        3.666667  \n",
       "1              1.0        2.500000  \n",
       "2              3.0        4.666667  \n",
       "3              2.0        4.500000  \n",
       "4              4.0        4.000000  "
      ]
     },
     "execution_count": 8,
     "metadata": {},
     "output_type": "execute_result"
    }
   ],
   "source": [
    "query = (\n",
    "'''\n",
    "    SELECT b.book_id, b.title, c.review_quantity, d.average_rating\n",
    "    FROM books AS b\n",
    "    LEFT OUTER JOIN\n",
    "        (SELECT book_id, COUNT(review_id) AS review_quantity\n",
    "        FROM reviews\n",
    "        GROUP BY book_id\n",
    "        ORDER BY book_id ASC) AS c ON b.book_id = c.book_id\n",
    "    LEFT OUTER JOIN\n",
    "        (SELECT book_id, AVG(rating) AS average_rating\n",
    "        FROM ratings\n",
    "        GROUP BY book_id\n",
    "        ORDER BY book_id ASC) AS d ON b.book_id = d.book_id\n",
    "''')\n",
    "pd.io.sql.read_sql(query, con = engine).head()"
   ]
  },
  {
   "cell_type": "markdown",
   "metadata": {},
   "source": [
    "Вывод: Получила таблицу с количеством обзоров и средней оценкой по каждой книге."
   ]
  },
  {
   "cell_type": "markdown",
   "metadata": {},
   "source": [
    "Определю издательство, которое выпустило наибольшее число книг толще 50 страниц — так исключу из анализа брошюры."
   ]
  },
  {
   "cell_type": "code",
   "execution_count": 9,
   "metadata": {},
   "outputs": [
    {
     "data": {
      "text/html": [
       "<div>\n",
       "<style scoped>\n",
       "    .dataframe tbody tr th:only-of-type {\n",
       "        vertical-align: middle;\n",
       "    }\n",
       "\n",
       "    .dataframe tbody tr th {\n",
       "        vertical-align: top;\n",
       "    }\n",
       "\n",
       "    .dataframe thead th {\n",
       "        text-align: right;\n",
       "    }\n",
       "</style>\n",
       "<table border=\"1\" class=\"dataframe\">\n",
       "  <thead>\n",
       "    <tr style=\"text-align: right;\">\n",
       "      <th></th>\n",
       "      <th>publisher</th>\n",
       "      <th>number_of_books</th>\n",
       "    </tr>\n",
       "  </thead>\n",
       "  <tbody>\n",
       "    <tr>\n",
       "      <th>0</th>\n",
       "      <td>Penguin Books</td>\n",
       "      <td>42</td>\n",
       "    </tr>\n",
       "  </tbody>\n",
       "</table>\n",
       "</div>"
      ],
      "text/plain": [
       "       publisher  number_of_books\n",
       "0  Penguin Books               42"
      ]
     },
     "execution_count": 9,
     "metadata": {},
     "output_type": "execute_result"
    }
   ],
   "source": [
    "query = (\n",
    "'''\n",
    "    SELECT p.publisher, COUNT(book_id) AS number_of_books\n",
    "    FROM books AS b\n",
    "    INNER JOIN publishers AS p ON b.publisher_id = p.publisher_id\n",
    "    WHERE b.num_pages > 50\n",
    "    GROUP BY p.publisher\n",
    "    ORDER BY number_of_books DESC\n",
    "    LIMIT 1\n",
    "''')\n",
    "pd.io.sql.read_sql(query, con = engine)"
   ]
  },
  {
   "cell_type": "markdown",
   "metadata": {},
   "source": [
    "Вывод: Издательство, которое выпустило наибольшее число книг толще 50 страниц - Penguin Books."
   ]
  },
  {
   "cell_type": "markdown",
   "metadata": {},
   "source": [
    "Определю автора с самой высокой средней оценкой книг — буду учитывать только книги с 50 и более оценками."
   ]
  },
  {
   "cell_type": "code",
   "execution_count": 10,
   "metadata": {},
   "outputs": [
    {
     "data": {
      "text/html": [
       "<div>\n",
       "<style scoped>\n",
       "    .dataframe tbody tr th:only-of-type {\n",
       "        vertical-align: middle;\n",
       "    }\n",
       "\n",
       "    .dataframe tbody tr th {\n",
       "        vertical-align: top;\n",
       "    }\n",
       "\n",
       "    .dataframe thead th {\n",
       "        text-align: right;\n",
       "    }\n",
       "</style>\n",
       "<table border=\"1\" class=\"dataframe\">\n",
       "  <thead>\n",
       "    <tr style=\"text-align: right;\">\n",
       "      <th></th>\n",
       "      <th>author</th>\n",
       "      <th>average_rating</th>\n",
       "    </tr>\n",
       "  </thead>\n",
       "  <tbody>\n",
       "    <tr>\n",
       "      <th>0</th>\n",
       "      <td>J.K. Rowling/Mary GrandPré</td>\n",
       "      <td>4.287097</td>\n",
       "    </tr>\n",
       "  </tbody>\n",
       "</table>\n",
       "</div>"
      ],
      "text/plain": [
       "                       author  average_rating\n",
       "0  J.K. Rowling/Mary GrandPré        4.287097"
      ]
     },
     "execution_count": 10,
     "metadata": {},
     "output_type": "execute_result"
    }
   ],
   "source": [
    "query = (\n",
    "'''\n",
    "    SELECT author, AVG(rating) AS average_rating\n",
    "    FROM\n",
    "        (SELECT book_id, COUNT(rating_id) AS number_of_rates\n",
    "        FROM ratings\n",
    "        GROUP BY book_id\n",
    "        HAVING COUNT(rating_id) > 50) AS c\n",
    "    LEFT OUTER JOIN \n",
    "        (SELECT book_id, author, b.author_id\n",
    "        FROM books AS b\n",
    "        LEFT OUTER JOIN authors AS a ON b.author_id = a.author_id) AS d ON c.book_id = d.book_id\n",
    "    LEFT OUTER JOIN ratings AS r ON r.book_id = c.book_id\n",
    "    GROUP BY author\n",
    "    ORDER BY average_rating DESC\n",
    "    LIMIT 1\n",
    "    \n",
    "''')\n",
    "pd.io.sql.read_sql(query, con = engine)"
   ]
  },
  {
   "cell_type": "markdown",
   "metadata": {},
   "source": [
    " Вывод: Автор с самой высокой средней оценкой книг — J.K. Rowling/Mary GrandPré."
   ]
  },
  {
   "cell_type": "markdown",
   "metadata": {},
   "source": [
    "Посчитаю среднее количество обзоров от пользователей, которые поставили больше 50 оценок."
   ]
  },
  {
   "cell_type": "code",
   "execution_count": 11,
   "metadata": {},
   "outputs": [
    {
     "data": {
      "text/html": [
       "<div>\n",
       "<style scoped>\n",
       "    .dataframe tbody tr th:only-of-type {\n",
       "        vertical-align: middle;\n",
       "    }\n",
       "\n",
       "    .dataframe tbody tr th {\n",
       "        vertical-align: top;\n",
       "    }\n",
       "\n",
       "    .dataframe thead th {\n",
       "        text-align: right;\n",
       "    }\n",
       "</style>\n",
       "<table border=\"1\" class=\"dataframe\">\n",
       "  <thead>\n",
       "    <tr style=\"text-align: right;\">\n",
       "      <th></th>\n",
       "      <th>avg</th>\n",
       "    </tr>\n",
       "  </thead>\n",
       "  <tbody>\n",
       "    <tr>\n",
       "      <th>0</th>\n",
       "      <td>24.333333</td>\n",
       "    </tr>\n",
       "  </tbody>\n",
       "</table>\n",
       "</div>"
      ],
      "text/plain": [
       "         avg\n",
       "0  24.333333"
      ]
     },
     "execution_count": 11,
     "metadata": {},
     "output_type": "execute_result"
    }
   ],
   "source": [
    "query = (\n",
    "'''\n",
    "    SELECT AVG(number_of_reviews)\n",
    "    FROM\n",
    "        (SELECT a.username, COUNT(review_id) AS number_of_reviews\n",
    "        FROM\n",
    "            (SELECT username, COUNT(rating) AS number_of_rates\n",
    "            FROM ratings\n",
    "            GROUP BY username\n",
    "            HAVING COUNT(rating) > 50) AS a\n",
    "        LEFT OUTER JOIN reviews AS b ON a.username = b.username\n",
    "        GROUP BY a.username) AS d\n",
    "''')\n",
    "pd.io.sql.read_sql(query, con = engine)"
   ]
  },
  {
   "cell_type": "markdown",
   "metadata": {},
   "source": [
    "Вывод: Среднее количество обзоров от пользователей, которые поставили больше 50 оценок ~ 24,3."
   ]
  }
 ],
 "metadata": {
  "ExecuteTimeLog": [
   {
    "duration": 4344,
    "start_time": "2022-06-13T18:14:13.316Z"
   },
   {
    "duration": 90,
    "start_time": "2022-06-13T18:14:26.489Z"
   },
   {
    "duration": 83,
    "start_time": "2022-06-13T18:17:49.467Z"
   },
   {
    "duration": 12,
    "start_time": "2022-06-13T18:18:27.650Z"
   },
   {
    "duration": 15,
    "start_time": "2022-06-13T18:18:58.319Z"
   },
   {
    "duration": 27,
    "start_time": "2022-06-13T18:19:23.926Z"
   },
   {
    "duration": 19,
    "start_time": "2022-06-13T18:19:36.312Z"
   },
   {
    "duration": 16,
    "start_time": "2022-06-13T18:19:55.908Z"
   },
   {
    "duration": 660,
    "start_time": "2022-06-13T18:52:17.370Z"
   },
   {
    "duration": 59,
    "start_time": "2022-06-13T18:52:18.032Z"
   },
   {
    "duration": 33,
    "start_time": "2022-06-13T18:52:18.094Z"
   },
   {
    "duration": 10,
    "start_time": "2022-06-13T18:52:18.130Z"
   },
   {
    "duration": 23,
    "start_time": "2022-06-13T18:52:18.142Z"
   },
   {
    "duration": 23,
    "start_time": "2022-06-13T18:52:18.166Z"
   },
   {
    "duration": 15,
    "start_time": "2022-06-13T18:54:13.766Z"
   },
   {
    "duration": 17,
    "start_time": "2022-06-13T18:58:04.552Z"
   },
   {
    "duration": 12,
    "start_time": "2022-06-13T18:58:29.813Z"
   },
   {
    "duration": 14,
    "start_time": "2022-06-13T18:58:53.070Z"
   },
   {
    "duration": 18,
    "start_time": "2022-06-13T18:59:10.581Z"
   },
   {
    "duration": 23,
    "start_time": "2022-06-13T18:59:20.808Z"
   },
   {
    "duration": 124,
    "start_time": "2022-06-13T18:59:47.197Z"
   },
   {
    "duration": 19,
    "start_time": "2022-06-13T18:59:56.030Z"
   },
   {
    "duration": 64,
    "start_time": "2022-06-13T19:04:01.807Z"
   },
   {
    "duration": 10,
    "start_time": "2022-06-13T19:04:41.368Z"
   },
   {
    "duration": 667,
    "start_time": "2022-06-14T06:36:11.869Z"
   },
   {
    "duration": 106,
    "start_time": "2022-06-14T06:36:12.538Z"
   },
   {
    "duration": 11,
    "start_time": "2022-06-14T06:36:12.645Z"
   },
   {
    "duration": 25,
    "start_time": "2022-06-14T06:36:12.658Z"
   },
   {
    "duration": 30,
    "start_time": "2022-06-14T06:36:12.684Z"
   },
   {
    "duration": 17,
    "start_time": "2022-06-14T06:36:12.716Z"
   },
   {
    "duration": 10,
    "start_time": "2022-06-14T06:36:12.735Z"
   },
   {
    "duration": 18,
    "start_time": "2022-06-14T08:44:50.745Z"
   },
   {
    "duration": 33,
    "start_time": "2022-06-14T08:45:02.915Z"
   },
   {
    "duration": 20,
    "start_time": "2022-06-14T08:45:17.926Z"
   },
   {
    "duration": 17,
    "start_time": "2022-06-14T08:46:12.123Z"
   },
   {
    "duration": 19,
    "start_time": "2022-06-14T08:46:54.204Z"
   },
   {
    "duration": 17,
    "start_time": "2022-06-14T08:47:00.015Z"
   },
   {
    "duration": 49,
    "start_time": "2022-06-14T08:47:32.048Z"
   },
   {
    "duration": 16,
    "start_time": "2022-06-14T08:50:51.549Z"
   },
   {
    "duration": 19,
    "start_time": "2022-06-14T08:51:06.286Z"
   },
   {
    "duration": 19,
    "start_time": "2022-06-14T08:51:12.872Z"
   },
   {
    "duration": 22,
    "start_time": "2022-06-14T08:52:07.686Z"
   },
   {
    "duration": 737,
    "start_time": "2022-06-15T14:26:42.318Z"
   },
   {
    "duration": 344,
    "start_time": "2022-06-15T14:26:43.057Z"
   },
   {
    "duration": 83,
    "start_time": "2022-06-15T14:26:43.404Z"
   },
   {
    "duration": 77,
    "start_time": "2022-06-15T14:26:43.489Z"
   },
   {
    "duration": 99,
    "start_time": "2022-06-15T14:26:43.568Z"
   },
   {
    "duration": 91,
    "start_time": "2022-06-15T14:26:43.670Z"
   },
   {
    "duration": 70,
    "start_time": "2022-06-15T14:26:43.763Z"
   },
   {
    "duration": 75,
    "start_time": "2022-06-15T14:26:43.840Z"
   },
   {
    "duration": 85,
    "start_time": "2022-06-15T14:26:43.916Z"
   },
   {
    "duration": 176,
    "start_time": "2022-06-15T14:27:05.003Z"
   },
   {
    "duration": 74,
    "start_time": "2022-06-15T14:27:29.377Z"
   },
   {
    "duration": 74,
    "start_time": "2022-06-15T14:27:38.925Z"
   },
   {
    "duration": 659,
    "start_time": "2022-06-15T14:28:50.804Z"
   },
   {
    "duration": 291,
    "start_time": "2022-06-15T14:28:51.465Z"
   },
   {
    "duration": 90,
    "start_time": "2022-06-15T14:28:51.758Z"
   },
   {
    "duration": 76,
    "start_time": "2022-06-15T14:28:51.850Z"
   },
   {
    "duration": 101,
    "start_time": "2022-06-15T14:28:51.928Z"
   },
   {
    "duration": 93,
    "start_time": "2022-06-15T14:28:52.031Z"
   },
   {
    "duration": 77,
    "start_time": "2022-06-15T14:28:52.128Z"
   },
   {
    "duration": 92,
    "start_time": "2022-06-15T14:28:52.207Z"
   },
   {
    "duration": 84,
    "start_time": "2022-06-15T14:28:52.302Z"
   },
   {
    "duration": 119,
    "start_time": "2022-06-15T14:44:57.842Z"
   },
   {
    "duration": 209,
    "start_time": "2022-06-15T14:45:24.074Z"
   },
   {
    "duration": 121,
    "start_time": "2022-06-15T14:46:06.543Z"
   },
   {
    "duration": 114,
    "start_time": "2022-06-15T14:46:11.110Z"
   },
   {
    "duration": 106,
    "start_time": "2022-06-15T14:46:52.759Z"
   },
   {
    "duration": 112,
    "start_time": "2022-06-15T14:50:00.295Z"
   },
   {
    "duration": 118,
    "start_time": "2022-06-15T14:50:21.516Z"
   },
   {
    "duration": 127,
    "start_time": "2022-06-15T14:54:58.022Z"
   },
   {
    "duration": 128,
    "start_time": "2022-06-15T14:55:31.451Z"
   },
   {
    "duration": 121,
    "start_time": "2022-06-15T14:56:02.965Z"
   },
   {
    "duration": 133,
    "start_time": "2022-06-15T14:58:07.324Z"
   },
   {
    "duration": 91,
    "start_time": "2022-06-15T14:58:27.851Z"
   },
   {
    "duration": 115,
    "start_time": "2022-06-15T14:58:54.852Z"
   },
   {
    "duration": 129,
    "start_time": "2022-06-15T14:59:12.556Z"
   },
   {
    "duration": 127,
    "start_time": "2022-06-15T14:59:23.210Z"
   },
   {
    "duration": 123,
    "start_time": "2022-06-15T14:59:27.897Z"
   },
   {
    "duration": 136,
    "start_time": "2022-06-15T14:59:48.363Z"
   },
   {
    "duration": 93,
    "start_time": "2022-06-15T15:00:31.743Z"
   },
   {
    "duration": 134,
    "start_time": "2022-06-15T15:03:38.257Z"
   },
   {
    "duration": 61,
    "start_time": "2022-06-15T15:06:02.518Z"
   },
   {
    "duration": 97,
    "start_time": "2022-06-15T15:06:39.769Z"
   },
   {
    "duration": 116,
    "start_time": "2022-06-15T15:07:30.802Z"
   },
   {
    "duration": 136,
    "start_time": "2022-06-15T15:07:37.954Z"
   },
   {
    "duration": 111,
    "start_time": "2022-06-15T15:07:51.103Z"
   },
   {
    "duration": 103,
    "start_time": "2022-06-15T15:09:52.071Z"
   },
   {
    "duration": 103,
    "start_time": "2022-06-15T15:10:13.779Z"
   },
   {
    "duration": 99,
    "start_time": "2022-06-15T15:10:19.258Z"
   },
   {
    "duration": 143,
    "start_time": "2022-06-15T15:10:51.590Z"
   },
   {
    "duration": 81,
    "start_time": "2022-06-15T15:10:58.155Z"
   },
   {
    "duration": 159,
    "start_time": "2022-06-15T15:13:44.211Z"
   },
   {
    "duration": 212,
    "start_time": "2022-06-15T15:13:48.252Z"
   },
   {
    "duration": 91,
    "start_time": "2022-06-15T15:13:55.025Z"
   },
   {
    "duration": 102,
    "start_time": "2022-06-15T15:14:37.471Z"
   },
   {
    "duration": 89,
    "start_time": "2022-06-15T15:14:58.501Z"
   },
   {
    "duration": 123,
    "start_time": "2022-06-15T16:26:09.285Z"
   },
   {
    "duration": 113,
    "start_time": "2022-06-15T16:26:34.100Z"
   },
   {
    "duration": 115,
    "start_time": "2022-06-15T16:27:37.829Z"
   },
   {
    "duration": 115,
    "start_time": "2022-06-15T16:27:51.577Z"
   },
   {
    "duration": 110,
    "start_time": "2022-06-15T16:28:49.001Z"
   },
   {
    "duration": 106,
    "start_time": "2022-06-15T16:29:22.878Z"
   },
   {
    "duration": 129,
    "start_time": "2022-06-15T16:30:02.955Z"
   },
   {
    "duration": 138,
    "start_time": "2022-06-15T16:31:25.044Z"
   },
   {
    "duration": 188,
    "start_time": "2022-06-15T16:31:42.007Z"
   },
   {
    "duration": 92,
    "start_time": "2022-06-15T16:31:54.131Z"
   },
   {
    "duration": 110,
    "start_time": "2022-06-15T16:32:28.486Z"
   },
   {
    "duration": 113,
    "start_time": "2022-06-15T16:32:44.624Z"
   },
   {
    "duration": 90,
    "start_time": "2022-06-15T16:35:18.947Z"
   },
   {
    "duration": 168,
    "start_time": "2022-06-15T16:35:39.226Z"
   },
   {
    "duration": 108,
    "start_time": "2022-06-15T16:35:49.856Z"
   },
   {
    "duration": 123,
    "start_time": "2022-06-15T16:37:35.935Z"
   },
   {
    "duration": 109,
    "start_time": "2022-06-15T16:37:46.212Z"
   },
   {
    "duration": 142,
    "start_time": "2022-06-15T16:39:10.272Z"
   },
   {
    "duration": 80,
    "start_time": "2022-06-15T16:39:19.741Z"
   },
   {
    "duration": 141,
    "start_time": "2022-06-15T16:49:48.753Z"
   },
   {
    "duration": 158,
    "start_time": "2022-06-15T16:50:04.913Z"
   },
   {
    "duration": 184,
    "start_time": "2022-06-15T16:52:05.990Z"
   },
   {
    "duration": 124,
    "start_time": "2022-06-15T16:54:00.569Z"
   },
   {
    "duration": 163,
    "start_time": "2022-06-15T16:55:13.535Z"
   },
   {
    "duration": 104,
    "start_time": "2022-06-15T16:56:29.260Z"
   },
   {
    "duration": 101,
    "start_time": "2022-06-15T16:56:35.381Z"
   },
   {
    "duration": 102,
    "start_time": "2022-06-15T16:57:07.680Z"
   },
   {
    "duration": 91,
    "start_time": "2022-06-15T16:57:18.162Z"
   },
   {
    "duration": 115,
    "start_time": "2022-06-15T16:59:08.219Z"
   },
   {
    "duration": 102,
    "start_time": "2022-06-15T16:59:16.446Z"
   },
   {
    "duration": 77,
    "start_time": "2022-06-15T16:59:40.554Z"
   },
   {
    "duration": 85,
    "start_time": "2022-06-15T16:59:46.956Z"
   },
   {
    "duration": 90,
    "start_time": "2022-06-15T17:00:02.529Z"
   },
   {
    "duration": 119,
    "start_time": "2022-06-15T17:09:15.510Z"
   },
   {
    "duration": 89,
    "start_time": "2022-06-15T17:09:22.703Z"
   },
   {
    "duration": 123,
    "start_time": "2022-06-15T17:10:19.762Z"
   },
   {
    "duration": 95,
    "start_time": "2022-06-15T17:10:42.393Z"
   },
   {
    "duration": 121,
    "start_time": "2022-06-15T17:14:47.137Z"
   },
   {
    "duration": 111,
    "start_time": "2022-06-15T17:14:57.970Z"
   },
   {
    "duration": 78,
    "start_time": "2022-06-15T17:15:07.226Z"
   },
   {
    "duration": 106,
    "start_time": "2022-06-15T17:15:44.034Z"
   },
   {
    "duration": 77,
    "start_time": "2022-06-15T17:15:55.284Z"
   },
   {
    "duration": 85,
    "start_time": "2022-06-15T17:16:48.408Z"
   },
   {
    "duration": 87,
    "start_time": "2022-06-15T17:17:05.676Z"
   },
   {
    "duration": 110,
    "start_time": "2022-06-15T17:17:56.418Z"
   },
   {
    "duration": 106,
    "start_time": "2022-06-15T17:18:33.318Z"
   },
   {
    "duration": 75,
    "start_time": "2022-06-15T17:18:43.260Z"
   },
   {
    "duration": 119,
    "start_time": "2022-06-15T17:19:02.331Z"
   },
   {
    "duration": 76,
    "start_time": "2022-06-15T17:19:10.817Z"
   },
   {
    "duration": 79,
    "start_time": "2022-06-15T17:19:16.815Z"
   },
   {
    "duration": 77,
    "start_time": "2022-06-15T17:19:22.962Z"
   },
   {
    "duration": 77,
    "start_time": "2022-06-15T17:20:21.626Z"
   },
   {
    "duration": 75,
    "start_time": "2022-06-15T17:20:55.815Z"
   },
   {
    "duration": 75,
    "start_time": "2022-06-15T17:21:02.058Z"
   },
   {
    "duration": 623,
    "start_time": "2022-06-15T17:30:38.357Z"
   },
   {
    "duration": 303,
    "start_time": "2022-06-15T17:30:38.982Z"
   },
   {
    "duration": 75,
    "start_time": "2022-06-15T17:30:39.288Z"
   },
   {
    "duration": 71,
    "start_time": "2022-06-15T17:30:39.365Z"
   },
   {
    "duration": 111,
    "start_time": "2022-06-15T17:30:39.439Z"
   },
   {
    "duration": 93,
    "start_time": "2022-06-15T17:30:39.552Z"
   },
   {
    "duration": 71,
    "start_time": "2022-06-15T17:30:39.647Z"
   },
   {
    "duration": 85,
    "start_time": "2022-06-15T17:30:39.720Z"
   },
   {
    "duration": 73,
    "start_time": "2022-06-15T17:30:39.808Z"
   },
   {
    "duration": 77,
    "start_time": "2022-06-15T17:30:39.884Z"
   },
   {
    "duration": 73,
    "start_time": "2022-06-15T17:30:39.963Z"
   },
   {
    "duration": 633,
    "start_time": "2022-06-15T17:40:31.482Z"
   },
   {
    "duration": 270,
    "start_time": "2022-06-15T17:40:32.117Z"
   },
   {
    "duration": 71,
    "start_time": "2022-06-15T17:40:32.388Z"
   },
   {
    "duration": 73,
    "start_time": "2022-06-15T17:40:32.462Z"
   },
   {
    "duration": 121,
    "start_time": "2022-06-15T17:40:32.536Z"
   },
   {
    "duration": 89,
    "start_time": "2022-06-15T17:40:32.659Z"
   },
   {
    "duration": 71,
    "start_time": "2022-06-15T17:40:32.750Z"
   },
   {
    "duration": 80,
    "start_time": "2022-06-15T17:40:32.823Z"
   },
   {
    "duration": 71,
    "start_time": "2022-06-15T17:40:32.905Z"
   },
   {
    "duration": 74,
    "start_time": "2022-06-15T17:40:32.978Z"
   },
   {
    "duration": 74,
    "start_time": "2022-06-15T17:40:33.054Z"
   },
   {
    "duration": 659,
    "start_time": "2022-06-16T12:41:49.277Z"
   },
   {
    "duration": 110,
    "start_time": "2022-06-16T12:41:49.938Z"
   },
   {
    "duration": 14,
    "start_time": "2022-06-16T12:41:50.051Z"
   },
   {
    "duration": 13,
    "start_time": "2022-06-16T12:41:50.068Z"
   },
   {
    "duration": 27,
    "start_time": "2022-06-16T12:41:50.082Z"
   },
   {
    "duration": 20,
    "start_time": "2022-06-16T12:41:50.111Z"
   },
   {
    "duration": 38,
    "start_time": "2022-06-16T12:41:50.132Z"
   },
   {
    "duration": 26,
    "start_time": "2022-06-16T12:41:50.171Z"
   },
   {
    "duration": 16,
    "start_time": "2022-06-16T12:41:50.199Z"
   },
   {
    "duration": 17,
    "start_time": "2022-06-16T12:41:50.218Z"
   },
   {
    "duration": 22,
    "start_time": "2022-06-16T12:41:50.237Z"
   },
   {
    "duration": 25,
    "start_time": "2022-06-16T12:42:55.442Z"
   },
   {
    "duration": 168,
    "start_time": "2022-06-16T12:43:09.656Z"
   },
   {
    "duration": 32,
    "start_time": "2022-06-16T12:43:19.411Z"
   },
   {
    "duration": 69,
    "start_time": "2022-06-16T12:43:34.020Z"
   },
   {
    "duration": 25,
    "start_time": "2022-06-16T12:43:37.185Z"
   },
   {
    "duration": 74,
    "start_time": "2022-06-16T12:43:44.796Z"
   },
   {
    "duration": 43,
    "start_time": "2022-06-16T12:44:02.190Z"
   },
   {
    "duration": 23,
    "start_time": "2022-06-16T12:44:19.209Z"
   },
   {
    "duration": 23,
    "start_time": "2022-06-16T12:44:23.059Z"
   },
   {
    "duration": 33,
    "start_time": "2022-06-16T12:44:29.454Z"
   },
   {
    "duration": 23,
    "start_time": "2022-06-16T12:44:39.083Z"
   },
   {
    "duration": 51,
    "start_time": "2022-06-16T13:20:13.455Z"
   },
   {
    "duration": 511,
    "start_time": "2022-06-16T13:20:20.917Z"
   },
   {
    "duration": 74,
    "start_time": "2022-06-16T13:20:21.430Z"
   },
   {
    "duration": 11,
    "start_time": "2022-06-16T13:20:21.508Z"
   },
   {
    "duration": 9,
    "start_time": "2022-06-16T13:20:21.521Z"
   },
   {
    "duration": 22,
    "start_time": "2022-06-16T13:20:21.532Z"
   },
   {
    "duration": 16,
    "start_time": "2022-06-16T13:20:21.556Z"
   },
   {
    "duration": 10,
    "start_time": "2022-06-16T13:20:21.573Z"
   },
   {
    "duration": 39,
    "start_time": "2022-06-16T13:20:21.584Z"
   },
   {
    "duration": 12,
    "start_time": "2022-06-16T13:20:21.625Z"
   },
   {
    "duration": 13,
    "start_time": "2022-06-16T13:20:21.639Z"
   },
   {
    "duration": 12,
    "start_time": "2022-06-16T13:20:21.653Z"
   },
   {
    "duration": 16,
    "start_time": "2022-06-16T13:21:07.361Z"
   },
   {
    "duration": 517,
    "start_time": "2022-06-16T13:27:06.541Z"
   },
   {
    "duration": 65,
    "start_time": "2022-06-16T13:27:07.060Z"
   },
   {
    "duration": 11,
    "start_time": "2022-06-16T13:27:07.127Z"
   },
   {
    "duration": 11,
    "start_time": "2022-06-16T13:27:07.140Z"
   },
   {
    "duration": 23,
    "start_time": "2022-06-16T13:27:07.153Z"
   },
   {
    "duration": 16,
    "start_time": "2022-06-16T13:27:07.178Z"
   },
   {
    "duration": 8,
    "start_time": "2022-06-16T13:27:07.196Z"
   },
   {
    "duration": 18,
    "start_time": "2022-06-16T13:27:07.206Z"
   },
   {
    "duration": 10,
    "start_time": "2022-06-16T13:27:07.226Z"
   },
   {
    "duration": 12,
    "start_time": "2022-06-16T13:27:07.237Z"
   },
   {
    "duration": 10,
    "start_time": "2022-06-16T13:27:07.251Z"
   },
   {
    "duration": 11,
    "start_time": "2022-06-16T13:28:31.288Z"
   },
   {
    "duration": 13,
    "start_time": "2022-06-16T13:28:36.096Z"
   },
   {
    "duration": 16,
    "start_time": "2022-06-16T13:28:41.119Z"
   },
   {
    "duration": 549,
    "start_time": "2022-06-16T13:29:21.972Z"
   },
   {
    "duration": 70,
    "start_time": "2022-06-16T13:29:22.522Z"
   },
   {
    "duration": 11,
    "start_time": "2022-06-16T13:29:22.594Z"
   },
   {
    "duration": 10,
    "start_time": "2022-06-16T13:29:22.606Z"
   },
   {
    "duration": 21,
    "start_time": "2022-06-16T13:29:22.618Z"
   },
   {
    "duration": 20,
    "start_time": "2022-06-16T13:29:22.641Z"
   },
   {
    "duration": 9,
    "start_time": "2022-06-16T13:29:22.663Z"
   },
   {
    "duration": 20,
    "start_time": "2022-06-16T13:29:22.694Z"
   },
   {
    "duration": 11,
    "start_time": "2022-06-16T13:29:22.715Z"
   },
   {
    "duration": 14,
    "start_time": "2022-06-16T13:29:22.727Z"
   },
   {
    "duration": 11,
    "start_time": "2022-06-16T13:29:22.743Z"
   },
   {
    "duration": 45,
    "start_time": "2022-06-16T21:02:55.425Z"
   }
  ],
  "kernelspec": {
   "display_name": "Python 3 (ipykernel)",
   "language": "python",
   "name": "python3"
  },
  "language_info": {
   "codemirror_mode": {
    "name": "ipython",
    "version": 3
   },
   "file_extension": ".py",
   "mimetype": "text/x-python",
   "name": "python",
   "nbconvert_exporter": "python",
   "pygments_lexer": "ipython3",
   "version": "3.9.7"
  },
  "toc": {
   "base_numbering": 1,
   "nav_menu": {},
   "number_sections": true,
   "sideBar": true,
   "skip_h1_title": true,
   "title_cell": "Table of Contents",
   "title_sidebar": "Contents",
   "toc_cell": false,
   "toc_position": {},
   "toc_section_display": true,
   "toc_window_display": false
  }
 },
 "nbformat": 4,
 "nbformat_minor": 2
}
