{
 "cells": [
  {
   "cell_type": "markdown",
   "metadata": {},
   "source": [
    "# Проект по анализу оттока клиентов регионального банка"
   ]
  },
  {
   "cell_type": "markdown",
   "metadata": {},
   "source": [
    "Цель - проанализировать клиентов регионального банка и выделить портрет клиентов, которые склонны уходить из банка и дать рекомендации по удержанию клиентов."
   ]
  },
  {
   "cell_type": "markdown",
   "metadata": {},
   "source": [
    "1. [Исследовательский анализ данных](#EDA)\n",
    "2. [Сформировать портреты клиентов, которые склонны уходить из банка](#analysis)\n",
    "3. [Проверка статистических гипотез](#hypothesis)\n",
    "4. [Выводы и рекомендации](#summary)"
   ]
  },
  {
   "cell_type": "code",
   "execution_count": 1,
   "metadata": {},
   "outputs": [],
   "source": [
    "import pandas as pd\n",
    "import seaborn as sns\n",
    "from sklearn.preprocessing import StandardScaler\n",
    "from sklearn.model_selection import train_test_split\n",
    "from sklearn.linear_model import LogisticRegression\n",
    "from sklearn.ensemble import RandomForestClassifier\n",
    "import matplotlib.pyplot as plt\n",
    "from sklearn.metrics import accuracy_score, precision_score, recall_score, f1_score\n",
    "from sklearn.metrics import mean_absolute_error, mean_squared_error, r2_score\n",
    "from scipy.cluster.hierarchy import dendrogram, linkage\n",
    "from sklearn.cluster import KMeans\n",
    "import itertools\n",
    "from sklearn.preprocessing import LabelEncoder\n",
    "from scipy import stats as st"
   ]
  },
  {
   "cell_type": "markdown",
   "metadata": {},
   "source": [
    "## Исследовательский анализ данных\n",
    "<a id=\"EDA\"></a>"
   ]
  },
  {
   "cell_type": "code",
   "execution_count": 2,
   "metadata": {},
   "outputs": [],
   "source": [
    "data_churn = pd.read_csv('../projects/bank_dataset.csv')"
   ]
  },
  {
   "cell_type": "code",
   "execution_count": 3,
   "metadata": {},
   "outputs": [
    {
     "data": {
      "text/html": [
       "<div>\n",
       "<style scoped>\n",
       "    .dataframe tbody tr th:only-of-type {\n",
       "        vertical-align: middle;\n",
       "    }\n",
       "\n",
       "    .dataframe tbody tr th {\n",
       "        vertical-align: top;\n",
       "    }\n",
       "\n",
       "    .dataframe thead th {\n",
       "        text-align: right;\n",
       "    }\n",
       "</style>\n",
       "<table border=\"1\" class=\"dataframe\">\n",
       "  <thead>\n",
       "    <tr style=\"text-align: right;\">\n",
       "      <th></th>\n",
       "      <th>userid</th>\n",
       "      <th>score</th>\n",
       "      <th>City</th>\n",
       "      <th>Gender</th>\n",
       "      <th>Age</th>\n",
       "      <th>Objects</th>\n",
       "      <th>Balance</th>\n",
       "      <th>Products</th>\n",
       "      <th>CreditCard</th>\n",
       "      <th>Loyalty</th>\n",
       "      <th>estimated_salary</th>\n",
       "      <th>Churn</th>\n",
       "    </tr>\n",
       "  </thead>\n",
       "  <tbody>\n",
       "    <tr>\n",
       "      <th>0</th>\n",
       "      <td>15677338</td>\n",
       "      <td>619</td>\n",
       "      <td>Ярославль</td>\n",
       "      <td>Ж</td>\n",
       "      <td>42</td>\n",
       "      <td>2</td>\n",
       "      <td>NaN</td>\n",
       "      <td>1</td>\n",
       "      <td>1</td>\n",
       "      <td>1</td>\n",
       "      <td>101348.88</td>\n",
       "      <td>1</td>\n",
       "    </tr>\n",
       "    <tr>\n",
       "      <th>1</th>\n",
       "      <td>15690047</td>\n",
       "      <td>608</td>\n",
       "      <td>Рыбинск</td>\n",
       "      <td>Ж</td>\n",
       "      <td>41</td>\n",
       "      <td>1</td>\n",
       "      <td>83807.86</td>\n",
       "      <td>1</td>\n",
       "      <td>0</td>\n",
       "      <td>1</td>\n",
       "      <td>112542.58</td>\n",
       "      <td>0</td>\n",
       "    </tr>\n",
       "    <tr>\n",
       "      <th>2</th>\n",
       "      <td>15662040</td>\n",
       "      <td>502</td>\n",
       "      <td>Ярославль</td>\n",
       "      <td>Ж</td>\n",
       "      <td>42</td>\n",
       "      <td>8</td>\n",
       "      <td>159660.80</td>\n",
       "      <td>3</td>\n",
       "      <td>1</td>\n",
       "      <td>0</td>\n",
       "      <td>113931.57</td>\n",
       "      <td>1</td>\n",
       "    </tr>\n",
       "    <tr>\n",
       "      <th>3</th>\n",
       "      <td>15744090</td>\n",
       "      <td>699</td>\n",
       "      <td>Ярославль</td>\n",
       "      <td>Ж</td>\n",
       "      <td>39</td>\n",
       "      <td>1</td>\n",
       "      <td>NaN</td>\n",
       "      <td>2</td>\n",
       "      <td>0</td>\n",
       "      <td>0</td>\n",
       "      <td>93826.63</td>\n",
       "      <td>0</td>\n",
       "    </tr>\n",
       "    <tr>\n",
       "      <th>4</th>\n",
       "      <td>15780624</td>\n",
       "      <td>850</td>\n",
       "      <td>Рыбинск</td>\n",
       "      <td>Ж</td>\n",
       "      <td>43</td>\n",
       "      <td>2</td>\n",
       "      <td>125510.82</td>\n",
       "      <td>1</td>\n",
       "      <td>1</td>\n",
       "      <td>1</td>\n",
       "      <td>79084.10</td>\n",
       "      <td>0</td>\n",
       "    </tr>\n",
       "  </tbody>\n",
       "</table>\n",
       "</div>"
      ],
      "text/plain": [
       "     userid  score       City Gender  Age  Objects    Balance  Products  \\\n",
       "0  15677338    619  Ярославль      Ж   42        2        NaN         1   \n",
       "1  15690047    608    Рыбинск      Ж   41        1   83807.86         1   \n",
       "2  15662040    502  Ярославль      Ж   42        8  159660.80         3   \n",
       "3  15744090    699  Ярославль      Ж   39        1        NaN         2   \n",
       "4  15780624    850    Рыбинск      Ж   43        2  125510.82         1   \n",
       "\n",
       "   CreditCard  Loyalty  estimated_salary  Churn  \n",
       "0           1        1         101348.88      1  \n",
       "1           0        1         112542.58      0  \n",
       "2           1        0         113931.57      1  \n",
       "3           0        0          93826.63      0  \n",
       "4           1        1          79084.10      0  "
      ]
     },
     "execution_count": 3,
     "metadata": {},
     "output_type": "execute_result"
    }
   ],
   "source": [
    "data_churn.head()"
   ]
  },
  {
   "cell_type": "code",
   "execution_count": 4,
   "metadata": {},
   "outputs": [
    {
     "name": "stdout",
     "output_type": "stream",
     "text": [
      "<class 'pandas.core.frame.DataFrame'>\n",
      "RangeIndex: 10000 entries, 0 to 9999\n",
      "Data columns (total 12 columns):\n",
      " #   Column            Non-Null Count  Dtype  \n",
      "---  ------            --------------  -----  \n",
      " 0   userid            10000 non-null  int64  \n",
      " 1   score             10000 non-null  int64  \n",
      " 2   City              10000 non-null  object \n",
      " 3   Gender            10000 non-null  object \n",
      " 4   Age               10000 non-null  int64  \n",
      " 5   Objects           10000 non-null  int64  \n",
      " 6   Balance           6383 non-null   float64\n",
      " 7   Products          10000 non-null  int64  \n",
      " 8   CreditCard        10000 non-null  int64  \n",
      " 9   Loyalty           10000 non-null  int64  \n",
      " 10  estimated_salary  10000 non-null  float64\n",
      " 11  Churn             10000 non-null  int64  \n",
      "dtypes: float64(2), int64(8), object(2)\n",
      "memory usage: 937.6+ KB\n"
     ]
    }
   ],
   "source": [
    "data_churn.info()"
   ]
  },
  {
   "cell_type": "code",
   "execution_count": 5,
   "metadata": {},
   "outputs": [
    {
     "data": {
      "text/plain": [
       "10000"
      ]
     },
     "execution_count": 5,
     "metadata": {},
     "output_type": "execute_result"
    }
   ],
   "source": [
    "len(data_churn['userid'].unique())"
   ]
  },
  {
   "cell_type": "code",
   "execution_count": 6,
   "metadata": {},
   "outputs": [],
   "source": [
    "data_churn.columns = data_churn.columns.str.lower()\n",
    "data_churn.rename(columns = {'userid' : 'user_id','creditcard':'credict_card'}, inplace = True)"
   ]
  },
  {
   "cell_type": "code",
   "execution_count": 7,
   "metadata": {},
   "outputs": [
    {
     "name": "stdout",
     "output_type": "stream",
     "text": [
      "['Ярославль' 'Рыбинск' 'Ростов Великий']\n",
      "['Ж' 'М']\n",
      "[ 2  1  8  7  4  6  3 10  5  9  0]\n",
      "[1 3 2 4]\n"
     ]
    }
   ],
   "source": [
    "print(data_churn['city'].unique())\n",
    "print(data_churn['gender'].unique())\n",
    "print(data_churn['objects'].unique())\n",
    "print(data_churn['products'].unique())"
   ]
  },
  {
   "cell_type": "code",
   "execution_count": 8,
   "metadata": {},
   "outputs": [
    {
     "name": "stdout",
     "output_type": "stream",
     "text": [
      "gender\n",
      "Ж    4543\n",
      "М    5457\n",
      "Name: user_id, dtype: int64\n"
     ]
    }
   ],
   "source": [
    "print(data_churn.groupby('gender')['user_id'].count())"
   ]
  },
  {
   "cell_type": "markdown",
   "metadata": {},
   "source": [
    "Переменные пола и города - категориальные. Для проведения кластеризации далее в проекте переведу значения в числовые."
   ]
  },
  {
   "cell_type": "code",
   "execution_count": 9,
   "metadata": {},
   "outputs": [
    {
     "data": {
      "text/html": [
       "<div>\n",
       "<style scoped>\n",
       "    .dataframe tbody tr th:only-of-type {\n",
       "        vertical-align: middle;\n",
       "    }\n",
       "\n",
       "    .dataframe tbody tr th {\n",
       "        vertical-align: top;\n",
       "    }\n",
       "\n",
       "    .dataframe thead th {\n",
       "        text-align: right;\n",
       "    }\n",
       "</style>\n",
       "<table border=\"1\" class=\"dataframe\">\n",
       "  <thead>\n",
       "    <tr style=\"text-align: right;\">\n",
       "      <th></th>\n",
       "      <th>user_id</th>\n",
       "      <th>score</th>\n",
       "      <th>age</th>\n",
       "      <th>objects</th>\n",
       "      <th>balance</th>\n",
       "      <th>products</th>\n",
       "      <th>credict_card</th>\n",
       "      <th>loyalty</th>\n",
       "      <th>estimated_salary</th>\n",
       "      <th>churn</th>\n",
       "    </tr>\n",
       "  </thead>\n",
       "  <tbody>\n",
       "    <tr>\n",
       "      <th>count</th>\n",
       "      <td>1.000000e+04</td>\n",
       "      <td>10000.000000</td>\n",
       "      <td>10000.000000</td>\n",
       "      <td>10000.000000</td>\n",
       "      <td>6383.000000</td>\n",
       "      <td>10000.000000</td>\n",
       "      <td>10000.00000</td>\n",
       "      <td>10000.000000</td>\n",
       "      <td>10000.000000</td>\n",
       "      <td>10000.000000</td>\n",
       "    </tr>\n",
       "    <tr>\n",
       "      <th>mean</th>\n",
       "      <td>1.573368e+07</td>\n",
       "      <td>650.528800</td>\n",
       "      <td>38.921800</td>\n",
       "      <td>5.012800</td>\n",
       "      <td>119827.493793</td>\n",
       "      <td>1.530200</td>\n",
       "      <td>0.70550</td>\n",
       "      <td>0.515100</td>\n",
       "      <td>100090.239881</td>\n",
       "      <td>0.203700</td>\n",
       "    </tr>\n",
       "    <tr>\n",
       "      <th>std</th>\n",
       "      <td>7.193619e+04</td>\n",
       "      <td>96.653299</td>\n",
       "      <td>10.487806</td>\n",
       "      <td>2.892174</td>\n",
       "      <td>30095.056462</td>\n",
       "      <td>0.581654</td>\n",
       "      <td>0.45584</td>\n",
       "      <td>0.499797</td>\n",
       "      <td>57510.492818</td>\n",
       "      <td>0.402769</td>\n",
       "    </tr>\n",
       "    <tr>\n",
       "      <th>min</th>\n",
       "      <td>1.560844e+07</td>\n",
       "      <td>350.000000</td>\n",
       "      <td>18.000000</td>\n",
       "      <td>0.000000</td>\n",
       "      <td>3768.690000</td>\n",
       "      <td>1.000000</td>\n",
       "      <td>0.00000</td>\n",
       "      <td>0.000000</td>\n",
       "      <td>11.580000</td>\n",
       "      <td>0.000000</td>\n",
       "    </tr>\n",
       "    <tr>\n",
       "      <th>25%</th>\n",
       "      <td>1.567126e+07</td>\n",
       "      <td>584.000000</td>\n",
       "      <td>32.000000</td>\n",
       "      <td>3.000000</td>\n",
       "      <td>100181.975000</td>\n",
       "      <td>1.000000</td>\n",
       "      <td>0.00000</td>\n",
       "      <td>0.000000</td>\n",
       "      <td>51002.110000</td>\n",
       "      <td>0.000000</td>\n",
       "    </tr>\n",
       "    <tr>\n",
       "      <th>50%</th>\n",
       "      <td>1.573347e+07</td>\n",
       "      <td>652.000000</td>\n",
       "      <td>37.000000</td>\n",
       "      <td>5.000000</td>\n",
       "      <td>119839.690000</td>\n",
       "      <td>1.000000</td>\n",
       "      <td>1.00000</td>\n",
       "      <td>1.000000</td>\n",
       "      <td>100193.915000</td>\n",
       "      <td>0.000000</td>\n",
       "    </tr>\n",
       "    <tr>\n",
       "      <th>75%</th>\n",
       "      <td>1.579597e+07</td>\n",
       "      <td>718.000000</td>\n",
       "      <td>44.000000</td>\n",
       "      <td>7.000000</td>\n",
       "      <td>139512.290000</td>\n",
       "      <td>2.000000</td>\n",
       "      <td>1.00000</td>\n",
       "      <td>1.000000</td>\n",
       "      <td>149388.247500</td>\n",
       "      <td>0.000000</td>\n",
       "    </tr>\n",
       "    <tr>\n",
       "      <th>max</th>\n",
       "      <td>1.585843e+07</td>\n",
       "      <td>850.000000</td>\n",
       "      <td>92.000000</td>\n",
       "      <td>10.000000</td>\n",
       "      <td>250898.090000</td>\n",
       "      <td>4.000000</td>\n",
       "      <td>1.00000</td>\n",
       "      <td>1.000000</td>\n",
       "      <td>199992.480000</td>\n",
       "      <td>1.000000</td>\n",
       "    </tr>\n",
       "  </tbody>\n",
       "</table>\n",
       "</div>"
      ],
      "text/plain": [
       "            user_id         score           age       objects        balance  \\\n",
       "count  1.000000e+04  10000.000000  10000.000000  10000.000000    6383.000000   \n",
       "mean   1.573368e+07    650.528800     38.921800      5.012800  119827.493793   \n",
       "std    7.193619e+04     96.653299     10.487806      2.892174   30095.056462   \n",
       "min    1.560844e+07    350.000000     18.000000      0.000000    3768.690000   \n",
       "25%    1.567126e+07    584.000000     32.000000      3.000000  100181.975000   \n",
       "50%    1.573347e+07    652.000000     37.000000      5.000000  119839.690000   \n",
       "75%    1.579597e+07    718.000000     44.000000      7.000000  139512.290000   \n",
       "max    1.585843e+07    850.000000     92.000000     10.000000  250898.090000   \n",
       "\n",
       "           products  credict_card       loyalty  estimated_salary  \\\n",
       "count  10000.000000   10000.00000  10000.000000      10000.000000   \n",
       "mean       1.530200       0.70550      0.515100     100090.239881   \n",
       "std        0.581654       0.45584      0.499797      57510.492818   \n",
       "min        1.000000       0.00000      0.000000         11.580000   \n",
       "25%        1.000000       0.00000      0.000000      51002.110000   \n",
       "50%        1.000000       1.00000      1.000000     100193.915000   \n",
       "75%        2.000000       1.00000      1.000000     149388.247500   \n",
       "max        4.000000       1.00000      1.000000     199992.480000   \n",
       "\n",
       "              churn  \n",
       "count  10000.000000  \n",
       "mean       0.203700  \n",
       "std        0.402769  \n",
       "min        0.000000  \n",
       "25%        0.000000  \n",
       "50%        0.000000  \n",
       "75%        0.000000  \n",
       "max        1.000000  "
      ]
     },
     "execution_count": 9,
     "metadata": {},
     "output_type": "execute_result"
    }
   ],
   "source": [
    "data_churn.describe()"
   ]
  },
  {
   "cell_type": "markdown",
   "metadata": {},
   "source": [
    "В датафрейме 10000 наблюдений и 12 полей - 11 признаков и целевая переменная. Дубликатов нет, пропущенные значения есть только в столбце Balance. Типы данных корректны. Переименовала для удобства названия столбцов. \n",
    "\n",
    "Данные по трем городам - Ростов Великий, Ярославль и Рыбинск. Количество объектов в собственности - от 0 до 10, количество продуктов, которыми пользуется клиент - от 1 до 4. В среднем клиенты используют 1-2 продукта, в среднем объектов собственности у клиента - 5.Примерно одинаковое соотношение мужчин и женщин. Большой разброс по параметрам score, salary и age. Средний возраст клиента банка - 39 лет. В отток попадает ~ 20% всех клиентов.\n",
    "\n",
    "Далее изучу пропуски. Есть предположение, что пропуски в основном у тех клиентов, которые попали в отток. Выделю отдельно датасет в котором Balance Nan."
   ]
  },
  {
   "cell_type": "code",
   "execution_count": 10,
   "metadata": {},
   "outputs": [],
   "source": [
    "balance_nan = data_churn[data_churn['balance'].isnull()]"
   ]
  },
  {
   "cell_type": "code",
   "execution_count": 11,
   "metadata": {},
   "outputs": [
    {
     "data": {
      "text/plain": [
       "0    3117\n",
       "1     500\n",
       "Name: churn, dtype: int64"
      ]
     },
     "execution_count": 11,
     "metadata": {},
     "output_type": "execute_result"
    }
   ],
   "source": [
    "balance_nan['churn'].value_counts()"
   ]
  },
  {
   "cell_type": "code",
   "execution_count": 12,
   "metadata": {},
   "outputs": [
    {
     "name": "stdout",
     "output_type": "stream",
     "text": [
      "0    39.14%\n",
      "1    24.55%\n",
      "Name: churn, dtype: object\n"
     ]
    }
   ],
   "source": [
    "print((balance_nan['churn'].value_counts()/data_churn['churn'].value_counts()).map(lambda n: '{:,.2%}'.format(n)))"
   ]
  },
  {
   "cell_type": "markdown",
   "metadata": {},
   "source": [
    "Из всего количества клиентов с пропущенным Balance, только 500 попали в отток. Это составляет четверть общего количества клиентов, попавших в отток. Предположение не сработало, изучу другие признаки."
   ]
  },
  {
   "cell_type": "code",
   "execution_count": 13,
   "metadata": {},
   "outputs": [
    {
     "name": "stdout",
     "output_type": "stream",
     "text": [
      "Ярославль    2418\n",
      "Рыбинск      1199\n",
      "Name: city, dtype: int64\n"
     ]
    }
   ],
   "source": [
    "print(balance_nan['city'].value_counts())"
   ]
  },
  {
   "cell_type": "code",
   "execution_count": 14,
   "metadata": {},
   "outputs": [
    {
     "name": "stdout",
     "output_type": "stream",
     "text": [
      "Ярославль         5014\n",
      "Ростов Великий    2509\n",
      "Рыбинск           2477\n",
      "Name: city, dtype: int64\n"
     ]
    }
   ],
   "source": [
    "print(data_churn['city'].value_counts())"
   ]
  },
  {
   "cell_type": "markdown",
   "metadata": {},
   "source": [
    "Изучив пропуски по городам, видим, что пропуски есть у клиентов в Ярославле и Рыбинске и нет по Ростову. В данном случае сложно сделать предположение о природе пропусков, так как видим, что количество клиентов в областных городах Ярославля одинаковое, но пропуски есть только по Рыбинску и самому Ярославлю."
   ]
  },
  {
   "cell_type": "code",
   "execution_count": 15,
   "metadata": {},
   "outputs": [
    {
     "name": "stdout",
     "output_type": "stream",
     "text": [
      "1    1873\n",
      "0    1744\n",
      "Name: loyalty, dtype: int64\n"
     ]
    }
   ],
   "source": [
    "print(balance_nan['loyalty'].value_counts())"
   ]
  },
  {
   "cell_type": "code",
   "execution_count": 16,
   "metadata": {},
   "outputs": [
    {
     "name": "stdout",
     "output_type": "stream",
     "text": [
      "1    5151\n",
      "0    4849\n",
      "Name: loyalty, dtype: int64\n"
     ]
    }
   ],
   "source": [
    "print(data_churn['loyalty'].value_counts())"
   ]
  },
  {
   "cell_type": "markdown",
   "metadata": {},
   "source": [
    "По параметру loyalty также сложно сделать предположение о пропусках."
   ]
  },
  {
   "cell_type": "code",
   "execution_count": 17,
   "metadata": {},
   "outputs": [
    {
     "data": {
      "image/png": "[encoded data removed]",
      "text/plain": [
       "<Figure size 432x288 with 1 Axes>"
      ]
     },
     "metadata": {
      "needs_background": "light"
     },
     "output_type": "display_data"
    }
   ],
   "source": [
    "balance_nan.age.plot(kind='hist',bins=30, title='Распределение возрастов у клиентов с пропусками в столбце balance', label='balance Nan')\n",
    "data_churn.age.plot(kind='hist',bins=30,label='balance заполнен', alpha=0.5)\n",
    "plt.legend()\n",
    "plt.show()"
   ]
  },
  {
   "cell_type": "markdown",
   "metadata": {},
   "source": [
    "По распределению возрастов не вижу резких различий, на основе возвраста не могу сделать предположение о пропуске/заполнении balance."
   ]
  },
  {
   "cell_type": "code",
   "execution_count": 18,
   "metadata": {},
   "outputs": [
    {
     "data": {
      "image/png": "[encoded data removed]",
      "text/plain": [
       "<Figure size 432x288 with 1 Axes>"
      ]
     },
     "metadata": {
      "needs_background": "light"
     },
     "output_type": "display_data"
    }
   ],
   "source": [
    "balance_nan.objects.plot(kind='hist',bins=30, title='Распределение возрастов у клиентов с пропусками в столбце balance', label='balance Nan')\n",
    "data_churn.objects.plot(kind='hist',bins=30,label='balance заполнен', alpha=0.5)\n",
    "plt.legend()\n",
    "plt.show()"
   ]
  },
  {
   "cell_type": "markdown",
   "metadata": {},
   "source": [
    "По количеству объектов тоже не вижу резких отличий."
   ]
  },
  {
   "cell_type": "code",
   "execution_count": 19,
   "metadata": {},
   "outputs": [],
   "source": [
    "products_nan = balance_nan.groupby('products', as_index = False)['user_id'].count()\n",
    "products_not_nan = data_churn.groupby('products', as_index = False)['user_id'].count()\n",
    "products_nan['products_not_nan'] = products_not_nan['user_id']\n",
    "products_nan['share'] = (products_nan['user_id']/products_nan['products_not_nan']).map(lambda n: '{:,.2%}'.format(n))"
   ]
  },
  {
   "cell_type": "code",
   "execution_count": 20,
   "metadata": {},
   "outputs": [
    {
     "data": {
      "text/html": [
       "<div>\n",
       "<style scoped>\n",
       "    .dataframe tbody tr th:only-of-type {\n",
       "        vertical-align: middle;\n",
       "    }\n",
       "\n",
       "    .dataframe tbody tr th {\n",
       "        vertical-align: top;\n",
       "    }\n",
       "\n",
       "    .dataframe thead th {\n",
       "        text-align: right;\n",
       "    }\n",
       "</style>\n",
       "<table border=\"1\" class=\"dataframe\">\n",
       "  <thead>\n",
       "    <tr style=\"text-align: right;\">\n",
       "      <th></th>\n",
       "      <th>products</th>\n",
       "      <th>user_id</th>\n",
       "      <th>products_not_nan</th>\n",
       "      <th>share</th>\n",
       "    </tr>\n",
       "  </thead>\n",
       "  <tbody>\n",
       "    <tr>\n",
       "      <th>0</th>\n",
       "      <td>1</td>\n",
       "      <td>905</td>\n",
       "      <td>5084</td>\n",
       "      <td>17.80%</td>\n",
       "    </tr>\n",
       "    <tr>\n",
       "      <th>1</th>\n",
       "      <td>2</td>\n",
       "      <td>2600</td>\n",
       "      <td>4590</td>\n",
       "      <td>56.64%</td>\n",
       "    </tr>\n",
       "    <tr>\n",
       "      <th>2</th>\n",
       "      <td>3</td>\n",
       "      <td>98</td>\n",
       "      <td>266</td>\n",
       "      <td>36.84%</td>\n",
       "    </tr>\n",
       "    <tr>\n",
       "      <th>3</th>\n",
       "      <td>4</td>\n",
       "      <td>14</td>\n",
       "      <td>60</td>\n",
       "      <td>23.33%</td>\n",
       "    </tr>\n",
       "  </tbody>\n",
       "</table>\n",
       "</div>"
      ],
      "text/plain": [
       "   products  user_id  products_not_nan   share\n",
       "0         1      905              5084  17.80%\n",
       "1         2     2600              4590  56.64%\n",
       "2         3       98               266  36.84%\n",
       "3         4       14                60  23.33%"
      ]
     },
     "execution_count": 20,
     "metadata": {},
     "output_type": "execute_result"
    }
   ],
   "source": [
    "products_nan"
   ]
  },
  {
   "cell_type": "markdown",
   "metadata": {},
   "source": [
    "Если смотрим по продуктам - максимальное количество пропусков у клиентов, которые пользуются двумя продуктами, в абсолютном и относительном выражении. В данном случае также сложно сделать конкретное предположение о природе пропусков."
   ]
  },
  {
   "cell_type": "code",
   "execution_count": 21,
   "metadata": {},
   "outputs": [
    {
     "data": {
      "text/plain": [
       "count      3617.000000\n",
       "mean      98983.559549\n",
       "std       57730.828955\n",
       "min          90.070000\n",
       "25%       49506.820000\n",
       "50%       98618.790000\n",
       "75%      148330.970000\n",
       "max      199992.480000\n",
       "Name: estimated_salary, dtype: float64"
      ]
     },
     "execution_count": 21,
     "metadata": {},
     "output_type": "execute_result"
    }
   ],
   "source": [
    "balance_nan['estimated_salary'].describe()"
   ]
  },
  {
   "cell_type": "code",
   "execution_count": 22,
   "metadata": {},
   "outputs": [
    {
     "data": {
      "text/plain": [
       "count     10000.000000\n",
       "mean     100090.239881\n",
       "std       57510.492818\n",
       "min          11.580000\n",
       "25%       51002.110000\n",
       "50%      100193.915000\n",
       "75%      149388.247500\n",
       "max      199992.480000\n",
       "Name: estimated_salary, dtype: float64"
      ]
     },
     "execution_count": 22,
     "metadata": {},
     "output_type": "execute_result"
    }
   ],
   "source": [
    "data_churn['estimated_salary'].describe()"
   ]
  },
  {
   "cell_type": "code",
   "execution_count": 23,
   "metadata": {},
   "outputs": [
    {
     "data": {
      "text/plain": [
       "count    3617.000000\n",
       "mean      649.452861\n",
       "std        96.158798\n",
       "min       350.000000\n",
       "25%       583.000000\n",
       "50%       651.000000\n",
       "75%       717.000000\n",
       "max       850.000000\n",
       "Name: score, dtype: float64"
      ]
     },
     "execution_count": 23,
     "metadata": {},
     "output_type": "execute_result"
    }
   ],
   "source": [
    "balance_nan['score'].describe()"
   ]
  },
  {
   "cell_type": "code",
   "execution_count": 24,
   "metadata": {},
   "outputs": [
    {
     "data": {
      "text/plain": [
       "count    10000.000000\n",
       "mean       650.528800\n",
       "std         96.653299\n",
       "min        350.000000\n",
       "25%        584.000000\n",
       "50%        652.000000\n",
       "75%        718.000000\n",
       "max        850.000000\n",
       "Name: score, dtype: float64"
      ]
     },
     "execution_count": 24,
     "metadata": {},
     "output_type": "execute_result"
    }
   ],
   "source": [
    "data_churn['score'].describe()"
   ]
  },
  {
   "cell_type": "markdown",
   "metadata": {},
   "source": [
    "По estimated salary и score тоже не вижу резких различий в параметрах.\n",
    "Так как сложно сделать конкретные выводы о природе и неслучайности пропусков, в данном случае не буду их заполнять."
   ]
  },
  {
   "cell_type": "markdown",
   "metadata": {},
   "source": [
    "## Сформировать портреты клиентов, которые склонны уходить из банка\n",
    "<a id=\"analysis\"></a>"
   ]
  },
  {
   "cell_type": "markdown",
   "metadata": {},
   "source": [
    "### Анализ оттока в зависимости от признака"
   ]
  },
  {
   "cell_type": "markdown",
   "metadata": {},
   "source": [
    "Далее чтобы проанализировать ситуацию оттока, построю графики распределения признаков для тех, кто попал в отток и тех, кто не попал в отток."
   ]
  },
  {
   "cell_type": "code",
   "execution_count": 25,
   "metadata": {},
   "outputs": [
    {
     "data": {
      "image/png": "[encoded data removed]",
      "text/plain": [
       "<Figure size 432x288 with 1 Axes>"
      ]
     },
     "metadata": {
      "needs_background": "light"
     },
     "output_type": "display_data"
    }
   ],
   "source": [
    "data_churn.query('churn == 0').score.plot(kind='hist',bins=20, title='Score клиентов, попавших/не попавших в отток', label='не попали в отток')\n",
    "data_churn.query('churn == 1').score.plot(kind='hist',bins=20,label='попали в отток', alpha=0.5)\n",
    "plt.legend()\n",
    "plt.show()"
   ]
  },
  {
   "cell_type": "code",
   "execution_count": 26,
   "metadata": {},
   "outputs": [
    {
     "data": {
      "text/plain": [
       "count    7963.000000\n",
       "mean      651.853196\n",
       "std        95.653837\n",
       "min       405.000000\n",
       "25%       585.000000\n",
       "50%       653.000000\n",
       "75%       718.000000\n",
       "max       850.000000\n",
       "Name: score, dtype: float64"
      ]
     },
     "execution_count": 26,
     "metadata": {},
     "output_type": "execute_result"
    }
   ],
   "source": [
    "data_churn.query('churn == 0')['score'].describe()"
   ]
  },
  {
   "cell_type": "code",
   "execution_count": 27,
   "metadata": {},
   "outputs": [
    {
     "data": {
      "text/plain": [
       "count    2037.000000\n",
       "mean      645.351497\n",
       "std       100.321503\n",
       "min       350.000000\n",
       "25%       578.000000\n",
       "50%       646.000000\n",
       "75%       716.000000\n",
       "max       850.000000\n",
       "Name: score, dtype: float64"
      ]
     },
     "execution_count": 27,
     "metadata": {},
     "output_type": "execute_result"
    }
   ],
   "source": [
    "data_churn.query('churn == 1')['score'].describe()"
   ]
  },
  {
   "cell_type": "markdown",
   "metadata": {},
   "source": [
    "Распределения баллов среди ушедших и оставшихся примерно похожи, схожи диапазоны значений, пики. По графику видно, что есть некоторое количество клиентов до 400, которое попадает в отток. Диапазон клиентов, которые не попадают в отток начинается с 400."
   ]
  },
  {
   "cell_type": "code",
   "execution_count": 28,
   "metadata": {},
   "outputs": [
    {
     "data": {
      "text/plain": [
       "city\n",
       "Ростов Великий    32.44%\n",
       "Рыбинск           16.67%\n",
       "Ярославль         16.15%\n",
       "Name: user_id, dtype: object"
      ]
     },
     "execution_count": 28,
     "metadata": {},
     "output_type": "execute_result"
    }
   ],
   "source": [
    "(data_churn.query('churn == 1').groupby('city')['user_id'].count()/data_churn.groupby('city')['user_id'].count()).map(lambda n: '{:,.2%}'.format(n))"
   ]
  },
  {
   "cell_type": "code",
   "execution_count": 29,
   "metadata": {},
   "outputs": [
    {
     "data": {
      "text/plain": [
       "city\n",
       "Ростов Великий    814\n",
       "Рыбинск           413\n",
       "Ярославль         810\n",
       "Name: user_id, dtype: int64"
      ]
     },
     "execution_count": 29,
     "metadata": {},
     "output_type": "execute_result"
    }
   ],
   "source": [
    "data_churn.query('churn == 1').groupby('city')['user_id'].count()"
   ]
  },
  {
   "cell_type": "markdown",
   "metadata": {},
   "source": [
    "По городам видим, что наибольший отток произошел по Ростову, около трети клиентов попали в отток, по остальным городам около 16-17%."
   ]
  },
  {
   "cell_type": "code",
   "execution_count": 30,
   "metadata": {},
   "outputs": [
    {
     "data": {
      "text/plain": [
       "gender\n",
       "Ж    25.07%\n",
       "М    16.46%\n",
       "Name: user_id, dtype: object"
      ]
     },
     "execution_count": 30,
     "metadata": {},
     "output_type": "execute_result"
    }
   ],
   "source": [
    "(data_churn.query('churn == 1').groupby('gender')['user_id'].count()/data_churn.groupby('gender')['user_id'].count()).map(lambda n: '{:,.2%}'.format(n))"
   ]
  },
  {
   "cell_type": "code",
   "execution_count": 31,
   "metadata": {},
   "outputs": [
    {
     "data": {
      "text/plain": [
       "gender\n",
       "Ж    4543\n",
       "М    5457\n",
       "Name: user_id, dtype: int64"
      ]
     },
     "execution_count": 31,
     "metadata": {},
     "output_type": "execute_result"
    }
   ],
   "source": [
    "data_churn.groupby('gender')['user_id'].count()"
   ]
  },
  {
   "cell_type": "code",
   "execution_count": 32,
   "metadata": {},
   "outputs": [
    {
     "data": {
      "text/html": [
       "<div>\n",
       "<style scoped>\n",
       "    .dataframe tbody tr th:only-of-type {\n",
       "        vertical-align: middle;\n",
       "    }\n",
       "\n",
       "    .dataframe tbody tr th {\n",
       "        vertical-align: top;\n",
       "    }\n",
       "\n",
       "    .dataframe thead th {\n",
       "        text-align: right;\n",
       "    }\n",
       "</style>\n",
       "<table border=\"1\" class=\"dataframe\">\n",
       "  <thead>\n",
       "    <tr style=\"text-align: right;\">\n",
       "      <th></th>\n",
       "      <th>city</th>\n",
       "      <th>Ростов Великий</th>\n",
       "      <th>Рыбинск</th>\n",
       "      <th>Ярославль</th>\n",
       "    </tr>\n",
       "    <tr>\n",
       "      <th>churn</th>\n",
       "      <th>gender</th>\n",
       "      <th></th>\n",
       "      <th></th>\n",
       "      <th></th>\n",
       "    </tr>\n",
       "  </thead>\n",
       "  <tbody>\n",
       "    <tr>\n",
       "      <th rowspan=\"2\" valign=\"top\">0</th>\n",
       "      <th>Ж</th>\n",
       "      <td>745</td>\n",
       "      <td>858</td>\n",
       "      <td>1801</td>\n",
       "    </tr>\n",
       "    <tr>\n",
       "      <th>М</th>\n",
       "      <td>950</td>\n",
       "      <td>1206</td>\n",
       "      <td>2403</td>\n",
       "    </tr>\n",
       "    <tr>\n",
       "      <th rowspan=\"2\" valign=\"top\">1</th>\n",
       "      <th>Ж</th>\n",
       "      <td>448</td>\n",
       "      <td>231</td>\n",
       "      <td>460</td>\n",
       "    </tr>\n",
       "    <tr>\n",
       "      <th>М</th>\n",
       "      <td>366</td>\n",
       "      <td>182</td>\n",
       "      <td>350</td>\n",
       "    </tr>\n",
       "  </tbody>\n",
       "</table>\n",
       "</div>"
      ],
      "text/plain": [
       "city          Ростов Великий  Рыбинск  Ярославль\n",
       "churn gender                                    \n",
       "0     Ж                  745      858       1801\n",
       "      М                  950     1206       2403\n",
       "1     Ж                  448      231        460\n",
       "      М                  366      182        350"
      ]
     },
     "execution_count": 32,
     "metadata": {},
     "output_type": "execute_result"
    }
   ],
   "source": [
    "data_churn.pivot_table(index = ['churn', 'gender'], columns = 'city', values = 'user_id', aggfunc = 'count')"
   ]
  },
  {
   "cell_type": "markdown",
   "metadata": {},
   "source": [
    "В случае с полом видим, что клиентов мужского пола изначально было немного больше. Также видим, что отток произошел не совсем равномерно - четверть женщин попала в отток, и только ~16% мужчин."
   ]
  },
  {
   "cell_type": "code",
   "execution_count": 33,
   "metadata": {},
   "outputs": [
    {
     "data": {
      "image/png": "[encoded data removed]",
      "text/plain": [
       "<Figure size 432x288 with 1 Axes>"
      ]
     },
     "metadata": {
      "needs_background": "light"
     },
     "output_type": "display_data"
    }
   ],
   "source": [
    "data_churn.query('churn == 0').age.plot(kind='hist',bins=20, title='Распределение возрастов в зависимости от факта попадания/не попадания в отток', label='не попали в отток')\n",
    "data_churn.query('churn == 1').age.plot(kind='hist',bins=20,label='попали в отток', alpha=0.5)\n",
    "plt.legend()\n",
    "plt.show()"
   ]
  },
  {
   "cell_type": "code",
   "execution_count": 34,
   "metadata": {},
   "outputs": [
    {
     "data": {
      "text/plain": [
       "count    2037.000000\n",
       "mean       44.837997\n",
       "std         9.761562\n",
       "min        18.000000\n",
       "25%        38.000000\n",
       "50%        45.000000\n",
       "75%        51.000000\n",
       "max        84.000000\n",
       "Name: age, dtype: float64"
      ]
     },
     "execution_count": 34,
     "metadata": {},
     "output_type": "execute_result"
    }
   ],
   "source": [
    "data_churn.query('churn == 1')['age'].describe()"
   ]
  },
  {
   "cell_type": "code",
   "execution_count": 35,
   "metadata": {},
   "outputs": [
    {
     "data": {
      "text/plain": [
       "count    10000.000000\n",
       "mean        38.921800\n",
       "std         10.487806\n",
       "min         18.000000\n",
       "25%         32.000000\n",
       "50%         37.000000\n",
       "75%         44.000000\n",
       "max         92.000000\n",
       "Name: age, dtype: float64"
      ]
     },
     "execution_count": 35,
     "metadata": {},
     "output_type": "execute_result"
    }
   ],
   "source": [
    "data_churn['age'].describe()"
   ]
  },
  {
   "cell_type": "code",
   "execution_count": 36,
   "metadata": {},
   "outputs": [
    {
     "data": {
      "text/html": [
       "<div>\n",
       "<style scoped>\n",
       "    .dataframe tbody tr th:only-of-type {\n",
       "        vertical-align: middle;\n",
       "    }\n",
       "\n",
       "    .dataframe tbody tr th {\n",
       "        vertical-align: top;\n",
       "    }\n",
       "\n",
       "    .dataframe thead th {\n",
       "        text-align: right;\n",
       "    }\n",
       "</style>\n",
       "<table border=\"1\" class=\"dataframe\">\n",
       "  <thead>\n",
       "    <tr style=\"text-align: right;\">\n",
       "      <th></th>\n",
       "      <th>city</th>\n",
       "      <th>Ростов Великий</th>\n",
       "      <th>Рыбинск</th>\n",
       "      <th>Ярославль</th>\n",
       "    </tr>\n",
       "    <tr>\n",
       "      <th>churn</th>\n",
       "      <th>gender</th>\n",
       "      <th></th>\n",
       "      <th></th>\n",
       "      <th></th>\n",
       "    </tr>\n",
       "  </thead>\n",
       "  <tbody>\n",
       "    <tr>\n",
       "      <th rowspan=\"2\" valign=\"top\">0</th>\n",
       "      <th>Ж</th>\n",
       "      <td>36</td>\n",
       "      <td>36</td>\n",
       "      <td>35</td>\n",
       "    </tr>\n",
       "    <tr>\n",
       "      <th>М</th>\n",
       "      <td>36</td>\n",
       "      <td>36</td>\n",
       "      <td>36</td>\n",
       "    </tr>\n",
       "    <tr>\n",
       "      <th rowspan=\"2\" valign=\"top\">1</th>\n",
       "      <th>Ж</th>\n",
       "      <td>45</td>\n",
       "      <td>44</td>\n",
       "      <td>45</td>\n",
       "    </tr>\n",
       "    <tr>\n",
       "      <th>М</th>\n",
       "      <td>45</td>\n",
       "      <td>44</td>\n",
       "      <td>45</td>\n",
       "    </tr>\n",
       "  </tbody>\n",
       "</table>\n",
       "</div>"
      ],
      "text/plain": [
       "city          Ростов Великий  Рыбинск  Ярославль\n",
       "churn gender                                    \n",
       "0     Ж                   36       36         35\n",
       "      М                   36       36         36\n",
       "1     Ж                   45       44         45\n",
       "      М                   45       44         45"
      ]
     },
     "execution_count": 36,
     "metadata": {},
     "output_type": "execute_result"
    }
   ],
   "source": [
    "data_churn.pivot_table(index = ['churn', 'gender'], columns = 'city', values = 'age', aggfunc = 'median')"
   ]
  },
  {
   "cell_type": "code",
   "execution_count": 37,
   "metadata": {},
   "outputs": [
    {
     "data": {
      "text/html": [
       "<div>\n",
       "<style scoped>\n",
       "    .dataframe tbody tr th:only-of-type {\n",
       "        vertical-align: middle;\n",
       "    }\n",
       "\n",
       "    .dataframe tbody tr th {\n",
       "        vertical-align: top;\n",
       "    }\n",
       "\n",
       "    .dataframe thead th {\n",
       "        text-align: right;\n",
       "    }\n",
       "</style>\n",
       "<table border=\"1\" class=\"dataframe\">\n",
       "  <thead>\n",
       "    <tr style=\"text-align: right;\">\n",
       "      <th></th>\n",
       "      <th>city</th>\n",
       "      <th>Ростов Великий</th>\n",
       "      <th>Рыбинск</th>\n",
       "      <th>Ярославль</th>\n",
       "    </tr>\n",
       "    <tr>\n",
       "      <th>churn</th>\n",
       "      <th>gender</th>\n",
       "      <th></th>\n",
       "      <th></th>\n",
       "      <th></th>\n",
       "    </tr>\n",
       "  </thead>\n",
       "  <tbody>\n",
       "    <tr>\n",
       "      <th rowspan=\"2\" valign=\"top\">0</th>\n",
       "      <th>Ж</th>\n",
       "      <td>745</td>\n",
       "      <td>858</td>\n",
       "      <td>1801</td>\n",
       "    </tr>\n",
       "    <tr>\n",
       "      <th>М</th>\n",
       "      <td>950</td>\n",
       "      <td>1206</td>\n",
       "      <td>2403</td>\n",
       "    </tr>\n",
       "    <tr>\n",
       "      <th rowspan=\"2\" valign=\"top\">1</th>\n",
       "      <th>Ж</th>\n",
       "      <td>448</td>\n",
       "      <td>231</td>\n",
       "      <td>460</td>\n",
       "    </tr>\n",
       "    <tr>\n",
       "      <th>М</th>\n",
       "      <td>366</td>\n",
       "      <td>182</td>\n",
       "      <td>350</td>\n",
       "    </tr>\n",
       "  </tbody>\n",
       "</table>\n",
       "</div>"
      ],
      "text/plain": [
       "city          Ростов Великий  Рыбинск  Ярославль\n",
       "churn gender                                    \n",
       "0     Ж                  745      858       1801\n",
       "      М                  950     1206       2403\n",
       "1     Ж                  448      231        460\n",
       "      М                  366      182        350"
      ]
     },
     "execution_count": 37,
     "metadata": {},
     "output_type": "execute_result"
    }
   ],
   "source": [
    "data_churn.pivot_table(index = ['churn', 'gender'], columns = 'city', values = 'user_id', aggfunc = 'count')"
   ]
  },
  {
   "cell_type": "markdown",
   "metadata": {},
   "source": [
    "В ситуации с возрастом уже видим, что распределения по тем, кто попал в отток и тем, кто не попал, различаются. В данном случае можно увидеть взаимосвязь между возрастом и оттоком. В отток в основном попадают клиенты 44-45 лет."
   ]
  },
  {
   "cell_type": "code",
   "execution_count": 38,
   "metadata": {},
   "outputs": [
    {
     "data": {
      "image/png": "[encoded data removed]",
      "text/plain": [
       "<Figure size 432x288 with 1 Axes>"
      ]
     },
     "metadata": {
      "needs_background": "light"
     },
     "output_type": "display_data"
    }
   ],
   "source": [
    "data_churn.query('churn == 0').objects.plot(kind='hist',bins=21, title='Зависимость количества объектов у клиента от факта попадания/не попадания в отток', label='не попали в отток')\n",
    "data_churn.query('churn == 1').objects.plot(kind='hist',bins=21,label='попали в отток', alpha=0.5)\n",
    "plt.legend()\n",
    "plt.show()"
   ]
  },
  {
   "cell_type": "code",
   "execution_count": 39,
   "metadata": {},
   "outputs": [
    {
     "data": {
      "text/plain": [
       "objects\n",
       "0     23.00%\n",
       "1     22.42%\n",
       "2     19.18%\n",
       "3     21.11%\n",
       "4     20.53%\n",
       "5     20.65%\n",
       "6     20.27%\n",
       "7     17.22%\n",
       "8     19.22%\n",
       "9     21.65%\n",
       "10    20.61%\n",
       "Name: user_id, dtype: object"
      ]
     },
     "execution_count": 39,
     "metadata": {},
     "output_type": "execute_result"
    }
   ],
   "source": [
    "(data_churn.query('churn == 1').groupby('objects')['user_id'].count()/data_churn.groupby('objects')['user_id'].count()).map(lambda n: '{:,.2%}'.format(n))"
   ]
  },
  {
   "cell_type": "markdown",
   "metadata": {},
   "source": [
    "По объектам - в каждом случае отток произошел примерно на 20%."
   ]
  },
  {
   "cell_type": "code",
   "execution_count": 40,
   "metadata": {},
   "outputs": [
    {
     "data": {
      "image/png": "[encoded data removed]",
      "text/plain": [
       "<Figure size 432x288 with 1 Axes>"
      ]
     },
     "metadata": {
      "needs_background": "light"
     },
     "output_type": "display_data"
    }
   ],
   "source": [
    "data_churn.query('churn == 0').balance.plot(kind='hist',bins=21, title='Зависимость баланса клиента от факта попадания/не попадания в отток', label='не попали в отток')\n",
    "data_churn.query('churn == 1').balance.plot(kind='hist',bins=21,label='попали в отток', alpha=0.5)\n",
    "plt.legend()\n",
    "plt.show()"
   ]
  },
  {
   "cell_type": "markdown",
   "metadata": {},
   "source": [
    "Распределения балансов очень похожи со схожими пиками, распределения похожи на нормальные."
   ]
  },
  {
   "cell_type": "code",
   "execution_count": 41,
   "metadata": {},
   "outputs": [
    {
     "data": {
      "image/png": "[encoded data removed]",
      "text/plain": [
       "<Figure size 432x288 with 1 Axes>"
      ]
     },
     "metadata": {
      "needs_background": "light"
     },
     "output_type": "display_data"
    }
   ],
   "source": [
    "data_churn.query('churn == 0').products.plot(kind='hist',bins=7, title='Зависимость количества продуктов, которыми пользуется клиент, от факта попадания/не попадания в отток', label='не попали в отток')\n",
    "data_churn.query('churn == 1').products.plot(kind='hist',bins=7,label='попали в отток', alpha=0.5)\n",
    "plt.legend()\n",
    "plt.show()"
   ]
  },
  {
   "cell_type": "code",
   "execution_count": 42,
   "metadata": {},
   "outputs": [
    {
     "data": {
      "text/plain": [
       "products\n",
       "1     27.71%\n",
       "2      7.58%\n",
       "3     82.71%\n",
       "4    100.00%\n",
       "Name: user_id, dtype: object"
      ]
     },
     "execution_count": 42,
     "metadata": {},
     "output_type": "execute_result"
    }
   ],
   "source": [
    "(data_churn.query('churn == 1').groupby('products')['user_id'].count()/data_churn.groupby('products')['user_id'].count()).map(lambda n: '{:,.2%}'.format(n))"
   ]
  },
  {
   "cell_type": "markdown",
   "metadata": {},
   "source": [
    "Сразу можно отметить, что изначально было очень мало клиентов, которые пользовались 3-4 продуктам. Клиенты, которые пользовались 4 продуктами, все попали в отток. Клиенты, которые пользовались 3 продуктам, попали в отток на ~на 83%. Можно предположить, что клиенты с количеством продуктов 3-4 участвовали в акции, а по истечению периода перестали пользоваться услугами банка. Также можно предположить, что доп. услуги были подключены клиентам случайно, с чем клиенты были не согласны и отказались от услуг банка. "
   ]
  },
  {
   "cell_type": "code",
   "execution_count": 43,
   "metadata": {},
   "outputs": [
    {
     "data": {
      "image/png": "[encoded data removed]",
      "text/plain": [
       "<Figure size 432x288 with 1 Axes>"
      ]
     },
     "metadata": {
      "needs_background": "light"
     },
     "output_type": "display_data"
    }
   ],
   "source": [
    "data_churn.query('churn == 0').credict_card.plot(kind='hist',bins=7, title='Зависимость наличия у клиента кредитной карты от факта попадания/не попадания в отток', label='не попали в отток')\n",
    "data_churn.query('churn == 1').credict_card.plot(kind='hist',bins=7,label='попали в отток', alpha=0.5)\n",
    "plt.legend()\n",
    "plt.show()"
   ]
  },
  {
   "cell_type": "code",
   "execution_count": 44,
   "metadata": {},
   "outputs": [
    {
     "data": {
      "text/plain": [
       "credict_card\n",
       "0    20.81%\n",
       "1    20.18%\n",
       "Name: user_id, dtype: object"
      ]
     },
     "execution_count": 44,
     "metadata": {},
     "output_type": "execute_result"
    }
   ],
   "source": [
    "(data_churn.query('churn == 1').groupby('credict_card')['user_id'].count()/data_churn.groupby('credict_card')['user_id'].count()).map(lambda n: '{:,.2%}'.format(n))"
   ]
  },
  {
   "cell_type": "markdown",
   "metadata": {},
   "source": [
    "В данном случае не вижу закономерности от наличия/отсутствия карты у клиента и попаданием/не попаданием в отток."
   ]
  },
  {
   "cell_type": "code",
   "execution_count": 45,
   "metadata": {},
   "outputs": [
    {
     "data": {
      "image/png": "[encoded data removed]",
      "text/plain": [
       "<Figure size 432x288 with 1 Axes>"
      ]
     },
     "metadata": {
      "needs_background": "light"
     },
     "output_type": "display_data"
    }
   ],
   "source": [
    "data_churn.query('churn == 0').loyalty.plot(kind='hist',bins=7, title='Зависимость статуса активности клиента от факта попадания/не попадания в отток', label='не попали в отток')\n",
    "data_churn.query('churn == 1').loyalty.plot(kind='hist',bins=7,label='попали в отток', alpha=0.5)\n",
    "plt.legend()\n",
    "plt.show()"
   ]
  },
  {
   "cell_type": "code",
   "execution_count": 46,
   "metadata": {},
   "outputs": [
    {
     "data": {
      "text/plain": [
       "loyalty\n",
       "0    26.85%\n",
       "1    14.27%\n",
       "Name: user_id, dtype: object"
      ]
     },
     "execution_count": 46,
     "metadata": {},
     "output_type": "execute_result"
    }
   ],
   "source": [
    "(data_churn.query('churn == 1').groupby('loyalty')['user_id'].count()/data_churn.groupby('loyalty')['user_id'].count()).map(lambda n: '{:,.2%}'.format(n))"
   ]
  },
  {
   "cell_type": "markdown",
   "metadata": {},
   "source": [
    "У клиентов, которые имеют статус активных отток произошел ~ на 14%, у неактивных клиентов ~ на 27%. В данном случае не совсем понятно как присваивался статус клиенту. В связи с этим не могу сказать, что есть четкая взаимосвязь между теми, кто попал/не попал в отток и статусом активности клиента."
   ]
  },
  {
   "cell_type": "code",
   "execution_count": 47,
   "metadata": {},
   "outputs": [
    {
     "data": {
      "text/plain": [
       "<AxesSubplot:title={'center':'estimated_salary'}, xlabel='churn'>"
      ]
     },
     "execution_count": 47,
     "metadata": {},
     "output_type": "execute_result"
    },
    {
     "data": {
      "image/png": "[encoded data removed]",
      "text/plain": [
       "<Figure size 360x360 with 1 Axes>"
      ]
     },
     "metadata": {
      "needs_background": "light"
     },
     "output_type": "display_data"
    }
   ],
   "source": [
    "data_churn.boxplot(column='estimated_salary', by='churn', figsize=(5,5))"
   ]
  },
  {
   "cell_type": "code",
   "execution_count": 48,
   "metadata": {},
   "outputs": [
    {
     "data": {
      "text/plain": [
       "count      7963.000000\n",
       "mean      99738.391772\n",
       "std       57405.586966\n",
       "min          90.070000\n",
       "25%       50783.490000\n",
       "50%       99645.040000\n",
       "75%      148609.955000\n",
       "max      199992.480000\n",
       "Name: estimated_salary, dtype: float64"
      ]
     },
     "execution_count": 48,
     "metadata": {},
     "output_type": "execute_result"
    }
   ],
   "source": [
    "data_churn.query('churn == 0')['estimated_salary'].describe()"
   ]
  },
  {
   "cell_type": "code",
   "execution_count": 49,
   "metadata": {},
   "outputs": [
    {
     "data": {
      "text/plain": [
       "count      2037.000000\n",
       "mean     101465.677531\n",
       "std       57912.418071\n",
       "min          11.580000\n",
       "25%       51907.720000\n",
       "50%      102460.840000\n",
       "75%      152422.910000\n",
       "max      199808.100000\n",
       "Name: estimated_salary, dtype: float64"
      ]
     },
     "execution_count": 49,
     "metadata": {},
     "output_type": "execute_result"
    }
   ],
   "source": [
    "data_churn.query('churn == 1')['estimated_salary'].describe()"
   ]
  },
  {
   "cell_type": "markdown",
   "metadata": {},
   "source": [
    "По графику и результатам метода describe, видим, что минимально, максимальное значения, среднее и значения квартилей похожи."
   ]
  },
  {
   "cell_type": "code",
   "execution_count": 50,
   "metadata": {},
   "outputs": [
    {
     "data": {
      "text/html": [
       "<div>\n",
       "<style scoped>\n",
       "    .dataframe tbody tr th:only-of-type {\n",
       "        vertical-align: middle;\n",
       "    }\n",
       "\n",
       "    .dataframe tbody tr th {\n",
       "        vertical-align: top;\n",
       "    }\n",
       "\n",
       "    .dataframe thead th {\n",
       "        text-align: right;\n",
       "    }\n",
       "</style>\n",
       "<table border=\"1\" class=\"dataframe\">\n",
       "  <thead>\n",
       "    <tr style=\"text-align: right;\">\n",
       "      <th></th>\n",
       "      <th></th>\n",
       "      <th>city</th>\n",
       "      <th>Ростов Великий</th>\n",
       "      <th>Рыбинск</th>\n",
       "      <th>Ярославль</th>\n",
       "    </tr>\n",
       "    <tr>\n",
       "      <th>churn</th>\n",
       "      <th>gender</th>\n",
       "      <th>products</th>\n",
       "      <th></th>\n",
       "      <th></th>\n",
       "      <th></th>\n",
       "    </tr>\n",
       "  </thead>\n",
       "  <tbody>\n",
       "    <tr>\n",
       "      <th rowspan=\"6\" valign=\"top\">0</th>\n",
       "      <th rowspan=\"3\" valign=\"top\">Ж</th>\n",
       "      <th>1</th>\n",
       "      <td>654.0</td>\n",
       "      <td>651.5</td>\n",
       "      <td>654.0</td>\n",
       "    </tr>\n",
       "    <tr>\n",
       "      <th>2</th>\n",
       "      <td>651.0</td>\n",
       "      <td>655.0</td>\n",
       "      <td>654.0</td>\n",
       "    </tr>\n",
       "    <tr>\n",
       "      <th>3</th>\n",
       "      <td>670.0</td>\n",
       "      <td>659.5</td>\n",
       "      <td>711.0</td>\n",
       "    </tr>\n",
       "    <tr>\n",
       "      <th rowspan=\"3\" valign=\"top\">М</th>\n",
       "      <th>1</th>\n",
       "      <td>649.5</td>\n",
       "      <td>651.0</td>\n",
       "      <td>656.0</td>\n",
       "    </tr>\n",
       "    <tr>\n",
       "      <th>2</th>\n",
       "      <td>659.0</td>\n",
       "      <td>649.0</td>\n",
       "      <td>655.0</td>\n",
       "    </tr>\n",
       "    <tr>\n",
       "      <th>3</th>\n",
       "      <td>644.0</td>\n",
       "      <td>639.0</td>\n",
       "      <td>684.0</td>\n",
       "    </tr>\n",
       "    <tr>\n",
       "      <th rowspan=\"8\" valign=\"top\">1</th>\n",
       "      <th rowspan=\"4\" valign=\"top\">Ж</th>\n",
       "      <th>1</th>\n",
       "      <td>655.0</td>\n",
       "      <td>652.5</td>\n",
       "      <td>649.0</td>\n",
       "    </tr>\n",
       "    <tr>\n",
       "      <th>2</th>\n",
       "      <td>644.0</td>\n",
       "      <td>646.0</td>\n",
       "      <td>645.5</td>\n",
       "    </tr>\n",
       "    <tr>\n",
       "      <th>3</th>\n",
       "      <td>649.0</td>\n",
       "      <td>645.0</td>\n",
       "      <td>618.5</td>\n",
       "    </tr>\n",
       "    <tr>\n",
       "      <th>4</th>\n",
       "      <td>613.5</td>\n",
       "      <td>698.0</td>\n",
       "      <td>653.0</td>\n",
       "    </tr>\n",
       "    <tr>\n",
       "      <th rowspan=\"4\" valign=\"top\">М</th>\n",
       "      <th>1</th>\n",
       "      <td>637.0</td>\n",
       "      <td>636.0</td>\n",
       "      <td>646.0</td>\n",
       "    </tr>\n",
       "    <tr>\n",
       "      <th>2</th>\n",
       "      <td>651.0</td>\n",
       "      <td>685.5</td>\n",
       "      <td>616.0</td>\n",
       "    </tr>\n",
       "    <tr>\n",
       "      <th>3</th>\n",
       "      <td>657.5</td>\n",
       "      <td>683.0</td>\n",
       "      <td>651.0</td>\n",
       "    </tr>\n",
       "    <tr>\n",
       "      <th>4</th>\n",
       "      <td>666.0</td>\n",
       "      <td>517.5</td>\n",
       "      <td>635.5</td>\n",
       "    </tr>\n",
       "  </tbody>\n",
       "</table>\n",
       "</div>"
      ],
      "text/plain": [
       "city                   Ростов Великий  Рыбинск  Ярославль\n",
       "churn gender products                                    \n",
       "0     Ж      1                  654.0    651.5      654.0\n",
       "             2                  651.0    655.0      654.0\n",
       "             3                  670.0    659.5      711.0\n",
       "      М      1                  649.5    651.0      656.0\n",
       "             2                  659.0    649.0      655.0\n",
       "             3                  644.0    639.0      684.0\n",
       "1     Ж      1                  655.0    652.5      649.0\n",
       "             2                  644.0    646.0      645.5\n",
       "             3                  649.0    645.0      618.5\n",
       "             4                  613.5    698.0      653.0\n",
       "      М      1                  637.0    636.0      646.0\n",
       "             2                  651.0    685.5      616.0\n",
       "             3                  657.5    683.0      651.0\n",
       "             4                  666.0    517.5      635.5"
      ]
     },
     "execution_count": 50,
     "metadata": {},
     "output_type": "execute_result"
    }
   ],
   "source": [
    "data_churn.pivot_table(index = ['churn', 'gender', 'products'], columns = 'city', values = 'score', aggfunc = 'median')"
   ]
  },
  {
   "cell_type": "markdown",
   "metadata": {},
   "source": [
    "Отдельно посмотрела средние значения по score в группировке по полу, городу и количеству продуктов. В целом не вижу сильных аномалий. Но есть бросающийся в глаза средний score по мужчинам из Рыбинска с 4 продуктами, который попал в отток."
   ]
  },
  {
   "cell_type": "code",
   "execution_count": 51,
   "metadata": {},
   "outputs": [
    {
     "data": {
      "text/html": [
       "<div>\n",
       "<style scoped>\n",
       "    .dataframe tbody tr th:only-of-type {\n",
       "        vertical-align: middle;\n",
       "    }\n",
       "\n",
       "    .dataframe tbody tr th {\n",
       "        vertical-align: top;\n",
       "    }\n",
       "\n",
       "    .dataframe thead th {\n",
       "        text-align: right;\n",
       "    }\n",
       "</style>\n",
       "<table border=\"1\" class=\"dataframe\">\n",
       "  <thead>\n",
       "    <tr style=\"text-align: right;\">\n",
       "      <th></th>\n",
       "      <th></th>\n",
       "      <th>city</th>\n",
       "      <th>Ростов Великий</th>\n",
       "      <th>Рыбинск</th>\n",
       "      <th>Ярославль</th>\n",
       "    </tr>\n",
       "    <tr>\n",
       "      <th>churn</th>\n",
       "      <th>gender</th>\n",
       "      <th>products</th>\n",
       "      <th></th>\n",
       "      <th></th>\n",
       "      <th></th>\n",
       "    </tr>\n",
       "  </thead>\n",
       "  <tbody>\n",
       "    <tr>\n",
       "      <th rowspan=\"6\" valign=\"top\">0</th>\n",
       "      <th rowspan=\"3\" valign=\"top\">Ж</th>\n",
       "      <th>1</th>\n",
       "      <td>112687.570</td>\n",
       "      <td>101570.170</td>\n",
       "      <td>93261.690</td>\n",
       "    </tr>\n",
       "    <tr>\n",
       "      <th>2</th>\n",
       "      <td>98175.740</td>\n",
       "      <td>101874.925</td>\n",
       "      <td>101778.900</td>\n",
       "    </tr>\n",
       "    <tr>\n",
       "      <th>3</th>\n",
       "      <td>176433.600</td>\n",
       "      <td>68389.230</td>\n",
       "      <td>81602.020</td>\n",
       "    </tr>\n",
       "    <tr>\n",
       "      <th rowspan=\"3\" valign=\"top\">М</th>\n",
       "      <th>1</th>\n",
       "      <td>94191.175</td>\n",
       "      <td>94906.550</td>\n",
       "      <td>97825.230</td>\n",
       "    </tr>\n",
       "    <tr>\n",
       "      <th>2</th>\n",
       "      <td>104936.880</td>\n",
       "      <td>96300.475</td>\n",
       "      <td>98570.010</td>\n",
       "    </tr>\n",
       "    <tr>\n",
       "      <th>3</th>\n",
       "      <td>63795.620</td>\n",
       "      <td>104331.980</td>\n",
       "      <td>81514.060</td>\n",
       "    </tr>\n",
       "    <tr>\n",
       "      <th rowspan=\"8\" valign=\"top\">1</th>\n",
       "      <th rowspan=\"4\" valign=\"top\">Ж</th>\n",
       "      <th>1</th>\n",
       "      <td>102628.560</td>\n",
       "      <td>111187.475</td>\n",
       "      <td>104469.060</td>\n",
       "    </tr>\n",
       "    <tr>\n",
       "      <th>2</th>\n",
       "      <td>99475.950</td>\n",
       "      <td>126241.400</td>\n",
       "      <td>94775.935</td>\n",
       "    </tr>\n",
       "    <tr>\n",
       "      <th>3</th>\n",
       "      <td>133556.940</td>\n",
       "      <td>112520.070</td>\n",
       "      <td>97485.440</td>\n",
       "    </tr>\n",
       "    <tr>\n",
       "      <th>4</th>\n",
       "      <td>116403.465</td>\n",
       "      <td>83866.350</td>\n",
       "      <td>129964.560</td>\n",
       "    </tr>\n",
       "    <tr>\n",
       "      <th rowspan=\"4\" valign=\"top\">М</th>\n",
       "      <th>1</th>\n",
       "      <td>88604.890</td>\n",
       "      <td>107415.020</td>\n",
       "      <td>100075.100</td>\n",
       "    </tr>\n",
       "    <tr>\n",
       "      <th>2</th>\n",
       "      <td>101300.940</td>\n",
       "      <td>81617.365</td>\n",
       "      <td>106977.530</td>\n",
       "    </tr>\n",
       "    <tr>\n",
       "      <th>3</th>\n",
       "      <td>87572.795</td>\n",
       "      <td>81054.000</td>\n",
       "      <td>123916.700</td>\n",
       "    </tr>\n",
       "    <tr>\n",
       "      <th>4</th>\n",
       "      <td>107598.130</td>\n",
       "      <td>120398.135</td>\n",
       "      <td>123046.875</td>\n",
       "    </tr>\n",
       "  </tbody>\n",
       "</table>\n",
       "</div>"
      ],
      "text/plain": [
       "city                   Ростов Великий     Рыбинск   Ярославль\n",
       "churn gender products                                        \n",
       "0     Ж      1             112687.570  101570.170   93261.690\n",
       "             2              98175.740  101874.925  101778.900\n",
       "             3             176433.600   68389.230   81602.020\n",
       "      М      1              94191.175   94906.550   97825.230\n",
       "             2             104936.880   96300.475   98570.010\n",
       "             3              63795.620  104331.980   81514.060\n",
       "1     Ж      1             102628.560  111187.475  104469.060\n",
       "             2              99475.950  126241.400   94775.935\n",
       "             3             133556.940  112520.070   97485.440\n",
       "             4             116403.465   83866.350  129964.560\n",
       "      М      1              88604.890  107415.020  100075.100\n",
       "             2             101300.940   81617.365  106977.530\n",
       "             3              87572.795   81054.000  123916.700\n",
       "             4             107598.130  120398.135  123046.875"
      ]
     },
     "execution_count": 51,
     "metadata": {},
     "output_type": "execute_result"
    }
   ],
   "source": [
    "data_churn.pivot_table(index = ['churn', 'gender', 'products'], columns = 'city', values = 'estimated_salary', aggfunc = 'median')"
   ]
  },
  {
   "cell_type": "markdown",
   "metadata": {},
   "source": [
    "Также если сделать ту же группировку по заработной плате, увидим, что клиенты, которые пользовались 4 продуктами и попали в отток имеют достаточно высокий уровень заработной платы."
   ]
  },
  {
   "cell_type": "markdown",
   "metadata": {},
   "source": [
    "Попробую разбить score на категории и сгруппировать по разным признакам."
   ]
  },
  {
   "cell_type": "code",
   "execution_count": 52,
   "metadata": {},
   "outputs": [
    {
     "data": {
      "text/plain": [
       "count    10000.000000\n",
       "mean       650.528800\n",
       "std         96.653299\n",
       "min        350.000000\n",
       "25%        584.000000\n",
       "50%        652.000000\n",
       "75%        718.000000\n",
       "max        850.000000\n",
       "Name: score, dtype: float64"
      ]
     },
     "execution_count": 52,
     "metadata": {},
     "output_type": "execute_result"
    }
   ],
   "source": [
    "data_churn['score'].describe()"
   ]
  },
  {
   "cell_type": "code",
   "execution_count": 53,
   "metadata": {},
   "outputs": [],
   "source": [
    "def score_status(score):\n",
    "    if score<584:\n",
    "        return 'низкий'\n",
    "    elif score>=584 and score<718:\n",
    "        return 'средний'\n",
    "    else:\n",
    "        return 'высокий'"
   ]
  },
  {
   "cell_type": "code",
   "execution_count": 54,
   "metadata": {},
   "outputs": [],
   "source": [
    "data_churn['score_status'] = data_churn['score'].apply(score_status)"
   ]
  },
  {
   "cell_type": "code",
   "execution_count": 55,
   "metadata": {},
   "outputs": [
    {
     "data": {
      "text/html": [
       "<div>\n",
       "<style scoped>\n",
       "    .dataframe tbody tr th:only-of-type {\n",
       "        vertical-align: middle;\n",
       "    }\n",
       "\n",
       "    .dataframe tbody tr th {\n",
       "        vertical-align: top;\n",
       "    }\n",
       "\n",
       "    .dataframe thead th {\n",
       "        text-align: right;\n",
       "    }\n",
       "</style>\n",
       "<table border=\"1\" class=\"dataframe\">\n",
       "  <thead>\n",
       "    <tr style=\"text-align: right;\">\n",
       "      <th>city</th>\n",
       "      <th>Ростов Великий</th>\n",
       "      <th>Рыбинск</th>\n",
       "      <th>Ярославль</th>\n",
       "    </tr>\n",
       "    <tr>\n",
       "      <th>score_status</th>\n",
       "      <th></th>\n",
       "      <th></th>\n",
       "      <th></th>\n",
       "    </tr>\n",
       "  </thead>\n",
       "  <tbody>\n",
       "    <tr>\n",
       "      <th>высокий</th>\n",
       "      <td>656</td>\n",
       "      <td>605</td>\n",
       "      <td>1240</td>\n",
       "    </tr>\n",
       "    <tr>\n",
       "      <th>низкий</th>\n",
       "      <td>616</td>\n",
       "      <td>592</td>\n",
       "      <td>1283</td>\n",
       "    </tr>\n",
       "    <tr>\n",
       "      <th>средний</th>\n",
       "      <td>1237</td>\n",
       "      <td>1280</td>\n",
       "      <td>2491</td>\n",
       "    </tr>\n",
       "  </tbody>\n",
       "</table>\n",
       "</div>"
      ],
      "text/plain": [
       "city          Ростов Великий  Рыбинск  Ярославль\n",
       "score_status                                    \n",
       "высокий                  656      605       1240\n",
       "низкий                   616      592       1283\n",
       "средний                 1237     1280       2491"
      ]
     },
     "execution_count": 55,
     "metadata": {},
     "output_type": "execute_result"
    }
   ],
   "source": [
    "data_churn.pivot_table(index = ['score_status'], columns = 'city', values = 'user_id', aggfunc = 'count')"
   ]
  },
  {
   "cell_type": "markdown",
   "metadata": {},
   "source": [
    "По всем городам больше всего клиентов со средним score."
   ]
  },
  {
   "cell_type": "code",
   "execution_count": 56,
   "metadata": {},
   "outputs": [
    {
     "data": {
      "text/html": [
       "<div>\n",
       "<style scoped>\n",
       "    .dataframe tbody tr th:only-of-type {\n",
       "        vertical-align: middle;\n",
       "    }\n",
       "\n",
       "    .dataframe tbody tr th {\n",
       "        vertical-align: top;\n",
       "    }\n",
       "\n",
       "    .dataframe thead th {\n",
       "        text-align: right;\n",
       "    }\n",
       "</style>\n",
       "<table border=\"1\" class=\"dataframe\">\n",
       "  <thead>\n",
       "    <tr style=\"text-align: right;\">\n",
       "      <th></th>\n",
       "      <th>city</th>\n",
       "      <th>Ростов Великий</th>\n",
       "      <th>Рыбинск</th>\n",
       "      <th>Ярославль</th>\n",
       "    </tr>\n",
       "    <tr>\n",
       "      <th>score_status</th>\n",
       "      <th>gender</th>\n",
       "      <th></th>\n",
       "      <th></th>\n",
       "      <th></th>\n",
       "    </tr>\n",
       "  </thead>\n",
       "  <tbody>\n",
       "    <tr>\n",
       "      <th rowspan=\"2\" valign=\"top\">высокий</th>\n",
       "      <th>Ж</th>\n",
       "      <td>38.0</td>\n",
       "      <td>38.0</td>\n",
       "      <td>37.0</td>\n",
       "    </tr>\n",
       "    <tr>\n",
       "      <th>М</th>\n",
       "      <td>37.0</td>\n",
       "      <td>38.0</td>\n",
       "      <td>36.0</td>\n",
       "    </tr>\n",
       "    <tr>\n",
       "      <th rowspan=\"2\" valign=\"top\">низкий</th>\n",
       "      <th>Ж</th>\n",
       "      <td>40.0</td>\n",
       "      <td>37.0</td>\n",
       "      <td>37.0</td>\n",
       "    </tr>\n",
       "    <tr>\n",
       "      <th>М</th>\n",
       "      <td>39.0</td>\n",
       "      <td>37.0</td>\n",
       "      <td>37.0</td>\n",
       "    </tr>\n",
       "    <tr>\n",
       "      <th rowspan=\"2\" valign=\"top\">средний</th>\n",
       "      <th>Ж</th>\n",
       "      <td>39.0</td>\n",
       "      <td>38.0</td>\n",
       "      <td>37.5</td>\n",
       "    </tr>\n",
       "    <tr>\n",
       "      <th>М</th>\n",
       "      <td>38.0</td>\n",
       "      <td>37.0</td>\n",
       "      <td>37.0</td>\n",
       "    </tr>\n",
       "  </tbody>\n",
       "</table>\n",
       "</div>"
      ],
      "text/plain": [
       "city                 Ростов Великий  Рыбинск  Ярославль\n",
       "score_status gender                                    \n",
       "высокий      Ж                 38.0     38.0       37.0\n",
       "             М                 37.0     38.0       36.0\n",
       "низкий       Ж                 40.0     37.0       37.0\n",
       "             М                 39.0     37.0       37.0\n",
       "средний      Ж                 39.0     38.0       37.5\n",
       "             М                 38.0     37.0       37.0"
      ]
     },
     "execution_count": 56,
     "metadata": {},
     "output_type": "execute_result"
    }
   ],
   "source": [
    "data_churn.pivot_table(index = ['score_status', 'gender'], columns = 'city', values = 'age', aggfunc = 'median')"
   ]
  },
  {
   "cell_type": "markdown",
   "metadata": {},
   "source": [
    "Средний возраст не отличается сильно в зависимости от score."
   ]
  },
  {
   "cell_type": "code",
   "execution_count": 57,
   "metadata": {},
   "outputs": [
    {
     "data": {
      "text/html": [
       "<div>\n",
       "<style scoped>\n",
       "    .dataframe tbody tr th:only-of-type {\n",
       "        vertical-align: middle;\n",
       "    }\n",
       "\n",
       "    .dataframe tbody tr th {\n",
       "        vertical-align: top;\n",
       "    }\n",
       "\n",
       "    .dataframe thead th {\n",
       "        text-align: right;\n",
       "    }\n",
       "</style>\n",
       "<table border=\"1\" class=\"dataframe\">\n",
       "  <thead>\n",
       "    <tr style=\"text-align: right;\">\n",
       "      <th></th>\n",
       "      <th>city</th>\n",
       "      <th>Ростов Великий</th>\n",
       "      <th>Рыбинск</th>\n",
       "      <th>Ярославль</th>\n",
       "    </tr>\n",
       "    <tr>\n",
       "      <th>score_status</th>\n",
       "      <th>gender</th>\n",
       "      <th></th>\n",
       "      <th></th>\n",
       "      <th></th>\n",
       "    </tr>\n",
       "  </thead>\n",
       "  <tbody>\n",
       "    <tr>\n",
       "      <th rowspan=\"2\" valign=\"top\">высокий</th>\n",
       "      <th>Ж</th>\n",
       "      <td>4.909677</td>\n",
       "      <td>5.148855</td>\n",
       "      <td>4.917117</td>\n",
       "    </tr>\n",
       "    <tr>\n",
       "      <th>М</th>\n",
       "      <td>5.017341</td>\n",
       "      <td>5.026239</td>\n",
       "      <td>5.131387</td>\n",
       "    </tr>\n",
       "    <tr>\n",
       "      <th rowspan=\"2\" valign=\"top\">низкий</th>\n",
       "      <th>Ж</th>\n",
       "      <td>4.880866</td>\n",
       "      <td>4.955466</td>\n",
       "      <td>5.035593</td>\n",
       "    </tr>\n",
       "    <tr>\n",
       "      <th>М</th>\n",
       "      <td>5.109145</td>\n",
       "      <td>4.872464</td>\n",
       "      <td>4.936508</td>\n",
       "    </tr>\n",
       "    <tr>\n",
       "      <th rowspan=\"2\" valign=\"top\">средний</th>\n",
       "      <th>Ж</th>\n",
       "      <td>5.033003</td>\n",
       "      <td>4.951724</td>\n",
       "      <td>4.921147</td>\n",
       "    </tr>\n",
       "    <tr>\n",
       "      <th>М</th>\n",
       "      <td>5.036450</td>\n",
       "      <td>5.164286</td>\n",
       "      <td>5.065455</td>\n",
       "    </tr>\n",
       "  </tbody>\n",
       "</table>\n",
       "</div>"
      ],
      "text/plain": [
       "city                 Ростов Великий   Рыбинск  Ярославль\n",
       "score_status gender                                     \n",
       "высокий      Ж             4.909677  5.148855   4.917117\n",
       "             М             5.017341  5.026239   5.131387\n",
       "низкий       Ж             4.880866  4.955466   5.035593\n",
       "             М             5.109145  4.872464   4.936508\n",
       "средний      Ж             5.033003  4.951724   4.921147\n",
       "             М             5.036450  5.164286   5.065455"
      ]
     },
     "execution_count": 57,
     "metadata": {},
     "output_type": "execute_result"
    }
   ],
   "source": [
    "data_churn.pivot_table(index = ['score_status', 'gender'], columns = 'city', values = 'objects', aggfunc = 'mean')"
   ]
  },
  {
   "cell_type": "markdown",
   "metadata": {},
   "source": [
    "Количество объектов в собственности не зависит от score."
   ]
  },
  {
   "cell_type": "markdown",
   "metadata": {},
   "source": [
    "Изучив ситуацию оттока по каждому признаку, в целом, думаю, что нет каких-либо аномалий, связанных с оттоком. Также практически не видна четкая взаимосвязь оттока от признаков. Но в целом по результатам анализа можно сказать, что на склонность к оттоку могут повлиять параметры города, пола и возраста."
   ]
  },
  {
   "cell_type": "markdown",
   "metadata": {},
   "source": [
    "### Кластеризация клиентов"
   ]
  },
  {
   "cell_type": "markdown",
   "metadata": {},
   "source": [
    "Далее проведу кластеризацию клиентов. Так как стандартизировать данные с пропусками не получится, столбец Balance не буду принимать во внимание.\n",
    "\n",
    "Также переведу значения категориальных переменных в числовые."
   ]
  },
  {
   "cell_type": "code",
   "execution_count": 58,
   "metadata": {},
   "outputs": [],
   "source": [
    "data_churn = data_churn.drop(['score_status'], axis = 1)"
   ]
  },
  {
   "cell_type": "code",
   "execution_count": 59,
   "metadata": {},
   "outputs": [
    {
     "name": "stdout",
     "output_type": "stream",
     "text": [
      "    user_id  score  age  objects    balance  products  credict_card  loyalty  \\\n",
      "0  15677338    619   42        2        NaN         1             1        1   \n",
      "1  15690047    608   41        1   83807.86         1             0        1   \n",
      "2  15662040    502   42        8  159660.80         3             1        0   \n",
      "3  15744090    699   39        1        NaN         2             0        0   \n",
      "4  15780624    850   43        2  125510.82         1             1        1   \n",
      "\n",
      "   estimated_salary  churn  city_Ростов Великий  city_Рыбинск  city_Ярославль  \\\n",
      "0         101348.88      1                    0             0               1   \n",
      "1         112542.58      0                    0             1               0   \n",
      "2         113931.57      1                    0             0               1   \n",
      "3          93826.63      0                    0             0               1   \n",
      "4          79084.10      0                    0             1               0   \n",
      "\n",
      "   gender_Ж  gender_М  \n",
      "0         1         0  \n",
      "1         1         0  \n",
      "2         1         0  \n",
      "3         1         0  \n",
      "4         1         0  \n"
     ]
    }
   ],
   "source": [
    "data_churn = pd.get_dummies(data_churn)\n",
    "print(data_churn.head())"
   ]
  },
  {
   "cell_type": "markdown",
   "metadata": {},
   "source": [
    "Далее построю матрицу корреляций прежде, чем проводить кластеризацию."
   ]
  },
  {
   "cell_type": "code",
   "execution_count": 60,
   "metadata": {},
   "outputs": [
    {
     "data": {
      "text/plain": [
       "<AxesSubplot:>"
      ]
     },
     "execution_count": 60,
     "metadata": {},
     "output_type": "execute_result"
    },
    {
     "data": {
      "image/png": "[encoded data removed]",
      "text/plain": [
       "<Figure size 1080x576 with 2 Axes>"
      ]
     },
     "metadata": {},
     "output_type": "display_data"
    }
   ],
   "source": [
    "corr_m = data_churn.corr()\n",
    "sns.set(rc = {'figure.figsize':(15,8)})\n",
    "sns.heatmap(corr_m, annot = True, fmt='.1g')"
   ]
  },
  {
   "cell_type": "markdown",
   "metadata": {},
   "source": [
    "По матрице корреляций видим, что есть мультиколлинеарные признаки, которые получились из-за перевода значений категориальных переменных в числовые. При запуске алгоритма буду учитывать женский пол и из городов - Ростов."
   ]
  },
  {
   "cell_type": "code",
   "execution_count": 61,
   "metadata": {},
   "outputs": [],
   "source": [
    "X = data_churn.drop(['churn', 'balance', 'gender_М', 'city_Рыбинск', 'city_Ярославль'], axis = 1)"
   ]
  },
  {
   "cell_type": "code",
   "execution_count": 62,
   "metadata": {},
   "outputs": [],
   "source": [
    "sc = StandardScaler()\n",
    "X_sc = sc.fit_transform(X)"
   ]
  },
  {
   "cell_type": "code",
   "execution_count": 63,
   "metadata": {},
   "outputs": [],
   "source": [
    "linked = linkage(X, method = 'ward') "
   ]
  },
  {
   "cell_type": "code",
   "execution_count": 64,
   "metadata": {},
   "outputs": [
    {
     "data": {
      "image/png": "[encoded data removed]",
      "text/plain": [
       "<Figure size 720x720 with 1 Axes>"
      ]
     },
     "metadata": {},
     "output_type": "display_data"
    }
   ],
   "source": [
    "plt.figure(figsize=(10, 10))  \n",
    "dendrogram(linked, orientation='top')\n",
    "plt.title('Hierarchial clustering')\n",
    "plt.show() "
   ]
  },
  {
   "cell_type": "code",
   "execution_count": 65,
   "metadata": {},
   "outputs": [],
   "source": [
    "km = KMeans(n_clusters = 7, random_state = 0)\n",
    "labels = km.fit_predict(X_sc)"
   ]
  },
  {
   "cell_type": "code",
   "execution_count": 66,
   "metadata": {},
   "outputs": [
    {
     "data": {
      "text/html": [
       "<div>\n",
       "<style scoped>\n",
       "    .dataframe tbody tr th:only-of-type {\n",
       "        vertical-align: middle;\n",
       "    }\n",
       "\n",
       "    .dataframe tbody tr th {\n",
       "        vertical-align: top;\n",
       "    }\n",
       "\n",
       "    .dataframe thead th {\n",
       "        text-align: right;\n",
       "    }\n",
       "</style>\n",
       "<table border=\"1\" class=\"dataframe\">\n",
       "  <thead>\n",
       "    <tr style=\"text-align: right;\">\n",
       "      <th></th>\n",
       "      <th>user_id</th>\n",
       "      <th>score</th>\n",
       "      <th>age</th>\n",
       "      <th>objects</th>\n",
       "      <th>balance</th>\n",
       "      <th>products</th>\n",
       "      <th>credict_card</th>\n",
       "      <th>loyalty</th>\n",
       "      <th>estimated_salary</th>\n",
       "      <th>churn</th>\n",
       "      <th>city_Ростов Великий</th>\n",
       "      <th>city_Рыбинск</th>\n",
       "      <th>city_Ярославль</th>\n",
       "      <th>gender_Ж</th>\n",
       "      <th>gender_М</th>\n",
       "    </tr>\n",
       "    <tr>\n",
       "      <th>clusters</th>\n",
       "      <th></th>\n",
       "      <th></th>\n",
       "      <th></th>\n",
       "      <th></th>\n",
       "      <th></th>\n",
       "      <th></th>\n",
       "      <th></th>\n",
       "      <th></th>\n",
       "      <th></th>\n",
       "      <th></th>\n",
       "      <th></th>\n",
       "      <th></th>\n",
       "      <th></th>\n",
       "      <th></th>\n",
       "      <th></th>\n",
       "    </tr>\n",
       "  </thead>\n",
       "  <tbody>\n",
       "    <tr>\n",
       "      <th>0</th>\n",
       "      <td>1.573552e+07</td>\n",
       "      <td>653.672131</td>\n",
       "      <td>36.148505</td>\n",
       "      <td>5.006750</td>\n",
       "      <td>118504.227625</td>\n",
       "      <td>1.542912</td>\n",
       "      <td>1.000000</td>\n",
       "      <td>1.000000</td>\n",
       "      <td>98315.744802</td>\n",
       "      <td>0.124397</td>\n",
       "      <td>0.000000</td>\n",
       "      <td>0.319190</td>\n",
       "      <td>0.680810</td>\n",
       "      <td>1.000000</td>\n",
       "      <td>0.000000</td>\n",
       "    </tr>\n",
       "    <tr>\n",
       "      <th>1</th>\n",
       "      <td>1.573443e+07</td>\n",
       "      <td>649.290607</td>\n",
       "      <td>36.622309</td>\n",
       "      <td>4.975049</td>\n",
       "      <td>120075.185183</td>\n",
       "      <td>1.545010</td>\n",
       "      <td>0.000000</td>\n",
       "      <td>0.491194</td>\n",
       "      <td>102122.825470</td>\n",
       "      <td>0.160470</td>\n",
       "      <td>0.000000</td>\n",
       "      <td>0.339530</td>\n",
       "      <td>0.660470</td>\n",
       "      <td>0.449609</td>\n",
       "      <td>0.550391</td>\n",
       "    </tr>\n",
       "    <tr>\n",
       "      <th>2</th>\n",
       "      <td>1.573099e+07</td>\n",
       "      <td>648.400884</td>\n",
       "      <td>36.565954</td>\n",
       "      <td>5.167281</td>\n",
       "      <td>123175.611931</td>\n",
       "      <td>1.504053</td>\n",
       "      <td>1.000000</td>\n",
       "      <td>0.000000</td>\n",
       "      <td>100265.469484</td>\n",
       "      <td>0.163596</td>\n",
       "      <td>0.000000</td>\n",
       "      <td>0.310980</td>\n",
       "      <td>0.689020</td>\n",
       "      <td>0.000000</td>\n",
       "      <td>1.000000</td>\n",
       "    </tr>\n",
       "    <tr>\n",
       "      <th>3</th>\n",
       "      <td>1.573210e+07</td>\n",
       "      <td>652.725684</td>\n",
       "      <td>35.568389</td>\n",
       "      <td>5.047112</td>\n",
       "      <td>119517.755814</td>\n",
       "      <td>1.522796</td>\n",
       "      <td>1.000000</td>\n",
       "      <td>1.000000</td>\n",
       "      <td>98888.452736</td>\n",
       "      <td>0.068389</td>\n",
       "      <td>0.000000</td>\n",
       "      <td>0.334347</td>\n",
       "      <td>0.665653</td>\n",
       "      <td>0.000000</td>\n",
       "      <td>1.000000</td>\n",
       "    </tr>\n",
       "    <tr>\n",
       "      <th>4</th>\n",
       "      <td>1.573549e+07</td>\n",
       "      <td>649.593131</td>\n",
       "      <td>63.346103</td>\n",
       "      <td>4.838838</td>\n",
       "      <td>118258.529701</td>\n",
       "      <td>1.483487</td>\n",
       "      <td>0.701453</td>\n",
       "      <td>0.885073</td>\n",
       "      <td>93773.567252</td>\n",
       "      <td>0.268164</td>\n",
       "      <td>0.187583</td>\n",
       "      <td>0.287979</td>\n",
       "      <td>0.524439</td>\n",
       "      <td>0.442536</td>\n",
       "      <td>0.557464</td>\n",
       "    </tr>\n",
       "    <tr>\n",
       "      <th>5</th>\n",
       "      <td>1.573486e+07</td>\n",
       "      <td>647.679144</td>\n",
       "      <td>37.409982</td>\n",
       "      <td>4.961676</td>\n",
       "      <td>118545.462962</td>\n",
       "      <td>1.574866</td>\n",
       "      <td>1.000000</td>\n",
       "      <td>0.000000</td>\n",
       "      <td>100730.516934</td>\n",
       "      <td>0.265597</td>\n",
       "      <td>0.000000</td>\n",
       "      <td>0.331551</td>\n",
       "      <td>0.668449</td>\n",
       "      <td>1.000000</td>\n",
       "      <td>0.000000</td>\n",
       "    </tr>\n",
       "    <tr>\n",
       "      <th>6</th>\n",
       "      <td>1.573350e+07</td>\n",
       "      <td>651.869455</td>\n",
       "      <td>38.242924</td>\n",
       "      <td>5.020279</td>\n",
       "      <td>119723.948940</td>\n",
       "      <td>1.524715</td>\n",
       "      <td>0.714829</td>\n",
       "      <td>0.474863</td>\n",
       "      <td>101396.806037</td>\n",
       "      <td>0.324039</td>\n",
       "      <td>1.000000</td>\n",
       "      <td>0.000000</td>\n",
       "      <td>0.000000</td>\n",
       "      <td>0.477398</td>\n",
       "      <td>0.522602</td>\n",
       "    </tr>\n",
       "  </tbody>\n",
       "</table>\n",
       "</div>"
      ],
      "text/plain": [
       "               user_id       score        age   objects        balance  \\\n",
       "clusters                                                                 \n",
       "0         1.573552e+07  653.672131  36.148505  5.006750  118504.227625   \n",
       "1         1.573443e+07  649.290607  36.622309  4.975049  120075.185183   \n",
       "2         1.573099e+07  648.400884  36.565954  5.167281  123175.611931   \n",
       "3         1.573210e+07  652.725684  35.568389  5.047112  119517.755814   \n",
       "4         1.573549e+07  649.593131  63.346103  4.838838  118258.529701   \n",
       "5         1.573486e+07  647.679144  37.409982  4.961676  118545.462962   \n",
       "6         1.573350e+07  651.869455  38.242924  5.020279  119723.948940   \n",
       "\n",
       "          products  credict_card   loyalty  estimated_salary     churn  \\\n",
       "clusters                                                                 \n",
       "0         1.542912      1.000000  1.000000      98315.744802  0.124397   \n",
       "1         1.545010      0.000000  0.491194     102122.825470  0.160470   \n",
       "2         1.504053      1.000000  0.000000     100265.469484  0.163596   \n",
       "3         1.522796      1.000000  1.000000      98888.452736  0.068389   \n",
       "4         1.483487      0.701453  0.885073      93773.567252  0.268164   \n",
       "5         1.574866      1.000000  0.000000     100730.516934  0.265597   \n",
       "6         1.524715      0.714829  0.474863     101396.806037  0.324039   \n",
       "\n",
       "          city_Ростов Великий  city_Рыбинск  city_Ярославль  gender_Ж  \\\n",
       "clusters                                                                \n",
       "0                    0.000000      0.319190        0.680810  1.000000   \n",
       "1                    0.000000      0.339530        0.660470  0.449609   \n",
       "2                    0.000000      0.310980        0.689020  0.000000   \n",
       "3                    0.000000      0.334347        0.665653  0.000000   \n",
       "4                    0.187583      0.287979        0.524439  0.442536   \n",
       "5                    0.000000      0.331551        0.668449  1.000000   \n",
       "6                    1.000000      0.000000        0.000000  0.477398   \n",
       "\n",
       "          gender_М  \n",
       "clusters            \n",
       "0         0.000000  \n",
       "1         0.550391  \n",
       "2         1.000000  \n",
       "3         1.000000  \n",
       "4         0.557464  \n",
       "5         0.000000  \n",
       "6         0.522602  "
      ]
     },
     "execution_count": 66,
     "metadata": {},
     "output_type": "execute_result"
    }
   ],
   "source": [
    "data_churn['clusters'] = labels\n",
    "data_churn.groupby('clusters').mean()"
   ]
  },
  {
   "cell_type": "markdown",
   "metadata": {},
   "source": [
    "Для кластеризации взяла число кластеров равное 7. Посмотрим на средние по кластерам. \n",
    "\n",
    "Параметры score, balance и salary не помогут определить закономерность оттока, они примерно одинаковы по кластерам.\n",
    "\n",
    "По кластеру 3 наименьший отток. В данном кластере только мужчины, в основном из города Ярославль, средний возраст 35.5 лет, в среднем 5 объектов в собственности, в среднем пользуются 1-2 продуктами, статус активный.\n",
    "\n",
    "Наибольший отток по кластеру 6. В данном кластере примерно одинаковое соотношение мужчин и женщин, город - Ростов, средний возраст - 38 лет, в среднем 5 объектов в собственности (как и у кластера 3), в среднем у большей части клиентов есть кредитная карта, по статусу почти у половины неактивный. "
   ]
  },
  {
   "cell_type": "markdown",
   "metadata": {},
   "source": [
    "## Проверка статистических гипотез\n",
    "<a id=\"hypothesis\"></a>"
   ]
  },
  {
   "cell_type": "markdown",
   "metadata": {},
   "source": [
    "Далее необходимо проверить статистические гипотезы.\n",
    "\n",
    "1. Гипотеза различия дохода между теми клиентами, которые ушли и теми, которые остались.\n",
    "\n",
    "Нулевая гипотеза - средний доход между теми клиентами, которые ушли и теми, которые остались, не различается. Альтернативная - средний доход между теми клиентами, которые ушли и теми, которые остались различается. Зададим уровень значимости 5%"
   ]
  },
  {
   "cell_type": "code",
   "execution_count": 67,
   "metadata": {},
   "outputs": [],
   "source": [
    "alpha = 0.05"
   ]
  },
  {
   "cell_type": "code",
   "execution_count": 68,
   "metadata": {},
   "outputs": [],
   "source": [
    "churn_yes = data_churn.query('churn==1')\n",
    "churn_no = data_churn.query('churn==0')\n",
    "churn_yes_salary = churn_yes['estimated_salary'].to_list()\n",
    "churn_no_salary = churn_no['estimated_salary'].to_list()"
   ]
  },
  {
   "cell_type": "code",
   "execution_count": 69,
   "metadata": {},
   "outputs": [
    {
     "name": "stdout",
     "output_type": "stream",
     "text": [
      "p-значение: 0.22644042802223346\n",
      "Не получилось отвергнуть нулевую гипотезу\n"
     ]
    }
   ],
   "source": [
    "results = st.ttest_ind(churn_yes_salary, churn_no_salary)\n",
    "\n",
    "print('p-значение:', results.pvalue)\n",
    "\n",
    "if results.pvalue < alpha:\n",
    "    print(\"Отвергаем нулевую гипотезу\")\n",
    "else:\n",
    "    print(\"Не получилось отвергнуть нулевую гипотезу\")"
   ]
  },
  {
   "cell_type": "markdown",
   "metadata": {},
   "source": [
    "По результатам теста не получилось отвергнуть нулевую гипотезу. Вывод: средний доход между теми клиентами, которые ушли и теми, которые остались, не различается. "
   ]
  },
  {
   "cell_type": "markdown",
   "metadata": {},
   "source": [
    "Далее проверю вторую гипотезу.\n",
    "\n",
    "2. Гипотеза различия баллов кредитного скоринга между теми клиентами, которые ушли и теми, которые остались.\n",
    "\n",
    "Нулевая гипотеза - среднее количество баллов кредитного скоринга между теми клиентами, которые ушли и теми, которые остались, не различается. Альтернативная - среднее количество баллов кредитного скоринга между теми клиентами, которые ушли и теми, которые остались различается. Зададим уровень значимости 5%."
   ]
  },
  {
   "cell_type": "code",
   "execution_count": 70,
   "metadata": {},
   "outputs": [],
   "source": [
    "churn_yes_score = churn_yes['score'].to_list()\n",
    "churn_no_score = churn_no['score'].to_list()"
   ]
  },
  {
   "cell_type": "code",
   "execution_count": 71,
   "metadata": {},
   "outputs": [
    {
     "name": "stdout",
     "output_type": "stream",
     "text": [
      "p-значение: 0.006738213892192373\n",
      "Отвергаем нулевую гипотезу\n"
     ]
    }
   ],
   "source": [
    "results = st.ttest_ind(churn_yes_score, churn_no_score)\n",
    "\n",
    "print('p-значение:', results.pvalue)\n",
    "\n",
    "if results.pvalue < alpha:\n",
    "    print(\"Отвергаем нулевую гипотезу\")\n",
    "else:\n",
    "    print(\"Не получилось отвергнуть нулевую гипотезу\")"
   ]
  },
  {
   "cell_type": "markdown",
   "metadata": {},
   "source": [
    "По результатам теста следует отвергнуть нулевую гипотезу. Но ранее по исследованию я не связывала количество баллов кредитного скорринга клиентов с оттоком. Еще раз посмотрю распределение, на этот раз с помощью boxplot."
   ]
  },
  {
   "cell_type": "code",
   "execution_count": 72,
   "metadata": {},
   "outputs": [
    {
     "data": {
      "text/plain": [
       "(350.0, 860.0)"
      ]
     },
     "execution_count": 72,
     "metadata": {},
     "output_type": "execute_result"
    },
    {
     "data": {
      "image/png": "[encoded data removed]",
      "text/plain": [
       "<Figure size 360x360 with 1 Axes>"
      ]
     },
     "metadata": {},
     "output_type": "display_data"
    }
   ],
   "source": [
    "data_churn.boxplot(column='score', by='churn', figsize=(5,5))\n",
    "plt.ylim(350,860)"
   ]
  },
  {
   "cell_type": "markdown",
   "metadata": {},
   "source": [
    "Ранее я отмечала, что есть расхождения в начале диапазонов по клиентам, попавшим в отток, и теми, кто не попал. По графику боксплота вижу, что есть выбросы по клиентам, которые попали в отток."
   ]
  },
  {
   "cell_type": "code",
   "execution_count": 73,
   "metadata": {},
   "outputs": [
    {
     "data": {
      "text/plain": [
       "count    2037.000000\n",
       "mean      645.351497\n",
       "std       100.321503\n",
       "min       350.000000\n",
       "25%       578.000000\n",
       "50%       646.000000\n",
       "75%       716.000000\n",
       "max       850.000000\n",
       "Name: score, dtype: float64"
      ]
     },
     "execution_count": 73,
     "metadata": {},
     "output_type": "execute_result"
    }
   ],
   "source": [
    "churn_yes['score'].describe()"
   ]
  },
  {
   "cell_type": "markdown",
   "metadata": {},
   "source": [
    "Попробую избавиться от выбросов и еще раз провести тест. "
   ]
  },
  {
   "cell_type": "code",
   "execution_count": 74,
   "metadata": {},
   "outputs": [
    {
     "name": "stdout",
     "output_type": "stream",
     "text": [
      "0.01    404\n",
      "0.99    850\n",
      "Name: score, dtype: int64\n"
     ]
    }
   ],
   "source": [
    "for_query = churn_yes['score'].quantile([0.01, 0.99], interpolation='nearest')\n",
    "print(for_query)"
   ]
  },
  {
   "cell_type": "markdown",
   "metadata": {},
   "source": [
    "Поставлю нижнюю границу на 380."
   ]
  },
  {
   "cell_type": "code",
   "execution_count": 75,
   "metadata": {},
   "outputs": [],
   "source": [
    "churn_yes = churn_yes.query('score > 380')"
   ]
  },
  {
   "cell_type": "code",
   "execution_count": 76,
   "metadata": {},
   "outputs": [],
   "source": [
    "churn_yes_score_new = churn_yes['score'].to_list()\n",
    "churn_no_score_new = churn_no['score'].to_list()"
   ]
  },
  {
   "cell_type": "code",
   "execution_count": 77,
   "metadata": {},
   "outputs": [
    {
     "name": "stdout",
     "output_type": "stream",
     "text": [
      "p-значение: 0.05855496567834601\n",
      "Не получилось отвергнуть нулевую гипотезу\n"
     ]
    }
   ],
   "source": [
    "results = st.ttest_ind(churn_yes_score_new, churn_no_score_new)\n",
    "\n",
    "print('p-значение:', results.pvalue)\n",
    "\n",
    "if results.pvalue < alpha:\n",
    "    print(\"Отвергаем нулевую гипотезу\")\n",
    "else:\n",
    "    print(\"Не получилось отвергнуть нулевую гипотезу\")"
   ]
  },
  {
   "cell_type": "markdown",
   "metadata": {},
   "source": [
    "После исключения выбросов результаты теста поменялись. По результатам теста не получилось отвергнуть нулевую гипотезу. Вывод: среднее количество баллов кредитного скоринга между теми клиентами, которые ушли и теми, которые остались, не различается."
   ]
  },
  {
   "cell_type": "markdown",
   "metadata": {},
   "source": [
    "## Выводы и рекомендации\n",
    "<a id=\"summary\"></a>"
   ]
  },
  {
   "cell_type": "markdown",
   "metadata": {},
   "source": [
    "Основные выводы:\n",
    "    \n",
    "В результате исследования был сформирован портрет клиентов, которые склонны уходить из банка.\n",
    "\n",
    " - средний возраст клиента - 44-45 лет\n",
    " - пол - скорее женский\n",
    " - город - Ростов Великий\n",
    " - в среднем имеет 5 объектов в собственности\n",
    " - в среднем у большей части клиентов есть кредитная карта\n",
    " - по статусу активности четких разграничений нет\n",
    "\n",
    "Портрет клиента, который не склонен попадать в отток будет выглядеть следующим образом:\n",
    "\n",
    " - средний возраст - 36 лет\n",
    " - пол - мужской\n",
    " - город - Ярославль\n",
    " - в среднем имеет 5 объектов в собственности\n",
    " - в среднем у большей части клиентов есть кредитная карта\n",
    " - статус активный"
   ]
  },
  {
   "cell_type": "markdown",
   "metadata": {},
   "source": [
    "Основные рекомендации:\n",
    "    \n",
    "На основе полученных выводов можно дать следующие рекомендации.\n",
    "\n",
    "- с целью удержания аудитории 44-45 лет для данной категории клиентов давать дополнительные инструкции по использованию продуктов, обеспечить простоту их использования. Также можно предложить дополнительную страховку или продукт по управлению пенсионными накоплениями. \n",
    "- так как женщины более склонны к оттоку, разработать продукт под данную аудиторию, например, кредитные продукты для женщин-предпринимателей. Также можно разработать кобрендовые карты в зависимости от потребностей клиенток банка.\n",
    "- пересмотреть необходимость филиала в Ростове, так как наибольший отток произошел оттуда. Население Ростова сравнительно меньше двух других городов, поэтому стоит обратить внимание на целесообразность обеспечения функционирования филиала."
   ]
  }
 ],
 "metadata": {
  "ExecuteTimeLog": [
   {
    "duration": 1521,
    "start_time": "2022-06-01T17:14:35.756Z"
   },
   {
    "duration": 51,
    "start_time": "2022-06-01T17:16:19.020Z"
   },
   {
    "duration": 16,
    "start_time": "2022-06-01T17:16:58.211Z"
   },
   {
    "duration": 14,
    "start_time": "2022-06-01T17:17:21.326Z"
   },
   {
    "duration": 11,
    "start_time": "2022-06-01T17:21:47.306Z"
   },
   {
    "duration": 4,
    "start_time": "2022-06-01T17:22:44.972Z"
   },
   {
    "duration": 4,
    "start_time": "2022-06-01T17:22:54.707Z"
   },
   {
    "duration": 306,
    "start_time": "2022-06-01T17:25:39.529Z"
   },
   {
    "duration": 23,
    "start_time": "2022-06-01T17:26:54.934Z"
   },
   {
    "duration": 6,
    "start_time": "2022-06-01T17:27:15.988Z"
   },
   {
    "duration": 3,
    "start_time": "2022-06-01T17:27:20.564Z"
   },
   {
    "duration": 4,
    "start_time": "2022-06-01T17:27:26.314Z"
   },
   {
    "duration": 5,
    "start_time": "2022-06-01T17:28:00.837Z"
   },
   {
    "duration": 11,
    "start_time": "2022-06-01T17:28:07.628Z"
   },
   {
    "duration": 11,
    "start_time": "2022-06-01T17:28:17.735Z"
   },
   {
    "duration": 5,
    "start_time": "2022-06-01T17:29:00.104Z"
   },
   {
    "duration": 3,
    "start_time": "2022-06-01T17:29:09.871Z"
   },
   {
    "duration": 6,
    "start_time": "2022-06-01T17:37:33.970Z"
   },
   {
    "duration": 12,
    "start_time": "2022-06-01T17:37:37.618Z"
   },
   {
    "duration": 16,
    "start_time": "2022-06-01T17:37:40.096Z"
   },
   {
    "duration": 9,
    "start_time": "2022-06-01T17:38:58.647Z"
   },
   {
    "duration": 1426,
    "start_time": "2022-06-01T17:39:22.673Z"
   },
   {
    "duration": 94,
    "start_time": "2022-06-01T17:39:24.101Z"
   },
   {
    "duration": 15,
    "start_time": "2022-06-01T17:39:24.197Z"
   },
   {
    "duration": 16,
    "start_time": "2022-06-01T17:39:24.214Z"
   },
   {
    "duration": 13,
    "start_time": "2022-06-01T17:39:24.235Z"
   },
   {
    "duration": 5,
    "start_time": "2022-06-01T17:39:24.249Z"
   },
   {
    "duration": 10,
    "start_time": "2022-06-01T17:39:24.255Z"
   },
   {
    "duration": 4,
    "start_time": "2022-06-01T17:39:24.266Z"
   },
   {
    "duration": 13,
    "start_time": "2022-06-01T17:39:24.272Z"
   },
   {
    "duration": 111,
    "start_time": "2022-06-01T17:40:44.429Z"
   },
   {
    "duration": 13,
    "start_time": "2022-06-01T17:41:47.727Z"
   },
   {
    "duration": 12,
    "start_time": "2022-06-01T17:42:02.436Z"
   },
   {
    "duration": 8,
    "start_time": "2022-06-01T17:42:12.308Z"
   },
   {
    "duration": 8,
    "start_time": "2022-06-01T17:42:22.675Z"
   },
   {
    "duration": 6,
    "start_time": "2022-06-01T17:43:37.808Z"
   },
   {
    "duration": 7,
    "start_time": "2022-06-01T17:44:01.934Z"
   },
   {
    "duration": 6,
    "start_time": "2022-06-01T17:44:14.290Z"
   },
   {
    "duration": 6,
    "start_time": "2022-06-01T17:45:04.094Z"
   },
   {
    "duration": 15,
    "start_time": "2022-06-01T17:45:23.388Z"
   },
   {
    "duration": 4,
    "start_time": "2022-06-01T17:45:44.437Z"
   },
   {
    "duration": 1345,
    "start_time": "2022-06-01T17:45:51.703Z"
   },
   {
    "duration": 58,
    "start_time": "2022-06-01T17:45:53.050Z"
   },
   {
    "duration": 22,
    "start_time": "2022-06-01T17:45:53.111Z"
   },
   {
    "duration": 24,
    "start_time": "2022-06-01T17:45:53.135Z"
   },
   {
    "duration": 7,
    "start_time": "2022-06-01T17:45:53.162Z"
   },
   {
    "duration": 8,
    "start_time": "2022-06-01T17:45:53.171Z"
   },
   {
    "duration": 14,
    "start_time": "2022-06-01T17:45:53.182Z"
   },
   {
    "duration": 7,
    "start_time": "2022-06-01T17:45:53.197Z"
   },
   {
    "duration": 23,
    "start_time": "2022-06-01T17:45:53.205Z"
   },
   {
    "duration": 21,
    "start_time": "2022-06-01T17:45:53.230Z"
   },
   {
    "duration": 10,
    "start_time": "2022-06-01T17:45:53.253Z"
   },
   {
    "duration": 11,
    "start_time": "2022-06-01T17:45:53.265Z"
   },
   {
    "duration": 12,
    "start_time": "2022-06-01T17:45:53.277Z"
   },
   {
    "duration": 7,
    "start_time": "2022-06-01T17:45:53.292Z"
   },
   {
    "duration": 6,
    "start_time": "2022-06-01T17:46:24.502Z"
   },
   {
    "duration": 6,
    "start_time": "2022-06-01T17:50:00.194Z"
   },
   {
    "duration": 38,
    "start_time": "2022-06-01T17:53:58.116Z"
   },
   {
    "duration": 7,
    "start_time": "2022-06-01T17:54:36.036Z"
   },
   {
    "duration": 6,
    "start_time": "2022-06-01T17:54:55.756Z"
   },
   {
    "duration": 8,
    "start_time": "2022-06-01T17:55:15.138Z"
   },
   {
    "duration": 10,
    "start_time": "2022-06-01T17:55:37.180Z"
   },
   {
    "duration": 12,
    "start_time": "2022-06-01T17:55:49.544Z"
   },
   {
    "duration": 12,
    "start_time": "2022-06-01T17:56:11.593Z"
   },
   {
    "duration": 8,
    "start_time": "2022-06-01T17:56:48.386Z"
   },
   {
    "duration": 15,
    "start_time": "2022-06-01T17:57:19.216Z"
   },
   {
    "duration": 9,
    "start_time": "2022-06-01T17:57:42.080Z"
   },
   {
    "duration": 116,
    "start_time": "2022-06-01T17:59:02.175Z"
   },
   {
    "duration": 23,
    "start_time": "2022-06-01T17:59:20.817Z"
   },
   {
    "duration": 63,
    "start_time": "2022-06-01T18:00:06.687Z"
   },
   {
    "duration": 22,
    "start_time": "2022-06-01T18:00:11.428Z"
   },
   {
    "duration": 22,
    "start_time": "2022-06-01T18:00:34.116Z"
   },
   {
    "duration": 11,
    "start_time": "2022-06-01T18:02:13.843Z"
   },
   {
    "duration": 7,
    "start_time": "2022-06-01T18:02:48.057Z"
   },
   {
    "duration": 7,
    "start_time": "2022-06-01T18:03:23.766Z"
   },
   {
    "duration": 1271,
    "start_time": "2022-06-01T18:09:18.844Z"
   },
   {
    "duration": 54,
    "start_time": "2022-06-01T18:09:20.117Z"
   },
   {
    "duration": 16,
    "start_time": "2022-06-01T18:09:20.173Z"
   },
   {
    "duration": 11,
    "start_time": "2022-06-01T18:09:20.190Z"
   },
   {
    "duration": 6,
    "start_time": "2022-06-01T18:09:20.203Z"
   },
   {
    "duration": 4,
    "start_time": "2022-06-01T18:09:20.210Z"
   },
   {
    "duration": 144,
    "start_time": "2022-06-01T18:09:20.223Z"
   },
   {
    "duration": 0,
    "start_time": "2022-06-01T18:09:20.371Z"
   },
   {
    "duration": 0,
    "start_time": "2022-06-01T18:09:20.373Z"
   },
   {
    "duration": 0,
    "start_time": "2022-06-01T18:09:20.374Z"
   },
   {
    "duration": 1,
    "start_time": "2022-06-01T18:09:20.375Z"
   },
   {
    "duration": 0,
    "start_time": "2022-06-01T18:09:20.376Z"
   },
   {
    "duration": 0,
    "start_time": "2022-06-01T18:09:20.377Z"
   },
   {
    "duration": 11,
    "start_time": "2022-06-01T18:09:45.800Z"
   },
   {
    "duration": 4,
    "start_time": "2022-06-01T18:10:01.179Z"
   },
   {
    "duration": 13,
    "start_time": "2022-06-01T18:10:06.315Z"
   },
   {
    "duration": 1298,
    "start_time": "2022-06-01T18:10:38.218Z"
   },
   {
    "duration": 54,
    "start_time": "2022-06-01T18:10:39.518Z"
   },
   {
    "duration": 15,
    "start_time": "2022-06-01T18:10:39.574Z"
   },
   {
    "duration": 13,
    "start_time": "2022-06-01T18:10:39.590Z"
   },
   {
    "duration": 4,
    "start_time": "2022-06-01T18:10:39.604Z"
   },
   {
    "duration": 3,
    "start_time": "2022-06-01T18:10:39.610Z"
   },
   {
    "duration": 160,
    "start_time": "2022-06-01T18:10:39.614Z"
   },
   {
    "duration": 0,
    "start_time": "2022-06-01T18:10:39.775Z"
   },
   {
    "duration": 0,
    "start_time": "2022-06-01T18:10:39.776Z"
   },
   {
    "duration": 0,
    "start_time": "2022-06-01T18:10:39.778Z"
   },
   {
    "duration": 0,
    "start_time": "2022-06-01T18:10:39.779Z"
   },
   {
    "duration": 0,
    "start_time": "2022-06-01T18:10:39.779Z"
   },
   {
    "duration": 0,
    "start_time": "2022-06-01T18:10:39.780Z"
   },
   {
    "duration": 1305,
    "start_time": "2022-06-01T18:11:33.403Z"
   },
   {
    "duration": 58,
    "start_time": "2022-06-01T18:11:34.710Z"
   },
   {
    "duration": 15,
    "start_time": "2022-06-01T18:11:34.769Z"
   },
   {
    "duration": 15,
    "start_time": "2022-06-01T18:11:34.785Z"
   },
   {
    "duration": 4,
    "start_time": "2022-06-01T18:11:34.801Z"
   },
   {
    "duration": 9,
    "start_time": "2022-06-01T18:11:34.807Z"
   },
   {
    "duration": 9,
    "start_time": "2022-06-01T18:11:34.818Z"
   },
   {
    "duration": 4,
    "start_time": "2022-06-01T18:11:34.829Z"
   },
   {
    "duration": 20,
    "start_time": "2022-06-01T18:11:34.836Z"
   },
   {
    "duration": 14,
    "start_time": "2022-06-01T18:11:34.857Z"
   },
   {
    "duration": 8,
    "start_time": "2022-06-01T18:11:34.872Z"
   },
   {
    "duration": 7,
    "start_time": "2022-06-01T18:11:34.882Z"
   },
   {
    "duration": 33,
    "start_time": "2022-06-01T18:11:34.891Z"
   },
   {
    "duration": 13,
    "start_time": "2022-06-01T18:21:25.188Z"
   },
   {
    "duration": 11,
    "start_time": "2022-06-01T18:21:59.645Z"
   },
   {
    "duration": 9,
    "start_time": "2022-06-01T18:22:05.874Z"
   },
   {
    "duration": 15,
    "start_time": "2022-06-01T18:23:04.148Z"
   },
   {
    "duration": 16,
    "start_time": "2022-06-01T18:26:30.029Z"
   },
   {
    "duration": 15,
    "start_time": "2022-06-01T18:27:20.479Z"
   },
   {
    "duration": 15,
    "start_time": "2022-06-01T18:27:51.743Z"
   },
   {
    "duration": 15,
    "start_time": "2022-06-01T18:28:17.451Z"
   },
   {
    "duration": 22,
    "start_time": "2022-06-01T18:28:56.849Z"
   },
   {
    "duration": 15,
    "start_time": "2022-06-01T18:29:11.188Z"
   },
   {
    "duration": 1604,
    "start_time": "2022-06-04T07:06:33.278Z"
   },
   {
    "duration": 118,
    "start_time": "2022-06-04T07:06:34.885Z"
   },
   {
    "duration": 19,
    "start_time": "2022-06-04T07:06:35.005Z"
   },
   {
    "duration": 17,
    "start_time": "2022-06-04T07:06:35.026Z"
   },
   {
    "duration": 5,
    "start_time": "2022-06-04T07:06:35.045Z"
   },
   {
    "duration": 8,
    "start_time": "2022-06-04T07:06:35.052Z"
   },
   {
    "duration": 35,
    "start_time": "2022-06-04T07:06:35.063Z"
   },
   {
    "duration": 5,
    "start_time": "2022-06-04T07:06:35.099Z"
   },
   {
    "duration": 16,
    "start_time": "2022-06-04T07:06:35.106Z"
   },
   {
    "duration": 19,
    "start_time": "2022-06-04T07:06:35.124Z"
   },
   {
    "duration": 9,
    "start_time": "2022-06-04T07:06:35.145Z"
   },
   {
    "duration": 10,
    "start_time": "2022-06-04T07:06:35.190Z"
   },
   {
    "duration": 9,
    "start_time": "2022-06-04T07:06:35.203Z"
   },
   {
    "duration": 10,
    "start_time": "2022-06-04T07:06:35.215Z"
   },
   {
    "duration": 195,
    "start_time": "2022-06-04T07:06:35.227Z"
   },
   {
    "duration": 0,
    "start_time": "2022-06-04T07:06:35.424Z"
   },
   {
    "duration": 1638,
    "start_time": "2022-06-04T07:14:01.680Z"
   },
   {
    "duration": 98,
    "start_time": "2022-06-04T07:14:03.320Z"
   },
   {
    "duration": 18,
    "start_time": "2022-06-04T07:14:03.420Z"
   },
   {
    "duration": 15,
    "start_time": "2022-06-04T07:14:03.440Z"
   },
   {
    "duration": 34,
    "start_time": "2022-06-04T07:14:03.457Z"
   },
   {
    "duration": 4,
    "start_time": "2022-06-04T07:14:03.494Z"
   },
   {
    "duration": 14,
    "start_time": "2022-06-04T07:14:03.501Z"
   },
   {
    "duration": 227,
    "start_time": "2022-06-04T07:14:03.517Z"
   },
   {
    "duration": 0,
    "start_time": "2022-06-04T07:14:03.747Z"
   },
   {
    "duration": 0,
    "start_time": "2022-06-04T07:14:03.748Z"
   },
   {
    "duration": 0,
    "start_time": "2022-06-04T07:14:03.751Z"
   },
   {
    "duration": 0,
    "start_time": "2022-06-04T07:14:03.753Z"
   },
   {
    "duration": 0,
    "start_time": "2022-06-04T07:14:03.755Z"
   },
   {
    "duration": 0,
    "start_time": "2022-06-04T07:14:03.756Z"
   },
   {
    "duration": 0,
    "start_time": "2022-06-04T07:14:03.758Z"
   },
   {
    "duration": 0,
    "start_time": "2022-06-04T07:14:03.760Z"
   },
   {
    "duration": 0,
    "start_time": "2022-06-04T07:14:03.762Z"
   },
   {
    "duration": 12,
    "start_time": "2022-06-04T07:16:51.965Z"
   },
   {
    "duration": 3,
    "start_time": "2022-06-04T07:20:43.262Z"
   },
   {
    "duration": 4,
    "start_time": "2022-06-04T07:21:03.459Z"
   },
   {
    "duration": 8,
    "start_time": "2022-06-04T07:21:09.741Z"
   },
   {
    "duration": 14,
    "start_time": "2022-06-04T07:21:17.583Z"
   },
   {
    "duration": 4,
    "start_time": "2022-06-04T07:21:46.592Z"
   },
   {
    "duration": 6,
    "start_time": "2022-06-04T07:22:18.358Z"
   },
   {
    "duration": 5,
    "start_time": "2022-06-04T07:22:27.794Z"
   },
   {
    "duration": 17,
    "start_time": "2022-06-04T07:23:18.314Z"
   },
   {
    "duration": 6,
    "start_time": "2022-06-04T07:26:29.291Z"
   },
   {
    "duration": 6,
    "start_time": "2022-06-04T07:26:41.103Z"
   },
   {
    "duration": 6,
    "start_time": "2022-06-04T07:28:02.756Z"
   },
   {
    "duration": 6,
    "start_time": "2022-06-04T07:30:14.989Z"
   },
   {
    "duration": 4,
    "start_time": "2022-06-04T07:30:22.792Z"
   },
   {
    "duration": 6,
    "start_time": "2022-06-04T07:34:53.160Z"
   },
   {
    "duration": 5,
    "start_time": "2022-06-04T07:35:02.504Z"
   },
   {
    "duration": 5,
    "start_time": "2022-06-04T07:37:10.791Z"
   },
   {
    "duration": 14,
    "start_time": "2022-06-04T07:38:07.244Z"
   },
   {
    "duration": 407,
    "start_time": "2022-06-04T07:38:23.733Z"
   },
   {
    "duration": 287,
    "start_time": "2022-06-04T07:39:41.360Z"
   },
   {
    "duration": 286,
    "start_time": "2022-06-04T07:40:02.419Z"
   },
   {
    "duration": 6,
    "start_time": "2022-06-04T07:41:42.761Z"
   },
   {
    "duration": 5,
    "start_time": "2022-06-04T07:41:46.159Z"
   },
   {
    "duration": 6,
    "start_time": "2022-06-04T07:42:07.141Z"
   },
   {
    "duration": 13,
    "start_time": "2022-06-04T07:42:30.956Z"
   },
   {
    "duration": 5,
    "start_time": "2022-06-04T07:42:53.741Z"
   },
   {
    "duration": 6,
    "start_time": "2022-06-04T07:42:55.412Z"
   },
   {
    "duration": 6,
    "start_time": "2022-06-04T07:43:44.748Z"
   },
   {
    "duration": 5,
    "start_time": "2022-06-04T07:43:54.294Z"
   },
   {
    "duration": 6,
    "start_time": "2022-06-04T07:44:07.255Z"
   },
   {
    "duration": 282,
    "start_time": "2022-06-04T07:45:30.512Z"
   },
   {
    "duration": 276,
    "start_time": "2022-06-04T07:46:05.694Z"
   },
   {
    "duration": 1390,
    "start_time": "2022-06-04T07:48:21.237Z"
   },
   {
    "duration": 391,
    "start_time": "2022-06-04T07:48:22.629Z"
   },
   {
    "duration": 29,
    "start_time": "2022-06-04T07:48:23.022Z"
   },
   {
    "duration": 26,
    "start_time": "2022-06-04T07:48:23.053Z"
   },
   {
    "duration": 4,
    "start_time": "2022-06-04T07:48:23.081Z"
   },
   {
    "duration": 5,
    "start_time": "2022-06-04T07:48:23.087Z"
   },
   {
    "duration": 14,
    "start_time": "2022-06-04T07:48:23.094Z"
   },
   {
    "duration": 11,
    "start_time": "2022-06-04T07:48:23.109Z"
   },
   {
    "duration": 14,
    "start_time": "2022-06-04T07:48:23.122Z"
   },
   {
    "duration": 10,
    "start_time": "2022-06-04T07:48:23.137Z"
   },
   {
    "duration": 5,
    "start_time": "2022-06-04T07:48:23.149Z"
   },
   {
    "duration": 13,
    "start_time": "2022-06-04T07:48:23.156Z"
   },
   {
    "duration": 384,
    "start_time": "2022-06-04T07:48:23.172Z"
   },
   {
    "duration": 291,
    "start_time": "2022-06-04T07:48:23.559Z"
   },
   {
    "duration": 4,
    "start_time": "2022-06-04T07:48:23.852Z"
   },
   {
    "duration": 24,
    "start_time": "2022-06-04T07:48:23.858Z"
   },
   {
    "duration": 7,
    "start_time": "2022-06-04T07:48:23.883Z"
   },
   {
    "duration": 0,
    "start_time": "2022-06-04T07:48:23.891Z"
   },
   {
    "duration": 0,
    "start_time": "2022-06-04T07:48:23.893Z"
   },
   {
    "duration": 0,
    "start_time": "2022-06-04T07:48:23.894Z"
   },
   {
    "duration": 0,
    "start_time": "2022-06-04T07:48:23.895Z"
   },
   {
    "duration": 0,
    "start_time": "2022-06-04T07:48:23.896Z"
   },
   {
    "duration": 0,
    "start_time": "2022-06-04T07:48:23.897Z"
   },
   {
    "duration": 0,
    "start_time": "2022-06-04T07:48:23.898Z"
   },
   {
    "duration": 0,
    "start_time": "2022-06-04T07:48:23.900Z"
   },
   {
    "duration": 0,
    "start_time": "2022-06-04T07:48:23.901Z"
   },
   {
    "duration": 0,
    "start_time": "2022-06-04T07:48:23.902Z"
   },
   {
    "duration": 0,
    "start_time": "2022-06-04T07:48:23.902Z"
   },
   {
    "duration": 0,
    "start_time": "2022-06-04T07:48:23.903Z"
   },
   {
    "duration": 0,
    "start_time": "2022-06-04T07:48:23.904Z"
   },
   {
    "duration": 0,
    "start_time": "2022-06-04T07:48:23.905Z"
   },
   {
    "duration": 0,
    "start_time": "2022-06-04T07:48:23.906Z"
   },
   {
    "duration": 4,
    "start_time": "2022-06-04T07:48:52.318Z"
   },
   {
    "duration": 130,
    "start_time": "2022-06-04T07:50:09.302Z"
   },
   {
    "duration": 10,
    "start_time": "2022-06-04T07:52:17.102Z"
   },
   {
    "duration": 6,
    "start_time": "2022-06-04T07:52:22.643Z"
   },
   {
    "duration": 6,
    "start_time": "2022-06-04T07:52:43.859Z"
   },
   {
    "duration": 7,
    "start_time": "2022-06-04T07:52:49.539Z"
   },
   {
    "duration": 4,
    "start_time": "2022-06-04T07:52:58.762Z"
   },
   {
    "duration": 5,
    "start_time": "2022-06-04T07:53:08.499Z"
   },
   {
    "duration": 7,
    "start_time": "2022-06-04T07:53:22.057Z"
   },
   {
    "duration": 7,
    "start_time": "2022-06-04T07:53:27.722Z"
   },
   {
    "duration": 6,
    "start_time": "2022-06-04T07:53:37.969Z"
   },
   {
    "duration": 1459,
    "start_time": "2022-06-04T07:53:48.251Z"
   },
   {
    "duration": 75,
    "start_time": "2022-06-04T07:53:49.712Z"
   },
   {
    "duration": 20,
    "start_time": "2022-06-04T07:53:49.790Z"
   },
   {
    "duration": 16,
    "start_time": "2022-06-04T07:53:49.811Z"
   },
   {
    "duration": 4,
    "start_time": "2022-06-04T07:53:49.829Z"
   },
   {
    "duration": 6,
    "start_time": "2022-06-04T07:53:49.835Z"
   },
   {
    "duration": 11,
    "start_time": "2022-06-04T07:53:49.842Z"
   },
   {
    "duration": 4,
    "start_time": "2022-06-04T07:53:49.855Z"
   },
   {
    "duration": 17,
    "start_time": "2022-06-04T07:53:49.890Z"
   },
   {
    "duration": 8,
    "start_time": "2022-06-04T07:53:49.909Z"
   },
   {
    "duration": 9,
    "start_time": "2022-06-04T07:53:49.919Z"
   },
   {
    "duration": 8,
    "start_time": "2022-06-04T07:53:49.929Z"
   },
   {
    "duration": 363,
    "start_time": "2022-06-04T07:53:49.939Z"
   },
   {
    "duration": 312,
    "start_time": "2022-06-04T07:53:50.309Z"
   },
   {
    "duration": 7,
    "start_time": "2022-06-04T07:53:50.622Z"
   },
   {
    "duration": 8,
    "start_time": "2022-06-04T07:53:50.630Z"
   },
   {
    "duration": 11,
    "start_time": "2022-06-04T07:53:50.640Z"
   },
   {
    "duration": 13,
    "start_time": "2022-06-04T07:53:50.653Z"
   },
   {
    "duration": 9,
    "start_time": "2022-06-04T07:53:50.668Z"
   },
   {
    "duration": 145,
    "start_time": "2022-06-04T07:53:50.695Z"
   },
   {
    "duration": 0,
    "start_time": "2022-06-04T07:53:50.841Z"
   },
   {
    "duration": 0,
    "start_time": "2022-06-04T07:53:50.843Z"
   },
   {
    "duration": 0,
    "start_time": "2022-06-04T07:53:50.843Z"
   },
   {
    "duration": 0,
    "start_time": "2022-06-04T07:53:50.845Z"
   },
   {
    "duration": 0,
    "start_time": "2022-06-04T07:53:50.846Z"
   },
   {
    "duration": 0,
    "start_time": "2022-06-04T07:53:50.847Z"
   },
   {
    "duration": 0,
    "start_time": "2022-06-04T07:53:50.848Z"
   },
   {
    "duration": 0,
    "start_time": "2022-06-04T07:53:50.849Z"
   },
   {
    "duration": 0,
    "start_time": "2022-06-04T07:53:50.850Z"
   },
   {
    "duration": 0,
    "start_time": "2022-06-04T07:53:50.851Z"
   },
   {
    "duration": 0,
    "start_time": "2022-06-04T07:53:50.852Z"
   },
   {
    "duration": 0,
    "start_time": "2022-06-04T07:53:50.853Z"
   },
   {
    "duration": 0,
    "start_time": "2022-06-04T07:53:50.854Z"
   },
   {
    "duration": 0,
    "start_time": "2022-06-04T07:53:50.855Z"
   },
   {
    "duration": 0,
    "start_time": "2022-06-04T07:53:50.856Z"
   },
   {
    "duration": 0,
    "start_time": "2022-06-04T07:53:50.857Z"
   },
   {
    "duration": 0,
    "start_time": "2022-06-04T07:53:50.858Z"
   },
   {
    "duration": 0,
    "start_time": "2022-06-04T07:53:50.859Z"
   },
   {
    "duration": 0,
    "start_time": "2022-06-04T07:53:50.894Z"
   },
   {
    "duration": 7,
    "start_time": "2022-06-04T07:54:06.140Z"
   },
   {
    "duration": 7,
    "start_time": "2022-06-04T07:54:56.372Z"
   },
   {
    "duration": 8,
    "start_time": "2022-06-04T07:54:59.349Z"
   },
   {
    "duration": 4,
    "start_time": "2022-06-04T07:55:57.518Z"
   },
   {
    "duration": 7,
    "start_time": "2022-06-04T07:56:01.652Z"
   },
   {
    "duration": 7,
    "start_time": "2022-06-04T07:56:15.837Z"
   },
   {
    "duration": 4,
    "start_time": "2022-06-04T07:56:30.905Z"
   },
   {
    "duration": 7,
    "start_time": "2022-06-04T07:56:31.320Z"
   },
   {
    "duration": 53,
    "start_time": "2022-06-04T07:57:21.656Z"
   },
   {
    "duration": 9,
    "start_time": "2022-06-04T07:57:24.227Z"
   },
   {
    "duration": 9,
    "start_time": "2022-06-04T07:59:21.226Z"
   },
   {
    "duration": 10,
    "start_time": "2022-06-04T07:59:32.869Z"
   },
   {
    "duration": 13,
    "start_time": "2022-06-04T08:00:26.414Z"
   },
   {
    "duration": 14,
    "start_time": "2022-06-04T08:00:35.223Z"
   },
   {
    "duration": 13,
    "start_time": "2022-06-04T08:11:36.053Z"
   },
   {
    "duration": 44,
    "start_time": "2022-06-04T08:11:45.247Z"
   },
   {
    "duration": 18,
    "start_time": "2022-06-04T08:13:43.397Z"
   },
   {
    "duration": 4,
    "start_time": "2022-06-04T08:16:44.418Z"
   },
   {
    "duration": 7,
    "start_time": "2022-06-04T08:17:36.064Z"
   },
   {
    "duration": 5,
    "start_time": "2022-06-04T08:17:55.849Z"
   },
   {
    "duration": 5,
    "start_time": "2022-06-04T08:18:02.937Z"
   },
   {
    "duration": 7,
    "start_time": "2022-06-04T08:18:19.448Z"
   },
   {
    "duration": 109,
    "start_time": "2022-06-04T08:20:05.727Z"
   },
   {
    "duration": 12,
    "start_time": "2022-06-04T08:21:34.865Z"
   },
   {
    "duration": 50,
    "start_time": "2022-06-04T08:21:44.215Z"
   },
   {
    "duration": 7,
    "start_time": "2022-06-04T08:22:15.109Z"
   },
   {
    "duration": 1428,
    "start_time": "2022-06-04T08:22:47.462Z"
   },
   {
    "duration": 168,
    "start_time": "2022-06-04T08:22:48.891Z"
   },
   {
    "duration": 21,
    "start_time": "2022-06-04T08:22:49.061Z"
   },
   {
    "duration": 18,
    "start_time": "2022-06-04T08:22:49.084Z"
   },
   {
    "duration": 5,
    "start_time": "2022-06-04T08:22:49.104Z"
   },
   {
    "duration": 9,
    "start_time": "2022-06-04T08:22:49.110Z"
   },
   {
    "duration": 15,
    "start_time": "2022-06-04T08:22:49.120Z"
   },
   {
    "duration": 7,
    "start_time": "2022-06-04T08:22:49.136Z"
   },
   {
    "duration": 8,
    "start_time": "2022-06-04T08:22:49.144Z"
   },
   {
    "duration": 35,
    "start_time": "2022-06-04T08:22:49.155Z"
   },
   {
    "duration": 6,
    "start_time": "2022-06-04T08:22:49.192Z"
   },
   {
    "duration": 10,
    "start_time": "2022-06-04T08:22:49.199Z"
   },
   {
    "duration": 7,
    "start_time": "2022-06-04T08:22:49.211Z"
   },
   {
    "duration": 6,
    "start_time": "2022-06-04T08:22:49.220Z"
   },
   {
    "duration": 342,
    "start_time": "2022-06-04T08:22:49.228Z"
   },
   {
    "duration": 288,
    "start_time": "2022-06-04T08:22:49.572Z"
   },
   {
    "duration": 12,
    "start_time": "2022-06-04T08:22:49.862Z"
   },
   {
    "duration": 19,
    "start_time": "2022-06-04T08:22:49.876Z"
   },
   {
    "duration": 10,
    "start_time": "2022-06-04T08:22:49.897Z"
   },
   {
    "duration": 8,
    "start_time": "2022-06-04T08:22:49.909Z"
   },
   {
    "duration": 8,
    "start_time": "2022-06-04T08:22:49.918Z"
   },
   {
    "duration": 9,
    "start_time": "2022-06-04T08:22:49.928Z"
   },
   {
    "duration": 91,
    "start_time": "2022-06-04T08:22:49.938Z"
   },
   {
    "duration": 145,
    "start_time": "2022-06-04T08:22:50.031Z"
   },
   {
    "duration": 35,
    "start_time": "2022-06-04T08:29:36.713Z"
   },
   {
    "duration": 1472,
    "start_time": "2022-06-04T08:30:17.288Z"
   },
   {
    "duration": 77,
    "start_time": "2022-06-04T08:30:18.762Z"
   },
   {
    "duration": 17,
    "start_time": "2022-06-04T08:30:18.841Z"
   },
   {
    "duration": 14,
    "start_time": "2022-06-04T08:30:18.860Z"
   },
   {
    "duration": 5,
    "start_time": "2022-06-04T08:30:18.877Z"
   },
   {
    "duration": 4,
    "start_time": "2022-06-04T08:30:18.884Z"
   },
   {
    "duration": 13,
    "start_time": "2022-06-04T08:30:18.889Z"
   },
   {
    "duration": 6,
    "start_time": "2022-06-04T08:30:18.904Z"
   },
   {
    "duration": 8,
    "start_time": "2022-06-04T08:30:18.912Z"
   },
   {
    "duration": 8,
    "start_time": "2022-06-04T08:30:18.922Z"
   },
   {
    "duration": 6,
    "start_time": "2022-06-04T08:30:18.932Z"
   },
   {
    "duration": 6,
    "start_time": "2022-06-04T08:30:18.940Z"
   },
   {
    "duration": 6,
    "start_time": "2022-06-04T08:30:18.948Z"
   },
   {
    "duration": 5,
    "start_time": "2022-06-04T08:30:18.989Z"
   },
   {
    "duration": 340,
    "start_time": "2022-06-04T08:30:18.996Z"
   },
   {
    "duration": 293,
    "start_time": "2022-06-04T08:30:19.337Z"
   },
   {
    "duration": 12,
    "start_time": "2022-06-04T08:30:19.632Z"
   },
   {
    "duration": 8,
    "start_time": "2022-06-04T08:30:19.645Z"
   },
   {
    "duration": 10,
    "start_time": "2022-06-04T08:30:19.655Z"
   },
   {
    "duration": 29,
    "start_time": "2022-06-04T08:30:19.667Z"
   },
   {
    "duration": 10,
    "start_time": "2022-06-04T08:30:19.697Z"
   },
   {
    "duration": 9,
    "start_time": "2022-06-04T08:30:19.709Z"
   },
   {
    "duration": 79,
    "start_time": "2022-06-04T08:30:19.720Z"
   },
   {
    "duration": 165,
    "start_time": "2022-06-04T08:30:19.801Z"
   },
   {
    "duration": 11,
    "start_time": "2022-06-04T08:31:50.192Z"
   },
   {
    "duration": 4,
    "start_time": "2022-06-04T08:32:13.622Z"
   },
   {
    "duration": 240,
    "start_time": "2022-06-04T08:32:42.930Z"
   },
   {
    "duration": 249,
    "start_time": "2022-06-04T08:33:12.788Z"
   },
   {
    "duration": 55,
    "start_time": "2022-06-04T08:34:39.149Z"
   },
   {
    "duration": 6,
    "start_time": "2022-06-04T08:35:22.439Z"
   },
   {
    "duration": 51,
    "start_time": "2022-06-04T08:35:40.829Z"
   },
   {
    "duration": 1439,
    "start_time": "2022-06-04T08:38:32.606Z"
   },
   {
    "duration": 78,
    "start_time": "2022-06-04T08:38:34.047Z"
   },
   {
    "duration": 18,
    "start_time": "2022-06-04T08:38:34.127Z"
   },
   {
    "duration": 16,
    "start_time": "2022-06-04T08:38:34.147Z"
   },
   {
    "duration": 5,
    "start_time": "2022-06-04T08:38:34.167Z"
   },
   {
    "duration": 16,
    "start_time": "2022-06-04T08:38:34.174Z"
   },
   {
    "duration": 14,
    "start_time": "2022-06-04T08:38:34.191Z"
   },
   {
    "duration": 7,
    "start_time": "2022-06-04T08:38:34.207Z"
   },
   {
    "duration": 8,
    "start_time": "2022-06-04T08:38:34.216Z"
   },
   {
    "duration": 69,
    "start_time": "2022-06-04T08:38:34.226Z"
   },
   {
    "duration": 5,
    "start_time": "2022-06-04T08:38:34.297Z"
   },
   {
    "duration": 12,
    "start_time": "2022-06-04T08:38:34.303Z"
   },
   {
    "duration": 7,
    "start_time": "2022-06-04T08:38:34.317Z"
   },
   {
    "duration": 7,
    "start_time": "2022-06-04T08:38:34.327Z"
   },
   {
    "duration": 6,
    "start_time": "2022-06-04T08:38:34.336Z"
   },
   {
    "duration": 351,
    "start_time": "2022-06-04T08:38:34.344Z"
   },
   {
    "duration": 311,
    "start_time": "2022-06-04T08:38:34.697Z"
   },
   {
    "duration": 11,
    "start_time": "2022-06-04T08:38:35.009Z"
   },
   {
    "duration": 10,
    "start_time": "2022-06-04T08:38:35.022Z"
   },
   {
    "duration": 12,
    "start_time": "2022-06-04T08:38:35.034Z"
   },
   {
    "duration": 8,
    "start_time": "2022-06-04T08:38:35.048Z"
   },
   {
    "duration": 36,
    "start_time": "2022-06-04T08:38:35.058Z"
   },
   {
    "duration": 9,
    "start_time": "2022-06-04T08:38:35.095Z"
   },
   {
    "duration": 266,
    "start_time": "2022-06-04T08:38:35.106Z"
   },
   {
    "duration": 1455,
    "start_time": "2022-06-05T07:10:33.113Z"
   },
   {
    "duration": 212,
    "start_time": "2022-06-05T07:10:34.570Z"
   },
   {
    "duration": 13,
    "start_time": "2022-06-05T07:10:34.784Z"
   },
   {
    "duration": 11,
    "start_time": "2022-06-05T07:10:34.799Z"
   },
   {
    "duration": 4,
    "start_time": "2022-06-05T07:10:34.813Z"
   },
   {
    "duration": 8,
    "start_time": "2022-06-05T07:10:34.819Z"
   },
   {
    "duration": 11,
    "start_time": "2022-06-05T07:10:34.836Z"
   },
   {
    "duration": 5,
    "start_time": "2022-06-05T07:10:34.849Z"
   },
   {
    "duration": 10,
    "start_time": "2022-06-05T07:10:34.856Z"
   },
   {
    "duration": 44,
    "start_time": "2022-06-05T07:10:34.867Z"
   },
   {
    "duration": 3,
    "start_time": "2022-06-05T07:10:34.913Z"
   },
   {
    "duration": 8,
    "start_time": "2022-06-05T07:10:34.918Z"
   },
   {
    "duration": 18,
    "start_time": "2022-06-05T07:10:34.929Z"
   },
   {
    "duration": 4,
    "start_time": "2022-06-05T07:10:34.950Z"
   },
   {
    "duration": 13,
    "start_time": "2022-06-05T07:10:34.956Z"
   },
   {
    "duration": 277,
    "start_time": "2022-06-05T07:10:34.971Z"
   },
   {
    "duration": 262,
    "start_time": "2022-06-05T07:10:35.250Z"
   },
   {
    "duration": 27,
    "start_time": "2022-06-05T07:10:35.514Z"
   },
   {
    "duration": 15,
    "start_time": "2022-06-05T07:10:35.543Z"
   },
   {
    "duration": 12,
    "start_time": "2022-06-05T07:10:35.560Z"
   },
   {
    "duration": 7,
    "start_time": "2022-06-05T07:10:35.573Z"
   },
   {
    "duration": 9,
    "start_time": "2022-06-05T07:10:35.582Z"
   },
   {
    "duration": 12,
    "start_time": "2022-06-05T07:10:35.592Z"
   },
   {
    "duration": 234,
    "start_time": "2022-06-05T07:10:35.606Z"
   },
   {
    "duration": 210,
    "start_time": "2022-06-05T07:16:24.344Z"
   },
   {
    "duration": 1280,
    "start_time": "2022-06-05T07:16:35.866Z"
   },
   {
    "duration": 54,
    "start_time": "2022-06-05T07:16:37.148Z"
   },
   {
    "duration": 14,
    "start_time": "2022-06-05T07:16:37.203Z"
   },
   {
    "duration": 17,
    "start_time": "2022-06-05T07:16:37.218Z"
   },
   {
    "duration": 26,
    "start_time": "2022-06-05T07:16:37.238Z"
   },
   {
    "duration": 5,
    "start_time": "2022-06-05T07:16:37.266Z"
   },
   {
    "duration": 8,
    "start_time": "2022-06-05T07:16:37.272Z"
   },
   {
    "duration": 6,
    "start_time": "2022-06-05T07:16:37.282Z"
   },
   {
    "duration": 7,
    "start_time": "2022-06-05T07:16:37.290Z"
   },
   {
    "duration": 55,
    "start_time": "2022-06-05T07:16:37.299Z"
   },
   {
    "duration": 4,
    "start_time": "2022-06-05T07:16:37.356Z"
   },
   {
    "duration": 7,
    "start_time": "2022-06-05T07:16:37.362Z"
   },
   {
    "duration": 5,
    "start_time": "2022-06-05T07:16:37.371Z"
   },
   {
    "duration": 6,
    "start_time": "2022-06-05T07:16:37.379Z"
   },
   {
    "duration": 8,
    "start_time": "2022-06-05T07:16:37.387Z"
   },
   {
    "duration": 306,
    "start_time": "2022-06-05T07:16:37.396Z"
   },
   {
    "duration": 271,
    "start_time": "2022-06-05T07:16:37.704Z"
   },
   {
    "duration": 13,
    "start_time": "2022-06-05T07:16:37.976Z"
   },
   {
    "duration": 8,
    "start_time": "2022-06-05T07:16:37.991Z"
   },
   {
    "duration": 29,
    "start_time": "2022-06-05T07:16:38.001Z"
   },
   {
    "duration": 11,
    "start_time": "2022-06-05T07:16:38.032Z"
   },
   {
    "duration": 23,
    "start_time": "2022-06-05T07:16:38.044Z"
   },
   {
    "duration": 9,
    "start_time": "2022-06-05T07:16:38.068Z"
   },
   {
    "duration": 266,
    "start_time": "2022-06-05T07:16:38.078Z"
   },
   {
    "duration": 1413,
    "start_time": "2022-06-05T07:18:58.412Z"
   },
   {
    "duration": 59,
    "start_time": "2022-06-05T07:18:59.831Z"
   },
   {
    "duration": 15,
    "start_time": "2022-06-05T07:18:59.891Z"
   },
   {
    "duration": 13,
    "start_time": "2022-06-05T07:18:59.907Z"
   },
   {
    "duration": 8,
    "start_time": "2022-06-05T07:18:59.924Z"
   },
   {
    "duration": 21,
    "start_time": "2022-06-05T07:18:59.934Z"
   },
   {
    "duration": 12,
    "start_time": "2022-06-05T07:18:59.956Z"
   },
   {
    "duration": 11,
    "start_time": "2022-06-05T07:18:59.970Z"
   },
   {
    "duration": 21,
    "start_time": "2022-06-05T07:18:59.982Z"
   },
   {
    "duration": 61,
    "start_time": "2022-06-05T07:19:00.005Z"
   },
   {
    "duration": 5,
    "start_time": "2022-06-05T07:19:00.068Z"
   },
   {
    "duration": 9,
    "start_time": "2022-06-05T07:19:00.075Z"
   },
   {
    "duration": 7,
    "start_time": "2022-06-05T07:19:00.085Z"
   },
   {
    "duration": 7,
    "start_time": "2022-06-05T07:19:00.094Z"
   },
   {
    "duration": 30,
    "start_time": "2022-06-05T07:19:00.103Z"
   },
   {
    "duration": 284,
    "start_time": "2022-06-05T07:19:00.135Z"
   },
   {
    "duration": 261,
    "start_time": "2022-06-05T07:19:00.421Z"
   },
   {
    "duration": 11,
    "start_time": "2022-06-05T07:19:00.683Z"
   },
   {
    "duration": 34,
    "start_time": "2022-06-05T07:19:00.696Z"
   },
   {
    "duration": 24,
    "start_time": "2022-06-05T07:19:00.733Z"
   },
   {
    "duration": 13,
    "start_time": "2022-06-05T07:19:00.759Z"
   },
   {
    "duration": 14,
    "start_time": "2022-06-05T07:19:00.774Z"
   },
   {
    "duration": 13,
    "start_time": "2022-06-05T07:19:00.790Z"
   },
   {
    "duration": 241,
    "start_time": "2022-06-05T07:19:00.805Z"
   },
   {
    "duration": 5,
    "start_time": "2022-06-05T07:19:01.048Z"
   },
   {
    "duration": 242,
    "start_time": "2022-06-05T07:21:37.756Z"
   },
   {
    "duration": 8,
    "start_time": "2022-06-05T07:25:15.093Z"
   },
   {
    "duration": 4,
    "start_time": "2022-06-05T07:25:21.044Z"
   },
   {
    "duration": 8,
    "start_time": "2022-06-05T07:26:06.600Z"
   },
   {
    "duration": 5,
    "start_time": "2022-06-05T07:26:12.242Z"
   },
   {
    "duration": 4,
    "start_time": "2022-06-05T07:26:26.686Z"
   },
   {
    "duration": 5,
    "start_time": "2022-06-05T07:26:31.854Z"
   },
   {
    "duration": 8,
    "start_time": "2022-06-05T07:27:06.220Z"
   },
   {
    "duration": 4,
    "start_time": "2022-06-05T07:27:08.182Z"
   },
   {
    "duration": 4,
    "start_time": "2022-06-05T07:27:12.269Z"
   },
   {
    "duration": 9,
    "start_time": "2022-06-05T07:27:12.699Z"
   },
   {
    "duration": 12,
    "start_time": "2022-06-05T07:27:23.026Z"
   },
   {
    "duration": 5,
    "start_time": "2022-06-05T07:27:24.907Z"
   },
   {
    "duration": 8,
    "start_time": "2022-06-05T07:27:46.214Z"
   },
   {
    "duration": 6,
    "start_time": "2022-06-05T07:27:46.590Z"
   },
   {
    "duration": 7,
    "start_time": "2022-06-05T07:29:42.140Z"
   },
   {
    "duration": 9,
    "start_time": "2022-06-05T07:29:54.589Z"
   },
   {
    "duration": 17,
    "start_time": "2022-06-05T07:30:19.914Z"
   },
   {
    "duration": 248,
    "start_time": "2022-06-05T07:31:31.186Z"
   },
   {
    "duration": 10,
    "start_time": "2022-06-05T07:31:57.854Z"
   },
   {
    "duration": 8,
    "start_time": "2022-06-05T07:33:32.061Z"
   },
   {
    "duration": 7,
    "start_time": "2022-06-05T07:33:42.585Z"
   },
   {
    "duration": 10,
    "start_time": "2022-06-05T07:35:00.033Z"
   },
   {
    "duration": 308,
    "start_time": "2022-06-05T07:36:33.217Z"
   },
   {
    "duration": 11,
    "start_time": "2022-06-05T07:37:59.248Z"
   },
   {
    "duration": 33,
    "start_time": "2022-06-05T07:38:28.993Z"
   },
   {
    "duration": 17,
    "start_time": "2022-06-05T07:38:34.724Z"
   },
   {
    "duration": 8,
    "start_time": "2022-06-05T07:38:53.402Z"
   },
   {
    "duration": 331,
    "start_time": "2022-06-05T07:45:05.311Z"
   },
   {
    "duration": 317,
    "start_time": "2022-06-05T07:45:12.490Z"
   },
   {
    "duration": 255,
    "start_time": "2022-06-05T07:45:51.220Z"
   },
   {
    "duration": 212,
    "start_time": "2022-06-05T07:46:21.538Z"
   },
   {
    "duration": 202,
    "start_time": "2022-06-05T07:46:32.099Z"
   },
   {
    "duration": 202,
    "start_time": "2022-06-05T07:47:29.487Z"
   },
   {
    "duration": 237,
    "start_time": "2022-06-05T07:47:37.830Z"
   },
   {
    "duration": 244,
    "start_time": "2022-06-05T07:47:44.093Z"
   },
   {
    "duration": 10,
    "start_time": "2022-06-05T07:48:26.343Z"
   },
   {
    "duration": 244,
    "start_time": "2022-06-05T07:51:28.824Z"
   },
   {
    "duration": 373,
    "start_time": "2022-06-05T07:53:01.221Z"
   },
   {
    "duration": 208,
    "start_time": "2022-06-05T07:53:15.640Z"
   },
   {
    "duration": 200,
    "start_time": "2022-06-05T07:53:36.067Z"
   },
   {
    "duration": 10,
    "start_time": "2022-06-05T07:54:07.995Z"
   },
   {
    "duration": 8,
    "start_time": "2022-06-05T07:54:18.385Z"
   },
   {
    "duration": 11,
    "start_time": "2022-06-05T07:54:23.615Z"
   },
   {
    "duration": 210,
    "start_time": "2022-06-05T07:54:58.840Z"
   },
   {
    "duration": 209,
    "start_time": "2022-06-05T07:55:05.886Z"
   },
   {
    "duration": 202,
    "start_time": "2022-06-05T07:55:14.706Z"
   },
   {
    "duration": 6,
    "start_time": "2022-06-05T08:01:56.157Z"
   },
   {
    "duration": 194,
    "start_time": "2022-06-05T08:06:34.587Z"
   },
   {
    "duration": 12,
    "start_time": "2022-06-05T08:06:50.521Z"
   },
   {
    "duration": 5,
    "start_time": "2022-06-05T08:18:48.961Z"
   },
   {
    "duration": 6,
    "start_time": "2022-06-05T08:19:08.201Z"
   },
   {
    "duration": 177,
    "start_time": "2022-06-05T08:20:18.439Z"
   },
   {
    "duration": 1268,
    "start_time": "2022-06-05T08:21:08.443Z"
   },
   {
    "duration": 120,
    "start_time": "2022-06-05T08:21:09.713Z"
   },
   {
    "duration": 18,
    "start_time": "2022-06-05T08:21:09.840Z"
   },
   {
    "duration": 11,
    "start_time": "2022-06-05T08:21:09.860Z"
   },
   {
    "duration": 4,
    "start_time": "2022-06-05T08:21:09.873Z"
   },
   {
    "duration": 5,
    "start_time": "2022-06-05T08:21:09.878Z"
   },
   {
    "duration": 8,
    "start_time": "2022-06-05T08:21:09.884Z"
   },
   {
    "duration": 6,
    "start_time": "2022-06-05T08:21:09.893Z"
   },
   {
    "duration": 16,
    "start_time": "2022-06-05T08:21:09.926Z"
   },
   {
    "duration": 52,
    "start_time": "2022-06-05T08:21:09.944Z"
   },
   {
    "duration": 4,
    "start_time": "2022-06-05T08:21:09.997Z"
   },
   {
    "duration": 9,
    "start_time": "2022-06-05T08:21:10.003Z"
   },
   {
    "duration": 37,
    "start_time": "2022-06-05T08:21:10.013Z"
   },
   {
    "duration": 36,
    "start_time": "2022-06-05T08:21:10.051Z"
   },
   {
    "duration": 11,
    "start_time": "2022-06-05T08:21:10.088Z"
   },
   {
    "duration": 11,
    "start_time": "2022-06-05T08:21:10.100Z"
   },
   {
    "duration": 9,
    "start_time": "2022-06-05T08:21:10.113Z"
   },
   {
    "duration": 282,
    "start_time": "2022-06-05T08:21:10.123Z"
   },
   {
    "duration": 285,
    "start_time": "2022-06-05T08:21:10.407Z"
   },
   {
    "duration": 11,
    "start_time": "2022-06-05T08:21:10.694Z"
   },
   {
    "duration": 24,
    "start_time": "2022-06-05T08:21:10.707Z"
   },
   {
    "duration": 17,
    "start_time": "2022-06-05T08:21:10.735Z"
   },
   {
    "duration": 9,
    "start_time": "2022-06-05T08:21:10.754Z"
   },
   {
    "duration": 12,
    "start_time": "2022-06-05T08:21:10.765Z"
   },
   {
    "duration": 10,
    "start_time": "2022-06-05T08:21:10.779Z"
   },
   {
    "duration": 231,
    "start_time": "2022-06-05T08:21:10.791Z"
   },
   {
    "duration": 253,
    "start_time": "2022-06-05T08:21:11.027Z"
   },
   {
    "duration": 10,
    "start_time": "2022-06-05T08:21:11.282Z"
   },
   {
    "duration": 219,
    "start_time": "2022-06-05T08:21:11.294Z"
   },
   {
    "duration": 17,
    "start_time": "2022-06-05T08:21:11.514Z"
   },
   {
    "duration": 22,
    "start_time": "2022-06-05T08:21:11.534Z"
   },
   {
    "duration": 234,
    "start_time": "2022-06-05T08:21:11.558Z"
   },
   {
    "duration": 10,
    "start_time": "2022-06-05T08:21:11.794Z"
   },
   {
    "duration": 23,
    "start_time": "2022-06-05T08:21:11.806Z"
   },
   {
    "duration": 346,
    "start_time": "2022-06-05T08:21:11.832Z"
   },
   {
    "duration": 10,
    "start_time": "2022-06-05T08:21:12.179Z"
   },
   {
    "duration": 247,
    "start_time": "2022-06-05T08:21:12.190Z"
   },
   {
    "duration": 270,
    "start_time": "2022-06-05T08:21:12.439Z"
   },
   {
    "duration": 23,
    "start_time": "2022-06-05T08:21:12.711Z"
   },
   {
    "duration": 15,
    "start_time": "2022-06-05T08:21:12.742Z"
   },
   {
    "duration": 233,
    "start_time": "2022-06-05T08:21:12.759Z"
   },
   {
    "duration": 10,
    "start_time": "2022-06-05T08:21:12.994Z"
   },
   {
    "duration": 190,
    "start_time": "2022-06-05T08:21:13.006Z"
   },
   {
    "duration": 14,
    "start_time": "2022-06-05T08:21:56.334Z"
   },
   {
    "duration": 172,
    "start_time": "2022-06-05T08:22:53.436Z"
   },
   {
    "duration": 6,
    "start_time": "2022-06-05T08:23:56.807Z"
   },
   {
    "duration": 6,
    "start_time": "2022-06-05T08:24:18.094Z"
   },
   {
    "duration": 207,
    "start_time": "2022-06-05T08:29:02.229Z"
   },
   {
    "duration": 238,
    "start_time": "2022-06-05T08:29:09.884Z"
   },
   {
    "duration": 284,
    "start_time": "2022-06-05T08:29:21.154Z"
   },
   {
    "duration": 681,
    "start_time": "2022-06-05T08:29:32.495Z"
   },
   {
    "duration": 346,
    "start_time": "2022-06-05T08:29:47.306Z"
   },
   {
    "duration": 317,
    "start_time": "2022-06-05T08:30:07.732Z"
   },
   {
    "duration": 134,
    "start_time": "2022-06-05T08:30:33.099Z"
   },
   {
    "duration": 16,
    "start_time": "2022-06-05T08:30:45.894Z"
   },
   {
    "duration": 17,
    "start_time": "2022-06-05T08:31:09.259Z"
   },
   {
    "duration": 277,
    "start_time": "2022-06-05T08:31:34.812Z"
   },
   {
    "duration": 17,
    "start_time": "2022-06-05T08:38:29.040Z"
   },
   {
    "duration": 116,
    "start_time": "2022-06-05T08:38:57.340Z"
   },
   {
    "duration": 119,
    "start_time": "2022-06-05T08:39:15.194Z"
   },
   {
    "duration": 12,
    "start_time": "2022-06-05T08:41:08.842Z"
   },
   {
    "duration": 154,
    "start_time": "2022-06-05T08:41:15.194Z"
   },
   {
    "duration": 319,
    "start_time": "2022-06-05T08:41:23.944Z"
   },
   {
    "duration": 205,
    "start_time": "2022-06-05T08:41:29.787Z"
   },
   {
    "duration": 172,
    "start_time": "2022-06-05T08:41:50.604Z"
   },
   {
    "duration": 12,
    "start_time": "2022-06-05T08:43:24.852Z"
   },
   {
    "duration": 11,
    "start_time": "2022-06-05T08:43:31.258Z"
   },
   {
    "duration": 4,
    "start_time": "2022-06-05T08:55:13.494Z"
   },
   {
    "duration": 14,
    "start_time": "2022-06-05T08:55:16.116Z"
   },
   {
    "duration": 25,
    "start_time": "2022-06-05T08:55:41.296Z"
   },
   {
    "duration": 32,
    "start_time": "2022-06-05T08:56:14.432Z"
   },
   {
    "duration": 18,
    "start_time": "2022-06-05T08:56:26.839Z"
   },
   {
    "duration": 5,
    "start_time": "2022-06-05T08:56:31.965Z"
   },
   {
    "duration": 9,
    "start_time": "2022-06-05T08:56:34.057Z"
   },
   {
    "duration": 2138,
    "start_time": "2022-06-05T08:56:36.098Z"
   },
   {
    "duration": 21,
    "start_time": "2022-06-05T08:57:17.746Z"
   },
   {
    "duration": 2557,
    "start_time": "2022-06-05T08:57:44.789Z"
   },
   {
    "duration": 27,
    "start_time": "2022-06-05T08:57:49.495Z"
   },
   {
    "duration": 2562,
    "start_time": "2022-06-05T08:58:02.203Z"
   },
   {
    "duration": 25,
    "start_time": "2022-06-05T08:58:05.343Z"
   },
   {
    "duration": 2325,
    "start_time": "2022-06-05T08:58:13.015Z"
   },
   {
    "duration": 17,
    "start_time": "2022-06-05T08:58:16.394Z"
   },
   {
    "duration": 2650,
    "start_time": "2022-06-05T09:00:04.492Z"
   },
   {
    "duration": 26,
    "start_time": "2022-06-05T09:00:07.908Z"
   },
   {
    "duration": 4234,
    "start_time": "2022-06-05T09:03:17.736Z"
   },
   {
    "duration": 287306,
    "start_time": "2022-06-05T09:03:43.453Z"
   },
   {
    "duration": 2388,
    "start_time": "2022-06-05T09:30:22.440Z"
   },
   {
    "duration": 21,
    "start_time": "2022-06-05T09:30:25.656Z"
   },
   {
    "duration": 3039,
    "start_time": "2022-06-05T09:30:37.208Z"
   },
   {
    "duration": 18,
    "start_time": "2022-06-05T09:30:40.248Z"
   },
   {
    "duration": 1275,
    "start_time": "2022-06-05T09:36:29.353Z"
   },
   {
    "duration": 128,
    "start_time": "2022-06-05T09:36:30.631Z"
   },
   {
    "duration": 14,
    "start_time": "2022-06-05T09:36:30.761Z"
   },
   {
    "duration": 30,
    "start_time": "2022-06-05T09:36:30.777Z"
   },
   {
    "duration": 13,
    "start_time": "2022-06-05T09:36:30.808Z"
   },
   {
    "duration": 32,
    "start_time": "2022-06-05T09:36:30.823Z"
   },
   {
    "duration": 17,
    "start_time": "2022-06-05T09:36:30.857Z"
   },
   {
    "duration": 23,
    "start_time": "2022-06-05T09:36:30.876Z"
   },
   {
    "duration": 19,
    "start_time": "2022-06-05T09:36:30.901Z"
   },
   {
    "duration": 66,
    "start_time": "2022-06-05T09:36:30.923Z"
   },
   {
    "duration": 5,
    "start_time": "2022-06-05T09:36:30.991Z"
   },
   {
    "duration": 22,
    "start_time": "2022-06-05T09:36:30.999Z"
   },
   {
    "duration": 53,
    "start_time": "2022-06-05T09:36:31.022Z"
   },
   {
    "duration": 26,
    "start_time": "2022-06-05T09:36:31.077Z"
   },
   {
    "duration": 31,
    "start_time": "2022-06-05T09:36:31.105Z"
   },
   {
    "duration": 34,
    "start_time": "2022-06-05T09:36:31.140Z"
   },
   {
    "duration": 27,
    "start_time": "2022-06-05T09:36:31.176Z"
   },
   {
    "duration": 303,
    "start_time": "2022-06-05T09:36:31.205Z"
   },
   {
    "duration": 244,
    "start_time": "2022-06-05T09:36:31.510Z"
   },
   {
    "duration": 10,
    "start_time": "2022-06-05T09:36:31.756Z"
   },
   {
    "duration": 64,
    "start_time": "2022-06-05T09:36:31.768Z"
   },
   {
    "duration": 23,
    "start_time": "2022-06-05T09:36:31.833Z"
   },
   {
    "duration": 13,
    "start_time": "2022-06-05T09:36:31.858Z"
   },
   {
    "duration": 17,
    "start_time": "2022-06-05T09:36:31.873Z"
   },
   {
    "duration": 16,
    "start_time": "2022-06-05T09:36:31.892Z"
   },
   {
    "duration": 258,
    "start_time": "2022-06-05T09:36:31.909Z"
   },
   {
    "duration": 249,
    "start_time": "2022-06-05T09:36:32.168Z"
   },
   {
    "duration": 17,
    "start_time": "2022-06-05T09:36:32.422Z"
   },
   {
    "duration": 243,
    "start_time": "2022-06-05T09:36:32.441Z"
   },
   {
    "duration": 12,
    "start_time": "2022-06-05T09:36:32.686Z"
   },
   {
    "duration": 12,
    "start_time": "2022-06-05T09:36:32.699Z"
   },
   {
    "duration": 281,
    "start_time": "2022-06-05T09:36:32.723Z"
   },
   {
    "duration": 28,
    "start_time": "2022-06-05T09:36:33.006Z"
   },
   {
    "duration": 9,
    "start_time": "2022-06-05T09:36:33.035Z"
   },
   {
    "duration": 341,
    "start_time": "2022-06-05T09:36:33.046Z"
   },
   {
    "duration": 11,
    "start_time": "2022-06-05T09:36:33.389Z"
   },
   {
    "duration": 239,
    "start_time": "2022-06-05T09:36:33.402Z"
   },
   {
    "duration": 206,
    "start_time": "2022-06-05T09:36:33.643Z"
   },
   {
    "duration": 10,
    "start_time": "2022-06-05T09:36:33.851Z"
   },
   {
    "duration": 6,
    "start_time": "2022-06-05T09:36:33.863Z"
   },
   {
    "duration": 202,
    "start_time": "2022-06-05T09:36:33.871Z"
   },
   {
    "duration": 9,
    "start_time": "2022-06-05T09:36:34.075Z"
   },
   {
    "duration": 183,
    "start_time": "2022-06-05T09:36:34.086Z"
   },
   {
    "duration": 10,
    "start_time": "2022-06-05T09:36:34.271Z"
   },
   {
    "duration": 161,
    "start_time": "2022-06-05T09:36:34.283Z"
   },
   {
    "duration": 11,
    "start_time": "2022-06-05T09:36:34.446Z"
   },
   {
    "duration": 12,
    "start_time": "2022-06-05T09:36:34.458Z"
   },
   {
    "duration": 4,
    "start_time": "2022-06-05T09:36:34.472Z"
   },
   {
    "duration": 10,
    "start_time": "2022-06-05T09:36:34.478Z"
   },
   {
    "duration": 4288,
    "start_time": "2022-06-05T09:36:34.490Z"
   },
   {
    "duration": 281385,
    "start_time": "2022-06-05T09:36:38.780Z"
   },
   {
    "duration": 3173,
    "start_time": "2022-06-05T09:41:20.167Z"
   },
   {
    "duration": 19,
    "start_time": "2022-06-05T09:41:23.342Z"
   },
   {
    "duration": 31,
    "start_time": "2022-06-05T09:41:23.363Z"
   },
   {
    "duration": 2,
    "start_time": "2022-06-05T09:59:06.174Z"
   },
   {
    "duration": 11,
    "start_time": "2022-06-05T09:59:06.876Z"
   },
   {
    "duration": 148,
    "start_time": "2022-06-05T09:59:07.535Z"
   },
   {
    "duration": 8,
    "start_time": "2022-06-05T09:59:28.219Z"
   },
   {
    "duration": 5,
    "start_time": "2022-06-05T09:59:32.276Z"
   },
   {
    "duration": 4,
    "start_time": "2022-06-05T10:02:20.934Z"
   },
   {
    "duration": 7,
    "start_time": "2022-06-05T10:02:21.545Z"
   },
   {
    "duration": 146,
    "start_time": "2022-06-05T10:04:12.864Z"
   },
   {
    "duration": 10,
    "start_time": "2022-06-05T10:05:32.440Z"
   },
   {
    "duration": 12,
    "start_time": "2022-06-05T10:05:33.250Z"
   },
   {
    "duration": 6,
    "start_time": "2022-06-05T10:09:15.882Z"
   },
   {
    "duration": 4,
    "start_time": "2022-06-05T10:09:31.940Z"
   },
   {
    "duration": 6,
    "start_time": "2022-06-05T10:09:42.992Z"
   },
   {
    "duration": 5,
    "start_time": "2022-06-05T10:14:36.376Z"
   },
   {
    "duration": 4,
    "start_time": "2022-06-05T10:14:37.012Z"
   },
   {
    "duration": 6,
    "start_time": "2022-06-05T10:14:37.659Z"
   },
   {
    "duration": 3,
    "start_time": "2022-06-05T10:17:12.876Z"
   },
   {
    "duration": 122,
    "start_time": "2022-06-05T10:17:15.679Z"
   },
   {
    "duration": 7,
    "start_time": "2022-06-05T10:17:18.675Z"
   },
   {
    "duration": 10,
    "start_time": "2022-06-05T10:18:28.326Z"
   },
   {
    "duration": 11,
    "start_time": "2022-06-05T10:19:20.782Z"
   },
   {
    "duration": 4,
    "start_time": "2022-06-05T10:19:23.607Z"
   },
   {
    "duration": 7,
    "start_time": "2022-06-05T10:19:26.214Z"
   },
   {
    "duration": 147,
    "start_time": "2022-06-05T10:19:28.675Z"
   },
   {
    "duration": 6,
    "start_time": "2022-06-05T10:19:34.748Z"
   },
   {
    "duration": 9,
    "start_time": "2022-06-05T10:19:37.235Z"
   },
   {
    "duration": 5,
    "start_time": "2022-06-05T10:19:55.675Z"
   },
   {
    "duration": 5,
    "start_time": "2022-06-05T10:20:02.025Z"
   },
   {
    "duration": 8,
    "start_time": "2022-06-05T10:20:02.559Z"
   },
   {
    "duration": 6,
    "start_time": "2022-06-05T10:20:19.463Z"
   },
   {
    "duration": 31,
    "start_time": "2022-06-05T10:23:04.080Z"
   },
   {
    "duration": 1309,
    "start_time": "2022-06-05T10:23:26.194Z"
   },
   {
    "duration": 315,
    "start_time": "2022-06-05T10:23:27.505Z"
   },
   {
    "duration": 16,
    "start_time": "2022-06-05T10:23:27.821Z"
   },
   {
    "duration": 12,
    "start_time": "2022-06-05T10:23:27.839Z"
   },
   {
    "duration": 4,
    "start_time": "2022-06-05T10:23:27.854Z"
   },
   {
    "duration": 9,
    "start_time": "2022-06-05T10:23:27.860Z"
   },
   {
    "duration": 8,
    "start_time": "2022-06-05T10:23:27.870Z"
   },
   {
    "duration": 7,
    "start_time": "2022-06-05T10:23:27.879Z"
   },
   {
    "duration": 8,
    "start_time": "2022-06-05T10:23:27.888Z"
   },
   {
    "duration": 48,
    "start_time": "2022-06-05T10:23:27.923Z"
   },
   {
    "duration": 5,
    "start_time": "2022-06-05T10:23:27.973Z"
   },
   {
    "duration": 7,
    "start_time": "2022-06-05T10:23:27.979Z"
   },
   {
    "duration": 7,
    "start_time": "2022-06-05T10:23:27.988Z"
   },
   {
    "duration": 29,
    "start_time": "2022-06-05T10:23:27.998Z"
   },
   {
    "duration": 10,
    "start_time": "2022-06-05T10:23:28.028Z"
   },
   {
    "duration": 7,
    "start_time": "2022-06-05T10:23:28.039Z"
   },
   {
    "duration": 7,
    "start_time": "2022-06-05T10:23:28.047Z"
   },
   {
    "duration": 302,
    "start_time": "2022-06-05T10:23:28.055Z"
   },
   {
    "duration": 236,
    "start_time": "2022-06-05T10:23:28.359Z"
   },
   {
    "duration": 136,
    "start_time": "2022-06-05T10:23:28.596Z"
   },
   {
    "duration": 0,
    "start_time": "2022-06-05T10:23:28.734Z"
   },
   {
    "duration": 0,
    "start_time": "2022-06-05T10:23:28.736Z"
   },
   {
    "duration": 0,
    "start_time": "2022-06-05T10:23:28.737Z"
   },
   {
    "duration": 0,
    "start_time": "2022-06-05T10:23:28.739Z"
   },
   {
    "duration": 0,
    "start_time": "2022-06-05T10:23:28.740Z"
   },
   {
    "duration": 0,
    "start_time": "2022-06-05T10:23:28.741Z"
   },
   {
    "duration": 0,
    "start_time": "2022-06-05T10:23:28.742Z"
   },
   {
    "duration": 0,
    "start_time": "2022-06-05T10:23:28.743Z"
   },
   {
    "duration": 0,
    "start_time": "2022-06-05T10:23:28.744Z"
   },
   {
    "duration": 0,
    "start_time": "2022-06-05T10:23:28.745Z"
   },
   {
    "duration": 0,
    "start_time": "2022-06-05T10:23:28.747Z"
   },
   {
    "duration": 0,
    "start_time": "2022-06-05T10:23:28.748Z"
   },
   {
    "duration": 0,
    "start_time": "2022-06-05T10:23:28.750Z"
   },
   {
    "duration": 0,
    "start_time": "2022-06-05T10:23:28.751Z"
   },
   {
    "duration": 0,
    "start_time": "2022-06-05T10:23:28.752Z"
   },
   {
    "duration": 0,
    "start_time": "2022-06-05T10:23:28.753Z"
   },
   {
    "duration": 0,
    "start_time": "2022-06-05T10:23:28.754Z"
   },
   {
    "duration": 0,
    "start_time": "2022-06-05T10:23:28.755Z"
   },
   {
    "duration": 0,
    "start_time": "2022-06-05T10:23:28.757Z"
   },
   {
    "duration": 0,
    "start_time": "2022-06-05T10:23:28.758Z"
   },
   {
    "duration": 0,
    "start_time": "2022-06-05T10:23:28.759Z"
   },
   {
    "duration": 0,
    "start_time": "2022-06-05T10:23:28.760Z"
   },
   {
    "duration": 0,
    "start_time": "2022-06-05T10:23:28.761Z"
   },
   {
    "duration": 0,
    "start_time": "2022-06-05T10:23:28.762Z"
   },
   {
    "duration": 0,
    "start_time": "2022-06-05T10:23:28.764Z"
   },
   {
    "duration": 0,
    "start_time": "2022-06-05T10:23:28.765Z"
   },
   {
    "duration": 0,
    "start_time": "2022-06-05T10:23:28.766Z"
   },
   {
    "duration": 0,
    "start_time": "2022-06-05T10:23:28.767Z"
   },
   {
    "duration": 0,
    "start_time": "2022-06-05T10:23:28.767Z"
   },
   {
    "duration": 0,
    "start_time": "2022-06-05T10:23:28.768Z"
   },
   {
    "duration": 0,
    "start_time": "2022-06-05T10:23:28.769Z"
   },
   {
    "duration": 0,
    "start_time": "2022-06-05T10:23:28.823Z"
   },
   {
    "duration": 0,
    "start_time": "2022-06-05T10:23:28.824Z"
   },
   {
    "duration": 0,
    "start_time": "2022-06-05T10:23:28.825Z"
   },
   {
    "duration": 0,
    "start_time": "2022-06-05T10:23:28.827Z"
   },
   {
    "duration": 0,
    "start_time": "2022-06-05T10:23:28.828Z"
   },
   {
    "duration": 0,
    "start_time": "2022-06-05T10:23:28.829Z"
   },
   {
    "duration": 0,
    "start_time": "2022-06-05T10:23:28.830Z"
   },
   {
    "duration": 0,
    "start_time": "2022-06-05T10:23:28.832Z"
   },
   {
    "duration": 0,
    "start_time": "2022-06-05T10:23:28.833Z"
   },
   {
    "duration": 0,
    "start_time": "2022-06-05T10:23:28.834Z"
   },
   {
    "duration": 0,
    "start_time": "2022-06-05T10:23:28.835Z"
   },
   {
    "duration": 0,
    "start_time": "2022-06-05T10:23:28.836Z"
   },
   {
    "duration": 1,
    "start_time": "2022-06-05T10:23:28.837Z"
   },
   {
    "duration": 0,
    "start_time": "2022-06-05T10:23:28.839Z"
   },
   {
    "duration": 0,
    "start_time": "2022-06-05T10:23:28.840Z"
   },
   {
    "duration": 0,
    "start_time": "2022-06-05T10:23:28.841Z"
   },
   {
    "duration": 11,
    "start_time": "2022-06-05T10:23:48.021Z"
   },
   {
    "duration": 7,
    "start_time": "2022-06-05T10:23:50.061Z"
   },
   {
    "duration": 7,
    "start_time": "2022-06-05T10:24:19.590Z"
   },
   {
    "duration": 1343,
    "start_time": "2022-06-05T10:25:27.581Z"
   },
   {
    "duration": 64,
    "start_time": "2022-06-05T10:25:28.926Z"
   },
   {
    "duration": 18,
    "start_time": "2022-06-05T10:25:28.992Z"
   },
   {
    "duration": 14,
    "start_time": "2022-06-05T10:25:29.012Z"
   },
   {
    "duration": 5,
    "start_time": "2022-06-05T10:25:29.029Z"
   },
   {
    "duration": 5,
    "start_time": "2022-06-05T10:25:29.036Z"
   },
   {
    "duration": 10,
    "start_time": "2022-06-05T10:25:29.043Z"
   },
   {
    "duration": 7,
    "start_time": "2022-06-05T10:25:29.055Z"
   },
   {
    "duration": 8,
    "start_time": "2022-06-05T10:25:29.063Z"
   },
   {
    "duration": 66,
    "start_time": "2022-06-05T10:25:29.072Z"
   },
   {
    "duration": 4,
    "start_time": "2022-06-05T10:25:29.139Z"
   },
   {
    "duration": 8,
    "start_time": "2022-06-05T10:25:29.145Z"
   },
   {
    "duration": 9,
    "start_time": "2022-06-05T10:25:29.154Z"
   },
   {
    "duration": 4,
    "start_time": "2022-06-05T10:25:29.166Z"
   },
   {
    "duration": 7,
    "start_time": "2022-06-05T10:25:29.172Z"
   },
   {
    "duration": 7,
    "start_time": "2022-06-05T10:25:29.180Z"
   },
   {
    "duration": 35,
    "start_time": "2022-06-05T10:25:29.188Z"
   },
   {
    "duration": 273,
    "start_time": "2022-06-05T10:25:29.225Z"
   },
   {
    "duration": 225,
    "start_time": "2022-06-05T10:25:29.500Z"
   },
   {
    "duration": 9,
    "start_time": "2022-06-05T10:25:29.726Z"
   },
   {
    "duration": 6,
    "start_time": "2022-06-05T10:25:29.737Z"
   },
   {
    "duration": 10,
    "start_time": "2022-06-05T10:25:29.745Z"
   },
   {
    "duration": 8,
    "start_time": "2022-06-05T10:25:29.757Z"
   },
   {
    "duration": 11,
    "start_time": "2022-06-05T10:25:29.767Z"
   },
   {
    "duration": 8,
    "start_time": "2022-06-05T10:25:29.780Z"
   },
   {
    "duration": 237,
    "start_time": "2022-06-05T10:25:29.790Z"
   },
   {
    "duration": 11,
    "start_time": "2022-06-05T10:25:30.030Z"
   },
   {
    "duration": 9,
    "start_time": "2022-06-05T10:25:30.043Z"
   },
   {
    "duration": 252,
    "start_time": "2022-06-05T10:25:30.054Z"
   },
   {
    "duration": 19,
    "start_time": "2022-06-05T10:25:30.308Z"
   },
   {
    "duration": 200,
    "start_time": "2022-06-05T10:25:30.328Z"
   },
   {
    "duration": 10,
    "start_time": "2022-06-05T10:25:30.530Z"
   },
   {
    "duration": 11,
    "start_time": "2022-06-05T10:25:30.541Z"
   },
   {
    "duration": 234,
    "start_time": "2022-06-05T10:25:30.553Z"
   },
   {
    "duration": 10,
    "start_time": "2022-06-05T10:25:30.789Z"
   },
   {
    "duration": 23,
    "start_time": "2022-06-05T10:25:30.800Z"
   },
   {
    "duration": 231,
    "start_time": "2022-06-05T10:25:30.825Z"
   },
   {
    "duration": 10,
    "start_time": "2022-06-05T10:25:31.058Z"
   },
   {
    "duration": 347,
    "start_time": "2022-06-05T10:25:31.069Z"
   },
   {
    "duration": 197,
    "start_time": "2022-06-05T10:25:31.417Z"
   },
   {
    "duration": 116,
    "start_time": "2022-06-05T10:25:31.622Z"
   },
   {
    "duration": 0,
    "start_time": "2022-06-05T10:25:31.740Z"
   },
   {
    "duration": 0,
    "start_time": "2022-06-05T10:25:31.741Z"
   },
   {
    "duration": 0,
    "start_time": "2022-06-05T10:25:31.742Z"
   },
   {
    "duration": 0,
    "start_time": "2022-06-05T10:25:31.743Z"
   },
   {
    "duration": 0,
    "start_time": "2022-06-05T10:25:31.744Z"
   },
   {
    "duration": 0,
    "start_time": "2022-06-05T10:25:31.745Z"
   },
   {
    "duration": 0,
    "start_time": "2022-06-05T10:25:31.745Z"
   },
   {
    "duration": 0,
    "start_time": "2022-06-05T10:25:31.746Z"
   },
   {
    "duration": 1,
    "start_time": "2022-06-05T10:25:31.747Z"
   },
   {
    "duration": 0,
    "start_time": "2022-06-05T10:25:31.749Z"
   },
   {
    "duration": 0,
    "start_time": "2022-06-05T10:25:31.750Z"
   },
   {
    "duration": 0,
    "start_time": "2022-06-05T10:25:31.751Z"
   },
   {
    "duration": 0,
    "start_time": "2022-06-05T10:25:31.752Z"
   },
   {
    "duration": 0,
    "start_time": "2022-06-05T10:25:31.753Z"
   },
   {
    "duration": 0,
    "start_time": "2022-06-05T10:25:31.754Z"
   },
   {
    "duration": 0,
    "start_time": "2022-06-05T10:25:31.755Z"
   },
   {
    "duration": 0,
    "start_time": "2022-06-05T10:25:31.756Z"
   },
   {
    "duration": 0,
    "start_time": "2022-06-05T10:25:31.757Z"
   },
   {
    "duration": 0,
    "start_time": "2022-06-05T10:25:31.758Z"
   },
   {
    "duration": 0,
    "start_time": "2022-06-05T10:25:31.759Z"
   },
   {
    "duration": 0,
    "start_time": "2022-06-05T10:25:31.759Z"
   },
   {
    "duration": 0,
    "start_time": "2022-06-05T10:25:31.760Z"
   },
   {
    "duration": 0,
    "start_time": "2022-06-05T10:25:31.761Z"
   },
   {
    "duration": 0,
    "start_time": "2022-06-05T10:25:31.762Z"
   },
   {
    "duration": 0,
    "start_time": "2022-06-05T10:25:31.763Z"
   },
   {
    "duration": 0,
    "start_time": "2022-06-05T10:25:31.764Z"
   },
   {
    "duration": 0,
    "start_time": "2022-06-05T10:25:31.765Z"
   },
   {
    "duration": 10,
    "start_time": "2022-06-05T10:26:14.483Z"
   },
   {
    "duration": 6,
    "start_time": "2022-06-05T10:26:16.661Z"
   },
   {
    "duration": 188,
    "start_time": "2022-06-05T10:26:23.056Z"
   },
   {
    "duration": 13,
    "start_time": "2022-06-05T10:26:32.567Z"
   },
   {
    "duration": 178,
    "start_time": "2022-06-05T10:26:35.451Z"
   },
   {
    "duration": 11,
    "start_time": "2022-06-05T10:26:45.279Z"
   },
   {
    "duration": 1312,
    "start_time": "2022-06-05T10:26:59.080Z"
   },
   {
    "duration": 458,
    "start_time": "2022-06-05T10:27:00.394Z"
   },
   {
    "duration": 14,
    "start_time": "2022-06-05T10:27:00.854Z"
   },
   {
    "duration": 13,
    "start_time": "2022-06-05T10:27:00.870Z"
   },
   {
    "duration": 5,
    "start_time": "2022-06-05T10:27:00.885Z"
   },
   {
    "duration": 12,
    "start_time": "2022-06-05T10:27:00.891Z"
   },
   {
    "duration": 10,
    "start_time": "2022-06-05T10:27:00.904Z"
   },
   {
    "duration": 13,
    "start_time": "2022-06-05T10:27:00.915Z"
   },
   {
    "duration": 19,
    "start_time": "2022-06-05T10:27:00.929Z"
   },
   {
    "duration": 54,
    "start_time": "2022-06-05T10:27:00.950Z"
   },
   {
    "duration": 4,
    "start_time": "2022-06-05T10:27:01.006Z"
   },
   {
    "duration": 11,
    "start_time": "2022-06-05T10:27:01.012Z"
   },
   {
    "duration": 20,
    "start_time": "2022-06-05T10:27:01.025Z"
   },
   {
    "duration": 17,
    "start_time": "2022-06-05T10:27:01.048Z"
   },
   {
    "duration": 14,
    "start_time": "2022-06-05T10:27:01.066Z"
   },
   {
    "duration": 25,
    "start_time": "2022-06-05T10:27:01.082Z"
   },
   {
    "duration": 11,
    "start_time": "2022-06-05T10:27:01.109Z"
   },
   {
    "duration": 275,
    "start_time": "2022-06-05T10:27:01.122Z"
   },
   {
    "duration": 250,
    "start_time": "2022-06-05T10:27:01.399Z"
   },
   {
    "duration": 10,
    "start_time": "2022-06-05T10:27:01.651Z"
   },
   {
    "duration": 19,
    "start_time": "2022-06-05T10:27:01.662Z"
   },
   {
    "duration": 18,
    "start_time": "2022-06-05T10:27:01.682Z"
   },
   {
    "duration": 21,
    "start_time": "2022-06-05T10:27:01.701Z"
   },
   {
    "duration": 22,
    "start_time": "2022-06-05T10:27:01.724Z"
   },
   {
    "duration": 23,
    "start_time": "2022-06-05T10:27:01.747Z"
   },
   {
    "duration": 265,
    "start_time": "2022-06-05T10:27:01.772Z"
   },
   {
    "duration": 13,
    "start_time": "2022-06-05T10:27:02.038Z"
   },
   {
    "duration": 55,
    "start_time": "2022-06-05T10:27:02.053Z"
   },
   {
    "duration": 250,
    "start_time": "2022-06-05T10:27:02.110Z"
   },
   {
    "duration": 10,
    "start_time": "2022-06-05T10:27:02.362Z"
   },
   {
    "duration": 221,
    "start_time": "2022-06-05T10:27:02.373Z"
   },
   {
    "duration": 13,
    "start_time": "2022-06-05T10:27:02.596Z"
   },
   {
    "duration": 9,
    "start_time": "2022-06-05T10:27:02.625Z"
   },
   {
    "duration": 293,
    "start_time": "2022-06-05T10:27:02.635Z"
   },
   {
    "duration": 11,
    "start_time": "2022-06-05T10:27:02.930Z"
   },
   {
    "duration": 10,
    "start_time": "2022-06-05T10:27:02.942Z"
   },
   {
    "duration": 239,
    "start_time": "2022-06-05T10:27:02.954Z"
   },
   {
    "duration": 13,
    "start_time": "2022-06-05T10:27:03.195Z"
   },
   {
    "duration": 344,
    "start_time": "2022-06-05T10:27:03.210Z"
   },
   {
    "duration": 206,
    "start_time": "2022-06-05T10:27:03.556Z"
   },
   {
    "duration": 115,
    "start_time": "2022-06-05T10:27:03.766Z"
   },
   {
    "duration": 0,
    "start_time": "2022-06-05T10:27:03.882Z"
   },
   {
    "duration": 0,
    "start_time": "2022-06-05T10:27:03.883Z"
   },
   {
    "duration": 0,
    "start_time": "2022-06-05T10:27:03.885Z"
   },
   {
    "duration": 0,
    "start_time": "2022-06-05T10:27:03.886Z"
   },
   {
    "duration": 0,
    "start_time": "2022-06-05T10:27:03.888Z"
   },
   {
    "duration": 0,
    "start_time": "2022-06-05T10:27:03.889Z"
   },
   {
    "duration": 0,
    "start_time": "2022-06-05T10:27:03.891Z"
   },
   {
    "duration": 0,
    "start_time": "2022-06-05T10:27:03.892Z"
   },
   {
    "duration": 0,
    "start_time": "2022-06-05T10:27:03.893Z"
   },
   {
    "duration": 0,
    "start_time": "2022-06-05T10:27:03.894Z"
   },
   {
    "duration": 0,
    "start_time": "2022-06-05T10:27:03.895Z"
   },
   {
    "duration": 0,
    "start_time": "2022-06-05T10:27:03.896Z"
   },
   {
    "duration": 0,
    "start_time": "2022-06-05T10:27:03.923Z"
   },
   {
    "duration": 0,
    "start_time": "2022-06-05T10:27:03.924Z"
   },
   {
    "duration": 0,
    "start_time": "2022-06-05T10:27:03.925Z"
   },
   {
    "duration": 0,
    "start_time": "2022-06-05T10:27:03.927Z"
   },
   {
    "duration": 0,
    "start_time": "2022-06-05T10:27:03.928Z"
   },
   {
    "duration": 0,
    "start_time": "2022-06-05T10:27:03.929Z"
   },
   {
    "duration": 0,
    "start_time": "2022-06-05T10:27:03.930Z"
   },
   {
    "duration": 0,
    "start_time": "2022-06-05T10:27:03.931Z"
   },
   {
    "duration": 0,
    "start_time": "2022-06-05T10:27:03.932Z"
   },
   {
    "duration": 0,
    "start_time": "2022-06-05T10:27:03.933Z"
   },
   {
    "duration": 0,
    "start_time": "2022-06-05T10:27:03.935Z"
   },
   {
    "duration": 0,
    "start_time": "2022-06-05T10:27:03.936Z"
   },
   {
    "duration": 0,
    "start_time": "2022-06-05T10:27:03.938Z"
   },
   {
    "duration": 0,
    "start_time": "2022-06-05T10:27:03.939Z"
   },
   {
    "duration": 0,
    "start_time": "2022-06-05T10:27:03.942Z"
   },
   {
    "duration": 1344,
    "start_time": "2022-06-05T10:27:17.619Z"
   },
   {
    "duration": 57,
    "start_time": "2022-06-05T10:27:18.964Z"
   },
   {
    "duration": 13,
    "start_time": "2022-06-05T10:27:19.023Z"
   },
   {
    "duration": 11,
    "start_time": "2022-06-05T10:27:19.038Z"
   },
   {
    "duration": 4,
    "start_time": "2022-06-05T10:27:19.051Z"
   },
   {
    "duration": 7,
    "start_time": "2022-06-05T10:27:19.056Z"
   },
   {
    "duration": 8,
    "start_time": "2022-06-05T10:27:19.065Z"
   },
   {
    "duration": 9,
    "start_time": "2022-06-05T10:27:19.074Z"
   },
   {
    "duration": 41,
    "start_time": "2022-06-05T10:27:19.084Z"
   },
   {
    "duration": 44,
    "start_time": "2022-06-05T10:27:19.127Z"
   },
   {
    "duration": 4,
    "start_time": "2022-06-05T10:27:19.173Z"
   },
   {
    "duration": 9,
    "start_time": "2022-06-05T10:27:19.178Z"
   },
   {
    "duration": 11,
    "start_time": "2022-06-05T10:27:19.189Z"
   },
   {
    "duration": 9,
    "start_time": "2022-06-05T10:27:19.222Z"
   },
   {
    "duration": 11,
    "start_time": "2022-06-05T10:27:19.233Z"
   },
   {
    "duration": 7,
    "start_time": "2022-06-05T10:27:19.246Z"
   },
   {
    "duration": 7,
    "start_time": "2022-06-05T10:27:19.254Z"
   },
   {
    "duration": 282,
    "start_time": "2022-06-05T10:27:19.262Z"
   },
   {
    "duration": 235,
    "start_time": "2022-06-05T10:27:19.546Z"
   },
   {
    "duration": 10,
    "start_time": "2022-06-05T10:27:19.783Z"
   },
   {
    "duration": 6,
    "start_time": "2022-06-05T10:27:19.795Z"
   },
   {
    "duration": 25,
    "start_time": "2022-06-05T10:27:19.803Z"
   },
   {
    "duration": 8,
    "start_time": "2022-06-05T10:27:19.829Z"
   },
   {
    "duration": 6,
    "start_time": "2022-06-05T10:27:19.839Z"
   },
   {
    "duration": 6,
    "start_time": "2022-06-05T10:27:19.847Z"
   },
   {
    "duration": 223,
    "start_time": "2022-06-05T10:27:19.855Z"
   },
   {
    "duration": 12,
    "start_time": "2022-06-05T10:27:20.080Z"
   },
   {
    "duration": 9,
    "start_time": "2022-06-05T10:27:20.094Z"
   },
   {
    "duration": 245,
    "start_time": "2022-06-05T10:27:20.105Z"
   },
   {
    "duration": 11,
    "start_time": "2022-06-05T10:27:20.352Z"
   },
   {
    "duration": 217,
    "start_time": "2022-06-05T10:27:20.365Z"
   },
   {
    "duration": 10,
    "start_time": "2022-06-05T10:27:20.584Z"
   },
   {
    "duration": 5,
    "start_time": "2022-06-05T10:27:20.596Z"
   },
   {
    "duration": 243,
    "start_time": "2022-06-05T10:27:20.603Z"
   },
   {
    "duration": 11,
    "start_time": "2022-06-05T10:27:20.848Z"
   },
   {
    "duration": 8,
    "start_time": "2022-06-05T10:27:20.860Z"
   },
   {
    "duration": 242,
    "start_time": "2022-06-05T10:27:20.869Z"
   },
   {
    "duration": 16,
    "start_time": "2022-06-05T10:27:21.113Z"
   },
   {
    "duration": 324,
    "start_time": "2022-06-05T10:27:21.131Z"
   },
   {
    "duration": 205,
    "start_time": "2022-06-05T10:27:21.457Z"
   },
   {
    "duration": 9,
    "start_time": "2022-06-05T10:27:21.665Z"
   },
   {
    "duration": 5,
    "start_time": "2022-06-05T10:27:21.676Z"
   },
   {
    "duration": 187,
    "start_time": "2022-06-05T10:27:21.682Z"
   },
   {
    "duration": 11,
    "start_time": "2022-06-05T10:27:21.871Z"
   },
   {
    "duration": 199,
    "start_time": "2022-06-05T10:27:21.883Z"
   },
   {
    "duration": 11,
    "start_time": "2022-06-05T10:27:22.084Z"
   },
   {
    "duration": 163,
    "start_time": "2022-06-05T10:27:22.097Z"
   },
   {
    "duration": 11,
    "start_time": "2022-06-05T10:27:22.262Z"
   },
   {
    "duration": 9,
    "start_time": "2022-06-05T10:27:22.274Z"
   },
   {
    "duration": 6,
    "start_time": "2022-06-05T10:27:22.285Z"
   },
   {
    "duration": 13,
    "start_time": "2022-06-05T10:27:22.293Z"
   },
   {
    "duration": 4012,
    "start_time": "2022-06-05T10:27:22.322Z"
   },
   {
    "duration": 272272,
    "start_time": "2022-06-05T10:27:26.336Z"
   },
   {
    "duration": 2723,
    "start_time": "2022-06-05T10:31:58.610Z"
   },
   {
    "duration": 22,
    "start_time": "2022-06-05T10:32:01.335Z"
   },
   {
    "duration": 3,
    "start_time": "2022-06-05T10:32:01.359Z"
   },
   {
    "duration": 34,
    "start_time": "2022-06-05T10:32:01.363Z"
   },
   {
    "duration": 31,
    "start_time": "2022-06-05T10:32:01.400Z"
   },
   {
    "duration": 18,
    "start_time": "2022-06-05T10:32:01.433Z"
   },
   {
    "duration": 15,
    "start_time": "2022-06-05T10:32:01.453Z"
   },
   {
    "duration": 168,
    "start_time": "2022-06-05T10:32:01.470Z"
   },
   {
    "duration": 7,
    "start_time": "2022-06-05T10:32:01.640Z"
   },
   {
    "duration": 137,
    "start_time": "2022-06-05T10:32:01.649Z"
   },
   {
    "duration": 0,
    "start_time": "2022-06-05T10:32:01.787Z"
   },
   {
    "duration": 0,
    "start_time": "2022-06-05T10:32:01.788Z"
   },
   {
    "duration": 0,
    "start_time": "2022-06-05T10:32:01.790Z"
   },
   {
    "duration": 0,
    "start_time": "2022-06-05T10:32:01.790Z"
   },
   {
    "duration": 6,
    "start_time": "2022-06-05T10:37:55.983Z"
   },
   {
    "duration": 4,
    "start_time": "2022-06-05T10:37:56.455Z"
   },
   {
    "duration": 5,
    "start_time": "2022-06-05T10:38:03.884Z"
   },
   {
    "duration": 6,
    "start_time": "2022-06-05T10:38:11.907Z"
   },
   {
    "duration": 4,
    "start_time": "2022-06-05T10:38:12.385Z"
   },
   {
    "duration": 6,
    "start_time": "2022-06-05T10:38:13.042Z"
   },
   {
    "duration": 5,
    "start_time": "2022-06-05T10:38:20.535Z"
   },
   {
    "duration": 3,
    "start_time": "2022-06-05T10:38:20.949Z"
   },
   {
    "duration": 5,
    "start_time": "2022-06-05T10:38:21.341Z"
   },
   {
    "duration": 148,
    "start_time": "2022-06-05T10:43:19.648Z"
   },
   {
    "duration": 10,
    "start_time": "2022-06-05T10:43:56.282Z"
   },
   {
    "duration": 5,
    "start_time": "2022-06-05T10:43:56.760Z"
   },
   {
    "duration": 4,
    "start_time": "2022-06-05T10:44:00.505Z"
   },
   {
    "duration": 6,
    "start_time": "2022-06-05T10:44:02.496Z"
   },
   {
    "duration": 118,
    "start_time": "2022-06-05T10:44:06.444Z"
   },
   {
    "duration": 115,
    "start_time": "2022-06-05T10:44:20.912Z"
   },
   {
    "duration": 116,
    "start_time": "2022-06-05T10:44:26.582Z"
   },
   {
    "duration": 120,
    "start_time": "2022-06-05T10:44:35.622Z"
   },
   {
    "duration": 117,
    "start_time": "2022-06-05T10:44:41.806Z"
   },
   {
    "duration": 116,
    "start_time": "2022-06-05T10:44:45.796Z"
   },
   {
    "duration": 571,
    "start_time": "2022-06-05T10:44:55.197Z"
   },
   {
    "duration": 123,
    "start_time": "2022-06-05T10:44:59.779Z"
   },
   {
    "duration": 114,
    "start_time": "2022-06-05T10:45:21.982Z"
   },
   {
    "duration": 9,
    "start_time": "2022-06-05T10:45:37.559Z"
   },
   {
    "duration": 8,
    "start_time": "2022-06-05T10:45:48.953Z"
   },
   {
    "duration": 4,
    "start_time": "2022-06-05T10:45:49.643Z"
   },
   {
    "duration": 5,
    "start_time": "2022-06-05T10:45:50.199Z"
   },
   {
    "duration": 6,
    "start_time": "2022-06-05T10:45:54.841Z"
   },
   {
    "duration": 4,
    "start_time": "2022-06-05T10:45:55.314Z"
   },
   {
    "duration": 5,
    "start_time": "2022-06-05T10:45:55.776Z"
   },
   {
    "duration": 7,
    "start_time": "2022-06-05T10:45:59.777Z"
   },
   {
    "duration": 4,
    "start_time": "2022-06-05T10:46:00.190Z"
   },
   {
    "duration": 7,
    "start_time": "2022-06-05T10:46:00.593Z"
   },
   {
    "duration": 6,
    "start_time": "2022-06-05T10:46:09.900Z"
   },
   {
    "duration": 4,
    "start_time": "2022-06-05T10:46:10.441Z"
   },
   {
    "duration": 6,
    "start_time": "2022-06-05T10:46:11.197Z"
   },
   {
    "duration": 9,
    "start_time": "2022-06-05T10:46:55.942Z"
   },
   {
    "duration": 6,
    "start_time": "2022-06-05T10:46:56.400Z"
   },
   {
    "duration": 3,
    "start_time": "2022-06-05T10:46:57.909Z"
   },
   {
    "duration": 7,
    "start_time": "2022-06-05T10:46:58.486Z"
   },
   {
    "duration": 122,
    "start_time": "2022-06-05T10:47:01.299Z"
   },
   {
    "duration": 9,
    "start_time": "2022-06-05T10:47:04.725Z"
   },
   {
    "duration": 398,
    "start_time": "2022-06-05T10:47:08.197Z"
   },
   {
    "duration": 6,
    "start_time": "2022-06-05T10:47:15.263Z"
   },
   {
    "duration": 7,
    "start_time": "2022-06-05T10:47:25.218Z"
   },
   {
    "duration": 7,
    "start_time": "2022-06-05T10:47:32.787Z"
   },
   {
    "duration": 6,
    "start_time": "2022-06-05T10:47:39.277Z"
   },
   {
    "duration": 6,
    "start_time": "2022-06-05T10:47:45.577Z"
   },
   {
    "duration": 6,
    "start_time": "2022-06-05T10:47:52.177Z"
   },
   {
    "duration": 6,
    "start_time": "2022-06-05T10:48:09.814Z"
   },
   {
    "duration": 6,
    "start_time": "2022-06-05T10:48:14.277Z"
   },
   {
    "duration": 7,
    "start_time": "2022-06-05T10:48:23.341Z"
   },
   {
    "duration": 7,
    "start_time": "2022-06-05T10:48:37.581Z"
   },
   {
    "duration": 7,
    "start_time": "2022-06-05T10:48:52.513Z"
   },
   {
    "duration": 5,
    "start_time": "2022-06-05T10:49:01.484Z"
   },
   {
    "duration": 6,
    "start_time": "2022-06-05T10:49:32.216Z"
   },
   {
    "duration": 4,
    "start_time": "2022-06-05T10:49:32.786Z"
   },
   {
    "duration": 6,
    "start_time": "2022-06-05T10:49:33.721Z"
   },
   {
    "duration": 2,
    "start_time": "2022-06-05T10:49:41.549Z"
   },
   {
    "duration": 12,
    "start_time": "2022-06-05T10:49:42.128Z"
   },
   {
    "duration": 6,
    "start_time": "2022-06-05T10:49:42.677Z"
   },
   {
    "duration": 4,
    "start_time": "2022-06-05T10:49:45.277Z"
   },
   {
    "duration": 6,
    "start_time": "2022-06-05T10:49:48.185Z"
   },
   {
    "duration": 114,
    "start_time": "2022-06-05T10:49:49.602Z"
   },
   {
    "duration": 11,
    "start_time": "2022-06-05T10:50:02.804Z"
   },
   {
    "duration": 6,
    "start_time": "2022-06-05T10:50:16.716Z"
   },
   {
    "duration": 6,
    "start_time": "2022-06-05T10:50:20.743Z"
   },
   {
    "duration": 3,
    "start_time": "2022-06-05T10:50:24.027Z"
   },
   {
    "duration": 7,
    "start_time": "2022-06-05T10:50:25.832Z"
   },
   {
    "duration": 33,
    "start_time": "2022-06-05T10:52:07.620Z"
   },
   {
    "duration": 23,
    "start_time": "2022-06-05T11:00:58.144Z"
   },
   {
    "duration": 13,
    "start_time": "2022-06-05T11:12:31.458Z"
   },
   {
    "duration": 9,
    "start_time": "2022-06-05T11:12:44.991Z"
   },
   {
    "duration": 41,
    "start_time": "2022-06-05T11:15:28.004Z"
   },
   {
    "duration": 16,
    "start_time": "2022-06-05T11:15:34.883Z"
   },
   {
    "duration": 1325,
    "start_time": "2022-06-05T11:21:21.725Z"
   },
   {
    "duration": 96,
    "start_time": "2022-06-05T11:21:23.052Z"
   },
   {
    "duration": 14,
    "start_time": "2022-06-05T11:21:23.150Z"
   },
   {
    "duration": 11,
    "start_time": "2022-06-05T11:21:23.166Z"
   },
   {
    "duration": 4,
    "start_time": "2022-06-05T11:21:23.178Z"
   },
   {
    "duration": 4,
    "start_time": "2022-06-05T11:21:23.183Z"
   },
   {
    "duration": 9,
    "start_time": "2022-06-05T11:21:23.188Z"
   },
   {
    "duration": 26,
    "start_time": "2022-06-05T11:21:23.199Z"
   },
   {
    "duration": 6,
    "start_time": "2022-06-05T11:21:23.226Z"
   },
   {
    "duration": 44,
    "start_time": "2022-06-05T11:21:23.236Z"
   },
   {
    "duration": 4,
    "start_time": "2022-06-05T11:21:23.281Z"
   },
   {
    "duration": 21,
    "start_time": "2022-06-05T11:21:23.286Z"
   },
   {
    "duration": 19,
    "start_time": "2022-06-05T11:21:23.308Z"
   },
   {
    "duration": 22,
    "start_time": "2022-06-05T11:21:23.328Z"
   },
   {
    "duration": 19,
    "start_time": "2022-06-05T11:21:23.352Z"
   },
   {
    "duration": 9,
    "start_time": "2022-06-05T11:21:23.373Z"
   },
   {
    "duration": 6,
    "start_time": "2022-06-05T11:21:23.384Z"
   },
   {
    "duration": 247,
    "start_time": "2022-06-05T11:21:23.392Z"
   },
   {
    "duration": 229,
    "start_time": "2022-06-05T11:21:23.641Z"
   },
   {
    "duration": 10,
    "start_time": "2022-06-05T11:21:23.872Z"
   },
   {
    "duration": 9,
    "start_time": "2022-06-05T11:21:23.884Z"
   },
   {
    "duration": 29,
    "start_time": "2022-06-05T11:21:23.895Z"
   },
   {
    "duration": 9,
    "start_time": "2022-06-05T11:21:23.926Z"
   },
   {
    "duration": 8,
    "start_time": "2022-06-05T11:21:23.937Z"
   },
   {
    "duration": 7,
    "start_time": "2022-06-05T11:21:23.947Z"
   },
   {
    "duration": 234,
    "start_time": "2022-06-05T11:21:23.955Z"
   },
   {
    "duration": 10,
    "start_time": "2022-06-05T11:21:24.191Z"
   },
   {
    "duration": 22,
    "start_time": "2022-06-05T11:21:24.204Z"
   },
   {
    "duration": 220,
    "start_time": "2022-06-05T11:21:24.228Z"
   },
   {
    "duration": 9,
    "start_time": "2022-06-05T11:21:24.450Z"
   },
   {
    "duration": 205,
    "start_time": "2022-06-05T11:21:24.460Z"
   },
   {
    "duration": 10,
    "start_time": "2022-06-05T11:21:24.667Z"
   },
   {
    "duration": 10,
    "start_time": "2022-06-05T11:21:24.678Z"
   },
   {
    "duration": 221,
    "start_time": "2022-06-05T11:21:24.690Z"
   },
   {
    "duration": 18,
    "start_time": "2022-06-05T11:21:24.913Z"
   },
   {
    "duration": 9,
    "start_time": "2022-06-05T11:21:24.933Z"
   },
   {
    "duration": 342,
    "start_time": "2022-06-05T11:21:24.943Z"
   },
   {
    "duration": 9,
    "start_time": "2022-06-05T11:21:25.287Z"
   },
   {
    "duration": 206,
    "start_time": "2022-06-05T11:21:25.297Z"
   },
   {
    "duration": 190,
    "start_time": "2022-06-05T11:21:25.505Z"
   },
   {
    "duration": 10,
    "start_time": "2022-06-05T11:21:25.696Z"
   },
   {
    "duration": 178,
    "start_time": "2022-06-05T11:21:25.708Z"
   },
   {
    "duration": 10,
    "start_time": "2022-06-05T11:21:25.888Z"
   },
   {
    "duration": 188,
    "start_time": "2022-06-05T11:21:25.900Z"
   },
   {
    "duration": 12,
    "start_time": "2022-06-05T11:21:26.090Z"
   },
   {
    "duration": 149,
    "start_time": "2022-06-05T11:21:26.104Z"
   },
   {
    "duration": 10,
    "start_time": "2022-06-05T11:21:26.255Z"
   },
   {
    "duration": 9,
    "start_time": "2022-06-05T11:21:26.267Z"
   },
   {
    "duration": 4,
    "start_time": "2022-06-05T11:21:26.277Z"
   },
   {
    "duration": 11,
    "start_time": "2022-06-05T11:21:26.282Z"
   },
   {
    "duration": 4104,
    "start_time": "2022-06-05T11:21:26.295Z"
   },
   {
    "duration": 272390,
    "start_time": "2022-06-05T11:21:30.401Z"
   },
   {
    "duration": 2730,
    "start_time": "2022-06-05T11:26:02.793Z"
   },
   {
    "duration": 24,
    "start_time": "2022-06-05T11:26:05.525Z"
   },
   {
    "duration": 3,
    "start_time": "2022-06-05T11:26:05.551Z"
   },
   {
    "duration": 12,
    "start_time": "2022-06-05T11:26:05.555Z"
   },
   {
    "duration": 17,
    "start_time": "2022-06-05T11:26:05.569Z"
   },
   {
    "duration": 10,
    "start_time": "2022-06-05T11:26:05.590Z"
   },
   {
    "duration": 11,
    "start_time": "2022-06-05T11:26:05.602Z"
   },
   {
    "duration": 115,
    "start_time": "2022-06-05T11:26:05.632Z"
   },
   {
    "duration": 9,
    "start_time": "2022-06-05T11:26:05.749Z"
   },
   {
    "duration": 8,
    "start_time": "2022-06-05T11:26:05.759Z"
   },
   {
    "duration": 8,
    "start_time": "2022-06-05T11:26:05.768Z"
   },
   {
    "duration": 7,
    "start_time": "2022-06-05T11:26:05.777Z"
   },
   {
    "duration": 10,
    "start_time": "2022-06-05T11:26:05.785Z"
   },
   {
    "duration": 1462,
    "start_time": "2022-06-05T20:41:07.754Z"
   },
   {
    "duration": 83,
    "start_time": "2022-06-05T20:41:09.219Z"
   },
   {
    "duration": 13,
    "start_time": "2022-06-05T20:41:09.304Z"
   },
   {
    "duration": 11,
    "start_time": "2022-06-05T20:41:09.319Z"
   },
   {
    "duration": 4,
    "start_time": "2022-06-05T20:41:09.332Z"
   },
   {
    "duration": 7,
    "start_time": "2022-06-05T20:41:09.337Z"
   },
   {
    "duration": 12,
    "start_time": "2022-06-05T20:41:09.345Z"
   },
   {
    "duration": 6,
    "start_time": "2022-06-05T20:41:09.358Z"
   },
   {
    "duration": 9,
    "start_time": "2022-06-05T20:41:09.365Z"
   },
   {
    "duration": 44,
    "start_time": "2022-06-05T20:41:09.376Z"
   },
   {
    "duration": 3,
    "start_time": "2022-06-05T20:41:09.422Z"
   },
   {
    "duration": 8,
    "start_time": "2022-06-05T20:41:09.427Z"
   },
   {
    "duration": 25,
    "start_time": "2022-06-05T20:41:09.436Z"
   },
   {
    "duration": 3,
    "start_time": "2022-06-05T20:41:09.464Z"
   },
   {
    "duration": 6,
    "start_time": "2022-06-05T20:41:09.469Z"
   },
   {
    "duration": 7,
    "start_time": "2022-06-05T20:41:09.476Z"
   },
   {
    "duration": 7,
    "start_time": "2022-06-05T20:41:09.484Z"
   },
   {
    "duration": 271,
    "start_time": "2022-06-05T20:41:09.492Z"
   },
   {
    "duration": 242,
    "start_time": "2022-06-05T20:41:09.764Z"
   },
   {
    "duration": 10,
    "start_time": "2022-06-05T20:41:10.007Z"
   },
   {
    "duration": 14,
    "start_time": "2022-06-05T20:41:10.019Z"
   },
   {
    "duration": 25,
    "start_time": "2022-06-05T20:41:10.034Z"
   },
   {
    "duration": 8,
    "start_time": "2022-06-05T20:41:10.060Z"
   },
   {
    "duration": 9,
    "start_time": "2022-06-05T20:41:10.069Z"
   },
   {
    "duration": 9,
    "start_time": "2022-06-05T20:41:10.080Z"
   },
   {
    "duration": 219,
    "start_time": "2022-06-05T20:41:10.090Z"
   },
   {
    "duration": 9,
    "start_time": "2022-06-05T20:41:10.311Z"
   },
   {
    "duration": 19,
    "start_time": "2022-06-05T20:41:10.321Z"
   },
   {
    "duration": 227,
    "start_time": "2022-06-05T20:41:10.341Z"
   },
   {
    "duration": 8,
    "start_time": "2022-06-05T20:41:10.570Z"
   },
   {
    "duration": 208,
    "start_time": "2022-06-05T20:41:10.580Z"
   },
   {
    "duration": 9,
    "start_time": "2022-06-05T20:41:10.790Z"
   },
   {
    "duration": 5,
    "start_time": "2022-06-05T20:41:10.800Z"
   },
   {
    "duration": 245,
    "start_time": "2022-06-05T20:41:10.806Z"
   },
   {
    "duration": 21,
    "start_time": "2022-06-05T20:41:11.052Z"
   },
   {
    "duration": 8,
    "start_time": "2022-06-05T20:41:11.075Z"
   },
   {
    "duration": 233,
    "start_time": "2022-06-05T20:41:11.085Z"
   },
   {
    "duration": 10,
    "start_time": "2022-06-05T20:41:11.319Z"
   },
   {
    "duration": 310,
    "start_time": "2022-06-05T20:41:11.330Z"
   },
   {
    "duration": 202,
    "start_time": "2022-06-05T20:41:11.642Z"
   },
   {
    "duration": 17,
    "start_time": "2022-06-05T20:41:11.849Z"
   },
   {
    "duration": 209,
    "start_time": "2022-06-05T20:41:11.868Z"
   },
   {
    "duration": 10,
    "start_time": "2022-06-05T20:41:12.079Z"
   },
   {
    "duration": 180,
    "start_time": "2022-06-05T20:41:12.091Z"
   },
   {
    "duration": 10,
    "start_time": "2022-06-05T20:41:12.273Z"
   },
   {
    "duration": 151,
    "start_time": "2022-06-05T20:41:12.285Z"
   },
   {
    "duration": 9,
    "start_time": "2022-06-05T20:41:12.437Z"
   },
   {
    "duration": 8,
    "start_time": "2022-06-05T20:41:12.459Z"
   },
   {
    "duration": 4,
    "start_time": "2022-06-05T20:41:12.469Z"
   },
   {
    "duration": 14,
    "start_time": "2022-06-05T20:41:12.475Z"
   },
   {
    "duration": 3730,
    "start_time": "2022-06-05T20:41:12.490Z"
   },
   {
    "duration": 271932,
    "start_time": "2022-06-05T20:41:16.222Z"
   },
   {
    "duration": 2914,
    "start_time": "2022-06-05T20:45:48.155Z"
   },
   {
    "duration": 17,
    "start_time": "2022-06-05T20:45:51.071Z"
   },
   {
    "duration": 3,
    "start_time": "2022-06-05T20:45:51.089Z"
   },
   {
    "duration": 8,
    "start_time": "2022-06-05T20:45:51.094Z"
   },
   {
    "duration": 6,
    "start_time": "2022-06-05T20:45:51.104Z"
   },
   {
    "duration": 5,
    "start_time": "2022-06-05T20:45:51.111Z"
   },
   {
    "duration": 8,
    "start_time": "2022-06-05T20:45:51.117Z"
   },
   {
    "duration": 159,
    "start_time": "2022-06-05T20:45:51.126Z"
   },
   {
    "duration": 8,
    "start_time": "2022-06-05T20:45:51.287Z"
   },
   {
    "duration": 8,
    "start_time": "2022-06-05T20:45:51.297Z"
   },
   {
    "duration": 10,
    "start_time": "2022-06-05T20:45:51.307Z"
   },
   {
    "duration": 5,
    "start_time": "2022-06-05T20:45:51.319Z"
   },
   {
    "duration": 8,
    "start_time": "2022-06-05T20:45:51.326Z"
   },
   {
    "duration": 1509,
    "start_time": "2022-06-06T09:59:55.419Z"
   },
   {
    "duration": 56,
    "start_time": "2022-06-06T09:59:56.930Z"
   },
   {
    "duration": 16,
    "start_time": "2022-06-06T09:59:56.988Z"
   },
   {
    "duration": 12,
    "start_time": "2022-06-06T09:59:57.007Z"
   },
   {
    "duration": 5,
    "start_time": "2022-06-06T09:59:57.021Z"
   },
   {
    "duration": 13,
    "start_time": "2022-06-06T09:59:57.027Z"
   },
   {
    "duration": 13,
    "start_time": "2022-06-06T09:59:57.041Z"
   },
   {
    "duration": 5,
    "start_time": "2022-06-06T09:59:57.055Z"
   },
   {
    "duration": 0,
    "start_time": "2022-06-06T09:59:57.065Z"
   },
   {
    "duration": 0,
    "start_time": "2022-06-06T09:59:57.066Z"
   },
   {
    "duration": 0,
    "start_time": "2022-06-06T09:59:57.068Z"
   },
   {
    "duration": 0,
    "start_time": "2022-06-06T09:59:57.069Z"
   },
   {
    "duration": 0,
    "start_time": "2022-06-06T09:59:57.071Z"
   },
   {
    "duration": 0,
    "start_time": "2022-06-06T09:59:57.072Z"
   },
   {
    "duration": 0,
    "start_time": "2022-06-06T09:59:57.073Z"
   },
   {
    "duration": 0,
    "start_time": "2022-06-06T09:59:57.074Z"
   },
   {
    "duration": 0,
    "start_time": "2022-06-06T09:59:57.076Z"
   },
   {
    "duration": 0,
    "start_time": "2022-06-06T09:59:57.077Z"
   },
   {
    "duration": 0,
    "start_time": "2022-06-06T09:59:57.079Z"
   },
   {
    "duration": 0,
    "start_time": "2022-06-06T09:59:57.080Z"
   },
   {
    "duration": 0,
    "start_time": "2022-06-06T09:59:57.081Z"
   },
   {
    "duration": 0,
    "start_time": "2022-06-06T09:59:57.082Z"
   },
   {
    "duration": 0,
    "start_time": "2022-06-06T09:59:57.084Z"
   },
   {
    "duration": 0,
    "start_time": "2022-06-06T09:59:57.085Z"
   },
   {
    "duration": 0,
    "start_time": "2022-06-06T09:59:57.087Z"
   },
   {
    "duration": 0,
    "start_time": "2022-06-06T09:59:57.088Z"
   },
   {
    "duration": 0,
    "start_time": "2022-06-06T09:59:57.089Z"
   },
   {
    "duration": 0,
    "start_time": "2022-06-06T09:59:57.091Z"
   },
   {
    "duration": 0,
    "start_time": "2022-06-06T09:59:57.092Z"
   },
   {
    "duration": 0,
    "start_time": "2022-06-06T09:59:57.093Z"
   },
   {
    "duration": 0,
    "start_time": "2022-06-06T09:59:57.095Z"
   },
   {
    "duration": 1,
    "start_time": "2022-06-06T09:59:57.096Z"
   },
   {
    "duration": 0,
    "start_time": "2022-06-06T09:59:57.153Z"
   },
   {
    "duration": 0,
    "start_time": "2022-06-06T09:59:57.154Z"
   },
   {
    "duration": 0,
    "start_time": "2022-06-06T09:59:57.156Z"
   },
   {
    "duration": 0,
    "start_time": "2022-06-06T09:59:57.157Z"
   },
   {
    "duration": 0,
    "start_time": "2022-06-06T09:59:57.158Z"
   },
   {
    "duration": 0,
    "start_time": "2022-06-06T09:59:57.159Z"
   },
   {
    "duration": 0,
    "start_time": "2022-06-06T09:59:57.161Z"
   },
   {
    "duration": 0,
    "start_time": "2022-06-06T09:59:57.162Z"
   },
   {
    "duration": 0,
    "start_time": "2022-06-06T09:59:57.164Z"
   },
   {
    "duration": 0,
    "start_time": "2022-06-06T09:59:57.166Z"
   },
   {
    "duration": 0,
    "start_time": "2022-06-06T09:59:57.167Z"
   },
   {
    "duration": 0,
    "start_time": "2022-06-06T09:59:57.168Z"
   },
   {
    "duration": 0,
    "start_time": "2022-06-06T09:59:57.169Z"
   },
   {
    "duration": 0,
    "start_time": "2022-06-06T09:59:57.169Z"
   },
   {
    "duration": 0,
    "start_time": "2022-06-06T09:59:57.171Z"
   },
   {
    "duration": 0,
    "start_time": "2022-06-06T09:59:57.171Z"
   },
   {
    "duration": 0,
    "start_time": "2022-06-06T09:59:57.172Z"
   },
   {
    "duration": 0,
    "start_time": "2022-06-06T09:59:57.173Z"
   },
   {
    "duration": 0,
    "start_time": "2022-06-06T09:59:57.174Z"
   },
   {
    "duration": 0,
    "start_time": "2022-06-06T09:59:57.175Z"
   },
   {
    "duration": 0,
    "start_time": "2022-06-06T09:59:57.176Z"
   },
   {
    "duration": 0,
    "start_time": "2022-06-06T09:59:57.177Z"
   },
   {
    "duration": 0,
    "start_time": "2022-06-06T09:59:57.178Z"
   },
   {
    "duration": 0,
    "start_time": "2022-06-06T09:59:57.180Z"
   },
   {
    "duration": 0,
    "start_time": "2022-06-06T09:59:57.181Z"
   },
   {
    "duration": 0,
    "start_time": "2022-06-06T09:59:57.182Z"
   },
   {
    "duration": 0,
    "start_time": "2022-06-06T09:59:57.183Z"
   },
   {
    "duration": 0,
    "start_time": "2022-06-06T09:59:57.184Z"
   },
   {
    "duration": 0,
    "start_time": "2022-06-06T09:59:57.185Z"
   },
   {
    "duration": 0,
    "start_time": "2022-06-06T09:59:57.186Z"
   },
   {
    "duration": 1,
    "start_time": "2022-06-06T09:59:57.186Z"
   },
   {
    "duration": 0,
    "start_time": "2022-06-06T09:59:57.188Z"
   },
   {
    "duration": 0,
    "start_time": "2022-06-06T09:59:57.189Z"
   },
   {
    "duration": 0,
    "start_time": "2022-06-06T09:59:57.190Z"
   },
   {
    "duration": 0,
    "start_time": "2022-06-06T09:59:57.191Z"
   },
   {
    "duration": 0,
    "start_time": "2022-06-06T09:59:57.252Z"
   },
   {
    "duration": 14,
    "start_time": "2022-06-06T10:00:04.604Z"
   },
   {
    "duration": 32,
    "start_time": "2022-06-06T10:01:03.020Z"
   },
   {
    "duration": 25,
    "start_time": "2022-06-06T10:01:11.603Z"
   },
   {
    "duration": 24,
    "start_time": "2022-06-06T10:01:56.881Z"
   },
   {
    "duration": 1339,
    "start_time": "2022-06-06T10:04:04.163Z"
   },
   {
    "duration": 76,
    "start_time": "2022-06-06T10:04:05.504Z"
   },
   {
    "duration": 16,
    "start_time": "2022-06-06T10:04:05.581Z"
   },
   {
    "duration": 13,
    "start_time": "2022-06-06T10:04:05.600Z"
   },
   {
    "duration": 4,
    "start_time": "2022-06-06T10:04:05.615Z"
   },
   {
    "duration": 17,
    "start_time": "2022-06-06T10:04:05.621Z"
   },
   {
    "duration": 12,
    "start_time": "2022-06-06T10:04:05.640Z"
   },
   {
    "duration": 17,
    "start_time": "2022-06-06T10:04:05.653Z"
   },
   {
    "duration": 52,
    "start_time": "2022-06-06T10:04:05.671Z"
   },
   {
    "duration": 4,
    "start_time": "2022-06-06T10:04:05.725Z"
   },
   {
    "duration": 23,
    "start_time": "2022-06-06T10:04:05.731Z"
   },
   {
    "duration": 12,
    "start_time": "2022-06-06T10:04:05.755Z"
   },
   {
    "duration": 144,
    "start_time": "2022-06-06T10:04:05.769Z"
   },
   {
    "duration": 0,
    "start_time": "2022-06-06T10:04:05.916Z"
   },
   {
    "duration": 0,
    "start_time": "2022-06-06T10:04:05.917Z"
   },
   {
    "duration": 0,
    "start_time": "2022-06-06T10:04:05.918Z"
   },
   {
    "duration": 0,
    "start_time": "2022-06-06T10:04:05.919Z"
   },
   {
    "duration": 0,
    "start_time": "2022-06-06T10:04:05.920Z"
   },
   {
    "duration": 0,
    "start_time": "2022-06-06T10:04:05.921Z"
   },
   {
    "duration": 0,
    "start_time": "2022-06-06T10:04:05.922Z"
   },
   {
    "duration": 0,
    "start_time": "2022-06-06T10:04:05.923Z"
   },
   {
    "duration": 0,
    "start_time": "2022-06-06T10:04:05.924Z"
   },
   {
    "duration": 1,
    "start_time": "2022-06-06T10:04:05.925Z"
   },
   {
    "duration": 0,
    "start_time": "2022-06-06T10:04:05.926Z"
   },
   {
    "duration": 0,
    "start_time": "2022-06-06T10:04:05.927Z"
   },
   {
    "duration": 0,
    "start_time": "2022-06-06T10:04:05.928Z"
   },
   {
    "duration": 0,
    "start_time": "2022-06-06T10:04:05.952Z"
   },
   {
    "duration": 0,
    "start_time": "2022-06-06T10:04:05.953Z"
   },
   {
    "duration": 0,
    "start_time": "2022-06-06T10:04:05.955Z"
   },
   {
    "duration": 0,
    "start_time": "2022-06-06T10:04:05.956Z"
   },
   {
    "duration": 0,
    "start_time": "2022-06-06T10:04:05.957Z"
   },
   {
    "duration": 0,
    "start_time": "2022-06-06T10:04:05.958Z"
   },
   {
    "duration": 0,
    "start_time": "2022-06-06T10:04:05.959Z"
   },
   {
    "duration": 0,
    "start_time": "2022-06-06T10:04:05.959Z"
   },
   {
    "duration": 0,
    "start_time": "2022-06-06T10:04:05.960Z"
   },
   {
    "duration": 0,
    "start_time": "2022-06-06T10:04:05.961Z"
   },
   {
    "duration": 0,
    "start_time": "2022-06-06T10:04:05.962Z"
   },
   {
    "duration": 0,
    "start_time": "2022-06-06T10:04:05.963Z"
   },
   {
    "duration": 0,
    "start_time": "2022-06-06T10:04:05.964Z"
   },
   {
    "duration": 0,
    "start_time": "2022-06-06T10:04:05.965Z"
   },
   {
    "duration": 0,
    "start_time": "2022-06-06T10:04:05.966Z"
   },
   {
    "duration": 0,
    "start_time": "2022-06-06T10:04:05.967Z"
   },
   {
    "duration": 0,
    "start_time": "2022-06-06T10:04:05.969Z"
   },
   {
    "duration": 0,
    "start_time": "2022-06-06T10:04:05.970Z"
   },
   {
    "duration": 0,
    "start_time": "2022-06-06T10:04:05.971Z"
   },
   {
    "duration": 0,
    "start_time": "2022-06-06T10:04:05.972Z"
   },
   {
    "duration": 0,
    "start_time": "2022-06-06T10:04:05.973Z"
   },
   {
    "duration": 0,
    "start_time": "2022-06-06T10:04:05.974Z"
   },
   {
    "duration": 0,
    "start_time": "2022-06-06T10:04:05.975Z"
   },
   {
    "duration": 0,
    "start_time": "2022-06-06T10:04:05.976Z"
   },
   {
    "duration": 0,
    "start_time": "2022-06-06T10:04:05.977Z"
   },
   {
    "duration": 0,
    "start_time": "2022-06-06T10:04:05.978Z"
   },
   {
    "duration": 0,
    "start_time": "2022-06-06T10:04:05.978Z"
   },
   {
    "duration": 0,
    "start_time": "2022-06-06T10:04:05.979Z"
   },
   {
    "duration": 0,
    "start_time": "2022-06-06T10:04:05.980Z"
   },
   {
    "duration": 0,
    "start_time": "2022-06-06T10:04:05.981Z"
   },
   {
    "duration": 0,
    "start_time": "2022-06-06T10:04:05.983Z"
   },
   {
    "duration": 0,
    "start_time": "2022-06-06T10:04:05.983Z"
   },
   {
    "duration": 0,
    "start_time": "2022-06-06T10:04:05.985Z"
   },
   {
    "duration": 0,
    "start_time": "2022-06-06T10:04:05.986Z"
   },
   {
    "duration": 0,
    "start_time": "2022-06-06T10:04:05.987Z"
   },
   {
    "duration": 0,
    "start_time": "2022-06-06T10:04:05.988Z"
   },
   {
    "duration": 0,
    "start_time": "2022-06-06T10:04:05.989Z"
   },
   {
    "duration": 0,
    "start_time": "2022-06-06T10:04:06.052Z"
   },
   {
    "duration": 5,
    "start_time": "2022-06-06T10:05:26.922Z"
   },
   {
    "duration": 8,
    "start_time": "2022-06-06T10:06:04.215Z"
   },
   {
    "duration": 7,
    "start_time": "2022-06-06T10:06:39.289Z"
   },
   {
    "duration": 6,
    "start_time": "2022-06-06T10:15:45.674Z"
   },
   {
    "duration": 6,
    "start_time": "2022-06-06T10:15:46.368Z"
   },
   {
    "duration": 291,
    "start_time": "2022-06-06T10:15:49.196Z"
   },
   {
    "duration": 246,
    "start_time": "2022-06-06T10:15:52.189Z"
   },
   {
    "duration": 14,
    "start_time": "2022-06-06T10:15:54.974Z"
   },
   {
    "duration": 10,
    "start_time": "2022-06-06T10:15:56.505Z"
   },
   {
    "duration": 11,
    "start_time": "2022-06-06T10:15:58.440Z"
   },
   {
    "duration": 10,
    "start_time": "2022-06-06T10:16:00.732Z"
   },
   {
    "duration": 9,
    "start_time": "2022-06-06T10:16:02.947Z"
   },
   {
    "duration": 9,
    "start_time": "2022-06-06T10:16:04.221Z"
   },
   {
    "duration": 212,
    "start_time": "2022-06-06T10:16:11.729Z"
   },
   {
    "duration": 10,
    "start_time": "2022-06-06T10:16:13.674Z"
   },
   {
    "duration": 10,
    "start_time": "2022-06-06T10:16:14.509Z"
   },
   {
    "duration": 17,
    "start_time": "2022-06-06T10:16:17.277Z"
   },
   {
    "duration": 13,
    "start_time": "2022-06-06T10:16:28.931Z"
   },
   {
    "duration": 1433,
    "start_time": "2022-06-06T10:19:59.318Z"
   },
   {
    "duration": 69,
    "start_time": "2022-06-06T10:20:00.753Z"
   },
   {
    "duration": 17,
    "start_time": "2022-06-06T10:20:00.824Z"
   },
   {
    "duration": 35,
    "start_time": "2022-06-06T10:20:00.845Z"
   },
   {
    "duration": 14,
    "start_time": "2022-06-06T10:20:00.883Z"
   },
   {
    "duration": 22,
    "start_time": "2022-06-06T10:20:00.899Z"
   },
   {
    "duration": 21,
    "start_time": "2022-06-06T10:20:00.923Z"
   },
   {
    "duration": 54,
    "start_time": "2022-06-06T10:20:00.946Z"
   },
   {
    "duration": 5,
    "start_time": "2022-06-06T10:20:01.002Z"
   },
   {
    "duration": 43,
    "start_time": "2022-06-06T10:20:01.011Z"
   },
   {
    "duration": 23,
    "start_time": "2022-06-06T10:20:01.057Z"
   },
   {
    "duration": 37,
    "start_time": "2022-06-06T10:20:01.082Z"
   },
   {
    "duration": 67,
    "start_time": "2022-06-06T10:20:01.121Z"
   },
   {
    "duration": 50,
    "start_time": "2022-06-06T10:20:01.191Z"
   },
   {
    "duration": 31,
    "start_time": "2022-06-06T10:20:01.243Z"
   },
   {
    "duration": 319,
    "start_time": "2022-06-06T10:20:01.276Z"
   },
   {
    "duration": 307,
    "start_time": "2022-06-06T10:20:01.597Z"
   },
   {
    "duration": 14,
    "start_time": "2022-06-06T10:20:01.907Z"
   },
   {
    "duration": 49,
    "start_time": "2022-06-06T10:20:01.923Z"
   },
   {
    "duration": 28,
    "start_time": "2022-06-06T10:20:01.974Z"
   },
   {
    "duration": 35,
    "start_time": "2022-06-06T10:20:02.005Z"
   },
   {
    "duration": 10,
    "start_time": "2022-06-06T10:20:02.041Z"
   },
   {
    "duration": 20,
    "start_time": "2022-06-06T10:20:02.053Z"
   },
   {
    "duration": 250,
    "start_time": "2022-06-06T10:20:02.074Z"
   },
   {
    "duration": 12,
    "start_time": "2022-06-06T10:20:02.325Z"
   },
   {
    "duration": 11,
    "start_time": "2022-06-06T10:20:02.351Z"
   },
   {
    "duration": 154,
    "start_time": "2022-06-06T10:20:02.365Z"
   },
   {
    "duration": 0,
    "start_time": "2022-06-06T10:20:02.523Z"
   },
   {
    "duration": 0,
    "start_time": "2022-06-06T10:20:02.525Z"
   },
   {
    "duration": 0,
    "start_time": "2022-06-06T10:20:02.527Z"
   },
   {
    "duration": 0,
    "start_time": "2022-06-06T10:20:02.528Z"
   },
   {
    "duration": 0,
    "start_time": "2022-06-06T10:20:02.530Z"
   },
   {
    "duration": 0,
    "start_time": "2022-06-06T10:20:02.536Z"
   },
   {
    "duration": 0,
    "start_time": "2022-06-06T10:20:02.536Z"
   },
   {
    "duration": 0,
    "start_time": "2022-06-06T10:20:02.537Z"
   },
   {
    "duration": 0,
    "start_time": "2022-06-06T10:20:02.537Z"
   },
   {
    "duration": 0,
    "start_time": "2022-06-06T10:20:02.538Z"
   },
   {
    "duration": 0,
    "start_time": "2022-06-06T10:20:02.539Z"
   },
   {
    "duration": 0,
    "start_time": "2022-06-06T10:20:02.539Z"
   },
   {
    "duration": 0,
    "start_time": "2022-06-06T10:20:02.540Z"
   },
   {
    "duration": 0,
    "start_time": "2022-06-06T10:20:02.540Z"
   },
   {
    "duration": 0,
    "start_time": "2022-06-06T10:20:02.541Z"
   },
   {
    "duration": 0,
    "start_time": "2022-06-06T10:20:02.541Z"
   },
   {
    "duration": 0,
    "start_time": "2022-06-06T10:20:02.542Z"
   },
   {
    "duration": 0,
    "start_time": "2022-06-06T10:20:02.542Z"
   },
   {
    "duration": 0,
    "start_time": "2022-06-06T10:20:02.543Z"
   },
   {
    "duration": 0,
    "start_time": "2022-06-06T10:20:02.543Z"
   },
   {
    "duration": 0,
    "start_time": "2022-06-06T10:20:02.543Z"
   },
   {
    "duration": 0,
    "start_time": "2022-06-06T10:20:02.544Z"
   },
   {
    "duration": 0,
    "start_time": "2022-06-06T10:20:02.544Z"
   },
   {
    "duration": 0,
    "start_time": "2022-06-06T10:20:02.545Z"
   },
   {
    "duration": 0,
    "start_time": "2022-06-06T10:20:02.545Z"
   },
   {
    "duration": 0,
    "start_time": "2022-06-06T10:20:02.546Z"
   },
   {
    "duration": 5,
    "start_time": "2022-06-06T10:20:02.546Z"
   },
   {
    "duration": 0,
    "start_time": "2022-06-06T10:20:02.555Z"
   },
   {
    "duration": 0,
    "start_time": "2022-06-06T10:20:02.556Z"
   },
   {
    "duration": 0,
    "start_time": "2022-06-06T10:20:02.558Z"
   },
   {
    "duration": 0,
    "start_time": "2022-06-06T10:20:02.559Z"
   },
   {
    "duration": 0,
    "start_time": "2022-06-06T10:20:02.560Z"
   },
   {
    "duration": 0,
    "start_time": "2022-06-06T10:20:02.561Z"
   },
   {
    "duration": 0,
    "start_time": "2022-06-06T10:20:02.563Z"
   },
   {
    "duration": 0,
    "start_time": "2022-06-06T10:20:02.565Z"
   },
   {
    "duration": 0,
    "start_time": "2022-06-06T10:20:02.567Z"
   },
   {
    "duration": 0,
    "start_time": "2022-06-06T10:20:02.568Z"
   },
   {
    "duration": 12,
    "start_time": "2022-06-06T10:22:05.543Z"
   },
   {
    "duration": 6,
    "start_time": "2022-06-06T10:22:17.106Z"
   },
   {
    "duration": 1270,
    "start_time": "2022-06-06T10:26:38.200Z"
   },
   {
    "duration": 67,
    "start_time": "2022-06-06T10:26:39.471Z"
   },
   {
    "duration": 15,
    "start_time": "2022-06-06T10:26:39.539Z"
   },
   {
    "duration": 13,
    "start_time": "2022-06-06T10:26:39.557Z"
   },
   {
    "duration": 7,
    "start_time": "2022-06-06T10:26:39.571Z"
   },
   {
    "duration": 17,
    "start_time": "2022-06-06T10:26:39.579Z"
   },
   {
    "duration": 21,
    "start_time": "2022-06-06T10:26:39.598Z"
   },
   {
    "duration": 16,
    "start_time": "2022-06-06T10:26:39.621Z"
   },
   {
    "duration": 43,
    "start_time": "2022-06-06T10:26:39.638Z"
   },
   {
    "duration": 4,
    "start_time": "2022-06-06T10:26:39.684Z"
   },
   {
    "duration": 28,
    "start_time": "2022-06-06T10:26:39.689Z"
   },
   {
    "duration": 26,
    "start_time": "2022-06-06T10:26:39.719Z"
   },
   {
    "duration": 26,
    "start_time": "2022-06-06T10:26:39.747Z"
   },
   {
    "duration": 46,
    "start_time": "2022-06-06T10:26:39.775Z"
   },
   {
    "duration": 30,
    "start_time": "2022-06-06T10:26:39.823Z"
   },
   {
    "duration": 34,
    "start_time": "2022-06-06T10:26:39.855Z"
   },
   {
    "duration": 327,
    "start_time": "2022-06-06T10:26:39.891Z"
   },
   {
    "duration": 274,
    "start_time": "2022-06-06T10:26:40.220Z"
   },
   {
    "duration": 12,
    "start_time": "2022-06-06T10:26:40.496Z"
   },
   {
    "duration": 33,
    "start_time": "2022-06-06T10:26:40.510Z"
   },
   {
    "duration": 19,
    "start_time": "2022-06-06T10:26:40.545Z"
   },
   {
    "duration": 36,
    "start_time": "2022-06-06T10:26:40.566Z"
   },
   {
    "duration": 24,
    "start_time": "2022-06-06T10:26:40.604Z"
   },
   {
    "duration": 26,
    "start_time": "2022-06-06T10:26:40.630Z"
   },
   {
    "duration": 261,
    "start_time": "2022-06-06T10:26:40.658Z"
   },
   {
    "duration": 10,
    "start_time": "2022-06-06T10:26:40.921Z"
   },
   {
    "duration": 28,
    "start_time": "2022-06-06T10:26:40.933Z"
   },
   {
    "duration": 146,
    "start_time": "2022-06-06T10:26:40.965Z"
   },
   {
    "duration": 0,
    "start_time": "2022-06-06T10:26:41.112Z"
   },
   {
    "duration": 0,
    "start_time": "2022-06-06T10:26:41.113Z"
   },
   {
    "duration": 0,
    "start_time": "2022-06-06T10:26:41.114Z"
   },
   {
    "duration": 0,
    "start_time": "2022-06-06T10:26:41.115Z"
   },
   {
    "duration": 0,
    "start_time": "2022-06-06T10:26:41.116Z"
   },
   {
    "duration": 0,
    "start_time": "2022-06-06T10:26:41.117Z"
   },
   {
    "duration": 0,
    "start_time": "2022-06-06T10:26:41.118Z"
   },
   {
    "duration": 0,
    "start_time": "2022-06-06T10:26:41.119Z"
   },
   {
    "duration": 0,
    "start_time": "2022-06-06T10:26:41.119Z"
   },
   {
    "duration": 0,
    "start_time": "2022-06-06T10:26:41.121Z"
   },
   {
    "duration": 0,
    "start_time": "2022-06-06T10:26:41.122Z"
   },
   {
    "duration": 0,
    "start_time": "2022-06-06T10:26:41.123Z"
   },
   {
    "duration": 0,
    "start_time": "2022-06-06T10:26:41.124Z"
   },
   {
    "duration": 0,
    "start_time": "2022-06-06T10:26:41.126Z"
   },
   {
    "duration": 0,
    "start_time": "2022-06-06T10:26:41.152Z"
   },
   {
    "duration": 0,
    "start_time": "2022-06-06T10:26:41.153Z"
   },
   {
    "duration": 0,
    "start_time": "2022-06-06T10:26:41.154Z"
   },
   {
    "duration": 0,
    "start_time": "2022-06-06T10:26:41.155Z"
   },
   {
    "duration": 0,
    "start_time": "2022-06-06T10:26:41.156Z"
   },
   {
    "duration": 0,
    "start_time": "2022-06-06T10:26:41.157Z"
   },
   {
    "duration": 0,
    "start_time": "2022-06-06T10:26:41.158Z"
   },
   {
    "duration": 0,
    "start_time": "2022-06-06T10:26:41.159Z"
   },
   {
    "duration": 0,
    "start_time": "2022-06-06T10:26:41.160Z"
   },
   {
    "duration": 0,
    "start_time": "2022-06-06T10:26:41.161Z"
   },
   {
    "duration": 0,
    "start_time": "2022-06-06T10:26:41.162Z"
   },
   {
    "duration": 0,
    "start_time": "2022-06-06T10:26:41.163Z"
   },
   {
    "duration": 0,
    "start_time": "2022-06-06T10:26:41.164Z"
   },
   {
    "duration": 0,
    "start_time": "2022-06-06T10:26:41.165Z"
   },
   {
    "duration": 0,
    "start_time": "2022-06-06T10:26:41.166Z"
   },
   {
    "duration": 0,
    "start_time": "2022-06-06T10:26:41.167Z"
   },
   {
    "duration": 0,
    "start_time": "2022-06-06T10:26:41.168Z"
   },
   {
    "duration": 0,
    "start_time": "2022-06-06T10:26:41.169Z"
   },
   {
    "duration": 0,
    "start_time": "2022-06-06T10:26:41.170Z"
   },
   {
    "duration": 0,
    "start_time": "2022-06-06T10:26:41.171Z"
   },
   {
    "duration": 0,
    "start_time": "2022-06-06T10:26:41.172Z"
   },
   {
    "duration": 0,
    "start_time": "2022-06-06T10:26:41.173Z"
   },
   {
    "duration": 0,
    "start_time": "2022-06-06T10:26:41.174Z"
   },
   {
    "duration": 23,
    "start_time": "2022-06-06T10:26:55.273Z"
   },
   {
    "duration": 17,
    "start_time": "2022-06-06T10:27:11.508Z"
   },
   {
    "duration": 19,
    "start_time": "2022-06-06T10:27:27.648Z"
   },
   {
    "duration": 4034,
    "start_time": "2022-06-06T10:31:07.790Z"
   },
   {
    "duration": 301,
    "start_time": "2022-06-06T10:31:50.967Z"
   },
   {
    "duration": 12,
    "start_time": "2022-06-06T10:32:33.293Z"
   },
   {
    "duration": 10,
    "start_time": "2022-06-06T10:32:35.283Z"
   },
   {
    "duration": 1756,
    "start_time": "2022-06-06T10:32:45.846Z"
   },
   {
    "duration": 109,
    "start_time": "2022-06-06T10:32:47.605Z"
   },
   {
    "duration": 23,
    "start_time": "2022-06-06T10:32:47.716Z"
   },
   {
    "duration": 26,
    "start_time": "2022-06-06T10:32:47.742Z"
   },
   {
    "duration": 24,
    "start_time": "2022-06-06T10:32:47.770Z"
   },
   {
    "duration": 9,
    "start_time": "2022-06-06T10:32:47.797Z"
   },
   {
    "duration": 15,
    "start_time": "2022-06-06T10:32:47.809Z"
   },
   {
    "duration": 10,
    "start_time": "2022-06-06T10:32:47.826Z"
   },
   {
    "duration": 54,
    "start_time": "2022-06-06T10:32:47.838Z"
   },
   {
    "duration": 6,
    "start_time": "2022-06-06T10:32:47.896Z"
   },
   {
    "duration": 25,
    "start_time": "2022-06-06T10:32:47.906Z"
   },
   {
    "duration": 20,
    "start_time": "2022-06-06T10:32:47.933Z"
   },
   {
    "duration": 25,
    "start_time": "2022-06-06T10:32:47.956Z"
   },
   {
    "duration": 49,
    "start_time": "2022-06-06T10:32:47.983Z"
   },
   {
    "duration": 23,
    "start_time": "2022-06-06T10:32:48.034Z"
   },
   {
    "duration": 43,
    "start_time": "2022-06-06T10:32:48.060Z"
   },
   {
    "duration": 433,
    "start_time": "2022-06-06T10:32:48.106Z"
   },
   {
    "duration": 501,
    "start_time": "2022-06-06T10:32:48.541Z"
   },
   {
    "duration": 19,
    "start_time": "2022-06-06T10:32:49.045Z"
   },
   {
    "duration": 20,
    "start_time": "2022-06-06T10:32:49.069Z"
   },
   {
    "duration": 24,
    "start_time": "2022-06-06T10:32:49.091Z"
   },
   {
    "duration": 15,
    "start_time": "2022-06-06T10:32:49.116Z"
   },
   {
    "duration": 16,
    "start_time": "2022-06-06T10:32:49.133Z"
   },
   {
    "duration": 37,
    "start_time": "2022-06-06T10:32:49.154Z"
   },
   {
    "duration": 256,
    "start_time": "2022-06-06T10:32:49.193Z"
   },
   {
    "duration": 21,
    "start_time": "2022-06-06T10:32:49.453Z"
   },
   {
    "duration": 24,
    "start_time": "2022-06-06T10:32:49.476Z"
   },
   {
    "duration": 7,
    "start_time": "2022-06-06T10:32:49.506Z"
   },
   {
    "duration": 15,
    "start_time": "2022-06-06T10:32:49.515Z"
   },
   {
    "duration": 3,
    "start_time": "2022-06-06T10:32:49.532Z"
   },
   {
    "duration": 20,
    "start_time": "2022-06-06T10:32:49.536Z"
   },
   {
    "duration": 24,
    "start_time": "2022-06-06T10:32:49.558Z"
   },
   {
    "duration": 315,
    "start_time": "2022-06-06T10:32:49.584Z"
   },
   {
    "duration": 12,
    "start_time": "2022-06-06T10:32:49.901Z"
   },
   {
    "duration": 10,
    "start_time": "2022-06-06T10:32:49.916Z"
   },
   {
    "duration": 434,
    "start_time": "2022-06-06T10:32:49.928Z"
   },
   {
    "duration": 12,
    "start_time": "2022-06-06T10:32:50.364Z"
   },
   {
    "duration": 341,
    "start_time": "2022-06-06T10:32:50.378Z"
   },
   {
    "duration": 392,
    "start_time": "2022-06-06T10:32:50.721Z"
   },
   {
    "duration": 14,
    "start_time": "2022-06-06T10:32:51.115Z"
   },
   {
    "duration": 236,
    "start_time": "2022-06-06T10:32:51.131Z"
   },
   {
    "duration": 15,
    "start_time": "2022-06-06T10:32:51.369Z"
   },
   {
    "duration": 229,
    "start_time": "2022-06-06T10:32:51.386Z"
   },
   {
    "duration": 12,
    "start_time": "2022-06-06T10:32:51.617Z"
   },
   {
    "duration": 241,
    "start_time": "2022-06-06T10:32:51.632Z"
   },
   {
    "duration": 12,
    "start_time": "2022-06-06T10:32:51.875Z"
   },
   {
    "duration": 35,
    "start_time": "2022-06-06T10:32:51.888Z"
   },
   {
    "duration": 34,
    "start_time": "2022-06-06T10:32:51.925Z"
   },
   {
    "duration": 42,
    "start_time": "2022-06-06T10:32:51.962Z"
   },
   {
    "duration": 34,
    "start_time": "2022-06-06T10:32:52.007Z"
   },
   {
    "duration": 5824,
    "start_time": "2022-06-06T10:32:52.046Z"
   },
   {
    "duration": 301020,
    "start_time": "2022-06-06T10:32:57.873Z"
   },
   {
    "duration": 2064,
    "start_time": "2022-06-06T10:37:58.895Z"
   },
   {
    "duration": 28,
    "start_time": "2022-06-06T10:38:00.960Z"
   },
   {
    "duration": 26,
    "start_time": "2022-06-06T10:38:00.990Z"
   },
   {
    "duration": 26,
    "start_time": "2022-06-06T10:38:01.018Z"
   },
   {
    "duration": 20,
    "start_time": "2022-06-06T10:38:01.046Z"
   },
   {
    "duration": 14,
    "start_time": "2022-06-06T10:38:01.067Z"
   },
   {
    "duration": 23,
    "start_time": "2022-06-06T10:38:01.083Z"
   },
   {
    "duration": 135,
    "start_time": "2022-06-06T10:38:01.107Z"
   },
   {
    "duration": 12,
    "start_time": "2022-06-06T10:38:01.244Z"
   },
   {
    "duration": 25,
    "start_time": "2022-06-06T10:38:01.257Z"
   },
   {
    "duration": 54,
    "start_time": "2022-06-06T10:38:01.284Z"
   },
   {
    "duration": 57,
    "start_time": "2022-06-06T10:38:01.340Z"
   },
   {
    "duration": 31,
    "start_time": "2022-06-06T10:38:01.399Z"
   },
   {
    "duration": 2486,
    "start_time": "2022-06-06T10:57:35.373Z"
   },
   {
    "duration": 20,
    "start_time": "2022-06-06T10:57:37.868Z"
   },
   {
    "duration": 2075,
    "start_time": "2022-06-06T11:01:56.287Z"
   },
   {
    "duration": 107,
    "start_time": "2022-06-06T11:01:58.365Z"
   },
   {
    "duration": 622,
    "start_time": "2022-06-06T11:02:11.553Z"
   },
   {
    "duration": 97,
    "start_time": "2022-06-06T11:02:12.277Z"
   },
   {
    "duration": 2755,
    "start_time": "2022-06-06T11:02:50.612Z"
   },
   {
    "duration": 26,
    "start_time": "2022-06-06T11:02:53.370Z"
   },
   {
    "duration": 1716,
    "start_time": "2022-06-06T15:20:29.769Z"
   },
   {
    "duration": 70,
    "start_time": "2022-06-06T15:20:31.489Z"
   },
   {
    "duration": 25,
    "start_time": "2022-06-06T15:20:31.561Z"
   },
   {
    "duration": 22,
    "start_time": "2022-06-06T15:20:31.589Z"
   },
   {
    "duration": 37,
    "start_time": "2022-06-06T15:20:31.613Z"
   },
   {
    "duration": 31,
    "start_time": "2022-06-06T15:20:31.653Z"
   },
   {
    "duration": 24,
    "start_time": "2022-06-06T15:20:31.687Z"
   },
   {
    "duration": 18,
    "start_time": "2022-06-06T15:20:31.713Z"
   },
   {
    "duration": 72,
    "start_time": "2022-06-06T15:20:31.733Z"
   },
   {
    "duration": 8,
    "start_time": "2022-06-06T15:20:31.809Z"
   },
   {
    "duration": 55,
    "start_time": "2022-06-06T15:20:31.820Z"
   },
   {
    "duration": 50,
    "start_time": "2022-06-06T15:20:31.878Z"
   },
   {
    "duration": 35,
    "start_time": "2022-06-06T15:20:31.930Z"
   },
   {
    "duration": 35,
    "start_time": "2022-06-06T15:20:31.967Z"
   },
   {
    "duration": 37,
    "start_time": "2022-06-06T15:20:32.005Z"
   },
   {
    "duration": 17,
    "start_time": "2022-06-06T15:20:32.046Z"
   },
   {
    "duration": 424,
    "start_time": "2022-06-06T15:20:32.066Z"
   },
   {
    "duration": 324,
    "start_time": "2022-06-06T15:20:32.492Z"
   },
   {
    "duration": 17,
    "start_time": "2022-06-06T15:20:32.819Z"
   },
   {
    "duration": 60,
    "start_time": "2022-06-06T15:20:32.838Z"
   },
   {
    "duration": 25,
    "start_time": "2022-06-06T15:20:32.900Z"
   },
   {
    "duration": 18,
    "start_time": "2022-06-06T15:20:32.927Z"
   },
   {
    "duration": 41,
    "start_time": "2022-06-06T15:20:32.948Z"
   },
   {
    "duration": 38,
    "start_time": "2022-06-06T15:20:32.992Z"
   },
   {
    "duration": 379,
    "start_time": "2022-06-06T15:20:33.032Z"
   },
   {
    "duration": 27,
    "start_time": "2022-06-06T15:20:33.414Z"
   },
   {
    "duration": 19,
    "start_time": "2022-06-06T15:20:33.445Z"
   },
   {
    "duration": 25,
    "start_time": "2022-06-06T15:20:33.469Z"
   },
   {
    "duration": 52,
    "start_time": "2022-06-06T15:20:33.497Z"
   },
   {
    "duration": 3,
    "start_time": "2022-06-06T15:20:33.552Z"
   },
   {
    "duration": 33,
    "start_time": "2022-06-06T15:20:33.557Z"
   },
   {
    "duration": 13,
    "start_time": "2022-06-06T15:20:33.592Z"
   },
   {
    "duration": 325,
    "start_time": "2022-06-06T15:20:33.607Z"
   },
   {
    "duration": 14,
    "start_time": "2022-06-06T15:20:33.935Z"
   },
   {
    "duration": 14,
    "start_time": "2022-06-06T15:20:33.951Z"
   },
   {
    "duration": 334,
    "start_time": "2022-06-06T15:20:33.968Z"
   },
   {
    "duration": 22,
    "start_time": "2022-06-06T15:20:34.304Z"
   },
   {
    "duration": 364,
    "start_time": "2022-06-06T15:20:34.329Z"
   },
   {
    "duration": 465,
    "start_time": "2022-06-06T15:20:34.696Z"
   },
   {
    "duration": 12,
    "start_time": "2022-06-06T15:20:35.164Z"
   },
   {
    "duration": 305,
    "start_time": "2022-06-06T15:20:35.177Z"
   },
   {
    "duration": 16,
    "start_time": "2022-06-06T15:20:35.485Z"
   },
   {
    "duration": 227,
    "start_time": "2022-06-06T15:20:35.503Z"
   },
   {
    "duration": 16,
    "start_time": "2022-06-06T15:20:35.732Z"
   },
   {
    "duration": 196,
    "start_time": "2022-06-06T15:20:35.750Z"
   },
   {
    "duration": 17,
    "start_time": "2022-06-06T15:20:35.948Z"
   },
   {
    "duration": 15,
    "start_time": "2022-06-06T15:20:35.968Z"
   },
   {
    "duration": 1107,
    "start_time": "2022-06-06T15:20:35.985Z"
   },
   {
    "duration": 181,
    "start_time": "2022-06-06T15:20:37.094Z"
   },
   {
    "duration": 0,
    "start_time": "2022-06-06T15:20:37.277Z"
   },
   {
    "duration": 0,
    "start_time": "2022-06-06T15:20:37.279Z"
   },
   {
    "duration": 0,
    "start_time": "2022-06-06T15:20:37.281Z"
   },
   {
    "duration": 0,
    "start_time": "2022-06-06T15:20:37.283Z"
   },
   {
    "duration": 0,
    "start_time": "2022-06-06T15:20:37.284Z"
   },
   {
    "duration": 0,
    "start_time": "2022-06-06T15:20:37.286Z"
   },
   {
    "duration": 0,
    "start_time": "2022-06-06T15:20:37.288Z"
   },
   {
    "duration": 0,
    "start_time": "2022-06-06T15:20:37.290Z"
   },
   {
    "duration": 0,
    "start_time": "2022-06-06T15:20:37.292Z"
   },
   {
    "duration": 0,
    "start_time": "2022-06-06T15:20:37.293Z"
   },
   {
    "duration": 0,
    "start_time": "2022-06-06T15:20:37.294Z"
   },
   {
    "duration": 0,
    "start_time": "2022-06-06T15:20:37.328Z"
   },
   {
    "duration": 0,
    "start_time": "2022-06-06T15:20:37.330Z"
   },
   {
    "duration": 0,
    "start_time": "2022-06-06T15:20:37.332Z"
   },
   {
    "duration": 0,
    "start_time": "2022-06-06T15:20:37.333Z"
   },
   {
    "duration": 0,
    "start_time": "2022-06-06T15:20:37.335Z"
   },
   {
    "duration": 0,
    "start_time": "2022-06-06T15:20:37.336Z"
   },
   {
    "duration": 0,
    "start_time": "2022-06-06T15:20:37.338Z"
   },
   {
    "duration": 20,
    "start_time": "2022-06-06T15:22:43.780Z"
   },
   {
    "duration": 1772,
    "start_time": "2022-06-06T15:22:46.172Z"
   },
   {
    "duration": 5,
    "start_time": "2022-06-06T15:30:18.381Z"
   },
   {
    "duration": 10,
    "start_time": "2022-06-06T15:30:19.297Z"
   },
   {
    "duration": 5201,
    "start_time": "2022-06-06T15:30:21.045Z"
   },
   {
    "duration": 2444,
    "start_time": "2022-06-06T15:30:35.599Z"
   },
   {
    "duration": 34,
    "start_time": "2022-06-06T15:30:39.959Z"
   },
   {
    "duration": 19,
    "start_time": "2022-06-06T15:38:10.081Z"
   },
   {
    "duration": 70,
    "start_time": "2022-06-06T15:38:23.719Z"
   },
   {
    "duration": 14,
    "start_time": "2022-06-06T15:38:24.184Z"
   },
   {
    "duration": 45,
    "start_time": "2022-06-06T15:38:34.043Z"
   },
   {
    "duration": 1390,
    "start_time": "2022-06-06T15:39:08.587Z"
   },
   {
    "duration": 66,
    "start_time": "2022-06-06T15:39:09.979Z"
   },
   {
    "duration": 26,
    "start_time": "2022-06-06T15:39:10.047Z"
   },
   {
    "duration": 32,
    "start_time": "2022-06-06T15:39:10.075Z"
   },
   {
    "duration": 14,
    "start_time": "2022-06-06T15:39:10.110Z"
   },
   {
    "duration": 14,
    "start_time": "2022-06-06T15:39:10.126Z"
   },
   {
    "duration": 27,
    "start_time": "2022-06-06T15:39:10.142Z"
   },
   {
    "duration": 18,
    "start_time": "2022-06-06T15:39:10.171Z"
   },
   {
    "duration": 56,
    "start_time": "2022-06-06T15:39:10.191Z"
   },
   {
    "duration": 5,
    "start_time": "2022-06-06T15:39:10.249Z"
   },
   {
    "duration": 13,
    "start_time": "2022-06-06T15:39:10.255Z"
   },
   {
    "duration": 31,
    "start_time": "2022-06-06T15:39:10.270Z"
   },
   {
    "duration": 14,
    "start_time": "2022-06-06T15:39:10.303Z"
   },
   {
    "duration": 17,
    "start_time": "2022-06-06T15:39:10.321Z"
   },
   {
    "duration": 28,
    "start_time": "2022-06-06T15:39:10.339Z"
   },
   {
    "duration": 19,
    "start_time": "2022-06-06T15:39:10.368Z"
   },
   {
    "duration": 302,
    "start_time": "2022-06-06T15:39:10.389Z"
   },
   {
    "duration": 263,
    "start_time": "2022-06-06T15:39:10.692Z"
   },
   {
    "duration": 9,
    "start_time": "2022-06-06T15:39:10.957Z"
   },
   {
    "duration": 20,
    "start_time": "2022-06-06T15:39:10.968Z"
   },
   {
    "duration": 10,
    "start_time": "2022-06-06T15:39:10.989Z"
   },
   {
    "duration": 9,
    "start_time": "2022-06-06T15:39:11.001Z"
   },
   {
    "duration": 21,
    "start_time": "2022-06-06T15:39:11.012Z"
   },
   {
    "duration": 9,
    "start_time": "2022-06-06T15:39:11.035Z"
   },
   {
    "duration": 233,
    "start_time": "2022-06-06T15:39:11.046Z"
   },
   {
    "duration": 10,
    "start_time": "2022-06-06T15:39:11.281Z"
   },
   {
    "duration": 15,
    "start_time": "2022-06-06T15:39:11.293Z"
   },
   {
    "duration": 18,
    "start_time": "2022-06-06T15:39:11.310Z"
   },
   {
    "duration": 17,
    "start_time": "2022-06-06T15:39:11.330Z"
   },
   {
    "duration": 8,
    "start_time": "2022-06-06T15:39:11.350Z"
   },
   {
    "duration": 5,
    "start_time": "2022-06-06T15:39:11.359Z"
   },
   {
    "duration": 20,
    "start_time": "2022-06-06T15:39:11.366Z"
   },
   {
    "duration": 7,
    "start_time": "2022-06-06T15:39:11.388Z"
   },
   {
    "duration": 277,
    "start_time": "2022-06-06T15:39:11.397Z"
   },
   {
    "duration": 12,
    "start_time": "2022-06-06T15:39:11.675Z"
   },
   {
    "duration": 8,
    "start_time": "2022-06-06T15:39:11.688Z"
   },
   {
    "duration": 262,
    "start_time": "2022-06-06T15:39:11.698Z"
   },
   {
    "duration": 10,
    "start_time": "2022-06-06T15:39:11.962Z"
   },
   {
    "duration": 260,
    "start_time": "2022-06-06T15:39:11.974Z"
   },
   {
    "duration": 351,
    "start_time": "2022-06-06T15:39:12.236Z"
   },
   {
    "duration": 11,
    "start_time": "2022-06-06T15:39:12.592Z"
   },
   {
    "duration": 244,
    "start_time": "2022-06-06T15:39:12.605Z"
   },
   {
    "duration": 15,
    "start_time": "2022-06-06T15:39:12.851Z"
   },
   {
    "duration": 219,
    "start_time": "2022-06-06T15:39:12.868Z"
   },
   {
    "duration": 12,
    "start_time": "2022-06-06T15:39:13.089Z"
   },
   {
    "duration": 185,
    "start_time": "2022-06-06T15:39:13.103Z"
   },
   {
    "duration": 11,
    "start_time": "2022-06-06T15:39:13.290Z"
   },
   {
    "duration": 26,
    "start_time": "2022-06-06T15:39:13.303Z"
   },
   {
    "duration": 145,
    "start_time": "2022-06-06T15:39:13.331Z"
   },
   {
    "duration": 0,
    "start_time": "2022-06-06T15:39:13.478Z"
   },
   {
    "duration": 0,
    "start_time": "2022-06-06T15:39:13.479Z"
   },
   {
    "duration": 0,
    "start_time": "2022-06-06T15:39:13.481Z"
   },
   {
    "duration": 0,
    "start_time": "2022-06-06T15:39:13.483Z"
   },
   {
    "duration": 0,
    "start_time": "2022-06-06T15:39:13.484Z"
   },
   {
    "duration": 0,
    "start_time": "2022-06-06T15:39:13.485Z"
   },
   {
    "duration": 0,
    "start_time": "2022-06-06T15:39:13.486Z"
   },
   {
    "duration": 0,
    "start_time": "2022-06-06T15:39:13.487Z"
   },
   {
    "duration": 0,
    "start_time": "2022-06-06T15:39:13.488Z"
   },
   {
    "duration": 0,
    "start_time": "2022-06-06T15:39:13.490Z"
   },
   {
    "duration": 0,
    "start_time": "2022-06-06T15:39:13.491Z"
   },
   {
    "duration": 0,
    "start_time": "2022-06-06T15:39:13.493Z"
   },
   {
    "duration": 0,
    "start_time": "2022-06-06T15:39:13.494Z"
   },
   {
    "duration": 0,
    "start_time": "2022-06-06T15:39:13.496Z"
   },
   {
    "duration": 0,
    "start_time": "2022-06-06T15:39:13.528Z"
   },
   {
    "duration": 0,
    "start_time": "2022-06-06T15:39:13.529Z"
   },
   {
    "duration": 0,
    "start_time": "2022-06-06T15:39:13.531Z"
   },
   {
    "duration": 0,
    "start_time": "2022-06-06T15:39:13.532Z"
   },
   {
    "duration": 0,
    "start_time": "2022-06-06T15:39:13.534Z"
   },
   {
    "duration": 0,
    "start_time": "2022-06-06T15:39:13.535Z"
   },
   {
    "duration": 8,
    "start_time": "2022-06-06T15:39:41.808Z"
   },
   {
    "duration": 15,
    "start_time": "2022-06-06T15:42:39.708Z"
   },
   {
    "duration": 8,
    "start_time": "2022-06-06T15:42:53.354Z"
   },
   {
    "duration": 10,
    "start_time": "2022-06-06T15:43:13.533Z"
   },
   {
    "duration": 16,
    "start_time": "2022-06-06T15:44:07.558Z"
   },
   {
    "duration": 17,
    "start_time": "2022-06-06T15:44:27.302Z"
   },
   {
    "duration": 15,
    "start_time": "2022-06-06T15:45:12.552Z"
   },
   {
    "duration": 21,
    "start_time": "2022-06-06T15:48:55.532Z"
   },
   {
    "duration": 17,
    "start_time": "2022-06-06T16:31:03.927Z"
   },
   {
    "duration": 33,
    "start_time": "2022-06-06T16:31:28.431Z"
   },
   {
    "duration": 2017,
    "start_time": "2022-06-06T16:31:32.936Z"
   },
   {
    "duration": 7,
    "start_time": "2022-06-06T16:33:38.712Z"
   },
   {
    "duration": 13,
    "start_time": "2022-06-06T16:33:39.449Z"
   },
   {
    "duration": 5438,
    "start_time": "2022-06-06T16:33:40.023Z"
   },
   {
    "duration": 1725,
    "start_time": "2022-06-06T16:34:27.708Z"
   },
   {
    "duration": 1837,
    "start_time": "2022-06-06T16:38:10.287Z"
   },
   {
    "duration": 114,
    "start_time": "2022-06-06T16:38:12.126Z"
   },
   {
    "duration": 26,
    "start_time": "2022-06-06T16:38:12.242Z"
   },
   {
    "duration": 27,
    "start_time": "2022-06-06T16:38:12.272Z"
   },
   {
    "duration": 11,
    "start_time": "2022-06-06T16:38:12.301Z"
   },
   {
    "duration": 13,
    "start_time": "2022-06-06T16:38:12.314Z"
   },
   {
    "duration": 13,
    "start_time": "2022-06-06T16:38:12.329Z"
   },
   {
    "duration": 13,
    "start_time": "2022-06-06T16:38:12.344Z"
   },
   {
    "duration": 76,
    "start_time": "2022-06-06T16:38:12.360Z"
   },
   {
    "duration": 8,
    "start_time": "2022-06-06T16:38:12.440Z"
   },
   {
    "duration": 35,
    "start_time": "2022-06-06T16:38:12.451Z"
   },
   {
    "duration": 18,
    "start_time": "2022-06-06T16:38:12.489Z"
   },
   {
    "duration": 23,
    "start_time": "2022-06-06T16:38:12.509Z"
   },
   {
    "duration": 44,
    "start_time": "2022-06-06T16:38:12.534Z"
   },
   {
    "duration": 20,
    "start_time": "2022-06-06T16:38:12.581Z"
   },
   {
    "duration": 24,
    "start_time": "2022-06-06T16:38:12.604Z"
   },
   {
    "duration": 449,
    "start_time": "2022-06-06T16:38:12.630Z"
   },
   {
    "duration": 435,
    "start_time": "2022-06-06T16:38:13.081Z"
   },
   {
    "duration": 16,
    "start_time": "2022-06-06T16:38:13.519Z"
   },
   {
    "duration": 56,
    "start_time": "2022-06-06T16:38:13.538Z"
   },
   {
    "duration": 32,
    "start_time": "2022-06-06T16:38:13.596Z"
   },
   {
    "duration": 45,
    "start_time": "2022-06-06T16:38:13.630Z"
   },
   {
    "duration": 20,
    "start_time": "2022-06-06T16:38:13.677Z"
   },
   {
    "duration": 24,
    "start_time": "2022-06-06T16:38:13.701Z"
   },
   {
    "duration": 375,
    "start_time": "2022-06-06T16:38:13.727Z"
   },
   {
    "duration": 15,
    "start_time": "2022-06-06T16:38:14.104Z"
   },
   {
    "duration": 56,
    "start_time": "2022-06-06T16:38:14.130Z"
   },
   {
    "duration": 36,
    "start_time": "2022-06-06T16:38:14.192Z"
   },
   {
    "duration": 97,
    "start_time": "2022-06-06T16:38:14.230Z"
   },
   {
    "duration": 27,
    "start_time": "2022-06-06T16:38:14.329Z"
   },
   {
    "duration": 79,
    "start_time": "2022-06-06T16:38:14.359Z"
   },
   {
    "duration": 448,
    "start_time": "2022-06-06T16:38:14.441Z"
   },
   {
    "duration": 29,
    "start_time": "2022-06-06T16:38:14.891Z"
   },
   {
    "duration": 12,
    "start_time": "2022-06-06T16:38:14.925Z"
   },
   {
    "duration": 464,
    "start_time": "2022-06-06T16:38:14.939Z"
   },
   {
    "duration": 23,
    "start_time": "2022-06-06T16:38:15.406Z"
   },
   {
    "duration": 393,
    "start_time": "2022-06-06T16:38:15.437Z"
   },
   {
    "duration": 443,
    "start_time": "2022-06-06T16:38:15.833Z"
   },
   {
    "duration": 14,
    "start_time": "2022-06-06T16:38:16.279Z"
   },
   {
    "duration": 381,
    "start_time": "2022-06-06T16:38:16.296Z"
   },
   {
    "duration": 14,
    "start_time": "2022-06-06T16:38:16.679Z"
   },
   {
    "duration": 368,
    "start_time": "2022-06-06T16:38:16.695Z"
   },
   {
    "duration": 15,
    "start_time": "2022-06-06T16:38:17.066Z"
   },
   {
    "duration": 245,
    "start_time": "2022-06-06T16:38:17.084Z"
   },
   {
    "duration": 18,
    "start_time": "2022-06-06T16:38:17.334Z"
   },
   {
    "duration": 53,
    "start_time": "2022-06-06T16:38:17.355Z"
   },
   {
    "duration": 91,
    "start_time": "2022-06-06T16:38:17.411Z"
   },
   {
    "duration": 2309,
    "start_time": "2022-06-06T16:38:17.507Z"
   },
   {
    "duration": 7,
    "start_time": "2022-06-06T16:38:19.819Z"
   },
   {
    "duration": 46,
    "start_time": "2022-06-06T16:38:19.828Z"
   },
   {
    "duration": 5998,
    "start_time": "2022-06-06T16:38:19.879Z"
   },
   {
    "duration": 330691,
    "start_time": "2022-06-06T16:38:25.879Z"
   },
   {
    "duration": 2463,
    "start_time": "2022-06-06T16:43:56.572Z"
   },
   {
    "duration": 22,
    "start_time": "2022-06-06T16:43:59.037Z"
   },
   {
    "duration": 3,
    "start_time": "2022-06-06T16:43:59.061Z"
   },
   {
    "duration": 14,
    "start_time": "2022-06-06T16:43:59.066Z"
   },
   {
    "duration": 5,
    "start_time": "2022-06-06T16:43:59.082Z"
   },
   {
    "duration": 39,
    "start_time": "2022-06-06T16:43:59.089Z"
   },
   {
    "duration": 9,
    "start_time": "2022-06-06T16:43:59.129Z"
   },
   {
    "duration": 162,
    "start_time": "2022-06-06T16:43:59.141Z"
   },
   {
    "duration": 24,
    "start_time": "2022-06-06T16:43:59.305Z"
   },
   {
    "duration": 10,
    "start_time": "2022-06-06T16:43:59.330Z"
   },
   {
    "duration": 19,
    "start_time": "2022-06-06T16:43:59.341Z"
   },
   {
    "duration": 15,
    "start_time": "2022-06-06T16:43:59.362Z"
   },
   {
    "duration": 20,
    "start_time": "2022-06-06T16:43:59.380Z"
   },
   {
    "duration": 2715,
    "start_time": "2022-06-06T16:45:39.018Z"
   },
   {
    "duration": 26,
    "start_time": "2022-06-06T16:45:41.735Z"
   },
   {
    "duration": 3647,
    "start_time": "2022-06-06T16:46:04.400Z"
   },
   {
    "duration": 27,
    "start_time": "2022-06-06T16:46:08.050Z"
   },
   {
    "duration": 3890,
    "start_time": "2022-06-06T16:46:14.448Z"
   },
   {
    "duration": 30,
    "start_time": "2022-06-06T16:46:18.341Z"
   },
   {
    "duration": 2129,
    "start_time": "2022-06-06T16:46:28.809Z"
   },
   {
    "duration": 23,
    "start_time": "2022-06-06T16:46:30.941Z"
   },
   {
    "duration": 2750,
    "start_time": "2022-06-06T16:56:25.699Z"
   },
   {
    "duration": 34,
    "start_time": "2022-06-06T16:56:29.529Z"
   },
   {
    "duration": 3941,
    "start_time": "2022-06-06T16:56:40.599Z"
   },
   {
    "duration": 33,
    "start_time": "2022-06-06T16:56:45.332Z"
   },
   {
    "duration": 3165,
    "start_time": "2022-06-06T16:57:08.868Z"
   },
   {
    "duration": 29,
    "start_time": "2022-06-06T16:57:12.035Z"
   },
   {
    "duration": 149,
    "start_time": "2022-06-06T17:01:18.325Z"
   },
   {
    "duration": 87,
    "start_time": "2022-06-06T17:01:40.899Z"
   },
   {
    "duration": 19,
    "start_time": "2022-06-06T17:01:41.917Z"
   },
   {
    "duration": 36,
    "start_time": "2022-06-06T17:01:42.826Z"
   },
   {
    "duration": 7,
    "start_time": "2022-06-06T17:01:47.898Z"
   },
   {
    "duration": 17,
    "start_time": "2022-06-06T17:01:56.661Z"
   },
   {
    "duration": 23,
    "start_time": "2022-06-06T17:02:19.390Z"
   },
   {
    "duration": 27,
    "start_time": "2022-06-06T17:02:41.114Z"
   },
   {
    "duration": 45,
    "start_time": "2022-06-06T17:03:48.058Z"
   },
   {
    "duration": 46,
    "start_time": "2022-06-06T17:04:07.260Z"
   },
   {
    "duration": 34,
    "start_time": "2022-06-06T17:04:56.738Z"
   },
   {
    "duration": 28,
    "start_time": "2022-06-06T17:05:37.538Z"
   },
   {
    "duration": 34,
    "start_time": "2022-06-06T17:05:58.424Z"
   },
   {
    "duration": 34,
    "start_time": "2022-06-06T17:06:43.182Z"
   },
   {
    "duration": 25,
    "start_time": "2022-06-06T17:07:22.650Z"
   },
   {
    "duration": 38,
    "start_time": "2022-06-06T17:08:34.436Z"
   },
   {
    "duration": 35,
    "start_time": "2022-06-06T17:12:31.388Z"
   },
   {
    "duration": 27,
    "start_time": "2022-06-06T17:14:58.358Z"
   },
   {
    "duration": 23,
    "start_time": "2022-06-06T17:16:29.781Z"
   },
   {
    "duration": 41,
    "start_time": "2022-06-06T17:18:49.467Z"
   },
   {
    "duration": 37,
    "start_time": "2022-06-06T17:18:57.301Z"
   },
   {
    "duration": 33,
    "start_time": "2022-06-06T17:21:08.503Z"
   },
   {
    "duration": 19,
    "start_time": "2022-06-06T17:29:05.828Z"
   },
   {
    "duration": 27,
    "start_time": "2022-06-06T17:29:48.761Z"
   },
   {
    "duration": 1437,
    "start_time": "2022-06-06T17:56:14.582Z"
   },
   {
    "duration": 76,
    "start_time": "2022-06-06T17:56:16.022Z"
   },
   {
    "duration": 16,
    "start_time": "2022-06-06T17:56:16.100Z"
   },
   {
    "duration": 18,
    "start_time": "2022-06-06T17:56:16.118Z"
   },
   {
    "duration": 26,
    "start_time": "2022-06-06T17:56:16.138Z"
   },
   {
    "duration": 11,
    "start_time": "2022-06-06T17:56:16.165Z"
   },
   {
    "duration": 14,
    "start_time": "2022-06-06T17:56:16.178Z"
   },
   {
    "duration": 6,
    "start_time": "2022-06-06T17:56:16.193Z"
   },
   {
    "duration": 49,
    "start_time": "2022-06-06T17:56:16.200Z"
   },
   {
    "duration": 9,
    "start_time": "2022-06-06T17:56:16.251Z"
   },
   {
    "duration": 13,
    "start_time": "2022-06-06T17:56:16.262Z"
   },
   {
    "duration": 14,
    "start_time": "2022-06-06T17:56:16.277Z"
   },
   {
    "duration": 23,
    "start_time": "2022-06-06T17:56:16.293Z"
   },
   {
    "duration": 47,
    "start_time": "2022-06-06T17:56:16.319Z"
   },
   {
    "duration": 10,
    "start_time": "2022-06-06T17:56:16.368Z"
   },
   {
    "duration": 12,
    "start_time": "2022-06-06T17:56:16.379Z"
   },
   {
    "duration": 336,
    "start_time": "2022-06-06T17:56:16.393Z"
   },
   {
    "duration": 277,
    "start_time": "2022-06-06T17:56:16.730Z"
   },
   {
    "duration": 18,
    "start_time": "2022-06-06T17:56:17.009Z"
   },
   {
    "duration": 18,
    "start_time": "2022-06-06T17:56:17.031Z"
   },
   {
    "duration": 14,
    "start_time": "2022-06-06T17:56:17.050Z"
   },
   {
    "duration": 20,
    "start_time": "2022-06-06T17:56:17.065Z"
   },
   {
    "duration": 7,
    "start_time": "2022-06-06T17:56:17.087Z"
   },
   {
    "duration": 26,
    "start_time": "2022-06-06T17:56:17.096Z"
   },
   {
    "duration": 271,
    "start_time": "2022-06-06T17:56:17.124Z"
   },
   {
    "duration": 12,
    "start_time": "2022-06-06T17:56:17.397Z"
   },
   {
    "duration": 28,
    "start_time": "2022-06-06T17:56:17.411Z"
   },
   {
    "duration": 21,
    "start_time": "2022-06-06T17:56:17.441Z"
   },
   {
    "duration": 13,
    "start_time": "2022-06-06T17:56:17.464Z"
   },
   {
    "duration": 16,
    "start_time": "2022-06-06T17:56:17.479Z"
   },
   {
    "duration": 19,
    "start_time": "2022-06-06T17:56:17.497Z"
   },
   {
    "duration": 56,
    "start_time": "2022-06-06T17:56:17.518Z"
   },
   {
    "duration": 273,
    "start_time": "2022-06-06T17:56:17.576Z"
   },
   {
    "duration": 14,
    "start_time": "2022-06-06T17:56:17.852Z"
   },
   {
    "duration": 15,
    "start_time": "2022-06-06T17:56:17.868Z"
   },
   {
    "duration": 19,
    "start_time": "2022-06-06T17:56:17.884Z"
   },
   {
    "duration": 58,
    "start_time": "2022-06-06T17:56:17.904Z"
   },
   {
    "duration": 283,
    "start_time": "2022-06-06T17:56:17.964Z"
   },
   {
    "duration": 13,
    "start_time": "2022-06-06T17:56:18.250Z"
   },
   {
    "duration": 255,
    "start_time": "2022-06-06T17:56:18.265Z"
   },
   {
    "duration": 384,
    "start_time": "2022-06-06T17:56:18.526Z"
   },
   {
    "duration": 22,
    "start_time": "2022-06-06T17:56:18.912Z"
   },
   {
    "duration": 237,
    "start_time": "2022-06-06T17:56:18.935Z"
   },
   {
    "duration": 12,
    "start_time": "2022-06-06T17:56:19.173Z"
   },
   {
    "duration": 221,
    "start_time": "2022-06-06T17:56:19.186Z"
   },
   {
    "duration": 22,
    "start_time": "2022-06-06T17:56:19.410Z"
   },
   {
    "duration": 177,
    "start_time": "2022-06-06T17:56:19.434Z"
   },
   {
    "duration": 15,
    "start_time": "2022-06-06T17:56:19.612Z"
   },
   {
    "duration": 15,
    "start_time": "2022-06-06T17:56:19.633Z"
   },
   {
    "duration": 38,
    "start_time": "2022-06-06T17:56:19.650Z"
   },
   {
    "duration": 26,
    "start_time": "2022-06-06T17:56:19.690Z"
   },
   {
    "duration": 27,
    "start_time": "2022-06-06T17:56:19.729Z"
   },
   {
    "duration": 1808,
    "start_time": "2022-06-06T17:56:19.758Z"
   },
   {
    "duration": 5,
    "start_time": "2022-06-06T17:56:21.568Z"
   },
   {
    "duration": 20,
    "start_time": "2022-06-06T17:56:21.574Z"
   },
   {
    "duration": 4773,
    "start_time": "2022-06-06T17:56:21.596Z"
   },
   {
    "duration": 334153,
    "start_time": "2022-06-06T17:56:26.371Z"
   },
   {
    "duration": 2722,
    "start_time": "2022-06-06T18:02:00.527Z"
   },
   {
    "duration": 97,
    "start_time": "2022-06-06T18:02:03.251Z"
   },
   {
    "duration": 19,
    "start_time": "2022-06-06T18:02:03.350Z"
   },
   {
    "duration": 26,
    "start_time": "2022-06-06T18:02:03.370Z"
   },
   {
    "duration": 14,
    "start_time": "2022-06-06T18:02:03.399Z"
   },
   {
    "duration": 7,
    "start_time": "2022-06-06T18:02:03.416Z"
   },
   {
    "duration": 42,
    "start_time": "2022-06-06T18:02:03.426Z"
   },
   {
    "duration": 179,
    "start_time": "2022-06-06T18:02:03.470Z"
   },
   {
    "duration": 9,
    "start_time": "2022-06-06T18:02:03.651Z"
   },
   {
    "duration": 10,
    "start_time": "2022-06-06T18:02:03.662Z"
   },
   {
    "duration": 9,
    "start_time": "2022-06-06T18:02:03.674Z"
   },
   {
    "duration": 10,
    "start_time": "2022-06-06T18:02:03.684Z"
   },
   {
    "duration": 11,
    "start_time": "2022-06-06T18:02:03.696Z"
   },
   {
    "duration": 2383,
    "start_time": "2022-06-07T13:36:18.409Z"
   },
   {
    "duration": 229,
    "start_time": "2022-06-07T13:36:20.795Z"
   },
   {
    "duration": 58,
    "start_time": "2022-06-07T13:36:21.050Z"
   },
   {
    "duration": 50,
    "start_time": "2022-06-07T13:36:21.110Z"
   },
   {
    "duration": 55,
    "start_time": "2022-06-07T13:36:21.162Z"
   },
   {
    "duration": 73,
    "start_time": "2022-06-07T13:36:21.219Z"
   },
   {
    "duration": 30,
    "start_time": "2022-06-07T13:36:21.294Z"
   },
   {
    "duration": 62,
    "start_time": "2022-06-07T13:36:21.329Z"
   },
   {
    "duration": 146,
    "start_time": "2022-06-07T13:36:21.393Z"
   },
   {
    "duration": 13,
    "start_time": "2022-06-07T13:36:21.543Z"
   },
   {
    "duration": 68,
    "start_time": "2022-06-07T13:36:21.564Z"
   },
   {
    "duration": 92,
    "start_time": "2022-06-07T13:36:21.637Z"
   },
   {
    "duration": 70,
    "start_time": "2022-06-07T13:36:21.730Z"
   },
   {
    "duration": 106,
    "start_time": "2022-06-07T13:36:21.805Z"
   },
   {
    "duration": 94,
    "start_time": "2022-06-07T13:36:21.914Z"
   },
   {
    "duration": 33,
    "start_time": "2022-06-07T13:36:22.010Z"
   },
   {
    "duration": 611,
    "start_time": "2022-06-07T13:36:22.049Z"
   },
   {
    "duration": 499,
    "start_time": "2022-06-07T13:36:22.662Z"
   },
   {
    "duration": 33,
    "start_time": "2022-06-07T13:36:23.167Z"
   },
   {
    "duration": 24,
    "start_time": "2022-06-07T13:36:23.208Z"
   },
   {
    "duration": 102,
    "start_time": "2022-06-07T13:36:23.238Z"
   },
   {
    "duration": 200,
    "start_time": "2022-06-07T13:36:23.344Z"
   },
   {
    "duration": 156,
    "start_time": "2022-06-07T13:36:23.552Z"
   },
   {
    "duration": 54,
    "start_time": "2022-06-07T13:36:23.710Z"
   },
   {
    "duration": 469,
    "start_time": "2022-06-07T13:36:23.767Z"
   },
   {
    "duration": 24,
    "start_time": "2022-06-07T13:36:24.238Z"
   },
   {
    "duration": 195,
    "start_time": "2022-06-07T13:36:24.269Z"
   },
   {
    "duration": 233,
    "start_time": "2022-06-07T13:36:24.472Z"
   },
   {
    "duration": 78,
    "start_time": "2022-06-07T13:36:24.714Z"
   },
   {
    "duration": 101,
    "start_time": "2022-06-07T13:36:24.793Z"
   },
   {
    "duration": 34,
    "start_time": "2022-06-07T13:36:24.899Z"
   },
   {
    "duration": 87,
    "start_time": "2022-06-07T13:36:24.935Z"
   },
   {
    "duration": 584,
    "start_time": "2022-06-07T13:36:25.024Z"
   },
   {
    "duration": 15,
    "start_time": "2022-06-07T13:36:25.610Z"
   },
   {
    "duration": 80,
    "start_time": "2022-06-07T13:36:25.629Z"
   },
   {
    "duration": 49,
    "start_time": "2022-06-07T13:36:25.712Z"
   },
   {
    "duration": 113,
    "start_time": "2022-06-07T13:36:25.763Z"
   },
   {
    "duration": 411,
    "start_time": "2022-06-07T13:36:25.889Z"
   },
   {
    "duration": 35,
    "start_time": "2022-06-07T13:36:26.306Z"
   },
   {
    "duration": 371,
    "start_time": "2022-06-07T13:36:26.347Z"
   },
   {
    "duration": 474,
    "start_time": "2022-06-07T13:36:26.739Z"
   },
   {
    "duration": 16,
    "start_time": "2022-06-07T13:36:27.215Z"
   },
   {
    "duration": 382,
    "start_time": "2022-06-07T13:36:27.233Z"
   },
   {
    "duration": 27,
    "start_time": "2022-06-07T13:36:27.617Z"
   },
   {
    "duration": 354,
    "start_time": "2022-06-07T13:36:27.655Z"
   },
   {
    "duration": 12,
    "start_time": "2022-06-07T13:36:28.012Z"
   },
   {
    "duration": 262,
    "start_time": "2022-06-07T13:36:28.029Z"
   },
   {
    "duration": 19,
    "start_time": "2022-06-07T13:36:28.298Z"
   },
   {
    "duration": 44,
    "start_time": "2022-06-07T13:36:28.318Z"
   },
   {
    "duration": 70,
    "start_time": "2022-06-07T13:36:28.364Z"
   },
   {
    "duration": 54,
    "start_time": "2022-06-07T13:36:28.436Z"
   },
   {
    "duration": 49,
    "start_time": "2022-06-07T13:36:28.492Z"
   },
   {
    "duration": 1450,
    "start_time": "2022-06-07T13:36:28.544Z"
   },
   {
    "duration": 6,
    "start_time": "2022-06-07T13:36:29.996Z"
   },
   {
    "duration": 244,
    "start_time": "2022-06-07T13:36:30.004Z"
   },
   {
    "duration": 0,
    "start_time": "2022-06-07T13:36:30.250Z"
   },
   {
    "duration": 0,
    "start_time": "2022-06-07T13:36:30.251Z"
   },
   {
    "duration": 0,
    "start_time": "2022-06-07T13:36:30.253Z"
   },
   {
    "duration": 0,
    "start_time": "2022-06-07T13:36:30.254Z"
   },
   {
    "duration": 0,
    "start_time": "2022-06-07T13:36:30.255Z"
   },
   {
    "duration": 0,
    "start_time": "2022-06-07T13:36:30.256Z"
   },
   {
    "duration": 0,
    "start_time": "2022-06-07T13:36:30.257Z"
   },
   {
    "duration": 0,
    "start_time": "2022-06-07T13:36:30.260Z"
   },
   {
    "duration": 0,
    "start_time": "2022-06-07T13:36:30.263Z"
   },
   {
    "duration": 0,
    "start_time": "2022-06-07T13:36:30.264Z"
   },
   {
    "duration": 0,
    "start_time": "2022-06-07T13:36:30.266Z"
   },
   {
    "duration": 0,
    "start_time": "2022-06-07T13:36:30.267Z"
   },
   {
    "duration": 0,
    "start_time": "2022-06-07T13:36:30.269Z"
   },
   {
    "duration": 0,
    "start_time": "2022-06-07T13:36:30.271Z"
   },
   {
    "duration": 0,
    "start_time": "2022-06-07T13:36:30.272Z"
   },
   {
    "duration": 6,
    "start_time": "2022-06-07T13:37:06.214Z"
   },
   {
    "duration": 22,
    "start_time": "2022-06-07T13:37:07.261Z"
   },
   {
    "duration": 1962,
    "start_time": "2022-06-07T13:37:10.314Z"
   },
   {
    "duration": 39,
    "start_time": "2022-06-07T13:37:12.284Z"
   },
   {
    "duration": 1739,
    "start_time": "2022-06-07T13:37:43.506Z"
   },
   {
    "duration": 36,
    "start_time": "2022-06-07T13:37:45.255Z"
   },
   {
    "duration": 3088,
    "start_time": "2022-06-07T13:38:56.025Z"
   },
   {
    "duration": 52,
    "start_time": "2022-06-07T13:38:59.115Z"
   },
   {
    "duration": 1944,
    "start_time": "2022-06-07T13:41:41.408Z"
   },
   {
    "duration": 156,
    "start_time": "2022-06-07T13:41:43.354Z"
   },
   {
    "duration": 21,
    "start_time": "2022-06-07T13:41:43.512Z"
   },
   {
    "duration": 71,
    "start_time": "2022-06-07T13:41:43.535Z"
   },
   {
    "duration": 8,
    "start_time": "2022-06-07T13:41:43.609Z"
   },
   {
    "duration": 23,
    "start_time": "2022-06-07T13:41:43.618Z"
   },
   {
    "duration": 62,
    "start_time": "2022-06-07T13:41:43.649Z"
   },
   {
    "duration": 8,
    "start_time": "2022-06-07T13:41:43.713Z"
   },
   {
    "duration": 101,
    "start_time": "2022-06-07T13:41:43.722Z"
   },
   {
    "duration": 10,
    "start_time": "2022-06-07T13:41:43.826Z"
   },
   {
    "duration": 71,
    "start_time": "2022-06-07T13:41:43.839Z"
   },
   {
    "duration": 10,
    "start_time": "2022-06-07T13:41:43.912Z"
   },
   {
    "duration": 6,
    "start_time": "2022-06-07T13:41:43.924Z"
   },
   {
    "duration": 7,
    "start_time": "2022-06-07T13:41:43.931Z"
   },
   {
    "duration": 70,
    "start_time": "2022-06-07T13:41:43.939Z"
   },
   {
    "duration": 10,
    "start_time": "2022-06-07T13:41:44.012Z"
   },
   {
    "duration": 618,
    "start_time": "2022-06-07T13:41:44.024Z"
   },
   {
    "duration": 430,
    "start_time": "2022-06-07T13:41:44.644Z"
   },
   {
    "duration": 16,
    "start_time": "2022-06-07T13:41:45.076Z"
   },
   {
    "duration": 37,
    "start_time": "2022-06-07T13:41:45.094Z"
   },
   {
    "duration": 91,
    "start_time": "2022-06-07T13:41:45.133Z"
   },
   {
    "duration": 139,
    "start_time": "2022-06-07T13:41:45.226Z"
   },
   {
    "duration": 176,
    "start_time": "2022-06-07T13:41:45.368Z"
   },
   {
    "duration": 92,
    "start_time": "2022-06-07T13:41:45.548Z"
   },
   {
    "duration": 624,
    "start_time": "2022-06-07T13:41:45.652Z"
   },
   {
    "duration": 30,
    "start_time": "2022-06-07T13:41:46.279Z"
   },
   {
    "duration": 38,
    "start_time": "2022-06-07T13:41:46.312Z"
   },
   {
    "duration": 65,
    "start_time": "2022-06-07T13:41:46.356Z"
   },
   {
    "duration": 18,
    "start_time": "2022-06-07T13:41:46.423Z"
   },
   {
    "duration": 69,
    "start_time": "2022-06-07T13:41:46.446Z"
   },
   {
    "duration": 102,
    "start_time": "2022-06-07T13:41:46.517Z"
   },
   {
    "duration": 43,
    "start_time": "2022-06-07T13:41:46.621Z"
   },
   {
    "duration": 445,
    "start_time": "2022-06-07T13:41:46.667Z"
   },
   {
    "duration": 24,
    "start_time": "2022-06-07T13:41:47.114Z"
   },
   {
    "duration": 80,
    "start_time": "2022-06-07T13:41:47.139Z"
   },
   {
    "duration": 79,
    "start_time": "2022-06-07T13:41:47.221Z"
   },
   {
    "duration": 54,
    "start_time": "2022-06-07T13:41:47.304Z"
   },
   {
    "duration": 577,
    "start_time": "2022-06-07T13:41:47.361Z"
   },
   {
    "duration": 23,
    "start_time": "2022-06-07T13:41:47.945Z"
   },
   {
    "duration": 361,
    "start_time": "2022-06-07T13:41:47.972Z"
   },
   {
    "duration": 553,
    "start_time": "2022-06-07T13:41:48.351Z"
   },
   {
    "duration": 15,
    "start_time": "2022-06-07T13:41:48.909Z"
   },
   {
    "duration": 485,
    "start_time": "2022-06-07T13:41:48.936Z"
   },
   {
    "duration": 22,
    "start_time": "2022-06-07T13:41:49.426Z"
   },
   {
    "duration": 507,
    "start_time": "2022-06-07T13:41:49.458Z"
   },
   {
    "duration": 19,
    "start_time": "2022-06-07T13:41:49.967Z"
   },
   {
    "duration": 436,
    "start_time": "2022-06-07T13:41:49.990Z"
   },
   {
    "duration": 13,
    "start_time": "2022-06-07T13:41:50.428Z"
   },
   {
    "duration": 91,
    "start_time": "2022-06-07T13:41:50.443Z"
   },
   {
    "duration": 118,
    "start_time": "2022-06-07T13:41:50.536Z"
   },
   {
    "duration": 89,
    "start_time": "2022-06-07T13:41:50.656Z"
   },
   {
    "duration": 386,
    "start_time": "2022-06-07T13:41:50.747Z"
   },
   {
    "duration": 0,
    "start_time": "2022-06-07T13:41:51.142Z"
   },
   {
    "duration": 0,
    "start_time": "2022-06-07T13:41:51.147Z"
   },
   {
    "duration": 0,
    "start_time": "2022-06-07T13:41:51.149Z"
   },
   {
    "duration": 0,
    "start_time": "2022-06-07T13:41:51.150Z"
   },
   {
    "duration": 0,
    "start_time": "2022-06-07T13:41:51.151Z"
   },
   {
    "duration": 0,
    "start_time": "2022-06-07T13:41:51.157Z"
   },
   {
    "duration": 0,
    "start_time": "2022-06-07T13:41:51.158Z"
   },
   {
    "duration": 0,
    "start_time": "2022-06-07T13:41:51.160Z"
   },
   {
    "duration": 0,
    "start_time": "2022-06-07T13:41:51.169Z"
   },
   {
    "duration": 0,
    "start_time": "2022-06-07T13:41:51.170Z"
   },
   {
    "duration": 0,
    "start_time": "2022-06-07T13:41:51.172Z"
   },
   {
    "duration": 0,
    "start_time": "2022-06-07T13:41:51.174Z"
   },
   {
    "duration": 0,
    "start_time": "2022-06-07T13:41:51.175Z"
   },
   {
    "duration": 0,
    "start_time": "2022-06-07T13:41:51.176Z"
   },
   {
    "duration": 0,
    "start_time": "2022-06-07T13:41:51.178Z"
   },
   {
    "duration": 0,
    "start_time": "2022-06-07T13:41:51.179Z"
   },
   {
    "duration": 0,
    "start_time": "2022-06-07T13:41:51.189Z"
   },
   {
    "duration": 0,
    "start_time": "2022-06-07T13:41:51.190Z"
   },
   {
    "duration": 0,
    "start_time": "2022-06-07T13:41:51.192Z"
   },
   {
    "duration": 11,
    "start_time": "2022-06-07T13:47:40.622Z"
   },
   {
    "duration": 4,
    "start_time": "2022-06-07T13:53:17.563Z"
   },
   {
    "duration": 13,
    "start_time": "2022-06-07T13:54:08.672Z"
   },
   {
    "duration": 24,
    "start_time": "2022-06-07T13:54:27.062Z"
   },
   {
    "duration": 49,
    "start_time": "2022-06-07T13:55:40.421Z"
   },
   {
    "duration": 1500,
    "start_time": "2022-06-07T14:47:54.163Z"
   },
   {
    "duration": 129,
    "start_time": "2022-06-07T14:47:55.670Z"
   },
   {
    "duration": 17,
    "start_time": "2022-06-07T14:47:55.800Z"
   },
   {
    "duration": 35,
    "start_time": "2022-06-07T14:47:55.819Z"
   },
   {
    "duration": 22,
    "start_time": "2022-06-07T14:47:55.860Z"
   },
   {
    "duration": 12,
    "start_time": "2022-06-07T14:47:55.883Z"
   },
   {
    "duration": 10,
    "start_time": "2022-06-07T14:47:55.897Z"
   },
   {
    "duration": 15,
    "start_time": "2022-06-07T14:47:55.908Z"
   },
   {
    "duration": 95,
    "start_time": "2022-06-07T14:47:55.924Z"
   },
   {
    "duration": 4,
    "start_time": "2022-06-07T14:47:56.021Z"
   },
   {
    "duration": 49,
    "start_time": "2022-06-07T14:47:56.034Z"
   },
   {
    "duration": 13,
    "start_time": "2022-06-07T14:47:56.084Z"
   },
   {
    "duration": 7,
    "start_time": "2022-06-07T14:47:56.099Z"
   },
   {
    "duration": 6,
    "start_time": "2022-06-07T14:47:56.109Z"
   },
   {
    "duration": 29,
    "start_time": "2022-06-07T14:47:56.117Z"
   },
   {
    "duration": 29,
    "start_time": "2022-06-07T14:47:56.152Z"
   },
   {
    "duration": 329,
    "start_time": "2022-06-07T14:47:56.182Z"
   },
   {
    "duration": 292,
    "start_time": "2022-06-07T14:47:56.513Z"
   },
   {
    "duration": 10,
    "start_time": "2022-06-07T14:47:56.807Z"
   },
   {
    "duration": 25,
    "start_time": "2022-06-07T14:47:56.819Z"
   },
   {
    "duration": 35,
    "start_time": "2022-06-07T14:47:56.845Z"
   },
   {
    "duration": 8,
    "start_time": "2022-06-07T14:47:56.882Z"
   },
   {
    "duration": 8,
    "start_time": "2022-06-07T14:47:56.892Z"
   },
   {
    "duration": 11,
    "start_time": "2022-06-07T14:47:56.902Z"
   },
   {
    "duration": 264,
    "start_time": "2022-06-07T14:47:56.914Z"
   },
   {
    "duration": 10,
    "start_time": "2022-06-07T14:47:57.180Z"
   },
   {
    "duration": 21,
    "start_time": "2022-06-07T14:47:57.192Z"
   },
   {
    "duration": 70,
    "start_time": "2022-06-07T14:47:57.214Z"
   },
   {
    "duration": 12,
    "start_time": "2022-06-07T14:47:57.285Z"
   },
   {
    "duration": 13,
    "start_time": "2022-06-07T14:47:57.298Z"
   },
   {
    "duration": 6,
    "start_time": "2022-06-07T14:47:57.313Z"
   },
   {
    "duration": 55,
    "start_time": "2022-06-07T14:47:57.320Z"
   },
   {
    "duration": 307,
    "start_time": "2022-06-07T14:47:57.379Z"
   },
   {
    "duration": 11,
    "start_time": "2022-06-07T14:47:57.688Z"
   },
   {
    "duration": 8,
    "start_time": "2022-06-07T14:47:57.700Z"
   },
   {
    "duration": 24,
    "start_time": "2022-06-07T14:47:57.726Z"
   },
   {
    "duration": 24,
    "start_time": "2022-06-07T14:47:57.763Z"
   },
   {
    "duration": 302,
    "start_time": "2022-06-07T14:47:57.789Z"
   },
   {
    "duration": 11,
    "start_time": "2022-06-07T14:47:58.093Z"
   },
   {
    "duration": 273,
    "start_time": "2022-06-07T14:47:58.106Z"
   },
   {
    "duration": 384,
    "start_time": "2022-06-07T14:47:58.385Z"
   },
   {
    "duration": 10,
    "start_time": "2022-06-07T14:47:58.771Z"
   },
   {
    "duration": 231,
    "start_time": "2022-06-07T14:47:58.783Z"
   },
   {
    "duration": 29,
    "start_time": "2022-06-07T14:47:59.015Z"
   },
   {
    "duration": 228,
    "start_time": "2022-06-07T14:47:59.046Z"
   },
   {
    "duration": 10,
    "start_time": "2022-06-07T14:47:59.276Z"
   },
   {
    "duration": 187,
    "start_time": "2022-06-07T14:47:59.287Z"
   },
   {
    "duration": 12,
    "start_time": "2022-06-07T14:47:59.476Z"
   },
   {
    "duration": 11,
    "start_time": "2022-06-07T14:47:59.490Z"
   },
   {
    "duration": 59,
    "start_time": "2022-06-07T14:47:59.502Z"
   },
   {
    "duration": 31,
    "start_time": "2022-06-07T14:47:59.565Z"
   },
   {
    "duration": 8,
    "start_time": "2022-06-07T14:47:59.598Z"
   },
   {
    "duration": 62,
    "start_time": "2022-06-07T14:47:59.608Z"
   },
   {
    "duration": 21,
    "start_time": "2022-06-07T14:47:59.672Z"
   },
   {
    "duration": 21,
    "start_time": "2022-06-07T14:47:59.694Z"
   },
   {
    "duration": 41,
    "start_time": "2022-06-07T14:47:59.717Z"
   },
   {
    "duration": 135,
    "start_time": "2022-06-07T14:47:59.764Z"
   },
   {
    "duration": 0,
    "start_time": "2022-06-07T14:47:59.901Z"
   },
   {
    "duration": 0,
    "start_time": "2022-06-07T14:47:59.902Z"
   },
   {
    "duration": 0,
    "start_time": "2022-06-07T14:47:59.903Z"
   },
   {
    "duration": 0,
    "start_time": "2022-06-07T14:47:59.904Z"
   },
   {
    "duration": 0,
    "start_time": "2022-06-07T14:47:59.905Z"
   },
   {
    "duration": 0,
    "start_time": "2022-06-07T14:47:59.907Z"
   },
   {
    "duration": 0,
    "start_time": "2022-06-07T14:47:59.907Z"
   },
   {
    "duration": 0,
    "start_time": "2022-06-07T14:47:59.908Z"
   },
   {
    "duration": 0,
    "start_time": "2022-06-07T14:47:59.909Z"
   },
   {
    "duration": 0,
    "start_time": "2022-06-07T14:47:59.910Z"
   },
   {
    "duration": 0,
    "start_time": "2022-06-07T14:47:59.925Z"
   },
   {
    "duration": 0,
    "start_time": "2022-06-07T14:47:59.926Z"
   },
   {
    "duration": 0,
    "start_time": "2022-06-07T14:47:59.927Z"
   },
   {
    "duration": 0,
    "start_time": "2022-06-07T14:47:59.928Z"
   },
   {
    "duration": 0,
    "start_time": "2022-06-07T14:47:59.928Z"
   },
   {
    "duration": 0,
    "start_time": "2022-06-07T14:47:59.929Z"
   },
   {
    "duration": 0,
    "start_time": "2022-06-07T14:47:59.930Z"
   },
   {
    "duration": 0,
    "start_time": "2022-06-07T14:47:59.930Z"
   },
   {
    "duration": 0,
    "start_time": "2022-06-07T14:47:59.931Z"
   },
   {
    "duration": 44,
    "start_time": "2022-06-07T14:49:12.522Z"
   },
   {
    "duration": 23,
    "start_time": "2022-06-07T14:50:20.574Z"
   },
   {
    "duration": 44,
    "start_time": "2022-06-07T14:50:40.410Z"
   },
   {
    "duration": 23,
    "start_time": "2022-06-07T14:51:23.395Z"
   },
   {
    "duration": 21,
    "start_time": "2022-06-07T14:51:35.778Z"
   },
   {
    "duration": 24,
    "start_time": "2022-06-07T14:52:02.567Z"
   },
   {
    "duration": 19,
    "start_time": "2022-06-07T14:52:10.467Z"
   },
   {
    "duration": 22,
    "start_time": "2022-06-07T14:52:59.463Z"
   },
   {
    "duration": 36,
    "start_time": "2022-06-07T14:53:48.608Z"
   },
   {
    "duration": 23,
    "start_time": "2022-06-07T14:54:31.857Z"
   },
   {
    "duration": 21,
    "start_time": "2022-06-07T15:03:17.668Z"
   },
   {
    "duration": 24,
    "start_time": "2022-06-07T15:03:32.760Z"
   },
   {
    "duration": 44,
    "start_time": "2022-06-07T15:04:25.208Z"
   },
   {
    "duration": 4,
    "start_time": "2022-06-07T15:05:38.678Z"
   },
   {
    "duration": 9,
    "start_time": "2022-06-07T15:05:39.188Z"
   },
   {
    "duration": 25,
    "start_time": "2022-06-07T15:05:39.731Z"
   },
   {
    "duration": 26,
    "start_time": "2022-06-07T15:05:41.809Z"
   },
   {
    "duration": 32,
    "start_time": "2022-06-07T15:05:50.637Z"
   },
   {
    "duration": 29,
    "start_time": "2022-06-07T15:05:53.581Z"
   },
   {
    "duration": 27,
    "start_time": "2022-06-07T15:06:41.163Z"
   },
   {
    "duration": 3012,
    "start_time": "2022-06-07T15:06:48.267Z"
   },
   {
    "duration": 1731,
    "start_time": "2022-06-07T15:13:46.176Z"
   },
   {
    "duration": 134,
    "start_time": "2022-06-07T15:13:47.910Z"
   },
   {
    "duration": 24,
    "start_time": "2022-06-07T15:13:48.046Z"
   },
   {
    "duration": 33,
    "start_time": "2022-06-07T15:13:48.073Z"
   },
   {
    "duration": 7,
    "start_time": "2022-06-07T15:13:48.108Z"
   },
   {
    "duration": 6,
    "start_time": "2022-06-07T15:13:48.117Z"
   },
   {
    "duration": 63,
    "start_time": "2022-06-07T15:13:48.125Z"
   },
   {
    "duration": 8,
    "start_time": "2022-06-07T15:13:48.190Z"
   },
   {
    "duration": 89,
    "start_time": "2022-06-07T15:13:48.200Z"
   },
   {
    "duration": 4,
    "start_time": "2022-06-07T15:13:48.292Z"
   },
   {
    "duration": 12,
    "start_time": "2022-06-07T15:13:48.298Z"
   },
   {
    "duration": 21,
    "start_time": "2022-06-07T15:13:48.312Z"
   },
   {
    "duration": 53,
    "start_time": "2022-06-07T15:13:48.337Z"
   },
   {
    "duration": 25,
    "start_time": "2022-06-07T15:13:48.392Z"
   },
   {
    "duration": 75,
    "start_time": "2022-06-07T15:13:48.418Z"
   },
   {
    "duration": 12,
    "start_time": "2022-06-07T15:13:48.496Z"
   },
   {
    "duration": 446,
    "start_time": "2022-06-07T15:13:48.510Z"
   },
   {
    "duration": 442,
    "start_time": "2022-06-07T15:13:48.958Z"
   },
   {
    "duration": 12,
    "start_time": "2022-06-07T15:13:49.405Z"
   },
   {
    "duration": 74,
    "start_time": "2022-06-07T15:13:49.419Z"
   },
   {
    "duration": 22,
    "start_time": "2022-06-07T15:13:49.495Z"
   },
   {
    "duration": 17,
    "start_time": "2022-06-07T15:13:49.519Z"
   },
   {
    "duration": 68,
    "start_time": "2022-06-07T15:13:49.540Z"
   },
   {
    "duration": 9,
    "start_time": "2022-06-07T15:13:49.610Z"
   },
   {
    "duration": 314,
    "start_time": "2022-06-07T15:13:49.620Z"
   },
   {
    "duration": 15,
    "start_time": "2022-06-07T15:13:49.936Z"
   },
   {
    "duration": 57,
    "start_time": "2022-06-07T15:13:49.955Z"
   },
   {
    "duration": 17,
    "start_time": "2022-06-07T15:13:50.016Z"
   },
   {
    "duration": 56,
    "start_time": "2022-06-07T15:13:50.038Z"
   },
   {
    "duration": 16,
    "start_time": "2022-06-07T15:13:50.096Z"
   },
   {
    "duration": 27,
    "start_time": "2022-06-07T15:13:50.114Z"
   },
   {
    "duration": 59,
    "start_time": "2022-06-07T15:13:50.144Z"
   },
   {
    "duration": 374,
    "start_time": "2022-06-07T15:13:50.206Z"
   },
   {
    "duration": 13,
    "start_time": "2022-06-07T15:13:50.583Z"
   },
   {
    "duration": 10,
    "start_time": "2022-06-07T15:13:50.598Z"
   },
   {
    "duration": 50,
    "start_time": "2022-06-07T15:13:50.610Z"
   },
   {
    "duration": 44,
    "start_time": "2022-06-07T15:13:50.664Z"
   },
   {
    "duration": 329,
    "start_time": "2022-06-07T15:13:50.710Z"
   },
   {
    "duration": 16,
    "start_time": "2022-06-07T15:13:51.041Z"
   },
   {
    "duration": 377,
    "start_time": "2022-06-07T15:13:51.059Z"
   },
   {
    "duration": 450,
    "start_time": "2022-06-07T15:13:51.438Z"
   },
   {
    "duration": 14,
    "start_time": "2022-06-07T15:13:51.891Z"
   },
   {
    "duration": 283,
    "start_time": "2022-06-07T15:13:51.907Z"
   },
   {
    "duration": 17,
    "start_time": "2022-06-07T15:13:52.197Z"
   },
   {
    "duration": 340,
    "start_time": "2022-06-07T15:13:52.216Z"
   },
   {
    "duration": 12,
    "start_time": "2022-06-07T15:13:52.558Z"
   },
   {
    "duration": 230,
    "start_time": "2022-06-07T15:13:52.572Z"
   },
   {
    "duration": 20,
    "start_time": "2022-06-07T15:13:52.805Z"
   },
   {
    "duration": 44,
    "start_time": "2022-06-07T15:13:52.838Z"
   },
   {
    "duration": 49,
    "start_time": "2022-06-07T15:13:52.884Z"
   },
   {
    "duration": 28,
    "start_time": "2022-06-07T15:13:52.935Z"
   },
   {
    "duration": 26,
    "start_time": "2022-06-07T15:13:52.965Z"
   },
   {
    "duration": 12,
    "start_time": "2022-06-07T15:13:52.993Z"
   },
   {
    "duration": 21,
    "start_time": "2022-06-07T15:13:53.008Z"
   },
   {
    "duration": 65,
    "start_time": "2022-06-07T15:13:53.033Z"
   },
   {
    "duration": 21,
    "start_time": "2022-06-07T15:13:53.100Z"
   },
   {
    "duration": 45,
    "start_time": "2022-06-07T15:13:53.123Z"
   },
   {
    "duration": 22,
    "start_time": "2022-06-07T15:13:53.175Z"
   },
   {
    "duration": 20,
    "start_time": "2022-06-07T15:13:53.199Z"
   },
   {
    "duration": 175,
    "start_time": "2022-06-07T15:13:53.221Z"
   },
   {
    "duration": 0,
    "start_time": "2022-06-07T15:13:53.398Z"
   },
   {
    "duration": 0,
    "start_time": "2022-06-07T15:13:53.400Z"
   },
   {
    "duration": 0,
    "start_time": "2022-06-07T15:13:53.402Z"
   },
   {
    "duration": 0,
    "start_time": "2022-06-07T15:13:53.404Z"
   },
   {
    "duration": 0,
    "start_time": "2022-06-07T15:13:53.405Z"
   },
   {
    "duration": 0,
    "start_time": "2022-06-07T15:13:53.406Z"
   },
   {
    "duration": 0,
    "start_time": "2022-06-07T15:13:53.408Z"
   },
   {
    "duration": 0,
    "start_time": "2022-06-07T15:13:53.432Z"
   },
   {
    "duration": 0,
    "start_time": "2022-06-07T15:13:53.436Z"
   },
   {
    "duration": 0,
    "start_time": "2022-06-07T15:13:53.437Z"
   },
   {
    "duration": 0,
    "start_time": "2022-06-07T15:13:53.438Z"
   },
   {
    "duration": 0,
    "start_time": "2022-06-07T15:13:53.440Z"
   },
   {
    "duration": 0,
    "start_time": "2022-06-07T15:13:53.443Z"
   },
   {
    "duration": 0,
    "start_time": "2022-06-07T15:13:53.444Z"
   },
   {
    "duration": 0,
    "start_time": "2022-06-07T15:13:53.445Z"
   },
   {
    "duration": 0,
    "start_time": "2022-06-07T15:13:53.446Z"
   },
   {
    "duration": 0,
    "start_time": "2022-06-07T15:13:53.448Z"
   },
   {
    "duration": 0,
    "start_time": "2022-06-07T15:13:53.449Z"
   },
   {
    "duration": 0,
    "start_time": "2022-06-07T15:13:53.450Z"
   },
   {
    "duration": 5,
    "start_time": "2022-06-07T15:14:12.305Z"
   },
   {
    "duration": 17,
    "start_time": "2022-06-07T15:14:19.903Z"
   },
   {
    "duration": 2016,
    "start_time": "2022-06-07T15:14:24.162Z"
   },
   {
    "duration": 7,
    "start_time": "2022-06-07T15:15:04.870Z"
   },
   {
    "duration": 41,
    "start_time": "2022-06-07T15:17:24.705Z"
   },
   {
    "duration": 1411,
    "start_time": "2022-06-07T15:17:45.498Z"
   },
   {
    "duration": 86,
    "start_time": "2022-06-07T15:17:46.912Z"
   },
   {
    "duration": 14,
    "start_time": "2022-06-07T15:17:47.000Z"
   },
   {
    "duration": 20,
    "start_time": "2022-06-07T15:17:47.016Z"
   },
   {
    "duration": 18,
    "start_time": "2022-06-07T15:17:47.038Z"
   },
   {
    "duration": 6,
    "start_time": "2022-06-07T15:17:47.058Z"
   },
   {
    "duration": 9,
    "start_time": "2022-06-07T15:17:47.066Z"
   },
   {
    "duration": 9,
    "start_time": "2022-06-07T15:17:47.076Z"
   },
   {
    "duration": 61,
    "start_time": "2022-06-07T15:17:47.087Z"
   },
   {
    "duration": 4,
    "start_time": "2022-06-07T15:17:47.151Z"
   },
   {
    "duration": 9,
    "start_time": "2022-06-07T15:17:47.157Z"
   },
   {
    "duration": 9,
    "start_time": "2022-06-07T15:17:47.168Z"
   },
   {
    "duration": 5,
    "start_time": "2022-06-07T15:17:47.178Z"
   },
   {
    "duration": 10,
    "start_time": "2022-06-07T15:17:47.184Z"
   },
   {
    "duration": 18,
    "start_time": "2022-06-07T15:17:47.195Z"
   },
   {
    "duration": 7,
    "start_time": "2022-06-07T15:17:47.227Z"
   },
   {
    "duration": 325,
    "start_time": "2022-06-07T15:17:47.240Z"
   },
   {
    "duration": 276,
    "start_time": "2022-06-07T15:17:47.567Z"
   },
   {
    "duration": 16,
    "start_time": "2022-06-07T15:17:47.845Z"
   },
   {
    "duration": 11,
    "start_time": "2022-06-07T15:17:47.863Z"
   },
   {
    "duration": 14,
    "start_time": "2022-06-07T15:17:47.876Z"
   },
   {
    "duration": 9,
    "start_time": "2022-06-07T15:17:47.892Z"
   },
   {
    "duration": 28,
    "start_time": "2022-06-07T15:17:47.903Z"
   },
   {
    "duration": 28,
    "start_time": "2022-06-07T15:17:47.933Z"
   },
   {
    "duration": 231,
    "start_time": "2022-06-07T15:17:47.963Z"
   },
   {
    "duration": 12,
    "start_time": "2022-06-07T15:17:48.196Z"
   },
   {
    "duration": 35,
    "start_time": "2022-06-07T15:17:48.210Z"
   },
   {
    "duration": 13,
    "start_time": "2022-06-07T15:17:48.253Z"
   },
   {
    "duration": 9,
    "start_time": "2022-06-07T15:17:48.268Z"
   },
   {
    "duration": 12,
    "start_time": "2022-06-07T15:17:48.278Z"
   },
   {
    "duration": 8,
    "start_time": "2022-06-07T15:17:48.292Z"
   },
   {
    "duration": 48,
    "start_time": "2022-06-07T15:17:48.302Z"
   },
   {
    "duration": 301,
    "start_time": "2022-06-07T15:17:48.352Z"
   },
   {
    "duration": 13,
    "start_time": "2022-06-07T15:17:48.655Z"
   },
   {
    "duration": 16,
    "start_time": "2022-06-07T15:17:48.670Z"
   },
   {
    "duration": 35,
    "start_time": "2022-06-07T15:17:48.687Z"
   },
   {
    "duration": 26,
    "start_time": "2022-06-07T15:17:48.725Z"
   },
   {
    "duration": 268,
    "start_time": "2022-06-07T15:17:48.753Z"
   },
   {
    "duration": 20,
    "start_time": "2022-06-07T15:17:49.026Z"
   },
   {
    "duration": 255,
    "start_time": "2022-06-07T15:17:49.048Z"
   },
   {
    "duration": 380,
    "start_time": "2022-06-07T15:17:49.305Z"
   },
   {
    "duration": 10,
    "start_time": "2022-06-07T15:17:49.687Z"
   },
   {
    "duration": 217,
    "start_time": "2022-06-07T15:17:49.699Z"
   },
   {
    "duration": 27,
    "start_time": "2022-06-07T15:17:49.918Z"
   },
   {
    "duration": 233,
    "start_time": "2022-06-07T15:17:49.947Z"
   },
   {
    "duration": 11,
    "start_time": "2022-06-07T15:17:50.182Z"
   },
   {
    "duration": 186,
    "start_time": "2022-06-07T15:17:50.196Z"
   },
   {
    "duration": 11,
    "start_time": "2022-06-07T15:17:50.383Z"
   },
   {
    "duration": 18,
    "start_time": "2022-06-07T15:17:50.396Z"
   },
   {
    "duration": 52,
    "start_time": "2022-06-07T15:17:50.416Z"
   },
   {
    "duration": 36,
    "start_time": "2022-06-07T15:17:50.470Z"
   },
   {
    "duration": 35,
    "start_time": "2022-06-07T15:17:50.508Z"
   },
   {
    "duration": 14,
    "start_time": "2022-06-07T15:17:50.553Z"
   },
   {
    "duration": 9,
    "start_time": "2022-06-07T15:17:50.569Z"
   },
   {
    "duration": 33,
    "start_time": "2022-06-07T15:17:50.580Z"
   },
   {
    "duration": 57,
    "start_time": "2022-06-07T15:17:50.615Z"
   },
   {
    "duration": 19,
    "start_time": "2022-06-07T15:17:50.674Z"
   },
   {
    "duration": 24,
    "start_time": "2022-06-07T15:17:50.694Z"
   },
   {
    "duration": 4,
    "start_time": "2022-06-07T15:17:50.720Z"
   },
   {
    "duration": 45,
    "start_time": "2022-06-07T15:17:50.728Z"
   },
   {
    "duration": 1829,
    "start_time": "2022-06-07T15:17:50.776Z"
   },
   {
    "duration": 6,
    "start_time": "2022-06-07T15:17:52.608Z"
   },
   {
    "duration": 180,
    "start_time": "2022-06-07T15:17:52.615Z"
   },
   {
    "duration": 0,
    "start_time": "2022-06-07T15:17:52.797Z"
   },
   {
    "duration": 0,
    "start_time": "2022-06-07T15:17:52.799Z"
   },
   {
    "duration": 0,
    "start_time": "2022-06-07T15:17:52.801Z"
   },
   {
    "duration": 0,
    "start_time": "2022-06-07T15:17:52.802Z"
   },
   {
    "duration": 0,
    "start_time": "2022-06-07T15:17:52.803Z"
   },
   {
    "duration": 0,
    "start_time": "2022-06-07T15:17:52.804Z"
   },
   {
    "duration": 0,
    "start_time": "2022-06-07T15:17:52.805Z"
   },
   {
    "duration": 1,
    "start_time": "2022-06-07T15:17:52.807Z"
   },
   {
    "duration": 0,
    "start_time": "2022-06-07T15:17:52.832Z"
   },
   {
    "duration": 0,
    "start_time": "2022-06-07T15:17:52.833Z"
   },
   {
    "duration": 0,
    "start_time": "2022-06-07T15:17:52.834Z"
   },
   {
    "duration": 0,
    "start_time": "2022-06-07T15:17:52.836Z"
   },
   {
    "duration": 0,
    "start_time": "2022-06-07T15:17:52.837Z"
   },
   {
    "duration": 0,
    "start_time": "2022-06-07T15:17:52.838Z"
   },
   {
    "duration": 0,
    "start_time": "2022-06-07T15:17:52.838Z"
   },
   {
    "duration": 0,
    "start_time": "2022-06-07T15:17:52.839Z"
   },
   {
    "duration": 10,
    "start_time": "2022-06-07T15:18:07.355Z"
   },
   {
    "duration": 2494,
    "start_time": "2022-06-07T15:18:10.766Z"
   },
   {
    "duration": 32,
    "start_time": "2022-06-07T15:18:14.558Z"
   },
   {
    "duration": 2707,
    "start_time": "2022-06-07T15:20:34.224Z"
   },
   {
    "duration": 32,
    "start_time": "2022-06-07T15:20:36.933Z"
   },
   {
    "duration": 3032,
    "start_time": "2022-06-07T15:23:38.222Z"
   },
   {
    "duration": 23,
    "start_time": "2022-06-07T15:23:41.256Z"
   },
   {
    "duration": 2952,
    "start_time": "2022-06-07T15:24:41.709Z"
   },
   {
    "duration": 32,
    "start_time": "2022-06-07T15:24:44.664Z"
   },
   {
    "duration": 2035,
    "start_time": "2022-06-07T15:25:26.307Z"
   },
   {
    "duration": 20,
    "start_time": "2022-06-07T15:25:28.344Z"
   },
   {
    "duration": 6,
    "start_time": "2022-06-07T15:31:24.655Z"
   },
   {
    "duration": 9,
    "start_time": "2022-06-07T15:31:25.348Z"
   },
   {
    "duration": 1505,
    "start_time": "2022-06-07T15:31:27.923Z"
   },
   {
    "duration": 27,
    "start_time": "2022-06-07T15:31:29.430Z"
   },
   {
    "duration": 1746,
    "start_time": "2022-06-07T15:31:47.696Z"
   },
   {
    "duration": 22,
    "start_time": "2022-06-07T15:31:49.444Z"
   },
   {
    "duration": 2655,
    "start_time": "2022-06-07T15:32:29.998Z"
   },
   {
    "duration": 23,
    "start_time": "2022-06-07T15:32:32.655Z"
   },
   {
    "duration": 5,
    "start_time": "2022-06-07T15:35:22.637Z"
   },
   {
    "duration": 5,
    "start_time": "2022-06-07T15:35:25.457Z"
   },
   {
    "duration": 10,
    "start_time": "2022-06-07T15:35:26.667Z"
   },
   {
    "duration": 2573,
    "start_time": "2022-06-07T15:35:29.371Z"
   },
   {
    "duration": 24,
    "start_time": "2022-06-07T15:35:32.300Z"
   },
   {
    "duration": 1367,
    "start_time": "2022-06-07T15:36:41.067Z"
   },
   {
    "duration": 52,
    "start_time": "2022-06-07T15:36:42.436Z"
   },
   {
    "duration": 27,
    "start_time": "2022-06-07T15:36:42.489Z"
   },
   {
    "duration": 19,
    "start_time": "2022-06-07T15:36:42.519Z"
   },
   {
    "duration": 4,
    "start_time": "2022-06-07T15:36:42.540Z"
   },
   {
    "duration": 6,
    "start_time": "2022-06-07T15:36:42.545Z"
   },
   {
    "duration": 21,
    "start_time": "2022-06-07T15:36:42.552Z"
   },
   {
    "duration": 20,
    "start_time": "2022-06-07T15:36:42.574Z"
   },
   {
    "duration": 45,
    "start_time": "2022-06-07T15:36:42.596Z"
   },
   {
    "duration": 5,
    "start_time": "2022-06-07T15:36:42.644Z"
   },
   {
    "duration": 16,
    "start_time": "2022-06-07T15:36:42.650Z"
   },
   {
    "duration": 8,
    "start_time": "2022-06-07T15:36:42.668Z"
   },
   {
    "duration": 9,
    "start_time": "2022-06-07T15:36:42.677Z"
   },
   {
    "duration": 9,
    "start_time": "2022-06-07T15:36:42.688Z"
   },
   {
    "duration": 30,
    "start_time": "2022-06-07T15:36:42.699Z"
   },
   {
    "duration": 17,
    "start_time": "2022-06-07T15:36:42.730Z"
   },
   {
    "duration": 293,
    "start_time": "2022-06-07T15:36:42.749Z"
   },
   {
    "duration": 271,
    "start_time": "2022-06-07T15:36:43.043Z"
   },
   {
    "duration": 16,
    "start_time": "2022-06-07T15:36:43.316Z"
   },
   {
    "duration": 8,
    "start_time": "2022-06-07T15:36:43.334Z"
   },
   {
    "duration": 17,
    "start_time": "2022-06-07T15:36:43.344Z"
   },
   {
    "duration": 10,
    "start_time": "2022-06-07T15:36:43.362Z"
   },
   {
    "duration": 7,
    "start_time": "2022-06-07T15:36:43.374Z"
   },
   {
    "duration": 11,
    "start_time": "2022-06-07T15:36:43.383Z"
   },
   {
    "duration": 255,
    "start_time": "2022-06-07T15:36:43.395Z"
   },
   {
    "duration": 11,
    "start_time": "2022-06-07T15:36:43.652Z"
   },
   {
    "duration": 13,
    "start_time": "2022-06-07T15:36:43.665Z"
   },
   {
    "duration": 20,
    "start_time": "2022-06-07T15:36:43.682Z"
   },
   {
    "duration": 25,
    "start_time": "2022-06-07T15:36:43.703Z"
   },
   {
    "duration": 11,
    "start_time": "2022-06-07T15:36:43.730Z"
   },
   {
    "duration": 16,
    "start_time": "2022-06-07T15:36:43.742Z"
   },
   {
    "duration": 29,
    "start_time": "2022-06-07T15:36:43.759Z"
   },
   {
    "duration": 276,
    "start_time": "2022-06-07T15:36:43.790Z"
   },
   {
    "duration": 12,
    "start_time": "2022-06-07T15:36:44.067Z"
   },
   {
    "duration": 10,
    "start_time": "2022-06-07T15:36:44.080Z"
   },
   {
    "duration": 48,
    "start_time": "2022-06-07T15:36:44.092Z"
   },
   {
    "duration": 19,
    "start_time": "2022-06-07T15:36:44.141Z"
   },
   {
    "duration": 265,
    "start_time": "2022-06-07T15:36:44.161Z"
   },
   {
    "duration": 22,
    "start_time": "2022-06-07T15:36:44.428Z"
   },
   {
    "duration": 307,
    "start_time": "2022-06-07T15:36:44.452Z"
   },
   {
    "duration": 330,
    "start_time": "2022-06-07T15:36:44.761Z"
   },
   {
    "duration": 11,
    "start_time": "2022-06-07T15:36:45.093Z"
   },
   {
    "duration": 203,
    "start_time": "2022-06-07T15:36:45.106Z"
   },
   {
    "duration": 21,
    "start_time": "2022-06-07T15:36:45.310Z"
   },
   {
    "duration": 208,
    "start_time": "2022-06-07T15:36:45.333Z"
   },
   {
    "duration": 10,
    "start_time": "2022-06-07T15:36:45.543Z"
   },
   {
    "duration": 183,
    "start_time": "2022-06-07T15:36:45.555Z"
   },
   {
    "duration": 15,
    "start_time": "2022-06-07T15:36:45.740Z"
   },
   {
    "duration": 11,
    "start_time": "2022-06-07T15:36:45.757Z"
   },
   {
    "duration": 25,
    "start_time": "2022-06-07T15:36:45.770Z"
   },
   {
    "duration": 24,
    "start_time": "2022-06-07T15:36:45.825Z"
   },
   {
    "duration": 8,
    "start_time": "2022-06-07T15:36:45.851Z"
   },
   {
    "duration": 5,
    "start_time": "2022-06-07T15:36:45.861Z"
   },
   {
    "duration": 8,
    "start_time": "2022-06-07T15:36:45.867Z"
   },
   {
    "duration": 50,
    "start_time": "2022-06-07T15:36:45.877Z"
   },
   {
    "duration": 17,
    "start_time": "2022-06-07T15:36:45.929Z"
   },
   {
    "duration": 18,
    "start_time": "2022-06-07T15:36:45.948Z"
   },
   {
    "duration": 18,
    "start_time": "2022-06-07T15:36:45.968Z"
   },
   {
    "duration": 4,
    "start_time": "2022-06-07T15:36:45.988Z"
   },
   {
    "duration": 45,
    "start_time": "2022-06-07T15:36:45.993Z"
   },
   {
    "duration": 1669,
    "start_time": "2022-06-07T15:36:46.040Z"
   },
   {
    "duration": 124,
    "start_time": "2022-06-07T15:36:47.711Z"
   },
   {
    "duration": 0,
    "start_time": "2022-06-07T15:36:47.837Z"
   },
   {
    "duration": 0,
    "start_time": "2022-06-07T15:36:47.838Z"
   },
   {
    "duration": 0,
    "start_time": "2022-06-07T15:36:47.840Z"
   },
   {
    "duration": 0,
    "start_time": "2022-06-07T15:36:47.841Z"
   },
   {
    "duration": 0,
    "start_time": "2022-06-07T15:36:47.842Z"
   },
   {
    "duration": 0,
    "start_time": "2022-06-07T15:36:47.843Z"
   },
   {
    "duration": 0,
    "start_time": "2022-06-07T15:36:47.845Z"
   },
   {
    "duration": 0,
    "start_time": "2022-06-07T15:36:47.846Z"
   },
   {
    "duration": 0,
    "start_time": "2022-06-07T15:36:47.848Z"
   },
   {
    "duration": 0,
    "start_time": "2022-06-07T15:36:47.850Z"
   },
   {
    "duration": 0,
    "start_time": "2022-06-07T15:36:47.851Z"
   },
   {
    "duration": 0,
    "start_time": "2022-06-07T15:36:47.852Z"
   },
   {
    "duration": 0,
    "start_time": "2022-06-07T15:36:47.854Z"
   },
   {
    "duration": 0,
    "start_time": "2022-06-07T15:36:47.855Z"
   },
   {
    "duration": 0,
    "start_time": "2022-06-07T15:36:47.857Z"
   },
   {
    "duration": 0,
    "start_time": "2022-06-07T15:36:47.858Z"
   },
   {
    "duration": 0,
    "start_time": "2022-06-07T15:36:47.860Z"
   },
   {
    "duration": 7,
    "start_time": "2022-06-07T15:36:53.811Z"
   },
   {
    "duration": 11,
    "start_time": "2022-06-07T15:36:54.348Z"
   },
   {
    "duration": 3045,
    "start_time": "2022-06-07T15:36:56.897Z"
   },
   {
    "duration": 23,
    "start_time": "2022-06-07T15:36:59.944Z"
   },
   {
    "duration": 20,
    "start_time": "2022-06-07T15:46:20.290Z"
   },
   {
    "duration": 1397,
    "start_time": "2022-06-07T15:46:50.924Z"
   },
   {
    "duration": 59,
    "start_time": "2022-06-07T15:46:52.323Z"
   },
   {
    "duration": 18,
    "start_time": "2022-06-07T15:46:52.384Z"
   },
   {
    "duration": 17,
    "start_time": "2022-06-07T15:46:52.404Z"
   },
   {
    "duration": 5,
    "start_time": "2022-06-07T15:46:52.423Z"
   },
   {
    "duration": 7,
    "start_time": "2022-06-07T15:46:52.430Z"
   },
   {
    "duration": 12,
    "start_time": "2022-06-07T15:46:52.439Z"
   },
   {
    "duration": 6,
    "start_time": "2022-06-07T15:46:52.453Z"
   },
   {
    "duration": 65,
    "start_time": "2022-06-07T15:46:52.461Z"
   },
   {
    "duration": 5,
    "start_time": "2022-06-07T15:46:52.530Z"
   },
   {
    "duration": 11,
    "start_time": "2022-06-07T15:46:52.536Z"
   },
   {
    "duration": 14,
    "start_time": "2022-06-07T15:46:52.548Z"
   },
   {
    "duration": 15,
    "start_time": "2022-06-07T15:46:52.565Z"
   },
   {
    "duration": 24,
    "start_time": "2022-06-07T15:46:52.581Z"
   },
   {
    "duration": 23,
    "start_time": "2022-06-07T15:46:52.607Z"
   },
   {
    "duration": 9,
    "start_time": "2022-06-07T15:46:52.631Z"
   },
   {
    "duration": 311,
    "start_time": "2022-06-07T15:46:52.642Z"
   },
   {
    "duration": 258,
    "start_time": "2022-06-07T15:46:52.955Z"
   },
   {
    "duration": 17,
    "start_time": "2022-06-07T15:46:53.215Z"
   },
   {
    "duration": 14,
    "start_time": "2022-06-07T15:46:53.233Z"
   },
   {
    "duration": 17,
    "start_time": "2022-06-07T15:46:53.249Z"
   },
   {
    "duration": 10,
    "start_time": "2022-06-07T15:46:53.268Z"
   },
   {
    "duration": 8,
    "start_time": "2022-06-07T15:46:53.280Z"
   },
   {
    "duration": 8,
    "start_time": "2022-06-07T15:46:53.290Z"
   },
   {
    "duration": 285,
    "start_time": "2022-06-07T15:46:53.299Z"
   },
   {
    "duration": 12,
    "start_time": "2022-06-07T15:46:53.586Z"
   },
   {
    "duration": 30,
    "start_time": "2022-06-07T15:46:53.600Z"
   },
   {
    "duration": 20,
    "start_time": "2022-06-07T15:46:53.636Z"
   },
   {
    "duration": 14,
    "start_time": "2022-06-07T15:46:53.658Z"
   },
   {
    "duration": 12,
    "start_time": "2022-06-07T15:46:53.674Z"
   },
   {
    "duration": 20,
    "start_time": "2022-06-07T15:46:53.688Z"
   },
   {
    "duration": 33,
    "start_time": "2022-06-07T15:46:53.709Z"
   },
   {
    "duration": 259,
    "start_time": "2022-06-07T15:46:53.745Z"
   },
   {
    "duration": 21,
    "start_time": "2022-06-07T15:46:54.006Z"
   },
   {
    "duration": 16,
    "start_time": "2022-06-07T15:46:54.028Z"
   },
   {
    "duration": 19,
    "start_time": "2022-06-07T15:46:54.046Z"
   },
   {
    "duration": 18,
    "start_time": "2022-06-07T15:46:54.067Z"
   },
   {
    "duration": 301,
    "start_time": "2022-06-07T15:46:54.087Z"
   },
   {
    "duration": 11,
    "start_time": "2022-06-07T15:46:54.390Z"
   },
   {
    "duration": 311,
    "start_time": "2022-06-07T15:46:54.402Z"
   },
   {
    "duration": 349,
    "start_time": "2022-06-07T15:46:54.715Z"
   },
   {
    "duration": 12,
    "start_time": "2022-06-07T15:46:55.066Z"
   },
   {
    "duration": 204,
    "start_time": "2022-06-07T15:46:55.080Z"
   },
   {
    "duration": 16,
    "start_time": "2022-06-07T15:46:55.285Z"
   },
   {
    "duration": 223,
    "start_time": "2022-06-07T15:46:55.303Z"
   },
   {
    "duration": 16,
    "start_time": "2022-06-07T15:46:55.527Z"
   },
   {
    "duration": 167,
    "start_time": "2022-06-07T15:46:55.545Z"
   },
   {
    "duration": 20,
    "start_time": "2022-06-07T15:46:55.714Z"
   },
   {
    "duration": 11,
    "start_time": "2022-06-07T15:46:55.736Z"
   },
   {
    "duration": 28,
    "start_time": "2022-06-07T15:46:55.749Z"
   },
   {
    "duration": 28,
    "start_time": "2022-06-07T15:46:55.779Z"
   },
   {
    "duration": 24,
    "start_time": "2022-06-07T15:46:55.808Z"
   },
   {
    "duration": 10,
    "start_time": "2022-06-07T15:46:55.833Z"
   },
   {
    "duration": 29,
    "start_time": "2022-06-07T15:46:55.845Z"
   },
   {
    "duration": 29,
    "start_time": "2022-06-07T15:46:55.876Z"
   },
   {
    "duration": 18,
    "start_time": "2022-06-07T15:46:55.907Z"
   },
   {
    "duration": 22,
    "start_time": "2022-06-07T15:46:55.927Z"
   },
   {
    "duration": 137,
    "start_time": "2022-06-07T15:46:55.952Z"
   },
   {
    "duration": 0,
    "start_time": "2022-06-07T15:46:56.091Z"
   },
   {
    "duration": 0,
    "start_time": "2022-06-07T15:46:56.092Z"
   },
   {
    "duration": 0,
    "start_time": "2022-06-07T15:46:56.094Z"
   },
   {
    "duration": 0,
    "start_time": "2022-06-07T15:46:56.095Z"
   },
   {
    "duration": 0,
    "start_time": "2022-06-07T15:46:56.096Z"
   },
   {
    "duration": 0,
    "start_time": "2022-06-07T15:46:56.098Z"
   },
   {
    "duration": 0,
    "start_time": "2022-06-07T15:46:56.099Z"
   },
   {
    "duration": 0,
    "start_time": "2022-06-07T15:46:56.100Z"
   },
   {
    "duration": 0,
    "start_time": "2022-06-07T15:46:56.101Z"
   },
   {
    "duration": 0,
    "start_time": "2022-06-07T15:46:56.102Z"
   },
   {
    "duration": 0,
    "start_time": "2022-06-07T15:46:56.104Z"
   },
   {
    "duration": 0,
    "start_time": "2022-06-07T15:46:56.126Z"
   },
   {
    "duration": 0,
    "start_time": "2022-06-07T15:46:56.127Z"
   },
   {
    "duration": 0,
    "start_time": "2022-06-07T15:46:56.129Z"
   },
   {
    "duration": 0,
    "start_time": "2022-06-07T15:46:56.130Z"
   },
   {
    "duration": 0,
    "start_time": "2022-06-07T15:46:56.132Z"
   },
   {
    "duration": 0,
    "start_time": "2022-06-07T15:46:56.133Z"
   },
   {
    "duration": 0,
    "start_time": "2022-06-07T15:46:56.134Z"
   },
   {
    "duration": 0,
    "start_time": "2022-06-07T15:46:56.136Z"
   },
   {
    "duration": 0,
    "start_time": "2022-06-07T15:46:56.137Z"
   },
   {
    "duration": 0,
    "start_time": "2022-06-07T15:46:56.138Z"
   },
   {
    "duration": 25,
    "start_time": "2022-06-07T15:47:09.054Z"
   },
   {
    "duration": 21,
    "start_time": "2022-06-07T15:47:35.509Z"
   },
   {
    "duration": 24,
    "start_time": "2022-06-07T15:47:40.989Z"
   },
   {
    "duration": 22,
    "start_time": "2022-06-07T15:50:04.339Z"
   },
   {
    "duration": 21,
    "start_time": "2022-06-07T15:51:20.550Z"
   },
   {
    "duration": 36,
    "start_time": "2022-06-07T15:51:42.176Z"
   },
   {
    "duration": 23,
    "start_time": "2022-06-07T15:52:30.785Z"
   },
   {
    "duration": 29,
    "start_time": "2022-06-07T15:52:40.624Z"
   },
   {
    "duration": 6,
    "start_time": "2022-06-07T15:53:14.483Z"
   },
   {
    "duration": 17,
    "start_time": "2022-06-07T15:53:15.699Z"
   },
   {
    "duration": 1648,
    "start_time": "2022-06-07T15:53:19.949Z"
   },
   {
    "duration": 5,
    "start_time": "2022-06-07T16:07:05.060Z"
   },
   {
    "duration": 1444,
    "start_time": "2022-06-07T16:07:07.942Z"
   },
   {
    "duration": 20,
    "start_time": "2022-06-07T16:11:36.442Z"
   },
   {
    "duration": 12,
    "start_time": "2022-06-07T16:11:47.268Z"
   },
   {
    "duration": 1318,
    "start_time": "2022-06-07T16:12:08.580Z"
   },
   {
    "duration": 98,
    "start_time": "2022-06-07T16:12:09.900Z"
   },
   {
    "duration": 16,
    "start_time": "2022-06-07T16:12:10.000Z"
   },
   {
    "duration": 42,
    "start_time": "2022-06-07T16:12:10.017Z"
   },
   {
    "duration": 9,
    "start_time": "2022-06-07T16:12:10.061Z"
   },
   {
    "duration": 13,
    "start_time": "2022-06-07T16:12:10.072Z"
   },
   {
    "duration": 15,
    "start_time": "2022-06-07T16:12:10.086Z"
   },
   {
    "duration": 12,
    "start_time": "2022-06-07T16:12:10.102Z"
   },
   {
    "duration": 62,
    "start_time": "2022-06-07T16:12:10.116Z"
   },
   {
    "duration": 4,
    "start_time": "2022-06-07T16:12:10.181Z"
   },
   {
    "duration": 9,
    "start_time": "2022-06-07T16:12:10.186Z"
   },
   {
    "duration": 9,
    "start_time": "2022-06-07T16:12:10.197Z"
   },
   {
    "duration": 4,
    "start_time": "2022-06-07T16:12:10.207Z"
   },
   {
    "duration": 13,
    "start_time": "2022-06-07T16:12:10.212Z"
   },
   {
    "duration": 22,
    "start_time": "2022-06-07T16:12:10.227Z"
   },
   {
    "duration": 10,
    "start_time": "2022-06-07T16:12:10.251Z"
   },
   {
    "duration": 320,
    "start_time": "2022-06-07T16:12:10.262Z"
   },
   {
    "duration": 289,
    "start_time": "2022-06-07T16:12:10.584Z"
   },
   {
    "duration": 11,
    "start_time": "2022-06-07T16:12:10.875Z"
   },
   {
    "duration": 37,
    "start_time": "2022-06-07T16:12:10.888Z"
   },
   {
    "duration": 32,
    "start_time": "2022-06-07T16:12:10.928Z"
   },
   {
    "duration": 14,
    "start_time": "2022-06-07T16:12:10.962Z"
   },
   {
    "duration": 8,
    "start_time": "2022-06-07T16:12:10.977Z"
   },
   {
    "duration": 10,
    "start_time": "2022-06-07T16:12:10.987Z"
   },
   {
    "duration": 261,
    "start_time": "2022-06-07T16:12:10.998Z"
   },
   {
    "duration": 11,
    "start_time": "2022-06-07T16:12:11.260Z"
   },
   {
    "duration": 16,
    "start_time": "2022-06-07T16:12:11.273Z"
   },
   {
    "duration": 21,
    "start_time": "2022-06-07T16:12:11.293Z"
   },
   {
    "duration": 22,
    "start_time": "2022-06-07T16:12:11.316Z"
   },
   {
    "duration": 25,
    "start_time": "2022-06-07T16:12:11.340Z"
   },
   {
    "duration": 6,
    "start_time": "2022-06-07T16:12:11.367Z"
   },
   {
    "duration": 42,
    "start_time": "2022-06-07T16:12:11.375Z"
   },
   {
    "duration": 267,
    "start_time": "2022-06-07T16:12:11.419Z"
   },
   {
    "duration": 10,
    "start_time": "2022-06-07T16:12:11.688Z"
   },
   {
    "duration": 29,
    "start_time": "2022-06-07T16:12:11.700Z"
   },
   {
    "duration": 40,
    "start_time": "2022-06-07T16:12:11.731Z"
   },
   {
    "duration": 18,
    "start_time": "2022-06-07T16:12:11.772Z"
   },
   {
    "duration": 286,
    "start_time": "2022-06-07T16:12:11.792Z"
   },
   {
    "duration": 13,
    "start_time": "2022-06-07T16:12:12.080Z"
   },
   {
    "duration": 327,
    "start_time": "2022-06-07T16:12:12.096Z"
   },
   {
    "duration": 357,
    "start_time": "2022-06-07T16:12:12.426Z"
   },
   {
    "duration": 14,
    "start_time": "2022-06-07T16:12:12.785Z"
   },
   {
    "duration": 228,
    "start_time": "2022-06-07T16:12:12.801Z"
   },
   {
    "duration": 13,
    "start_time": "2022-06-07T16:12:13.031Z"
   },
   {
    "duration": 196,
    "start_time": "2022-06-07T16:12:13.045Z"
   },
   {
    "duration": 13,
    "start_time": "2022-06-07T16:12:13.243Z"
   },
   {
    "duration": 167,
    "start_time": "2022-06-07T16:12:13.259Z"
   },
   {
    "duration": 12,
    "start_time": "2022-06-07T16:12:13.428Z"
   },
   {
    "duration": 19,
    "start_time": "2022-06-07T16:12:13.442Z"
   },
   {
    "duration": 25,
    "start_time": "2022-06-07T16:12:13.463Z"
   },
   {
    "duration": 45,
    "start_time": "2022-06-07T16:12:13.490Z"
   },
   {
    "duration": 9,
    "start_time": "2022-06-07T16:12:13.537Z"
   },
   {
    "duration": 5,
    "start_time": "2022-06-07T16:12:13.547Z"
   },
   {
    "duration": 8,
    "start_time": "2022-06-07T16:12:13.553Z"
   },
   {
    "duration": 21,
    "start_time": "2022-06-07T16:12:13.563Z"
   },
   {
    "duration": 44,
    "start_time": "2022-06-07T16:12:13.586Z"
   },
   {
    "duration": 22,
    "start_time": "2022-06-07T16:12:13.631Z"
   },
   {
    "duration": 6,
    "start_time": "2022-06-07T16:12:13.655Z"
   },
   {
    "duration": 20,
    "start_time": "2022-06-07T16:12:13.663Z"
   },
   {
    "duration": 1808,
    "start_time": "2022-06-07T16:12:13.685Z"
   },
   {
    "duration": 6,
    "start_time": "2022-06-07T16:12:15.495Z"
   },
   {
    "duration": 129,
    "start_time": "2022-06-07T16:12:15.503Z"
   },
   {
    "duration": 0,
    "start_time": "2022-06-07T16:12:15.633Z"
   },
   {
    "duration": 0,
    "start_time": "2022-06-07T16:12:15.635Z"
   },
   {
    "duration": 0,
    "start_time": "2022-06-07T16:12:15.635Z"
   },
   {
    "duration": 0,
    "start_time": "2022-06-07T16:12:15.637Z"
   },
   {
    "duration": 0,
    "start_time": "2022-06-07T16:12:15.638Z"
   },
   {
    "duration": 0,
    "start_time": "2022-06-07T16:12:15.639Z"
   },
   {
    "duration": 0,
    "start_time": "2022-06-07T16:12:15.640Z"
   },
   {
    "duration": 0,
    "start_time": "2022-06-07T16:12:15.641Z"
   },
   {
    "duration": 0,
    "start_time": "2022-06-07T16:12:15.641Z"
   },
   {
    "duration": 0,
    "start_time": "2022-06-07T16:12:15.642Z"
   },
   {
    "duration": 0,
    "start_time": "2022-06-07T16:12:15.643Z"
   },
   {
    "duration": 0,
    "start_time": "2022-06-07T16:12:15.645Z"
   },
   {
    "duration": 0,
    "start_time": "2022-06-07T16:12:15.646Z"
   },
   {
    "duration": 0,
    "start_time": "2022-06-07T16:12:15.647Z"
   },
   {
    "duration": 0,
    "start_time": "2022-06-07T16:12:15.647Z"
   },
   {
    "duration": 0,
    "start_time": "2022-06-07T16:12:15.648Z"
   },
   {
    "duration": 11,
    "start_time": "2022-06-07T16:12:33.879Z"
   },
   {
    "duration": 2459,
    "start_time": "2022-06-07T16:12:36.785Z"
   },
   {
    "duration": 4616,
    "start_time": "2022-06-07T16:12:44.099Z"
   },
   {
    "duration": 302480,
    "start_time": "2022-06-07T16:12:51.956Z"
   },
   {
    "duration": 2523,
    "start_time": "2022-06-07T16:18:19.924Z"
   },
   {
    "duration": 24,
    "start_time": "2022-06-07T16:18:22.449Z"
   },
   {
    "duration": 5,
    "start_time": "2022-06-07T16:18:58.885Z"
   },
   {
    "duration": 9,
    "start_time": "2022-06-07T16:18:59.624Z"
   },
   {
    "duration": 2132,
    "start_time": "2022-06-07T16:19:04.996Z"
   },
   {
    "duration": 23,
    "start_time": "2022-06-07T16:19:20.869Z"
   },
   {
    "duration": 1427,
    "start_time": "2022-06-07T16:20:58.990Z"
   },
   {
    "duration": 81,
    "start_time": "2022-06-07T16:21:00.419Z"
   },
   {
    "duration": 21,
    "start_time": "2022-06-07T16:21:00.505Z"
   },
   {
    "duration": 78,
    "start_time": "2022-06-07T16:21:00.528Z"
   },
   {
    "duration": 42,
    "start_time": "2022-06-07T16:21:00.608Z"
   },
   {
    "duration": 36,
    "start_time": "2022-06-07T16:21:00.652Z"
   },
   {
    "duration": 36,
    "start_time": "2022-06-07T16:21:00.690Z"
   },
   {
    "duration": 10,
    "start_time": "2022-06-07T16:21:00.728Z"
   },
   {
    "duration": 81,
    "start_time": "2022-06-07T16:21:00.743Z"
   },
   {
    "duration": 5,
    "start_time": "2022-06-07T16:21:00.826Z"
   },
   {
    "duration": 45,
    "start_time": "2022-06-07T16:21:00.833Z"
   },
   {
    "duration": 17,
    "start_time": "2022-06-07T16:21:00.879Z"
   },
   {
    "duration": 14,
    "start_time": "2022-06-07T16:21:00.898Z"
   },
   {
    "duration": 25,
    "start_time": "2022-06-07T16:21:00.914Z"
   },
   {
    "duration": 13,
    "start_time": "2022-06-07T16:21:00.941Z"
   },
   {
    "duration": 25,
    "start_time": "2022-06-07T16:21:00.956Z"
   },
   {
    "duration": 354,
    "start_time": "2022-06-07T16:21:00.983Z"
   },
   {
    "duration": 315,
    "start_time": "2022-06-07T16:21:01.340Z"
   },
   {
    "duration": 12,
    "start_time": "2022-06-07T16:21:01.657Z"
   },
   {
    "duration": 35,
    "start_time": "2022-06-07T16:21:01.670Z"
   },
   {
    "duration": 23,
    "start_time": "2022-06-07T16:21:01.707Z"
   },
   {
    "duration": 26,
    "start_time": "2022-06-07T16:21:01.733Z"
   },
   {
    "duration": 20,
    "start_time": "2022-06-07T16:21:01.761Z"
   },
   {
    "duration": 27,
    "start_time": "2022-06-07T16:21:01.782Z"
   },
   {
    "duration": 244,
    "start_time": "2022-06-07T16:21:01.810Z"
   },
   {
    "duration": 11,
    "start_time": "2022-06-07T16:21:02.056Z"
   },
   {
    "duration": 35,
    "start_time": "2022-06-07T16:21:02.071Z"
   },
   {
    "duration": 21,
    "start_time": "2022-06-07T16:21:02.108Z"
   },
   {
    "duration": 18,
    "start_time": "2022-06-07T16:21:02.131Z"
   },
   {
    "duration": 10,
    "start_time": "2022-06-07T16:21:02.151Z"
   },
   {
    "duration": 21,
    "start_time": "2022-06-07T16:21:02.162Z"
   },
   {
    "duration": 29,
    "start_time": "2022-06-07T16:21:02.184Z"
   },
   {
    "duration": 266,
    "start_time": "2022-06-07T16:21:02.216Z"
   },
   {
    "duration": 15,
    "start_time": "2022-06-07T16:21:02.484Z"
   },
   {
    "duration": 11,
    "start_time": "2022-06-07T16:21:02.501Z"
   },
   {
    "duration": 21,
    "start_time": "2022-06-07T16:21:02.526Z"
   },
   {
    "duration": 35,
    "start_time": "2022-06-07T16:21:02.550Z"
   },
   {
    "duration": 280,
    "start_time": "2022-06-07T16:21:02.587Z"
   },
   {
    "duration": 12,
    "start_time": "2022-06-07T16:21:02.869Z"
   },
   {
    "duration": 266,
    "start_time": "2022-06-07T16:21:02.883Z"
   },
   {
    "duration": 341,
    "start_time": "2022-06-07T16:21:03.151Z"
   },
   {
    "duration": 14,
    "start_time": "2022-06-07T16:21:03.494Z"
   },
   {
    "duration": 249,
    "start_time": "2022-06-07T16:21:03.509Z"
   },
   {
    "duration": 12,
    "start_time": "2022-06-07T16:21:03.760Z"
   },
   {
    "duration": 200,
    "start_time": "2022-06-07T16:21:03.773Z"
   },
   {
    "duration": 11,
    "start_time": "2022-06-07T16:21:03.974Z"
   },
   {
    "duration": 183,
    "start_time": "2022-06-07T16:21:03.987Z"
   },
   {
    "duration": 13,
    "start_time": "2022-06-07T16:21:04.172Z"
   },
   {
    "duration": 9,
    "start_time": "2022-06-07T16:21:04.187Z"
   },
   {
    "duration": 47,
    "start_time": "2022-06-07T16:21:04.198Z"
   },
   {
    "duration": 23,
    "start_time": "2022-06-07T16:21:04.247Z"
   },
   {
    "duration": 8,
    "start_time": "2022-06-07T16:21:04.271Z"
   },
   {
    "duration": 11,
    "start_time": "2022-06-07T16:21:04.281Z"
   },
   {
    "duration": 9,
    "start_time": "2022-06-07T16:21:04.294Z"
   },
   {
    "duration": 36,
    "start_time": "2022-06-07T16:21:04.305Z"
   },
   {
    "duration": 23,
    "start_time": "2022-06-07T16:21:04.343Z"
   },
   {
    "duration": 19,
    "start_time": "2022-06-07T16:21:04.368Z"
   },
   {
    "duration": 7,
    "start_time": "2022-06-07T16:21:04.391Z"
   },
   {
    "duration": 45,
    "start_time": "2022-06-07T16:21:04.399Z"
   },
   {
    "duration": 1696,
    "start_time": "2022-06-07T16:21:04.446Z"
   },
   {
    "duration": 7,
    "start_time": "2022-06-07T16:21:06.143Z"
   },
   {
    "duration": 28,
    "start_time": "2022-06-07T16:21:06.152Z"
   },
   {
    "duration": 23,
    "start_time": "2022-06-07T16:21:06.182Z"
   },
   {
    "duration": 14,
    "start_time": "2022-06-07T16:21:06.206Z"
   },
   {
    "duration": 2821,
    "start_time": "2022-06-07T16:21:06.221Z"
   },
   {
    "duration": 22,
    "start_time": "2022-06-07T16:21:09.043Z"
   },
   {
    "duration": 2,
    "start_time": "2022-06-07T16:21:09.067Z"
   },
   {
    "duration": 13,
    "start_time": "2022-06-07T16:21:09.071Z"
   },
   {
    "duration": 7,
    "start_time": "2022-06-07T16:21:09.085Z"
   },
   {
    "duration": 35,
    "start_time": "2022-06-07T16:21:09.093Z"
   },
   {
    "duration": 8,
    "start_time": "2022-06-07T16:21:09.129Z"
   },
   {
    "duration": 156,
    "start_time": "2022-06-07T16:21:09.139Z"
   },
   {
    "duration": 8,
    "start_time": "2022-06-07T16:21:09.297Z"
   },
   {
    "duration": 24,
    "start_time": "2022-06-07T16:21:09.307Z"
   },
   {
    "duration": 12,
    "start_time": "2022-06-07T16:21:09.332Z"
   },
   {
    "duration": 7,
    "start_time": "2022-06-07T16:21:09.346Z"
   },
   {
    "duration": 9,
    "start_time": "2022-06-07T16:21:09.354Z"
   },
   {
    "duration": 3245,
    "start_time": "2022-06-07T16:23:41.994Z"
   },
   {
    "duration": 23,
    "start_time": "2022-06-07T16:23:45.242Z"
   },
   {
    "duration": 1369,
    "start_time": "2022-06-07T16:45:01.471Z"
   },
   {
    "duration": 55,
    "start_time": "2022-06-07T16:45:02.843Z"
   },
   {
    "duration": 16,
    "start_time": "2022-06-07T16:45:02.900Z"
   },
   {
    "duration": 17,
    "start_time": "2022-06-07T16:45:02.918Z"
   },
   {
    "duration": 5,
    "start_time": "2022-06-07T16:45:02.936Z"
   },
   {
    "duration": 29,
    "start_time": "2022-06-07T16:45:02.943Z"
   },
   {
    "duration": 15,
    "start_time": "2022-06-07T16:45:02.974Z"
   },
   {
    "duration": 12,
    "start_time": "2022-06-07T16:45:02.991Z"
   },
   {
    "duration": 56,
    "start_time": "2022-06-07T16:45:03.005Z"
   },
   {
    "duration": 3,
    "start_time": "2022-06-07T16:45:03.065Z"
   },
   {
    "duration": 44,
    "start_time": "2022-06-07T16:45:03.070Z"
   },
   {
    "duration": 35,
    "start_time": "2022-06-07T16:45:03.115Z"
   },
   {
    "duration": 22,
    "start_time": "2022-06-07T16:45:03.151Z"
   },
   {
    "duration": 34,
    "start_time": "2022-06-07T16:45:03.174Z"
   },
   {
    "duration": 20,
    "start_time": "2022-06-07T16:45:03.211Z"
   },
   {
    "duration": 10,
    "start_time": "2022-06-07T16:45:03.233Z"
   },
   {
    "duration": 301,
    "start_time": "2022-06-07T16:45:03.245Z"
   },
   {
    "duration": 251,
    "start_time": "2022-06-07T16:45:03.548Z"
   },
   {
    "duration": 9,
    "start_time": "2022-06-07T16:45:03.801Z"
   },
   {
    "duration": 19,
    "start_time": "2022-06-07T16:45:03.812Z"
   },
   {
    "duration": 12,
    "start_time": "2022-06-07T16:45:03.832Z"
   },
   {
    "duration": 7,
    "start_time": "2022-06-07T16:45:03.846Z"
   },
   {
    "duration": 8,
    "start_time": "2022-06-07T16:45:03.855Z"
   },
   {
    "duration": 7,
    "start_time": "2022-06-07T16:45:03.864Z"
   },
   {
    "duration": 256,
    "start_time": "2022-06-07T16:45:03.873Z"
   },
   {
    "duration": 11,
    "start_time": "2022-06-07T16:45:04.131Z"
   },
   {
    "duration": 11,
    "start_time": "2022-06-07T16:45:04.144Z"
   },
   {
    "duration": 14,
    "start_time": "2022-06-07T16:45:04.160Z"
   },
   {
    "duration": 8,
    "start_time": "2022-06-07T16:45:04.176Z"
   },
   {
    "duration": 41,
    "start_time": "2022-06-07T16:45:04.186Z"
   },
   {
    "duration": 7,
    "start_time": "2022-06-07T16:45:04.229Z"
   },
   {
    "duration": 22,
    "start_time": "2022-06-07T16:45:04.238Z"
   },
   {
    "duration": 304,
    "start_time": "2022-06-07T16:45:04.261Z"
   },
   {
    "duration": 13,
    "start_time": "2022-06-07T16:45:04.567Z"
   },
   {
    "duration": 20,
    "start_time": "2022-06-07T16:45:04.582Z"
   },
   {
    "duration": 33,
    "start_time": "2022-06-07T16:45:04.605Z"
   },
   {
    "duration": 30,
    "start_time": "2022-06-07T16:45:04.640Z"
   },
   {
    "duration": 271,
    "start_time": "2022-06-07T16:45:04.672Z"
   },
   {
    "duration": 11,
    "start_time": "2022-06-07T16:45:04.945Z"
   },
   {
    "duration": 248,
    "start_time": "2022-06-07T16:45:04.958Z"
   },
   {
    "duration": 345,
    "start_time": "2022-06-07T16:45:05.208Z"
   },
   {
    "duration": 12,
    "start_time": "2022-06-07T16:45:05.555Z"
   },
   {
    "duration": 206,
    "start_time": "2022-06-07T16:45:05.569Z"
   },
   {
    "duration": 13,
    "start_time": "2022-06-07T16:45:05.777Z"
   },
   {
    "duration": 208,
    "start_time": "2022-06-07T16:45:05.792Z"
   },
   {
    "duration": 11,
    "start_time": "2022-06-07T16:45:06.002Z"
   },
   {
    "duration": 164,
    "start_time": "2022-06-07T16:45:06.015Z"
   },
   {
    "duration": 15,
    "start_time": "2022-06-07T16:45:06.182Z"
   },
   {
    "duration": 14,
    "start_time": "2022-06-07T16:45:06.199Z"
   },
   {
    "duration": 47,
    "start_time": "2022-06-07T16:45:06.226Z"
   },
   {
    "duration": 29,
    "start_time": "2022-06-07T16:45:06.275Z"
   },
   {
    "duration": 9,
    "start_time": "2022-06-07T16:45:06.306Z"
   },
   {
    "duration": 10,
    "start_time": "2022-06-07T16:45:06.317Z"
   },
   {
    "duration": 14,
    "start_time": "2022-06-07T16:45:06.329Z"
   },
   {
    "duration": 21,
    "start_time": "2022-06-07T16:45:06.345Z"
   },
   {
    "duration": 22,
    "start_time": "2022-06-07T16:45:06.368Z"
   },
   {
    "duration": 44,
    "start_time": "2022-06-07T16:45:06.392Z"
   },
   {
    "duration": 5,
    "start_time": "2022-06-07T16:45:06.438Z"
   },
   {
    "duration": 45,
    "start_time": "2022-06-07T16:45:06.445Z"
   },
   {
    "duration": 1686,
    "start_time": "2022-06-07T16:45:06.492Z"
   },
   {
    "duration": 7,
    "start_time": "2022-06-07T16:45:08.179Z"
   },
   {
    "duration": 17,
    "start_time": "2022-06-07T16:45:08.188Z"
   },
   {
    "duration": 4165,
    "start_time": "2022-06-07T16:45:08.206Z"
   },
   {
    "duration": 296306,
    "start_time": "2022-06-07T16:45:12.373Z"
   },
   {
    "duration": 2252,
    "start_time": "2022-06-07T16:50:08.680Z"
   },
   {
    "duration": 34,
    "start_time": "2022-06-07T16:50:10.935Z"
   },
   {
    "duration": 3,
    "start_time": "2022-06-07T16:50:10.971Z"
   },
   {
    "duration": 19,
    "start_time": "2022-06-07T16:50:10.976Z"
   },
   {
    "duration": 11,
    "start_time": "2022-06-07T16:50:10.996Z"
   },
   {
    "duration": 26,
    "start_time": "2022-06-07T16:50:11.009Z"
   },
   {
    "duration": 18,
    "start_time": "2022-06-07T16:50:11.038Z"
   },
   {
    "duration": 168,
    "start_time": "2022-06-07T16:50:11.058Z"
   },
   {
    "duration": 12,
    "start_time": "2022-06-07T16:50:11.228Z"
   },
   {
    "duration": 20,
    "start_time": "2022-06-07T16:50:11.243Z"
   },
   {
    "duration": 13,
    "start_time": "2022-06-07T16:50:11.265Z"
   },
   {
    "duration": 12,
    "start_time": "2022-06-07T16:50:11.280Z"
   },
   {
    "duration": 12,
    "start_time": "2022-06-07T16:50:11.294Z"
   }
  ],
  "kernelspec": {
   "display_name": "Python 3 (ipykernel)",
   "language": "python",
   "name": "python3"
  },
  "language_info": {
   "codemirror_mode": {
    "name": "ipython",
    "version": 3
   },
   "file_extension": ".py",
   "mimetype": "text/x-python",
   "name": "python",
   "nbconvert_exporter": "python",
   "pygments_lexer": "ipython3",
   "version": "3.9.7"
  },
  "toc": {
   "base_numbering": 1,
   "nav_menu": {},
   "number_sections": true,
   "sideBar": true,
   "skip_h1_title": true,
   "title_cell": "Table of Contents",
   "title_sidebar": "Contents",
   "toc_cell": false,
   "toc_position": {
    "height": "calc(100% - 180px)",
    "left": "10px",
    "top": "150px",
    "width": "274.349px"
   },
   "toc_section_display": true,
   "toc_window_display": false
  }
 },
 "nbformat": 4,
 "nbformat_minor": 2
}
